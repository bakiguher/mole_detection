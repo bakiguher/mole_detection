{
 "cells": [
  {
   "cell_type": "code",
   "execution_count": 1,
   "metadata": {},
   "outputs": [],
   "source": [
    "import numpy as np\n",
    "import pandas as pd\n",
    "\n",
    "import io\n",
    "import os\n",
    "import tensorflow as tf\n",
    "\n",
    "from PIL import Image\n",
    "from glob import glob\n",
    "import itertools\n",
    "\n",
    "import plotly.graph_objects as go\n",
    "import plotly.express as px\n",
    "from plotly.subplots import make_subplots\n",
    "import matplotlib.pyplot as plt\n",
    "import seaborn as sns\n",
    "\n",
    "\n",
    "import tensorflow as tf\n",
    "from tensorflow.keras.preprocessing.image import ImageDataGenerator\n",
    "from tensorflow.keras.models import Sequential\n",
    "from tensorflow.keras.layers import Conv2D, Flatten, BatchNormalization, Dropout, Dense, MaxPool2D\n",
    "from tensorflow.keras.callbacks import ReduceLROnPlateau, EarlyStopping\n",
    "\n",
    "from sklearn.model_selection import train_test_split\n",
    "from sklearn.metrics import classification_report, confusion_matrix\n",
    "\n"
   ]
  },
  {
   "cell_type": "code",
   "execution_count": 71,
   "metadata": {},
   "outputs": [],
   "source": [
    "DATA_DIR = os.path.join('.', 'data')\n",
    "IMAGE_DIR = os.path.join('.', 'data\\\\HAM10000_images\\\\')\n",
    "\n",
    "\n",
    "lesion_type_dict = {\n",
    "    'nv': 'Melanocytic nevi (nv)',\n",
    "    'mel': 'Melanoma (mel)',\n",
    "    'bkl': 'Benign keratosis-like lesions (bkl)',\n",
    "    'bcc': 'Basal cell carcinoma (bcc)',\n",
    "    'akiec': 'Actinic keratoses (akiec)',\n",
    "    'vasc': 'Vascular lesions (vasc)',\n",
    "    'df': 'Dermatofibroma (df)'\n",
    "}\n",
    "label_mapping = {\n",
    "    0: 'nv',\n",
    "    1: 'mel',\n",
    "    2: 'bkl',\n",
    "    3: 'bcc',\n",
    "    4: 'akiec',\n",
    "    5: 'vasc',\n",
    "    6: 'df'\n",
    "}\n",
    "reverse_label_mapping = dict((value, key) for key, value in label_mapping.items())"
   ]
  },
  {
   "cell_type": "code",
   "execution_count": 24,
   "metadata": {},
   "outputs": [
    {
     "data": {
      "text/plain": [
       "{'nv': 0, 'mel': 1, 'bkl': 2, 'bcc': 3, 'akiec': 4, 'vasc': 5, 'df': 6}"
      ]
     },
     "execution_count": 24,
     "metadata": {},
     "output_type": "execute_result"
    }
   ],
   "source": [
    "reverse_label_mapping"
   ]
  },
  {
   "cell_type": "code",
   "execution_count": 25,
   "metadata": {},
   "outputs": [],
   "source": [
    "data = pd.read_csv(os.path.join(DATA_DIR,'HAM10000_metadata.csv'))\n"
   ]
  },
  {
   "cell_type": "code",
   "execution_count": 29,
   "metadata": {},
   "outputs": [
    {
     "data": {
      "text/plain": [
       "lesion_id        object\n",
       "image_id         object\n",
       "dx               object\n",
       "dx_type          object\n",
       "age             float64\n",
       "sex              object\n",
       "localization     object\n",
       "dtype: object"
      ]
     },
     "execution_count": 29,
     "metadata": {},
     "output_type": "execute_result"
    }
   ],
   "source": [
    "data.dtypes"
   ]
  },
  {
   "cell_type": "code",
   "execution_count": 28,
   "metadata": {},
   "outputs": [
    {
     "data": {
      "text/html": [
       "<div>\n",
       "<style scoped>\n",
       "    .dataframe tbody tr th:only-of-type {\n",
       "        vertical-align: middle;\n",
       "    }\n",
       "\n",
       "    .dataframe tbody tr th {\n",
       "        vertical-align: top;\n",
       "    }\n",
       "\n",
       "    .dataframe thead th {\n",
       "        text-align: right;\n",
       "    }\n",
       "</style>\n",
       "<table border=\"1\" class=\"dataframe\">\n",
       "  <thead>\n",
       "    <tr style=\"text-align: right;\">\n",
       "      <th></th>\n",
       "      <th>lesion_id</th>\n",
       "      <th>image_id</th>\n",
       "      <th>dx</th>\n",
       "      <th>dx_type</th>\n",
       "      <th>sex</th>\n",
       "      <th>localization</th>\n",
       "    </tr>\n",
       "  </thead>\n",
       "  <tbody>\n",
       "    <tr>\n",
       "      <th>count</th>\n",
       "      <td>10015</td>\n",
       "      <td>10015</td>\n",
       "      <td>10015</td>\n",
       "      <td>10015</td>\n",
       "      <td>10015</td>\n",
       "      <td>10015</td>\n",
       "    </tr>\n",
       "    <tr>\n",
       "      <th>unique</th>\n",
       "      <td>7470</td>\n",
       "      <td>10015</td>\n",
       "      <td>7</td>\n",
       "      <td>4</td>\n",
       "      <td>3</td>\n",
       "      <td>15</td>\n",
       "    </tr>\n",
       "    <tr>\n",
       "      <th>top</th>\n",
       "      <td>HAM_0003789</td>\n",
       "      <td>ISIC_0027419</td>\n",
       "      <td>nv</td>\n",
       "      <td>histo</td>\n",
       "      <td>male</td>\n",
       "      <td>back</td>\n",
       "    </tr>\n",
       "    <tr>\n",
       "      <th>freq</th>\n",
       "      <td>6</td>\n",
       "      <td>1</td>\n",
       "      <td>6705</td>\n",
       "      <td>5340</td>\n",
       "      <td>5406</td>\n",
       "      <td>2192</td>\n",
       "    </tr>\n",
       "  </tbody>\n",
       "</table>\n",
       "</div>"
      ],
      "text/plain": [
       "          lesion_id      image_id     dx dx_type    sex localization\n",
       "count         10015         10015  10015   10015  10015        10015\n",
       "unique         7470         10015      7       4      3           15\n",
       "top     HAM_0003789  ISIC_0027419     nv   histo   male         back\n",
       "freq              6             1   6705    5340   5406         2192"
      ]
     },
     "execution_count": 28,
     "metadata": {},
     "output_type": "execute_result"
    }
   ],
   "source": [
    "data.describe(exclude=[np.number])"
   ]
  },
  {
   "cell_type": "code",
   "execution_count": 37,
   "metadata": {},
   "outputs": [
    {
     "data": {
      "text/plain": [
       "lesion_id  image_id  dx     dx_type  age    sex    localization\n",
       "False      False     False  False    False  False  False           9958\n",
       "                                     True   False  False             57\n",
       "dtype: int64"
      ]
     },
     "execution_count": 37,
     "metadata": {},
     "output_type": "execute_result"
    }
   ],
   "source": [
    "data.isnull().value_counts()"
   ]
  },
  {
   "cell_type": "code",
   "execution_count": 38,
   "metadata": {},
   "outputs": [],
   "source": [
    "# Handling age null values\n",
    "data['age'].fillna(value=int(data['age'].mean()), inplace=True)\n",
    "# Converting dtype to int32\n",
    "data['age'] = data['age'].astype('int32')"
   ]
  },
  {
   "cell_type": "code",
   "execution_count": 72,
   "metadata": {},
   "outputs": [],
   "source": [
    "# Adding cell_type and image_path columns\n",
    "data['cell_type'] = data['dx'].map(lesion_type_dict.get)\n",
    "data['path'] = IMAGE_DIR + data['image_id'] + \".JPG\""
   ]
  },
  {
   "cell_type": "code",
   "execution_count": 73,
   "metadata": {},
   "outputs": [
    {
     "data": {
      "text/html": [
       "<div>\n",
       "<style scoped>\n",
       "    .dataframe tbody tr th:only-of-type {\n",
       "        vertical-align: middle;\n",
       "    }\n",
       "\n",
       "    .dataframe tbody tr th {\n",
       "        vertical-align: top;\n",
       "    }\n",
       "\n",
       "    .dataframe thead th {\n",
       "        text-align: right;\n",
       "    }\n",
       "</style>\n",
       "<table border=\"1\" class=\"dataframe\">\n",
       "  <thead>\n",
       "    <tr style=\"text-align: right;\">\n",
       "      <th></th>\n",
       "      <th>lesion_id</th>\n",
       "      <th>image_id</th>\n",
       "      <th>dx</th>\n",
       "      <th>dx_type</th>\n",
       "      <th>age</th>\n",
       "      <th>sex</th>\n",
       "      <th>localization</th>\n",
       "      <th>cell_type</th>\n",
       "      <th>path</th>\n",
       "    </tr>\n",
       "  </thead>\n",
       "  <tbody>\n",
       "    <tr>\n",
       "      <th>0</th>\n",
       "      <td>HAM_0000118</td>\n",
       "      <td>ISIC_0027419</td>\n",
       "      <td>bkl</td>\n",
       "      <td>histo</td>\n",
       "      <td>80</td>\n",
       "      <td>male</td>\n",
       "      <td>scalp</td>\n",
       "      <td>Benign keratosis-like lesions (bkl)</td>\n",
       "      <td>.\\data\\HAM10000_images\\ISIC_0027419.JPG</td>\n",
       "    </tr>\n",
       "    <tr>\n",
       "      <th>1</th>\n",
       "      <td>HAM_0000118</td>\n",
       "      <td>ISIC_0025030</td>\n",
       "      <td>bkl</td>\n",
       "      <td>histo</td>\n",
       "      <td>80</td>\n",
       "      <td>male</td>\n",
       "      <td>scalp</td>\n",
       "      <td>Benign keratosis-like lesions (bkl)</td>\n",
       "      <td>.\\data\\HAM10000_images\\ISIC_0025030.JPG</td>\n",
       "    </tr>\n",
       "    <tr>\n",
       "      <th>2</th>\n",
       "      <td>HAM_0002730</td>\n",
       "      <td>ISIC_0026769</td>\n",
       "      <td>bkl</td>\n",
       "      <td>histo</td>\n",
       "      <td>80</td>\n",
       "      <td>male</td>\n",
       "      <td>scalp</td>\n",
       "      <td>Benign keratosis-like lesions (bkl)</td>\n",
       "      <td>.\\data\\HAM10000_images\\ISIC_0026769.JPG</td>\n",
       "    </tr>\n",
       "    <tr>\n",
       "      <th>3</th>\n",
       "      <td>HAM_0002730</td>\n",
       "      <td>ISIC_0025661</td>\n",
       "      <td>bkl</td>\n",
       "      <td>histo</td>\n",
       "      <td>80</td>\n",
       "      <td>male</td>\n",
       "      <td>scalp</td>\n",
       "      <td>Benign keratosis-like lesions (bkl)</td>\n",
       "      <td>.\\data\\HAM10000_images\\ISIC_0025661.JPG</td>\n",
       "    </tr>\n",
       "    <tr>\n",
       "      <th>4</th>\n",
       "      <td>HAM_0001466</td>\n",
       "      <td>ISIC_0031633</td>\n",
       "      <td>bkl</td>\n",
       "      <td>histo</td>\n",
       "      <td>75</td>\n",
       "      <td>male</td>\n",
       "      <td>ear</td>\n",
       "      <td>Benign keratosis-like lesions (bkl)</td>\n",
       "      <td>.\\data\\HAM10000_images\\ISIC_0031633.JPG</td>\n",
       "    </tr>\n",
       "    <tr>\n",
       "      <th>...</th>\n",
       "      <td>...</td>\n",
       "      <td>...</td>\n",
       "      <td>...</td>\n",
       "      <td>...</td>\n",
       "      <td>...</td>\n",
       "      <td>...</td>\n",
       "      <td>...</td>\n",
       "      <td>...</td>\n",
       "      <td>...</td>\n",
       "    </tr>\n",
       "    <tr>\n",
       "      <th>10010</th>\n",
       "      <td>HAM_0002867</td>\n",
       "      <td>ISIC_0033084</td>\n",
       "      <td>akiec</td>\n",
       "      <td>histo</td>\n",
       "      <td>40</td>\n",
       "      <td>male</td>\n",
       "      <td>abdomen</td>\n",
       "      <td>Actinic keratoses (akiec)</td>\n",
       "      <td>.\\data\\HAM10000_images\\ISIC_0033084.JPG</td>\n",
       "    </tr>\n",
       "    <tr>\n",
       "      <th>10011</th>\n",
       "      <td>HAM_0002867</td>\n",
       "      <td>ISIC_0033550</td>\n",
       "      <td>akiec</td>\n",
       "      <td>histo</td>\n",
       "      <td>40</td>\n",
       "      <td>male</td>\n",
       "      <td>abdomen</td>\n",
       "      <td>Actinic keratoses (akiec)</td>\n",
       "      <td>.\\data\\HAM10000_images\\ISIC_0033550.JPG</td>\n",
       "    </tr>\n",
       "    <tr>\n",
       "      <th>10012</th>\n",
       "      <td>HAM_0002867</td>\n",
       "      <td>ISIC_0033536</td>\n",
       "      <td>akiec</td>\n",
       "      <td>histo</td>\n",
       "      <td>40</td>\n",
       "      <td>male</td>\n",
       "      <td>abdomen</td>\n",
       "      <td>Actinic keratoses (akiec)</td>\n",
       "      <td>.\\data\\HAM10000_images\\ISIC_0033536.JPG</td>\n",
       "    </tr>\n",
       "    <tr>\n",
       "      <th>10013</th>\n",
       "      <td>HAM_0000239</td>\n",
       "      <td>ISIC_0032854</td>\n",
       "      <td>akiec</td>\n",
       "      <td>histo</td>\n",
       "      <td>80</td>\n",
       "      <td>male</td>\n",
       "      <td>face</td>\n",
       "      <td>Actinic keratoses (akiec)</td>\n",
       "      <td>.\\data\\HAM10000_images\\ISIC_0032854.JPG</td>\n",
       "    </tr>\n",
       "    <tr>\n",
       "      <th>10014</th>\n",
       "      <td>HAM_0003521</td>\n",
       "      <td>ISIC_0032258</td>\n",
       "      <td>mel</td>\n",
       "      <td>histo</td>\n",
       "      <td>70</td>\n",
       "      <td>female</td>\n",
       "      <td>back</td>\n",
       "      <td>Melanoma (mel)</td>\n",
       "      <td>.\\data\\HAM10000_images\\ISIC_0032258.JPG</td>\n",
       "    </tr>\n",
       "  </tbody>\n",
       "</table>\n",
       "<p>10015 rows × 9 columns</p>\n",
       "</div>"
      ],
      "text/plain": [
       "         lesion_id      image_id     dx dx_type  age     sex localization  \\\n",
       "0      HAM_0000118  ISIC_0027419    bkl   histo   80    male        scalp   \n",
       "1      HAM_0000118  ISIC_0025030    bkl   histo   80    male        scalp   \n",
       "2      HAM_0002730  ISIC_0026769    bkl   histo   80    male        scalp   \n",
       "3      HAM_0002730  ISIC_0025661    bkl   histo   80    male        scalp   \n",
       "4      HAM_0001466  ISIC_0031633    bkl   histo   75    male          ear   \n",
       "...            ...           ...    ...     ...  ...     ...          ...   \n",
       "10010  HAM_0002867  ISIC_0033084  akiec   histo   40    male      abdomen   \n",
       "10011  HAM_0002867  ISIC_0033550  akiec   histo   40    male      abdomen   \n",
       "10012  HAM_0002867  ISIC_0033536  akiec   histo   40    male      abdomen   \n",
       "10013  HAM_0000239  ISIC_0032854  akiec   histo   80    male         face   \n",
       "10014  HAM_0003521  ISIC_0032258    mel   histo   70  female         back   \n",
       "\n",
       "                                 cell_type  \\\n",
       "0      Benign keratosis-like lesions (bkl)   \n",
       "1      Benign keratosis-like lesions (bkl)   \n",
       "2      Benign keratosis-like lesions (bkl)   \n",
       "3      Benign keratosis-like lesions (bkl)   \n",
       "4      Benign keratosis-like lesions (bkl)   \n",
       "...                                    ...   \n",
       "10010            Actinic keratoses (akiec)   \n",
       "10011            Actinic keratoses (akiec)   \n",
       "10012            Actinic keratoses (akiec)   \n",
       "10013            Actinic keratoses (akiec)   \n",
       "10014                       Melanoma (mel)   \n",
       "\n",
       "                                          path  \n",
       "0      .\\data\\HAM10000_images\\ISIC_0027419.JPG  \n",
       "1      .\\data\\HAM10000_images\\ISIC_0025030.JPG  \n",
       "2      .\\data\\HAM10000_images\\ISIC_0026769.JPG  \n",
       "3      .\\data\\HAM10000_images\\ISIC_0025661.JPG  \n",
       "4      .\\data\\HAM10000_images\\ISIC_0031633.JPG  \n",
       "...                                        ...  \n",
       "10010  .\\data\\HAM10000_images\\ISIC_0033084.JPG  \n",
       "10011  .\\data\\HAM10000_images\\ISIC_0033550.JPG  \n",
       "10012  .\\data\\HAM10000_images\\ISIC_0033536.JPG  \n",
       "10013  .\\data\\HAM10000_images\\ISIC_0032854.JPG  \n",
       "10014  .\\data\\HAM10000_images\\ISIC_0032258.JPG  \n",
       "\n",
       "[10015 rows x 9 columns]"
      ]
     },
     "execution_count": 73,
     "metadata": {},
     "output_type": "execute_result"
    }
   ],
   "source": [
    "data"
   ]
  },
  {
   "cell_type": "code",
   "execution_count": 74,
   "metadata": {},
   "outputs": [],
   "source": [
    "data['image_pixel'] = data['path'].map(lambda x: np.asarray(Image.open(x).resize((28,28))))"
   ]
  },
  {
   "cell_type": "code",
   "execution_count": 75,
   "metadata": {},
   "outputs": [
    {
     "data": {
      "text/html": [
       "<div>\n",
       "<style scoped>\n",
       "    .dataframe tbody tr th:only-of-type {\n",
       "        vertical-align: middle;\n",
       "    }\n",
       "\n",
       "    .dataframe tbody tr th {\n",
       "        vertical-align: top;\n",
       "    }\n",
       "\n",
       "    .dataframe thead th {\n",
       "        text-align: right;\n",
       "    }\n",
       "</style>\n",
       "<table border=\"1\" class=\"dataframe\">\n",
       "  <thead>\n",
       "    <tr style=\"text-align: right;\">\n",
       "      <th></th>\n",
       "      <th>lesion_id</th>\n",
       "      <th>image_id</th>\n",
       "      <th>dx</th>\n",
       "      <th>dx_type</th>\n",
       "      <th>age</th>\n",
       "      <th>sex</th>\n",
       "      <th>localization</th>\n",
       "      <th>cell_type</th>\n",
       "      <th>path</th>\n",
       "      <th>image_pixel</th>\n",
       "    </tr>\n",
       "  </thead>\n",
       "  <tbody>\n",
       "    <tr>\n",
       "      <th>0</th>\n",
       "      <td>HAM_0000118</td>\n",
       "      <td>ISIC_0027419</td>\n",
       "      <td>bkl</td>\n",
       "      <td>histo</td>\n",
       "      <td>80</td>\n",
       "      <td>male</td>\n",
       "      <td>scalp</td>\n",
       "      <td>Benign keratosis-like lesions (bkl)</td>\n",
       "      <td>.\\data\\HAM10000_images\\ISIC_0027419.JPG</td>\n",
       "      <td>[[[192, 153, 193], [195, 155, 192], [197, 154,...</td>\n",
       "    </tr>\n",
       "    <tr>\n",
       "      <th>1</th>\n",
       "      <td>HAM_0000118</td>\n",
       "      <td>ISIC_0025030</td>\n",
       "      <td>bkl</td>\n",
       "      <td>histo</td>\n",
       "      <td>80</td>\n",
       "      <td>male</td>\n",
       "      <td>scalp</td>\n",
       "      <td>Benign keratosis-like lesions (bkl)</td>\n",
       "      <td>.\\data\\HAM10000_images\\ISIC_0025030.JPG</td>\n",
       "      <td>[[[27, 16, 32], [69, 49, 76], [122, 93, 126], ...</td>\n",
       "    </tr>\n",
       "    <tr>\n",
       "      <th>2</th>\n",
       "      <td>HAM_0002730</td>\n",
       "      <td>ISIC_0026769</td>\n",
       "      <td>bkl</td>\n",
       "      <td>histo</td>\n",
       "      <td>80</td>\n",
       "      <td>male</td>\n",
       "      <td>scalp</td>\n",
       "      <td>Benign keratosis-like lesions (bkl)</td>\n",
       "      <td>.\\data\\HAM10000_images\\ISIC_0026769.JPG</td>\n",
       "      <td>[[[192, 138, 153], [200, 144, 162], [202, 142,...</td>\n",
       "    </tr>\n",
       "    <tr>\n",
       "      <th>3</th>\n",
       "      <td>HAM_0002730</td>\n",
       "      <td>ISIC_0025661</td>\n",
       "      <td>bkl</td>\n",
       "      <td>histo</td>\n",
       "      <td>80</td>\n",
       "      <td>male</td>\n",
       "      <td>scalp</td>\n",
       "      <td>Benign keratosis-like lesions (bkl)</td>\n",
       "      <td>.\\data\\HAM10000_images\\ISIC_0025661.JPG</td>\n",
       "      <td>[[[40, 21, 31], [95, 61, 73], [143, 102, 118],...</td>\n",
       "    </tr>\n",
       "    <tr>\n",
       "      <th>4</th>\n",
       "      <td>HAM_0001466</td>\n",
       "      <td>ISIC_0031633</td>\n",
       "      <td>bkl</td>\n",
       "      <td>histo</td>\n",
       "      <td>75</td>\n",
       "      <td>male</td>\n",
       "      <td>ear</td>\n",
       "      <td>Benign keratosis-like lesions (bkl)</td>\n",
       "      <td>.\\data\\HAM10000_images\\ISIC_0031633.JPG</td>\n",
       "      <td>[[[159, 114, 140], [194, 144, 173], [215, 162,...</td>\n",
       "    </tr>\n",
       "    <tr>\n",
       "      <th>...</th>\n",
       "      <td>...</td>\n",
       "      <td>...</td>\n",
       "      <td>...</td>\n",
       "      <td>...</td>\n",
       "      <td>...</td>\n",
       "      <td>...</td>\n",
       "      <td>...</td>\n",
       "      <td>...</td>\n",
       "      <td>...</td>\n",
       "      <td>...</td>\n",
       "    </tr>\n",
       "    <tr>\n",
       "      <th>10010</th>\n",
       "      <td>HAM_0002867</td>\n",
       "      <td>ISIC_0033084</td>\n",
       "      <td>akiec</td>\n",
       "      <td>histo</td>\n",
       "      <td>40</td>\n",
       "      <td>male</td>\n",
       "      <td>abdomen</td>\n",
       "      <td>Actinic keratoses (akiec)</td>\n",
       "      <td>.\\data\\HAM10000_images\\ISIC_0033084.JPG</td>\n",
       "      <td>[[[183, 166, 182], [183, 165, 181], [184, 167,...</td>\n",
       "    </tr>\n",
       "    <tr>\n",
       "      <th>10011</th>\n",
       "      <td>HAM_0002867</td>\n",
       "      <td>ISIC_0033550</td>\n",
       "      <td>akiec</td>\n",
       "      <td>histo</td>\n",
       "      <td>40</td>\n",
       "      <td>male</td>\n",
       "      <td>abdomen</td>\n",
       "      <td>Actinic keratoses (akiec)</td>\n",
       "      <td>.\\data\\HAM10000_images\\ISIC_0033550.JPG</td>\n",
       "      <td>[[[3, 4, 2], [41, 36, 35], [119, 103, 102], [1...</td>\n",
       "    </tr>\n",
       "    <tr>\n",
       "      <th>10012</th>\n",
       "      <td>HAM_0002867</td>\n",
       "      <td>ISIC_0033536</td>\n",
       "      <td>akiec</td>\n",
       "      <td>histo</td>\n",
       "      <td>40</td>\n",
       "      <td>male</td>\n",
       "      <td>abdomen</td>\n",
       "      <td>Actinic keratoses (akiec)</td>\n",
       "      <td>.\\data\\HAM10000_images\\ISIC_0033536.JPG</td>\n",
       "      <td>[[[134, 120, 120], [166, 148, 149], [175, 155,...</td>\n",
       "    </tr>\n",
       "    <tr>\n",
       "      <th>10013</th>\n",
       "      <td>HAM_0000239</td>\n",
       "      <td>ISIC_0032854</td>\n",
       "      <td>akiec</td>\n",
       "      <td>histo</td>\n",
       "      <td>80</td>\n",
       "      <td>male</td>\n",
       "      <td>face</td>\n",
       "      <td>Actinic keratoses (akiec)</td>\n",
       "      <td>.\\data\\HAM10000_images\\ISIC_0032854.JPG</td>\n",
       "      <td>[[[160, 124, 146], [164, 131, 151], [166, 127,...</td>\n",
       "    </tr>\n",
       "    <tr>\n",
       "      <th>10014</th>\n",
       "      <td>HAM_0003521</td>\n",
       "      <td>ISIC_0032258</td>\n",
       "      <td>mel</td>\n",
       "      <td>histo</td>\n",
       "      <td>70</td>\n",
       "      <td>female</td>\n",
       "      <td>back</td>\n",
       "      <td>Melanoma (mel)</td>\n",
       "      <td>.\\data\\HAM10000_images\\ISIC_0032258.JPG</td>\n",
       "      <td>[[[176, 142, 121], [181, 149, 133], [181, 149,...</td>\n",
       "    </tr>\n",
       "  </tbody>\n",
       "</table>\n",
       "<p>10015 rows × 10 columns</p>\n",
       "</div>"
      ],
      "text/plain": [
       "         lesion_id      image_id     dx dx_type  age     sex localization  \\\n",
       "0      HAM_0000118  ISIC_0027419    bkl   histo   80    male        scalp   \n",
       "1      HAM_0000118  ISIC_0025030    bkl   histo   80    male        scalp   \n",
       "2      HAM_0002730  ISIC_0026769    bkl   histo   80    male        scalp   \n",
       "3      HAM_0002730  ISIC_0025661    bkl   histo   80    male        scalp   \n",
       "4      HAM_0001466  ISIC_0031633    bkl   histo   75    male          ear   \n",
       "...            ...           ...    ...     ...  ...     ...          ...   \n",
       "10010  HAM_0002867  ISIC_0033084  akiec   histo   40    male      abdomen   \n",
       "10011  HAM_0002867  ISIC_0033550  akiec   histo   40    male      abdomen   \n",
       "10012  HAM_0002867  ISIC_0033536  akiec   histo   40    male      abdomen   \n",
       "10013  HAM_0000239  ISIC_0032854  akiec   histo   80    male         face   \n",
       "10014  HAM_0003521  ISIC_0032258    mel   histo   70  female         back   \n",
       "\n",
       "                                 cell_type  \\\n",
       "0      Benign keratosis-like lesions (bkl)   \n",
       "1      Benign keratosis-like lesions (bkl)   \n",
       "2      Benign keratosis-like lesions (bkl)   \n",
       "3      Benign keratosis-like lesions (bkl)   \n",
       "4      Benign keratosis-like lesions (bkl)   \n",
       "...                                    ...   \n",
       "10010            Actinic keratoses (akiec)   \n",
       "10011            Actinic keratoses (akiec)   \n",
       "10012            Actinic keratoses (akiec)   \n",
       "10013            Actinic keratoses (akiec)   \n",
       "10014                       Melanoma (mel)   \n",
       "\n",
       "                                          path  \\\n",
       "0      .\\data\\HAM10000_images\\ISIC_0027419.JPG   \n",
       "1      .\\data\\HAM10000_images\\ISIC_0025030.JPG   \n",
       "2      .\\data\\HAM10000_images\\ISIC_0026769.JPG   \n",
       "3      .\\data\\HAM10000_images\\ISIC_0025661.JPG   \n",
       "4      .\\data\\HAM10000_images\\ISIC_0031633.JPG   \n",
       "...                                        ...   \n",
       "10010  .\\data\\HAM10000_images\\ISIC_0033084.JPG   \n",
       "10011  .\\data\\HAM10000_images\\ISIC_0033550.JPG   \n",
       "10012  .\\data\\HAM10000_images\\ISIC_0033536.JPG   \n",
       "10013  .\\data\\HAM10000_images\\ISIC_0032854.JPG   \n",
       "10014  .\\data\\HAM10000_images\\ISIC_0032258.JPG   \n",
       "\n",
       "                                             image_pixel  \n",
       "0      [[[192, 153, 193], [195, 155, 192], [197, 154,...  \n",
       "1      [[[27, 16, 32], [69, 49, 76], [122, 93, 126], ...  \n",
       "2      [[[192, 138, 153], [200, 144, 162], [202, 142,...  \n",
       "3      [[[40, 21, 31], [95, 61, 73], [143, 102, 118],...  \n",
       "4      [[[159, 114, 140], [194, 144, 173], [215, 162,...  \n",
       "...                                                  ...  \n",
       "10010  [[[183, 166, 182], [183, 165, 181], [184, 167,...  \n",
       "10011  [[[3, 4, 2], [41, 36, 35], [119, 103, 102], [1...  \n",
       "10012  [[[134, 120, 120], [166, 148, 149], [175, 155,...  \n",
       "10013  [[[160, 124, 146], [164, 131, 151], [166, 127,...  \n",
       "10014  [[[176, 142, 121], [181, 149, 133], [181, 149,...  \n",
       "\n",
       "[10015 rows x 10 columns]"
      ]
     },
     "execution_count": 75,
     "metadata": {},
     "output_type": "execute_result"
    }
   ],
   "source": [
    "data"
   ]
  },
  {
   "cell_type": "code",
   "execution_count": 76,
   "metadata": {},
   "outputs": [
    {
     "data": {
      "image/png": "[encoded data removed]",
      "text/plain": [
       "<Figure size 1584x2304 with 14 Axes>"
      ]
     },
     "metadata": {
      "needs_background": "light"
     },
     "output_type": "display_data"
    }
   ],
   "source": [
    "sample_data = data.groupby('dx').apply(lambda df: df.iloc[:2, [9, 7]])\n",
    "plt.figure(figsize=(22, 32))\n",
    "for i in range(14):\n",
    "    plt.subplot(7, 5, i + 1)\n",
    "    plt.imshow(np.squeeze(sample_data['image_pixel'][i]))\n",
    "    img_label = sample_data['cell_type'][i]\n",
    "    plt.title(img_label)\n",
    "    plt.axis(\"off\")\n",
    "plt.show();"
   ]
  },
  {
   "cell_type": "code",
   "execution_count": 77,
   "metadata": {},
   "outputs": [],
   "source": [
    "data['label'] = data['dx'].map(reverse_label_mapping.get)\n",
    "\n",
    "data = data.sort_values('label')\n",
    "data = data.reset_index()"
   ]
  },
  {
   "cell_type": "code",
   "execution_count": 78,
   "metadata": {},
   "outputs": [
    {
     "data": {
      "text/html": [
       "<div>\n",
       "<style scoped>\n",
       "    .dataframe tbody tr th:only-of-type {\n",
       "        vertical-align: middle;\n",
       "    }\n",
       "\n",
       "    .dataframe tbody tr th {\n",
       "        vertical-align: top;\n",
       "    }\n",
       "\n",
       "    .dataframe thead th {\n",
       "        text-align: right;\n",
       "    }\n",
       "</style>\n",
       "<table border=\"1\" class=\"dataframe\">\n",
       "  <thead>\n",
       "    <tr style=\"text-align: right;\">\n",
       "      <th></th>\n",
       "      <th>index</th>\n",
       "      <th>lesion_id</th>\n",
       "      <th>image_id</th>\n",
       "      <th>dx</th>\n",
       "      <th>dx_type</th>\n",
       "      <th>age</th>\n",
       "      <th>sex</th>\n",
       "      <th>localization</th>\n",
       "      <th>cell_type</th>\n",
       "      <th>path</th>\n",
       "      <th>image_pixel</th>\n",
       "      <th>label</th>\n",
       "    </tr>\n",
       "  </thead>\n",
       "  <tbody>\n",
       "    <tr>\n",
       "      <th>0</th>\n",
       "      <td>5007</td>\n",
       "      <td>HAM_0006322</td>\n",
       "      <td>ISIC_0030309</td>\n",
       "      <td>nv</td>\n",
       "      <td>follow_up</td>\n",
       "      <td>55</td>\n",
       "      <td>male</td>\n",
       "      <td>foot</td>\n",
       "      <td>Melanocytic nevi (nv)</td>\n",
       "      <td>.\\data\\HAM10000_images\\ISIC_0030309.JPG</td>\n",
       "      <td>[[[237, 159, 171], [238, 158, 173], [241, 161,...</td>\n",
       "      <td>0</td>\n",
       "    </tr>\n",
       "    <tr>\n",
       "      <th>1</th>\n",
       "      <td>4478</td>\n",
       "      <td>HAM_0003084</td>\n",
       "      <td>ISIC_0026191</td>\n",
       "      <td>nv</td>\n",
       "      <td>follow_up</td>\n",
       "      <td>45</td>\n",
       "      <td>female</td>\n",
       "      <td>upper extremity</td>\n",
       "      <td>Melanocytic nevi (nv)</td>\n",
       "      <td>.\\data\\HAM10000_images\\ISIC_0026191.JPG</td>\n",
       "      <td>[[[219, 112, 131], [223, 119, 136], [224, 121,...</td>\n",
       "      <td>0</td>\n",
       "    </tr>\n",
       "    <tr>\n",
       "      <th>2</th>\n",
       "      <td>4477</td>\n",
       "      <td>HAM_0002093</td>\n",
       "      <td>ISIC_0027032</td>\n",
       "      <td>nv</td>\n",
       "      <td>follow_up</td>\n",
       "      <td>45</td>\n",
       "      <td>female</td>\n",
       "      <td>back</td>\n",
       "      <td>Melanocytic nevi (nv)</td>\n",
       "      <td>.\\data\\HAM10000_images\\ISIC_0027032.JPG</td>\n",
       "      <td>[[[234, 134, 155], [238, 140, 164], [234, 130,...</td>\n",
       "      <td>0</td>\n",
       "    </tr>\n",
       "    <tr>\n",
       "      <th>3</th>\n",
       "      <td>4476</td>\n",
       "      <td>HAM_0003701</td>\n",
       "      <td>ISIC_0027191</td>\n",
       "      <td>nv</td>\n",
       "      <td>follow_up</td>\n",
       "      <td>45</td>\n",
       "      <td>female</td>\n",
       "      <td>lower extremity</td>\n",
       "      <td>Melanocytic nevi (nv)</td>\n",
       "      <td>.\\data\\HAM10000_images\\ISIC_0027191.JPG</td>\n",
       "      <td>[[[214, 121, 154], [216, 124, 159], [218, 124,...</td>\n",
       "      <td>0</td>\n",
       "    </tr>\n",
       "    <tr>\n",
       "      <th>4</th>\n",
       "      <td>4475</td>\n",
       "      <td>HAM_0003806</td>\n",
       "      <td>ISIC_0028667</td>\n",
       "      <td>nv</td>\n",
       "      <td>follow_up</td>\n",
       "      <td>45</td>\n",
       "      <td>female</td>\n",
       "      <td>lower extremity</td>\n",
       "      <td>Melanocytic nevi (nv)</td>\n",
       "      <td>.\\data\\HAM10000_images\\ISIC_0028667.JPG</td>\n",
       "      <td>[[[234, 146, 167], [236, 149, 171], [233, 149,...</td>\n",
       "      <td>0</td>\n",
       "    </tr>\n",
       "  </tbody>\n",
       "</table>\n",
       "</div>"
      ],
      "text/plain": [
       "   index    lesion_id      image_id  dx    dx_type  age     sex  \\\n",
       "0   5007  HAM_0006322  ISIC_0030309  nv  follow_up   55    male   \n",
       "1   4478  HAM_0003084  ISIC_0026191  nv  follow_up   45  female   \n",
       "2   4477  HAM_0002093  ISIC_0027032  nv  follow_up   45  female   \n",
       "3   4476  HAM_0003701  ISIC_0027191  nv  follow_up   45  female   \n",
       "4   4475  HAM_0003806  ISIC_0028667  nv  follow_up   45  female   \n",
       "\n",
       "      localization              cell_type  \\\n",
       "0             foot  Melanocytic nevi (nv)   \n",
       "1  upper extremity  Melanocytic nevi (nv)   \n",
       "2             back  Melanocytic nevi (nv)   \n",
       "3  lower extremity  Melanocytic nevi (nv)   \n",
       "4  lower extremity  Melanocytic nevi (nv)   \n",
       "\n",
       "                                      path  \\\n",
       "0  .\\data\\HAM10000_images\\ISIC_0030309.JPG   \n",
       "1  .\\data\\HAM10000_images\\ISIC_0026191.JPG   \n",
       "2  .\\data\\HAM10000_images\\ISIC_0027032.JPG   \n",
       "3  .\\data\\HAM10000_images\\ISIC_0027191.JPG   \n",
       "4  .\\data\\HAM10000_images\\ISIC_0028667.JPG   \n",
       "\n",
       "                                         image_pixel  label  \n",
       "0  [[[237, 159, 171], [238, 158, 173], [241, 161,...      0  \n",
       "1  [[[219, 112, 131], [223, 119, 136], [224, 121,...      0  \n",
       "2  [[[234, 134, 155], [238, 140, 164], [234, 130,...      0  \n",
       "3  [[[214, 121, 154], [216, 124, 159], [218, 124,...      0  \n",
       "4  [[[234, 146, 167], [236, 149, 171], [233, 149,...      0  "
      ]
     },
     "execution_count": 78,
     "metadata": {},
     "output_type": "execute_result"
    }
   ],
   "source": [
    "data.head(5)"
   ]
  },
  {
   "cell_type": "code",
   "execution_count": 94,
   "metadata": {},
   "outputs": [
    {
     "data": {
      "text/plain": [
       "0    6705\n",
       "1    1113\n",
       "2    1099\n",
       "3     514\n",
       "4     327\n",
       "5     142\n",
       "6     115\n",
       "Name: label, dtype: int64"
      ]
     },
     "execution_count": 94,
     "metadata": {},
     "output_type": "execute_result"
    }
   ],
   "source": [
    "# make the same size samples \n",
    "data['label'].value_counts()"
   ]
  },
  {
   "cell_type": "code",
   "execution_count": null,
   "metadata": {},
   "outputs": [],
   "source": []
  },
  {
   "cell_type": "code",
   "execution_count": 79,
   "metadata": {},
   "outputs": [
    {
     "name": "stderr",
     "output_type": "stream",
     "text": [
      "C:\\Users\\bakig\\AppData\\Local\\Temp\\ipykernel_23920\\1719705814.py:7: FutureWarning: The frame.append method is deprecated and will be removed from pandas in a future version. Use pandas.concat instead.\n",
      "  df_index = df_index.append([df_index]*i, ignore_index = True)\n"
     ]
    }
   ],
   "source": [
    "# 0\t6705\t\t\t\n",
    "# 1\t1113\t4\t4452\t6678\n",
    "# 2\t1099\t4\t4396\t6594\n",
    "# 3\t514\t   11\t5654\t6682\n",
    "# 4\t327\t   17\t5559\t6213\n",
    "# 5\t142\t   45\t6390\t6674\n",
    "# 6\t115\t   52\t5980\t6210\n",
    "\n",
    "_label = 0\n",
    "groups = [data]\n",
    "for i in [4,4,11,17,45,52]:\n",
    "    _label+=1\n",
    "    index = data[data['label'] == _label].index.values\n",
    "    df_l = data.iloc[int(min(index)):int(max(index)+1)]\n",
    "    df_l = df_l.append([df_l]*i, ignore_index = True)\n",
    "    groups.append(df_l)"
   ]
  },
  {
   "cell_type": "code",
   "execution_count": 86,
   "metadata": {},
   "outputs": [],
   "source": [
    "final_data = pd.concat(groups)"
   ]
  },
  {
   "cell_type": "code",
   "execution_count": 95,
   "metadata": {},
   "outputs": [
    {
     "data": {
      "text/plain": [
       "0    6705\n",
       "3    6682\n",
       "1    6678\n",
       "5    6674\n",
       "2    6594\n",
       "4    6213\n",
       "6    6210\n",
       "Name: label, dtype: int64"
      ]
     },
     "execution_count": 95,
     "metadata": {},
     "output_type": "execute_result"
    }
   ],
   "source": [
    "final_data['label'].value_counts()"
   ]
  },
  {
   "cell_type": "code",
   "execution_count": 96,
   "metadata": {},
   "outputs": [
    {
     "data": {
      "text/html": [
       "<div>\n",
       "<style scoped>\n",
       "    .dataframe tbody tr th:only-of-type {\n",
       "        vertical-align: middle;\n",
       "    }\n",
       "\n",
       "    .dataframe tbody tr th {\n",
       "        vertical-align: top;\n",
       "    }\n",
       "\n",
       "    .dataframe thead th {\n",
       "        text-align: right;\n",
       "    }\n",
       "</style>\n",
       "<table border=\"1\" class=\"dataframe\">\n",
       "  <thead>\n",
       "    <tr style=\"text-align: right;\">\n",
       "      <th></th>\n",
       "      <th>index</th>\n",
       "      <th>lesion_id</th>\n",
       "      <th>image_id</th>\n",
       "      <th>dx</th>\n",
       "      <th>dx_type</th>\n",
       "      <th>age</th>\n",
       "      <th>sex</th>\n",
       "      <th>localization</th>\n",
       "      <th>cell_type</th>\n",
       "      <th>path</th>\n",
       "      <th>image_pixel</th>\n",
       "      <th>label</th>\n",
       "    </tr>\n",
       "  </thead>\n",
       "  <tbody>\n",
       "    <tr>\n",
       "      <th>0</th>\n",
       "      <td>5007</td>\n",
       "      <td>HAM_0006322</td>\n",
       "      <td>ISIC_0030309</td>\n",
       "      <td>nv</td>\n",
       "      <td>follow_up</td>\n",
       "      <td>55</td>\n",
       "      <td>male</td>\n",
       "      <td>foot</td>\n",
       "      <td>Melanocytic nevi (nv)</td>\n",
       "      <td>.\\data\\HAM10000_images\\ISIC_0030309.JPG</td>\n",
       "      <td>[[[237, 159, 171], [238, 158, 173], [241, 161,...</td>\n",
       "      <td>0</td>\n",
       "    </tr>\n",
       "    <tr>\n",
       "      <th>1</th>\n",
       "      <td>4478</td>\n",
       "      <td>HAM_0003084</td>\n",
       "      <td>ISIC_0026191</td>\n",
       "      <td>nv</td>\n",
       "      <td>follow_up</td>\n",
       "      <td>45</td>\n",
       "      <td>female</td>\n",
       "      <td>upper extremity</td>\n",
       "      <td>Melanocytic nevi (nv)</td>\n",
       "      <td>.\\data\\HAM10000_images\\ISIC_0026191.JPG</td>\n",
       "      <td>[[[219, 112, 131], [223, 119, 136], [224, 121,...</td>\n",
       "      <td>0</td>\n",
       "    </tr>\n",
       "    <tr>\n",
       "      <th>2</th>\n",
       "      <td>4477</td>\n",
       "      <td>HAM_0002093</td>\n",
       "      <td>ISIC_0027032</td>\n",
       "      <td>nv</td>\n",
       "      <td>follow_up</td>\n",
       "      <td>45</td>\n",
       "      <td>female</td>\n",
       "      <td>back</td>\n",
       "      <td>Melanocytic nevi (nv)</td>\n",
       "      <td>.\\data\\HAM10000_images\\ISIC_0027032.JPG</td>\n",
       "      <td>[[[234, 134, 155], [238, 140, 164], [234, 130,...</td>\n",
       "      <td>0</td>\n",
       "    </tr>\n",
       "    <tr>\n",
       "      <th>3</th>\n",
       "      <td>4476</td>\n",
       "      <td>HAM_0003701</td>\n",
       "      <td>ISIC_0027191</td>\n",
       "      <td>nv</td>\n",
       "      <td>follow_up</td>\n",
       "      <td>45</td>\n",
       "      <td>female</td>\n",
       "      <td>lower extremity</td>\n",
       "      <td>Melanocytic nevi (nv)</td>\n",
       "      <td>.\\data\\HAM10000_images\\ISIC_0027191.JPG</td>\n",
       "      <td>[[[214, 121, 154], [216, 124, 159], [218, 124,...</td>\n",
       "      <td>0</td>\n",
       "    </tr>\n",
       "    <tr>\n",
       "      <th>4</th>\n",
       "      <td>4475</td>\n",
       "      <td>HAM_0003806</td>\n",
       "      <td>ISIC_0028667</td>\n",
       "      <td>nv</td>\n",
       "      <td>follow_up</td>\n",
       "      <td>45</td>\n",
       "      <td>female</td>\n",
       "      <td>lower extremity</td>\n",
       "      <td>Melanocytic nevi (nv)</td>\n",
       "      <td>.\\data\\HAM10000_images\\ISIC_0028667.JPG</td>\n",
       "      <td>[[[234, 146, 167], [236, 149, 171], [233, 149,...</td>\n",
       "      <td>0</td>\n",
       "    </tr>\n",
       "  </tbody>\n",
       "</table>\n",
       "</div>"
      ],
      "text/plain": [
       "   index    lesion_id      image_id  dx    dx_type  age     sex  \\\n",
       "0   5007  HAM_0006322  ISIC_0030309  nv  follow_up   55    male   \n",
       "1   4478  HAM_0003084  ISIC_0026191  nv  follow_up   45  female   \n",
       "2   4477  HAM_0002093  ISIC_0027032  nv  follow_up   45  female   \n",
       "3   4476  HAM_0003701  ISIC_0027191  nv  follow_up   45  female   \n",
       "4   4475  HAM_0003806  ISIC_0028667  nv  follow_up   45  female   \n",
       "\n",
       "      localization              cell_type  \\\n",
       "0             foot  Melanocytic nevi (nv)   \n",
       "1  upper extremity  Melanocytic nevi (nv)   \n",
       "2             back  Melanocytic nevi (nv)   \n",
       "3  lower extremity  Melanocytic nevi (nv)   \n",
       "4  lower extremity  Melanocytic nevi (nv)   \n",
       "\n",
       "                                      path  \\\n",
       "0  .\\data\\HAM10000_images\\ISIC_0030309.JPG   \n",
       "1  .\\data\\HAM10000_images\\ISIC_0026191.JPG   \n",
       "2  .\\data\\HAM10000_images\\ISIC_0027032.JPG   \n",
       "3  .\\data\\HAM10000_images\\ISIC_0027191.JPG   \n",
       "4  .\\data\\HAM10000_images\\ISIC_0028667.JPG   \n",
       "\n",
       "                                         image_pixel  label  \n",
       "0  [[[237, 159, 171], [238, 158, 173], [241, 161,...      0  \n",
       "1  [[[219, 112, 131], [223, 119, 136], [224, 121,...      0  \n",
       "2  [[[234, 134, 155], [238, 140, 164], [234, 130,...      0  \n",
       "3  [[[214, 121, 154], [216, 124, 159], [218, 124,...      0  \n",
       "4  [[[234, 146, 167], [236, 149, 171], [233, 149,...      0  "
      ]
     },
     "execution_count": 96,
     "metadata": {},
     "output_type": "execute_result"
    }
   ],
   "source": [
    "final_data.head(5)"
   ]
  },
  {
   "cell_type": "code",
   "execution_count": 118,
   "metadata": {},
   "outputs": [],
   "source": [
    "data.to_csv(\"dataall.csv\")"
   ]
  },
  {
   "cell_type": "code",
   "execution_count": 119,
   "metadata": {},
   "outputs": [],
   "source": [
    "final_data.to_csv(\"final_aug.csv\")"
   ]
  },
  {
   "cell_type": "code",
   "execution_count": 97,
   "metadata": {},
   "outputs": [
    {
     "name": "stdout",
     "output_type": "stream",
     "text": [
      "(10015, 28, 28, 3)\n",
      "(10015, 1)\n"
     ]
    }
   ],
   "source": [
    "# ORIGINAL\n",
    "# Convert image pixel columnm into numpy array\n",
    "X_orig = data['image_pixel'].to_numpy()\n",
    "X_orig = np.stack(X_orig, axis=0)\n",
    "Y_orig = np.array(data.iloc[:, -1:])\n",
    "print(X_orig.shape)\n",
    "print(Y_orig.shape)"
   ]
  },
  {
   "cell_type": "code",
   "execution_count": 98,
   "metadata": {},
   "outputs": [
    {
     "name": "stdout",
     "output_type": "stream",
     "text": [
      "(45756, 28, 28, 3)\n",
      "(45756, 1)\n"
     ]
    }
   ],
   "source": [
    "# AUGMENTED DATA\n",
    "# Convert image pixel columnm into numpy array\n",
    "X_aug = final_data['image_pixel'].to_numpy()\n",
    "X_aug = np.stack(X_aug, axis=0)\n",
    "Y_aug = np.array(final_data.iloc[:, -1:])\n",
    "print(X_aug.shape)\n",
    "print(Y_aug.shape)"
   ]
  },
  {
   "cell_type": "code",
   "execution_count": 99,
   "metadata": {},
   "outputs": [],
   "source": [
    "def prepare_for_train_test(X, Y):\n",
    "    # Splitting into train and test set\n",
    "    X_train, X_test, Y_train, Y_test = train_test_split(X, Y, test_size=0.2, random_state=0)\n",
    "    \n",
    "    # Prepare data for training and testing the model\n",
    "    train_datagen = ImageDataGenerator(rescale = 1./255,\n",
    "                                  rotation_range = 10,\n",
    "                                  width_shift_range = 0.2,\n",
    "                                  height_shift_range = 0.2,\n",
    "                                  shear_range = 0.2,\n",
    "                                  horizontal_flip = True,\n",
    "                                  vertical_flip = True,\n",
    "                                  fill_mode = 'nearest')\n",
    "    train_datagen.fit(X_train)\n",
    "    test_datagen = ImageDataGenerator(rescale = 1./255)\n",
    "    test_datagen.fit(X_test)\n",
    "    return X_train, X_test, Y_train, Y_test"
   ]
  },
  {
   "cell_type": "code",
   "execution_count": 100,
   "metadata": {},
   "outputs": [],
   "source": [
    "def create_model():\n",
    "    model = Sequential()\n",
    "    model.add(Conv2D(16, kernel_size = (3,3), input_shape = (28, 28, 3), activation = 'relu', padding = 'same'))\n",
    "    model.add(MaxPool2D(pool_size = (2,2)))\n",
    "\n",
    "    model.add(Conv2D(32, kernel_size = (3,3), activation = 'relu', padding = 'same'))\n",
    "    model.add(MaxPool2D(pool_size = (2,2), padding = 'same'))\n",
    "\n",
    "    model.add(Conv2D(64, kernel_size = (3,3), activation = 'relu', padding = 'same'))\n",
    "    model.add(MaxPool2D(pool_size = (2,2), padding = 'same'))\n",
    "    model.add(Conv2D(128, kernel_size = (3,3), activation = 'relu', padding = 'same'))\n",
    "    model.add(MaxPool2D(pool_size = (2,2), padding = 'same'))\n",
    "\n",
    "    model.add(Flatten())\n",
    "    model.add(Dense(64, activation = 'relu'))\n",
    "    model.add(Dense(32, activation='relu'))\n",
    "    model.add(Dense(7, activation='softmax'))\n",
    "\n",
    "    optimizer = tf.keras.optimizers.Adam(learning_rate = 0.001)\n",
    "\n",
    "    model.compile(loss = 'sparse_categorical_crossentropy',\n",
    "                 optimizer = optimizer,\n",
    "                  metrics = ['accuracy'])\n",
    "    print(model.summary())\n",
    "    return model"
   ]
  },
  {
   "cell_type": "code",
   "execution_count": 101,
   "metadata": {},
   "outputs": [],
   "source": [
    "def train_model(model, X_train, Y_train, EPOCHS=25):\n",
    "    early_stop = EarlyStopping(monitor='val_loss', patience=10, verbose=1, \n",
    "                           mode='auto')\n",
    "                               #, restore_best_weights=True)\n",
    "    \n",
    "    reduce_lr = ReduceLROnPlateau(monitor='val_loss', factor=0.1, patience=3, \n",
    "                              verbose=1, mode='auto')\n",
    "    \n",
    "    history = model.fit(X_train,\n",
    "                        Y_train,\n",
    "                        validation_split=0.2,\n",
    "                        batch_size = 64,\n",
    "                        epochs = EPOCHS,\n",
    "                        callbacks = [reduce_lr, early_stop])\n",
    "    return history"
   ]
  },
  {
   "cell_type": "code",
   "execution_count": 120,
   "metadata": {},
   "outputs": [],
   "source": [
    "def test_model(model, X_test, Y_test):\n",
    "    model_acc = model.evaluate(X_test, Y_test, verbose=0)[1]\n",
    "    print(\"Test Accuracy: {:.3f}%\".format(model_acc * 100))\n",
    "    y_true = np.array(Y_test)\n",
    "    y_pred = model.predict(X_test)\n",
    "    y_pred = np.array(list(map(lambda x: np.argmax(x), y_pred)))\n",
    "    clr = classification_report(y_true, y_pred, target_names=label_mapping.values())\n",
    "    print(clr)\n",
    "    cm=confusion_matrix(y_true, y_pred)\n",
    "    print(cm)\n",
    "    sample_data = X_test[:15]\n",
    "    plt.figure(figsize=(22, 12))\n",
    "    for i in range(15):\n",
    "        plt.subplot(3, 5, i + 1)\n",
    "        plt.imshow(sample_data[i])\n",
    "        plt.title(label_mapping[y_true[i][0]] + '|' + label_mapping[y_pred[i]])\n",
    "        plt.axis(\"off\")\n",
    "    plt.show() "
   ]
  },
  {
   "cell_type": "code",
   "execution_count": 103,
   "metadata": {},
   "outputs": [],
   "source": [
    "def plot_model_training_curve(history):\n",
    "    fig = make_subplots(rows=1, cols=2, subplot_titles=['Model Accuracy', 'Model Loss'])\n",
    "    fig.add_trace(\n",
    "        go.Scatter(\n",
    "            y=history.history['accuracy'], \n",
    "            name='train_acc'), \n",
    "        row=1, col=1)\n",
    "    fig.add_trace(\n",
    "        go.Scatter(\n",
    "            y=history.history['val_accuracy'], \n",
    "            name='val_acc'), \n",
    "        row=1, col=1)\n",
    "    fig.add_trace(\n",
    "        go.Scatter(\n",
    "            y=history.history['loss'], \n",
    "            name='train_loss'), \n",
    "        row=1, col=2)\n",
    "    fig.add_trace(\n",
    "        go.Scatter(\n",
    "            y=history.history['val_loss'], \n",
    "            name='val_loss'), \n",
    "        row=1, col=2)\n",
    "    fig.show()"
   ]
  },
  {
   "cell_type": "code",
   "execution_count": null,
   "metadata": {},
   "outputs": [],
   "source": [
    "def plot_confusion_matrix(cm, classes,\n",
    "                          name,\n",
    "                          normalize=False,\n",
    "                          title='Confusion matrix',\n",
    "                          cmap=plt.cm.Blues):\n",
    "    \n",
    "    plt.figure(figsize=(8,6))\n",
    "    plt.imshow(cm, interpolation='nearest', cmap=cmap)\n",
    "    plt.title(name)\n",
    "    plt.colorbar()\n",
    "    tick_marks = np.arange(len(classes))\n",
    "    plt.xticks(tick_marks, classes, rotation=45)\n",
    "    plt.yticks(tick_marks, classes)\n",
    "\n",
    "    if normalize:\n",
    "        cm = cm.astype('float') / cm.sum(axis=1)[:, np.newaxis]\n",
    "\n",
    "    thresh = cm.max() / 2.\n",
    "    for i, j in itertools.product(range(cm.shape[0]), range(cm.shape[1])):\n",
    "        plt.text(j, i, cm[i, j],\n",
    "                 horizontalalignment=\"center\",\n",
    "                 color=\"white\" if cm[i, j] > thresh else \"black\")\n",
    "    \n",
    "#     b, t = plt.ylim()\n",
    "#     b += 0.5\n",
    "#     t -= 0.5\n",
    "#     plt.ylim(b, t)\n",
    "    \n",
    "    plt.tight_layout()\n",
    "    plt.ylabel('True Labels')\n",
    "    plt.xlabel('Predicted Labels')\n",
    "    fig = plt\n",
    "    fig.savefig('_confusion_matrix.png', dpi=300)"
   ]
  },
  {
   "cell_type": "code",
   "execution_count": 105,
   "metadata": {},
   "outputs": [],
   "source": [
    "# For Original Dataset\n",
    "X_train_orig, X_test_orig, Y_train_orig, Y_test_orig = prepare_for_train_test(X_orig, Y_orig)"
   ]
  },
  {
   "cell_type": "code",
   "execution_count": 106,
   "metadata": {},
   "outputs": [
    {
     "name": "stdout",
     "output_type": "stream",
     "text": [
      "Model: \"sequential\"\n",
      "_________________________________________________________________\n",
      " Layer (type)                Output Shape              Param #   \n",
      "=================================================================\n",
      " conv2d (Conv2D)             (None, 28, 28, 16)        448       \n",
      "                                                                 \n",
      " max_pooling2d (MaxPooling2D  (None, 14, 14, 16)       0         \n",
      " )                                                               \n",
      "                                                                 \n",
      " conv2d_1 (Conv2D)           (None, 14, 14, 32)        4640      \n",
      "                                                                 \n",
      " max_pooling2d_1 (MaxPooling  (None, 7, 7, 32)         0         \n",
      " 2D)                                                             \n",
      "                                                                 \n",
      " conv2d_2 (Conv2D)           (None, 7, 7, 64)          18496     \n",
      "                                                                 \n",
      " max_pooling2d_2 (MaxPooling  (None, 4, 4, 64)         0         \n",
      " 2D)                                                             \n",
      "                                                                 \n",
      " conv2d_3 (Conv2D)           (None, 4, 4, 128)         73856     \n",
      "                                                                 \n",
      " max_pooling2d_3 (MaxPooling  (None, 2, 2, 128)        0         \n",
      " 2D)                                                             \n",
      "                                                                 \n",
      " flatten (Flatten)           (None, 512)               0         \n",
      "                                                                 \n",
      " dense (Dense)               (None, 64)                32832     \n",
      "                                                                 \n",
      " dense_1 (Dense)             (None, 32)                2080      \n",
      "                                                                 \n",
      " dense_2 (Dense)             (None, 7)                 231       \n",
      "                                                                 \n",
      "=================================================================\n",
      "Total params: 132,583\n",
      "Trainable params: 132,583\n",
      "Non-trainable params: 0\n",
      "_________________________________________________________________\n",
      "None\n"
     ]
    }
   ],
   "source": [
    "model =create_model()"
   ]
  },
  {
   "cell_type": "code",
   "execution_count": 107,
   "metadata": {},
   "outputs": [],
   "source": [
    "X_train_aug, X_test_aug, Y_train_aug, Y_test_aug = prepare_for_train_test(X_aug, Y_aug)"
   ]
  },
  {
   "cell_type": "code",
   "execution_count": 108,
   "metadata": {},
   "outputs": [
    {
     "name": "stdout",
     "output_type": "stream",
     "text": [
      "Epoch 1/50\n",
      "458/458 [==============================] - 10s 11ms/step - loss: 1.5082 - accuracy: 0.4909 - val_loss: 1.0346 - val_accuracy: 0.6208 - lr: 0.0010\n",
      "Epoch 2/50\n",
      "458/458 [==============================] - 4s 10ms/step - loss: 0.7661 - accuracy: 0.7123 - val_loss: 0.6726 - val_accuracy: 0.7364 - lr: 0.0010\n",
      "Epoch 3/50\n",
      "458/458 [==============================] - 4s 9ms/step - loss: 0.5615 - accuracy: 0.7874 - val_loss: 0.4560 - val_accuracy: 0.8360 - lr: 0.0010\n",
      "Epoch 4/50\n",
      "458/458 [==============================] - 4s 9ms/step - loss: 0.4080 - accuracy: 0.8498 - val_loss: 0.3773 - val_accuracy: 0.8551 - lr: 0.0010\n",
      "Epoch 5/50\n",
      "458/458 [==============================] - 4s 10ms/step - loss: 0.3314 - accuracy: 0.8780 - val_loss: 0.3077 - val_accuracy: 0.8918 - lr: 0.0010\n",
      "Epoch 6/50\n",
      "458/458 [==============================] - 4s 10ms/step - loss: 0.2480 - accuracy: 0.9104 - val_loss: 0.2674 - val_accuracy: 0.9023 - lr: 0.0010\n",
      "Epoch 7/50\n",
      "458/458 [==============================] - 4s 9ms/step - loss: 0.2170 - accuracy: 0.9204 - val_loss: 0.2248 - val_accuracy: 0.9198 - lr: 0.0010\n",
      "Epoch 8/50\n",
      "458/458 [==============================] - 4s 9ms/step - loss: 0.1864 - accuracy: 0.9342 - val_loss: 0.2300 - val_accuracy: 0.9194 - lr: 0.0010\n",
      "Epoch 9/50\n",
      "458/458 [==============================] - 4s 10ms/step - loss: 0.1746 - accuracy: 0.9374 - val_loss: 0.2379 - val_accuracy: 0.9170 - lr: 0.0010\n",
      "Epoch 10/50\n",
      "452/458 [============================>.] - ETA: 0s - loss: 0.1449 - accuracy: 0.9487\n",
      "Epoch 10: ReduceLROnPlateau reducing learning rate to 0.00010000000474974513.\n",
      "458/458 [==============================] - 4s 10ms/step - loss: 0.1452 - accuracy: 0.9485 - val_loss: 0.2279 - val_accuracy: 0.9241 - lr: 0.0010\n",
      "Epoch 11/50\n",
      "458/458 [==============================] - 4s 10ms/step - loss: 0.0519 - accuracy: 0.9849 - val_loss: 0.1024 - val_accuracy: 0.9702 - lr: 1.0000e-04\n",
      "Epoch 12/50\n",
      "458/458 [==============================] - 4s 10ms/step - loss: 0.0290 - accuracy: 0.9929 - val_loss: 0.1041 - val_accuracy: 0.9702 - lr: 1.0000e-04\n",
      "Epoch 13/50\n",
      "458/458 [==============================] - 4s 10ms/step - loss: 0.0214 - accuracy: 0.9955 - val_loss: 0.0964 - val_accuracy: 0.9739 - lr: 1.0000e-04\n",
      "Epoch 14/50\n",
      "458/458 [==============================] - 5s 10ms/step - loss: 0.0158 - accuracy: 0.9970 - val_loss: 0.0953 - val_accuracy: 0.9747 - lr: 1.0000e-04\n",
      "Epoch 15/50\n",
      "458/458 [==============================] - 4s 10ms/step - loss: 0.0119 - accuracy: 0.9982 - val_loss: 0.0993 - val_accuracy: 0.9742 - lr: 1.0000e-04\n",
      "Epoch 16/50\n",
      "458/458 [==============================] - 4s 10ms/step - loss: 0.0091 - accuracy: 0.9987 - val_loss: 0.0927 - val_accuracy: 0.9771 - lr: 1.0000e-04\n",
      "Epoch 17/50\n",
      "458/458 [==============================] - 4s 10ms/step - loss: 0.0066 - accuracy: 0.9992 - val_loss: 0.0957 - val_accuracy: 0.9773 - lr: 1.0000e-04\n",
      "Epoch 18/50\n",
      "458/458 [==============================] - 4s 10ms/step - loss: 0.0045 - accuracy: 0.9997 - val_loss: 0.1037 - val_accuracy: 0.9764 - lr: 1.0000e-04\n",
      "Epoch 19/50\n",
      "453/458 [============================>.] - ETA: 0s - loss: 0.0033 - accuracy: 0.9998\n",
      "Epoch 19: ReduceLROnPlateau reducing learning rate to 1.0000000474974514e-05.\n",
      "458/458 [==============================] - 4s 10ms/step - loss: 0.0033 - accuracy: 0.9998 - val_loss: 0.1098 - val_accuracy: 0.9755 - lr: 1.0000e-04\n",
      "Epoch 20/50\n",
      "458/458 [==============================] - 4s 9ms/step - loss: 0.0022 - accuracy: 0.9999 - val_loss: 0.1072 - val_accuracy: 0.9775 - lr: 1.0000e-05\n",
      "Epoch 21/50\n",
      "458/458 [==============================] - 4s 9ms/step - loss: 0.0019 - accuracy: 1.0000 - val_loss: 0.1040 - val_accuracy: 0.9777 - lr: 1.0000e-05\n",
      "Epoch 22/50\n",
      "457/458 [============================>.] - ETA: 0s - loss: 0.0018 - accuracy: 1.0000\n",
      "Epoch 22: ReduceLROnPlateau reducing learning rate to 1.0000000656873453e-06.\n",
      "458/458 [==============================] - 4s 9ms/step - loss: 0.0018 - accuracy: 1.0000 - val_loss: 0.1059 - val_accuracy: 0.9771 - lr: 1.0000e-05\n",
      "Epoch 23/50\n",
      "458/458 [==============================] - 4s 9ms/step - loss: 0.0017 - accuracy: 1.0000 - val_loss: 0.1060 - val_accuracy: 0.9771 - lr: 1.0000e-06\n",
      "Epoch 24/50\n",
      "458/458 [==============================] - 4s 9ms/step - loss: 0.0016 - accuracy: 1.0000 - val_loss: 0.1062 - val_accuracy: 0.9771 - lr: 1.0000e-06\n",
      "Epoch 25/50\n",
      "453/458 [============================>.] - ETA: 0s - loss: 0.0016 - accuracy: 1.0000\n",
      "Epoch 25: ReduceLROnPlateau reducing learning rate to 1.0000001111620805e-07.\n",
      "458/458 [==============================] - 4s 10ms/step - loss: 0.0016 - accuracy: 1.0000 - val_loss: 0.1064 - val_accuracy: 0.9771 - lr: 1.0000e-06\n",
      "Epoch 26/50\n",
      "458/458 [==============================] - 4s 10ms/step - loss: 0.0016 - accuracy: 1.0000 - val_loss: 0.1065 - val_accuracy: 0.9771 - lr: 1.0000e-07\n",
      "Epoch 26: early stopping\n"
     ]
    }
   ],
   "source": [
    "model2_history = train_model(model, X_train_aug, Y_train_aug, 50)"
   ]
  },
  {
   "cell_type": "code",
   "execution_count": 110,
   "metadata": {},
   "outputs": [
    {
     "name": "stdout",
     "output_type": "stream",
     "text": [
      "INFO:tensorflow:Assets written to: Skin_Cancer.sav\\assets\n"
     ]
    }
   ],
   "source": [
    "model.save('Skin_Cancer.sav')"
   ]
  },
  {
   "cell_type": "code",
   "execution_count": 111,
   "metadata": {},
   "outputs": [],
   "source": [
    "model.save_weights(\"Skin_Cancer.hdf5\")"
   ]
  },
  {
   "cell_type": "code",
   "execution_count": 123,
   "metadata": {},
   "outputs": [],
   "source": [
    "# Saving the model for Future Inferences\n",
    "\n",
    "model_json = model.to_json()\n",
    "with open(\"model.json\", \"w\") as json_file:\n",
    "    json_file.write(model_json)\n",
    "# serialize weights to HDF5\n",
    "model.save_weights(\"model.h5\")"
   ]
  },
  {
   "cell_type": "code",
   "execution_count": 121,
   "metadata": {},
   "outputs": [
    {
     "name": "stdout",
     "output_type": "stream",
     "text": [
      "Test Accuracy: 96.905%\n",
      "              precision    recall  f1-score   support\n",
      "\n",
      "          nv       1.00      0.96      0.98      1374\n",
      "         mel       0.86      1.00      0.92       205\n",
      "         bkl       0.92      1.00      0.96       227\n",
      "         bcc       0.95      1.00      0.97        94\n",
      "       akiec       0.98      1.00      0.99        55\n",
      "        vasc       0.93      1.00      0.97        28\n",
      "          df       1.00      1.00      1.00        20\n",
      "\n",
      "    accuracy                           0.97      2003\n",
      "   macro avg       0.95      0.99      0.97      2003\n",
      "weighted avg       0.97      0.97      0.97      2003\n",
      "\n",
      "[[1313   33   20    5    1    2    0]\n",
      " [   1  204    0    0    0    0    0]\n",
      " [   0    0  227    0    0    0    0]\n",
      " [   0    0    0   94    0    0    0]\n",
      " [   0    0    0    0   55    0    0]\n",
      " [   0    0    0    0    0   28    0]\n",
      " [   0    0    0    0    0    0   20]]\n"
     ]
    },
    {
     "data": {
      "image/png": "[encoded data removed]",
      "text/plain": [
       "<Figure size 1584x864 with 15 Axes>"
      ]
     },
     "metadata": {
      "needs_background": "light"
     },
     "output_type": "display_data"
    }
   ],
   "source": [
    "test_model(model, X_test_orig, Y_test_orig)"
   ]
  },
  {
   "cell_type": "code",
   "execution_count": 122,
   "metadata": {},
   "outputs": [
    {
     "name": "stdout",
     "output_type": "stream",
     "text": [
      "Test Accuracy: 97.826%\n",
      "              precision    recall  f1-score   support\n",
      "\n",
      "          nv       0.99      0.87      0.92      1385\n",
      "         mel       0.94      0.99      0.96      1328\n",
      "         bkl       0.94      1.00      0.97      1294\n",
      "         bcc       0.99      1.00      0.99      1325\n",
      "       akiec       1.00      1.00      1.00      1270\n",
      "        vasc       1.00      1.00      1.00      1293\n",
      "          df       1.00      1.00      1.00      1257\n",
      "\n",
      "    accuracy                           0.98      9152\n",
      "   macro avg       0.98      0.98      0.98      9152\n",
      "weighted avg       0.98      0.98      0.98      9152\n",
      "\n",
      "[[1203   86   75   15    1    2    3]\n",
      " [  10 1315    3    0    0    0    0]\n",
      " [   4    0 1290    0    0    0    0]\n",
      " [   0    0    0 1325    0    0    0]\n",
      " [   0    0    0    0 1270    0    0]\n",
      " [   0    0    0    0    0 1293    0]\n",
      " [   0    0    0    0    0    0 1257]]\n"
     ]
    },
    {
     "data": {
      "image/png": "[encoded data removed]",
      "text/plain": [
       "<Figure size 1584x864 with 15 Axes>"
      ]
     },
     "metadata": {
      "needs_background": "light"
     },
     "output_type": "display_data"
    }
   ],
   "source": [
    "test_model(model, X_test_aug, Y_test_aug)"
   ]
  },
  {
   "cell_type": "code",
   "execution_count": 124,
   "metadata": {},
   "outputs": [
    {
     "data": {
      "text/plain": [
       "(28, 28, 3)"
      ]
     },
     "execution_count": 124,
     "metadata": {},
     "output_type": "execute_result"
    }
   ],
   "source": []
  },
  {
   "cell_type": "code",
   "execution_count": 125,
   "metadata": {},
   "outputs": [
    {
     "data": {
      "text/plain": [
       "index                                                        4477\n",
       "lesion_id                                             HAM_0002093\n",
       "image_id                                             ISIC_0027032\n",
       "dx                                                             nv\n",
       "dx_type                                                 follow_up\n",
       "age                                                            45\n",
       "sex                                                        female\n",
       "localization                                                 back\n",
       "cell_type                                   Melanocytic nevi (nv)\n",
       "path                      .\\data\\HAM10000_images\\ISIC_0027032.JPG\n",
       "image_pixel     [[[234, 134, 155], [238, 140, 164], [234, 130,...\n",
       "label                                                           0\n",
       "Name: 2, dtype: object"
      ]
     },
     "execution_count": 125,
     "metadata": {},
     "output_type": "execute_result"
    }
   ],
   "source": [
    "data.iloc[2]"
   ]
  },
  {
   "cell_type": "code",
   "execution_count": 128,
   "metadata": {},
   "outputs": [
    {
     "data": {
      "text/plain": [
       "(28, 28, 3)"
      ]
     },
     "execution_count": 128,
     "metadata": {},
     "output_type": "execute_result"
    }
   ],
   "source": [
    "one_picture_predict_data.image_pixel.shape"
   ]
  },
  {
   "cell_type": "code",
   "execution_count": 129,
   "metadata": {},
   "outputs": [
    {
     "name": "stdout",
     "output_type": "stream",
     "text": [
      "index                                                        4477\n",
      "lesion_id                                             HAM_0002093\n",
      "image_id                                             ISIC_0027032\n",
      "dx                                                             nv\n",
      "dx_type                                                 follow_up\n",
      "age                                                            45\n",
      "sex                                                        female\n",
      "localization                                                 back\n",
      "cell_type                                   Melanocytic nevi (nv)\n",
      "path                      .\\data\\HAM10000_images\\ISIC_0027032.JPG\n",
      "image_pixel     [[[234, 134, 155], [238, 140, 164], [234, 130,...\n",
      "label                                                           0\n",
      "Name: 2, dtype: object\n",
      "nv\n",
      "0\n",
      "[[[[234 134 155]\n",
      "   [238 140 164]\n",
      "   [234 130 150]\n",
      "   ...\n",
      "   [232 127 149]\n",
      "   [234 131 156]\n",
      "   [233 134 156]]\n",
      "\n",
      "  [[231 130 151]\n",
      "   [237 137 160]\n",
      "   [233 126 145]\n",
      "   ...\n",
      "   [232 132 151]\n",
      "   [234 134 158]\n",
      "   [231 132 154]]\n",
      "\n",
      "  [[230 129 148]\n",
      "   [236 135 156]\n",
      "   [235 132 152]\n",
      "   ...\n",
      "   [236 143 162]\n",
      "   [235 141 163]\n",
      "   [231 133 155]]\n",
      "\n",
      "  ...\n",
      "\n",
      "  [[213 115 126]\n",
      "   [218 125 135]\n",
      "   [216 120 126]\n",
      "   ...\n",
      "   [227 135 154]\n",
      "   [221 127 148]\n",
      "   [216 127 147]]\n",
      "\n",
      "  [[212 113 123]\n",
      "   [215 119 127]\n",
      "   [214 120 124]\n",
      "   ...\n",
      "   [224 134 152]\n",
      "   [219 127 148]\n",
      "   [216 129 149]]\n",
      "\n",
      "  [[210 114 124]\n",
      "   [213 114 125]\n",
      "   [212 117 123]\n",
      "   ...\n",
      "   [221 130 149]\n",
      "   [219 129 147]\n",
      "   [216 129 148]]]]\n"
     ]
    },
    {
     "data": {
      "text/plain": [
       "array([[1.0000000e+00, 6.3326507e-14, 1.6583433e-08, 1.7311076e-26,\n",
       "        1.7305985e-27, 1.5154092e-34, 1.9206992e-33]], dtype=float32)"
      ]
     },
     "execution_count": 129,
     "metadata": {},
     "output_type": "execute_result"
    }
   ],
   "source": [
    "one_picture_predict_data = data.iloc[2]\n",
    "print(one_picture_predict_data)\n",
    "print(one_picture_predict_data.dx)\n",
    "#print(one_picture_predict_data.image_pixel)\n",
    "y_value = reverse_label_mapping.get(one_picture_predict_data.dx)\n",
    "print(y_value)\n",
    "\n",
    "\n",
    "one_picture_predict_data.image_pixel.shape\n",
    "new_one = one_picture_predict_data.image_pixel.reshape((1,28,28,3))\n",
    "print(new_one)\n",
    "model.predict(new_one)"
   ]
  },
  {
   "cell_type": "code",
   "execution_count": 126,
   "metadata": {},
   "outputs": [
    {
     "data": {
      "text/plain": [
       "(1, 28, 28, 3)"
      ]
     },
     "execution_count": 126,
     "metadata": {},
     "output_type": "execute_result"
    }
   ],
   "source": [
    "new_one.shape"
   ]
  },
  {
   "cell_type": "code",
   "execution_count": 127,
   "metadata": {},
   "outputs": [
    {
     "name": "stdout",
     "output_type": "stream",
     "text": [
      ".\\data\\HAM10000_images\\ISIC_0027032.JPG\n"
     ]
    },
    {
     "data": {
      "text/plain": [
       "array([[1.0000000e+00, 6.3326507e-14, 1.6583433e-08, 1.7311076e-26,\n",
       "        1.7305985e-27, 1.5154092e-34, 1.9206992e-33]], dtype=float32)"
      ]
     },
     "execution_count": 127,
     "metadata": {},
     "output_type": "execute_result"
    }
   ],
   "source": [
    "print(data.iloc[2].path)\n",
    "im = np.asarray(Image.open(data.iloc[2].path))\n",
    "im.shape\n",
    "im = im.reshape((1,450,600,3))\n",
    "im.shape\n",
    "new_one = one_picture_predict_data.image_pixel.reshape((1,28,28,3))\n",
    "model.predict(new_one)"
   ]
  }
 ],
 "metadata": {
  "interpreter": {
   "hash": "66a43da4e70cc3f7b73382e30a4177bdcdabfb5ea46b21e7b3ca8c5de37a9ea1"
  },
  "kernelspec": {
   "display_name": "Python 3.10.2 ('moleenv': venv)",
   "language": "python",
   "name": "python3"
  },
  "language_info": {
   "codemirror_mode": {
    "name": "ipython",
    "version": 3
   },
   "file_extension": ".py",
   "mimetype": "text/x-python",
   "name": "python",
   "nbconvert_exporter": "python",
   "pygments_lexer": "ipython3",
   "version": "3.10.2"
  },
  "orig_nbformat": 4
 },
 "nbformat": 4,
 "nbformat_minor": 2
}
