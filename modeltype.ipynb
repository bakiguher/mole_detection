{
 "cells": [
  {
   "cell_type": "markdown",
   "metadata": {},
   "source": [
    "# MOLE DETECTION"
   ]
  },
  {
   "cell_type": "markdown",
   "metadata": {},
   "source": [
    "Import Necessary Libraries"
   ]
  },
  {
   "cell_type": "code",
   "execution_count": 2,
   "metadata": {},
   "outputs": [],
   "source": [
    "import numpy as np\n",
    "import pandas as pd\n",
    "import os\n",
    "from glob import glob\n",
    "import seaborn as sns\n",
    "import matplotlib.pyplot as plt\n",
    "from PIL import Image\n",
    "import time\n",
    "\n",
    "from sklearn.metrics import confusion_matrix,classification_report\n",
    "from sklearn.model_selection import train_test_split\n",
    "from sklearn.preprocessing import LabelEncoder\n",
    "from sklearn.utils import class_weight\n",
    "\n",
    "\n",
    "import keras\n",
    "from keras.utils.np_utils import to_categorical \n",
    "from keras.preprocessing.image import ImageDataGenerator\n",
    "from keras.models import Sequential\n",
    "from keras.layers import Dense, Dropout, Flatten, Conv2D, MaxPool2D, BatchNormalization\n",
    "from tensorflow.python.keras.callbacks import ReduceLROnPlateau, EarlyStopping\n",
    "from keras.callbacks import TensorBoard\n",
    "\n",
    "from imblearn.under_sampling import RandomUnderSampler\n",
    "from imblearn.over_sampling import RandomOverSampler\n",
    "\n",
    "import cv2\n",
    "\n",
    "NAME=\"mole_multiclass-{}\".format(int(time.time())) # log file name for tensorboard"
   ]
  },
  {
   "cell_type": "markdown",
   "metadata": {},
   "source": [
    "Constants"
   ]
  },
  {
   "cell_type": "code",
   "execution_count": 3,
   "metadata": {},
   "outputs": [],
   "source": [
    "lesion_type_dict = {\n",
    "    'nv': 'Melanocytic nevi (nv)',\n",
    "    'mel': 'Melanoma (mel)',\n",
    "    'bkl': 'Benign keratosis-like lesions (bkl)',\n",
    "    'bcc': 'Basal cell carcinoma (bcc)',\n",
    "    'akiec': 'Actinic keratoses (akiec)',\n",
    "    'vasc': 'Vascular lesions (vasc)',\n",
    "    'df': 'Dermatofibroma (df)'\n",
    "}\n",
    "label_mapping = {\n",
    "    0: 'akiec',\n",
    "    1: 'bcc',\n",
    "    2: 'bkl',\n",
    "    3: 'df',\n",
    "    4: 'mel',\n",
    "    5: 'nv',\n",
    "    6: 'vasc'\n",
    "}\n",
    "labels = {\n",
    "    0: 'Actinic keratoses (akiec)',\n",
    "    1: 'Basal cell carcinoma (bcc)',\n",
    "    2: 'Benign keratosis-like lesions (bkl)',\n",
    "    3: 'Dermatofibroma (df)',\n",
    "    4: 'Melanoma (mel)',\n",
    "    5: 'Melanocytic nevi (nv)',\n",
    "    6: 'Vascular lesions (vasc)',\n",
    "}\n",
    "int_label_mapping = dict((value, key) for key, value in label_mapping.items())\n",
    "\n",
    "SIZE=32  # image size"
   ]
  },
  {
   "cell_type": "markdown",
   "metadata": {},
   "source": [
    "Read the data and convert labels to integer"
   ]
  },
  {
   "cell_type": "code",
   "execution_count": 4,
   "metadata": {},
   "outputs": [
    {
     "name": "stdout",
     "output_type": "stream",
     "text": [
      "['akiec', 'bcc', 'bkl', 'df', 'mel', 'nv', 'vasc']\n"
     ]
    }
   ],
   "source": [
    "\n",
    "data = pd.read_csv('data/HAM10000_metadata.csv')\n",
    "\n",
    "labele = LabelEncoder()\n",
    "labele.fit(data['dx'])\n",
    "data['label'] = labele.transform(data[\"dx\"]) \n",
    "\n",
    "print(list(labele.classes_))\n",
    "\n"
   ]
  },
  {
   "cell_type": "code",
   "execution_count": 5,
   "metadata": {},
   "outputs": [
    {
     "data": {
      "text/plain": [
       "nv       6705\n",
       "mel      1113\n",
       "bkl      1099\n",
       "bcc       514\n",
       "akiec     327\n",
       "vasc      142\n",
       "df        115\n",
       "Name: dx, dtype: int64"
      ]
     },
     "execution_count": 5,
     "metadata": {},
     "output_type": "execute_result"
    }
   ],
   "source": [
    "data.dx.value_counts()"
   ]
  },
  {
   "cell_type": "markdown",
   "metadata": {},
   "source": [
    "## Processing the data\n",
    "3 different aproaches used\n",
    " - 1 class_weights\n",
    " - 2 resampling\n",
    " - 3 randomoversampling\n",
    "    "
   ]
  },
  {
   "cell_type": "markdown",
   "metadata": {},
   "source": [
    "### 1 Class weights"
   ]
  },
  {
   "cell_type": "code",
   "execution_count": null,
   "metadata": {},
   "outputs": [],
   "source": [
    "#Class Weights- this is first option for unbalanced data- did not use it\n",
    "from sklearn.utils import class_weight\n",
    "y=data['label'] # you can convert this to integer values \n",
    "class_weights = dict(zip(np.unique(y), class_weight.compute_class_weight(class_weight='balanced',classes=np.unique(y), \n",
    "                y=y))) \n",
    "class_weights"
   ]
  },
  {
   "cell_type": "markdown",
   "metadata": {},
   "source": [
    "### 2 -Resampling with sklearn "
   ]
  },
  {
   "cell_type": "code",
   "execution_count": 83,
   "metadata": {},
   "outputs": [
    {
     "name": "stdout",
     "output_type": "stream",
     "text": [
      "5    6705\n",
      "4    1113\n",
      "2    1099\n",
      "1     514\n",
      "0     327\n",
      "6     142\n",
      "3     115\n",
      "Name: label, dtype: int64\n",
      "0    500\n",
      "1    500\n",
      "2    500\n",
      "3    500\n",
      "4    500\n",
      "5    500\n",
      "6    500\n",
      "Name: label, dtype: int64\n"
     ]
    }
   ],
   "source": [
    "#resampling- second option for unbalanced data- \n",
    "n_samples=500\n",
    "\n",
    "from sklearn.utils import resample\n",
    "print(data['label'].value_counts())\n",
    "\n",
    "# Balancing the data\n",
    "# tried balancing with class weights and imageprocessing best results came with randomoversampling\n",
    "\n",
    "df_0 = data[data['label'] == 0]\n",
    "df_1 = data[data['label'] == 1]\n",
    "df_2 = data[data['label'] == 2]\n",
    "df_3 = data[data['label'] == 3]\n",
    "df_4 = data[data['label'] == 4]\n",
    "df_5 = data[data['label'] == 5]\n",
    "df_6 = data[data['label'] == 6]\n",
    "\n",
    "\n",
    "df_0_balanced = resample(df_0, replace=True, n_samples=n_samples, random_state=42) \n",
    "df_1_balanced = resample(df_1, replace=True, n_samples=n_samples, random_state=42) \n",
    "df_2_balanced = resample(df_2, replace=True, n_samples=n_samples, random_state=42)\n",
    "df_3_balanced = resample(df_3, replace=True, n_samples=n_samples, random_state=42)\n",
    "df_4_balanced = resample(df_4, replace=True, n_samples=n_samples, random_state=42)\n",
    "df_5_balanced = resample(df_5, replace=True, n_samples=n_samples, random_state=42)\n",
    "df_6_balanced = resample(df_6, replace=True, n_samples=n_samples, random_state=42)\n",
    "\n",
    "#Combined back to a single dataframe\n",
    "data_balanced = pd.concat([df_0_balanced, df_1_balanced, \n",
    "                              df_2_balanced, df_3_balanced, \n",
    "                              df_4_balanced, df_5_balanced, df_6_balanced])\n",
    "\n",
    "print(data_balanced['label'].value_counts())\n",
    "data=data_balanced.copy(deep=True)\n",
    "data['path'] = './data/HAM10000_images/' + data['image_id'] +\".jpg\"\n",
    "data['image'] = data['path'].map(lambda x: np.asarray(Image.open(x).resize((SIZE,SIZE))))"
   ]
  },
  {
   "cell_type": "markdown",
   "metadata": {},
   "source": [
    "### 3 -Random Over Sampling "
   ]
  },
  {
   "cell_type": "code",
   "execution_count": 9,
   "metadata": {},
   "outputs": [
    {
     "data": {
      "text/plain": [
       "2    6705\n",
       "5    6705\n",
       "3    6705\n",
       "4    6705\n",
       "6    6705\n",
       "1    6705\n",
       "0    6705\n",
       "Name: label, dtype: int64"
      ]
     },
     "execution_count": 9,
     "metadata": {},
     "output_type": "execute_result"
    }
   ],
   "source": [
    "# Before using this part it is better to run Removing hair from mole images functions Because of oversampling it can take double the amount of time\n",
    "ros = RandomOverSampler()\n",
    "x=data\n",
    "y=data['label']\n",
    "data,y=ros.fit_resample(x, y)\n",
    "data['label'].value_counts()"
   ]
  },
  {
   "cell_type": "markdown",
   "metadata": {},
   "source": [
    "## Removing hair from mole images"
   ]
  },
  {
   "cell_type": "code",
   "execution_count": 6,
   "metadata": {},
   "outputs": [],
   "source": [
    "data['path'] = './data/HAM10000_images/' + data['image_id'] +\".jpg\"\n",
    "hair_images=data['path']"
   ]
  },
  {
   "cell_type": "code",
   "execution_count": 7,
   "metadata": {},
   "outputs": [],
   "source": [
    "def shave_the_mole(image):\n",
    "    grayscale = cv2.cvtColor(image, cv2.COLOR_RGB2GRAY)\n",
    "    kernel = cv2.getStructuringElement(1,(3,3))\n",
    "    blackhat = cv2.morphologyEx(grayscale, cv2.MORPH_BLACKHAT, kernel)\n",
    "    _,threshold = cv2.threshold(blackhat,10,255,cv2.THRESH_BINARY)\n",
    "    shaved_mole = cv2.inpaint(image,threshold,5,cv2.INPAINT_TELEA)\n",
    "    return shaved_mole"
   ]
  },
  {
   "cell_type": "code",
   "execution_count": 8,
   "metadata": {},
   "outputs": [],
   "source": [
    "\n",
    "features_list=[]\n",
    "for i,image_name in enumerate(hair_images[0:hair_images.size]):\n",
    "    image = cv2.imread(hair_images[i])\n",
    "    image_resize = cv2.resize(image,(SIZE,SIZE))\n",
    "    shaved_image = shave_the_mole(image_resize)\n",
    "    \n",
    "    final_image=cv2.cvtColor(shaved_image, cv2.COLOR_BGR2RGB)\n",
    "    features_list.append(final_image)\n",
    "    \n",
    "data['image']=features_list  "
   ]
  },
  {
   "cell_type": "markdown",
   "metadata": {},
   "source": [
    "#### Show cleaned images"
   ]
  },
  {
   "cell_type": "code",
   "execution_count": null,
   "metadata": {},
   "outputs": [],
   "source": [
    "n_samples = 5\n",
    "fig, m_axs = plt.subplots(7, n_samples, figsize = (4*n_samples, 3*7))\n",
    "for n_axs, (type_name, type_rows) in zip(m_axs, \n",
    "                                         data.sort_values(['dx']).groupby('dx')):\n",
    "    n_axs[0].set_title(type_name)\n",
    "    for c_ax, (_, c_row) in zip(n_axs, type_rows.sample(n_samples, random_state=20).iterrows()):\n",
    "        c_ax.imshow(c_row['image'])\n",
    "        c_ax.axis('off')\n",
    "#fig.savefig('category_samples.png', dpi=300)\n"
   ]
  },
  {
   "cell_type": "code",
   "execution_count": 10,
   "metadata": {},
   "outputs": [],
   "source": [
    "# take a copy to check other things\n",
    "data1=data.copy(deep=True)\n"
   ]
  },
  {
   "cell_type": "code",
   "execution_count": 85,
   "metadata": {},
   "outputs": [],
   "source": [
    "data=data1"
   ]
  },
  {
   "cell_type": "markdown",
   "metadata": {},
   "source": [
    "## Create Model "
   ]
  },
  {
   "cell_type": "code",
   "execution_count": 11,
   "metadata": {},
   "outputs": [],
   "source": [
    "#Convert dataframe column of image data to array\n",
    "\n",
    "X = np.asarray(data['image'].tolist())\n",
    "X = X/255. \n",
    "Y=data['label']  #\n",
    "Y_cat = to_categorical(Y, num_classes=7) #Convert to categorical \n",
    "x_train, x_test, y_train, y_test = train_test_split(X, Y_cat, test_size=0.20, random_state=42,shuffle=True)\n"
   ]
  },
  {
   "cell_type": "markdown",
   "metadata": {},
   "source": [
    "Clean the memory"
   ]
  },
  {
   "cell_type": "code",
   "execution_count": null,
   "metadata": {},
   "outputs": [],
   "source": [
    "import gc\n",
    "import pandas as pd\n",
    "\n",
    "del [[data,features_list,hair_images]]\n",
    "gc.collect()\n",
    "data=pd.DataFrame()\n",
    "\n"
   ]
  },
  {
   "cell_type": "markdown",
   "metadata": {},
   "source": [
    "### Model"
   ]
  },
  {
   "cell_type": "code",
   "execution_count": 16,
   "metadata": {},
   "outputs": [
    {
     "name": "stdout",
     "output_type": "stream",
     "text": [
      "Model: \"sequential_3\"\n",
      "_________________________________________________________________\n",
      " Layer (type)                Output Shape              Param #   \n",
      "=================================================================\n",
      " conv2d_9 (Conv2D)           (None, 30, 30, 256)       7168      \n",
      "                                                                 \n",
      " max_pooling2d_9 (MaxPooling  (None, 15, 15, 256)      0         \n",
      " 2D)                                                             \n",
      "                                                                 \n",
      " dropout_9 (Dropout)         (None, 15, 15, 256)       0         \n",
      "                                                                 \n",
      " conv2d_10 (Conv2D)          (None, 13, 13, 128)       295040    \n",
      "                                                                 \n",
      " max_pooling2d_10 (MaxPoolin  (None, 6, 6, 128)        0         \n",
      " g2D)                                                            \n",
      "                                                                 \n",
      " dropout_10 (Dropout)        (None, 6, 6, 128)         0         \n",
      "                                                                 \n",
      " conv2d_11 (Conv2D)          (None, 4, 4, 64)          73792     \n",
      "                                                                 \n",
      " max_pooling2d_11 (MaxPoolin  (None, 2, 2, 64)         0         \n",
      " g2D)                                                            \n",
      "                                                                 \n",
      " dropout_11 (Dropout)        (None, 2, 2, 64)          0         \n",
      "                                                                 \n",
      " flatten_3 (Flatten)         (None, 256)               0         \n",
      "                                                                 \n",
      " dense_6 (Dense)             (None, 32)                8224      \n",
      "                                                                 \n",
      " dense_7 (Dense)             (None, 7)                 231       \n",
      "                                                                 \n",
      "=================================================================\n",
      "Total params: 384,455\n",
      "Trainable params: 384,455\n",
      "Non-trainable params: 0\n",
      "_________________________________________________________________\n"
     ]
    }
   ],
   "source": [
    "METRICS = [\n",
    "      keras.metrics.CategoricalAccuracy(name='accuracy'),\n",
    "      keras.metrics.Precision(name='precision'),\n",
    "      keras.metrics.CategoricalCrossentropy(name='ccent'),\n",
    "      # keras.metrics.TruePositives(name='tp'),\n",
    "      # keras.metrics.FalsePositives(name='fp'),\n",
    "      # keras.metrics.TrueNegatives(name='tn'),\n",
    "      # keras.metrics.FalseNegatives(name='fn'), \n",
    "   \n",
    "      keras.metrics.Recall(name='recall'),\n",
    "      #keras.metrics.AUC(name='auc'),\n",
    "     # keras.metrics.AUC(name='prc', curve='PR'), # precision-recall curve\n",
    "]\n",
    "\n",
    "model = Sequential()\n",
    "model.add(Conv2D(256, (3, 3), activation=\"relu\", input_shape=(SIZE, SIZE, 3)))\n",
    "model.add(MaxPool2D(pool_size=(2, 2)))  \n",
    "model.add(Dropout(0.3))\n",
    "\n",
    "model.add(Conv2D(128, (3, 3),activation='relu'))\n",
    "model.add(MaxPool2D(pool_size=(2, 2)))  \n",
    "model.add(Dropout(0.3))\n",
    "\n",
    "model.add(Conv2D(64, (3, 3),activation='relu'))\n",
    "model.add(MaxPool2D(pool_size=(2, 2)))  \n",
    "model.add(Dropout(0.3))\n",
    "model.add(Flatten())\n",
    "\n",
    "model.add(Dense(32))\n",
    "#model.add(Dense(len(train_generator.classes), activation='softmax'))\n",
    "\n",
    "model.add(Dense(7, activation='softmax'))\n",
    "model.summary()\n",
    "\n",
    "model.compile(loss='categorical_crossentropy', optimizer='Adam', metrics=[METRICS])"
   ]
  },
  {
   "cell_type": "markdown",
   "metadata": {},
   "source": [
    "#### Defining callbacks and fitting the model"
   ]
  },
  {
   "cell_type": "code",
   "execution_count": 17,
   "metadata": {},
   "outputs": [
    {
     "name": "stdout",
     "output_type": "stream",
     "text": [
      "Epoch 1/40\n",
      "939/939 [==============================] - 21s 21ms/step - loss: 1.5278 - accuracy: 0.3781 - precision: 0.7447 - ccent: 1.5278 - recall: 0.1443 - val_loss: 1.2691 - val_accuracy: 0.4985 - val_precision: 0.7985 - val_ccent: 1.2691 - val_recall: 0.2221 - lr: 0.0010\n",
      "Epoch 2/40\n",
      "939/939 [==============================] - 19s 20ms/step - loss: 1.2373 - accuracy: 0.5189 - precision: 0.7591 - ccent: 1.2373 - recall: 0.2760 - val_loss: 1.0956 - val_accuracy: 0.5940 - val_precision: 0.8271 - val_ccent: 1.0956 - val_recall: 0.3071 - lr: 0.0010\n",
      "Epoch 3/40\n",
      "939/939 [==============================] - 19s 20ms/step - loss: 1.1209 - accuracy: 0.5711 - precision: 0.7503 - ccent: 1.1209 - recall: 0.3643 - val_loss: 0.9668 - val_accuracy: 0.6431 - val_precision: 0.8081 - val_ccent: 0.9668 - val_recall: 0.4105 - lr: 0.0010\n",
      "Epoch 4/40\n",
      "939/939 [==============================] - 19s 21ms/step - loss: 1.0192 - accuracy: 0.6129 - precision: 0.7601 - ccent: 1.0192 - recall: 0.4433 - val_loss: 0.9228 - val_accuracy: 0.6650 - val_precision: 0.8518 - val_ccent: 0.9228 - val_recall: 0.4630 - lr: 0.0010\n",
      "Epoch 5/40\n",
      "939/939 [==============================] - 19s 20ms/step - loss: 0.9359 - accuracy: 0.6452 - precision: 0.7732 - ccent: 0.9359 - recall: 0.4963 - val_loss: 0.7463 - val_accuracy: 0.7353 - val_precision: 0.8602 - val_ccent: 0.7463 - val_recall: 0.5557 - lr: 0.0010\n",
      "Epoch 6/40\n",
      "939/939 [==============================] - 19s 21ms/step - loss: 0.8720 - accuracy: 0.6686 - precision: 0.7793 - ccent: 0.8720 - recall: 0.5401 - val_loss: 0.7034 - val_accuracy: 0.7521 - val_precision: 0.8649 - val_ccent: 0.7034 - val_recall: 0.6068 - lr: 0.0010\n",
      "Epoch 7/40\n",
      "939/939 [==============================] - 19s 20ms/step - loss: 0.8210 - accuracy: 0.6892 - precision: 0.7902 - ccent: 0.8210 - recall: 0.5735 - val_loss: 0.6654 - val_accuracy: 0.7663 - val_precision: 0.8649 - val_ccent: 0.6654 - val_recall: 0.6282 - lr: 0.0010\n",
      "Epoch 8/40\n",
      "939/939 [==============================] - 19s 20ms/step - loss: 0.7779 - accuracy: 0.7047 - precision: 0.7948 - ccent: 0.7779 - recall: 0.5994 - val_loss: 0.5942 - val_accuracy: 0.7810 - val_precision: 0.8687 - val_ccent: 0.5942 - val_recall: 0.6763 - lr: 0.0010\n",
      "Epoch 9/40\n",
      "939/939 [==============================] - 19s 20ms/step - loss: 0.7473 - accuracy: 0.7168 - precision: 0.8033 - ccent: 0.7473 - recall: 0.6215 - val_loss: 0.6114 - val_accuracy: 0.7826 - val_precision: 0.8718 - val_ccent: 0.6114 - val_recall: 0.6827 - lr: 0.0010\n",
      "Epoch 10/40\n",
      "939/939 [==============================] - 19s 20ms/step - loss: 0.7307 - accuracy: 0.7257 - precision: 0.8075 - ccent: 0.7307 - recall: 0.6300 - val_loss: 0.5749 - val_accuracy: 0.7949 - val_precision: 0.8954 - val_ccent: 0.5749 - val_recall: 0.6896 - lr: 0.0010\n",
      "Epoch 11/40\n",
      "939/939 [==============================] - 19s 20ms/step - loss: 0.6995 - accuracy: 0.7317 - precision: 0.8122 - ccent: 0.6995 - recall: 0.6478 - val_loss: 0.5476 - val_accuracy: 0.8065 - val_precision: 0.8928 - val_ccent: 0.5476 - val_recall: 0.6931 - lr: 0.0010\n",
      "Epoch 12/40\n",
      "939/939 [==============================] - 19s 20ms/step - loss: 0.6825 - accuracy: 0.7389 - precision: 0.8152 - ccent: 0.6825 - recall: 0.6576 - val_loss: 0.5189 - val_accuracy: 0.8140 - val_precision: 0.9029 - val_ccent: 0.5189 - val_recall: 0.7193 - lr: 0.0010\n",
      "Epoch 13/40\n",
      "939/939 [==============================] - 19s 20ms/step - loss: 0.6597 - accuracy: 0.7512 - precision: 0.8216 - ccent: 0.6597 - recall: 0.6731 - val_loss: 0.4654 - val_accuracy: 0.8306 - val_precision: 0.8925 - val_ccent: 0.4654 - val_recall: 0.7628 - lr: 0.0010\n",
      "Epoch 14/40\n",
      "939/939 [==============================] - 19s 20ms/step - loss: 0.6468 - accuracy: 0.7552 - precision: 0.8246 - ccent: 0.6468 - recall: 0.6812 - val_loss: 0.5428 - val_accuracy: 0.7788 - val_precision: 0.8589 - val_ccent: 0.5428 - val_recall: 0.7197 - lr: 0.0010\n",
      "Epoch 15/40\n",
      "939/939 [==============================] - 19s 20ms/step - loss: 0.6264 - accuracy: 0.7614 - precision: 0.8272 - ccent: 0.6264 - recall: 0.6906 - val_loss: 0.4566 - val_accuracy: 0.8321 - val_precision: 0.8942 - val_ccent: 0.4566 - val_recall: 0.7652 - lr: 0.0010\n",
      "Epoch 16/40\n",
      "939/939 [==============================] - 19s 20ms/step - loss: 0.6135 - accuracy: 0.7685 - precision: 0.8307 - ccent: 0.6135 - recall: 0.7009 - val_loss: 0.4606 - val_accuracy: 0.8378 - val_precision: 0.9106 - val_ccent: 0.4606 - val_recall: 0.7530 - lr: 0.0010\n",
      "Epoch 17/40\n",
      "939/939 [==============================] - 19s 20ms/step - loss: 0.6122 - accuracy: 0.7683 - precision: 0.8317 - ccent: 0.6122 - recall: 0.7025 - val_loss: 0.4384 - val_accuracy: 0.8469 - val_precision: 0.9108 - val_ccent: 0.4384 - val_recall: 0.7754 - lr: 0.0010\n",
      "Epoch 18/40\n",
      "939/939 [==============================] - 19s 20ms/step - loss: 0.5844 - accuracy: 0.7774 - precision: 0.8370 - ccent: 0.5844 - recall: 0.7159 - val_loss: 0.4404 - val_accuracy: 0.8411 - val_precision: 0.9050 - val_ccent: 0.4404 - val_recall: 0.7767 - lr: 0.0010\n",
      "Epoch 19/40\n",
      "939/939 [==============================] - 19s 20ms/step - loss: 0.5859 - accuracy: 0.7777 - precision: 0.8370 - ccent: 0.5859 - recall: 0.7180 - val_loss: 0.4331 - val_accuracy: 0.8422 - val_precision: 0.9040 - val_ccent: 0.4331 - val_recall: 0.7740 - lr: 0.0010\n",
      "Epoch 20/40\n",
      "939/939 [==============================] - 19s 20ms/step - loss: 0.5749 - accuracy: 0.7855 - precision: 0.8406 - ccent: 0.5749 - recall: 0.7250 - val_loss: 0.4173 - val_accuracy: 0.8495 - val_precision: 0.9092 - val_ccent: 0.4173 - val_recall: 0.7964 - lr: 0.0010\n",
      "Epoch 21/40\n",
      "939/939 [==============================] - 19s 20ms/step - loss: 0.5695 - accuracy: 0.7852 - precision: 0.8423 - ccent: 0.5695 - recall: 0.7294 - val_loss: 0.4297 - val_accuracy: 0.8514 - val_precision: 0.9209 - val_ccent: 0.4297 - val_recall: 0.7767 - lr: 0.0010\n",
      "Epoch 22/40\n",
      "939/939 [==============================] - 19s 20ms/step - loss: 0.5621 - accuracy: 0.7858 - precision: 0.8424 - ccent: 0.5621 - recall: 0.7310 - val_loss: 0.4147 - val_accuracy: 0.8622 - val_precision: 0.9265 - val_ccent: 0.4147 - val_recall: 0.7888 - lr: 0.0010\n",
      "Epoch 23/40\n",
      "939/939 [==============================] - 19s 20ms/step - loss: 0.5495 - accuracy: 0.7915 - precision: 0.8455 - ccent: 0.5495 - recall: 0.7350 - val_loss: 0.3715 - val_accuracy: 0.8715 - val_precision: 0.9200 - val_ccent: 0.3715 - val_recall: 0.8130 - lr: 0.0010\n",
      "Epoch 24/40\n",
      "939/939 [==============================] - 19s 20ms/step - loss: 0.5360 - accuracy: 0.7981 - precision: 0.8498 - ccent: 0.5360 - recall: 0.7446 - val_loss: 0.3736 - val_accuracy: 0.8694 - val_precision: 0.9096 - val_ccent: 0.3736 - val_recall: 0.8198 - lr: 0.0010\n",
      "Epoch 25/40\n",
      "939/939 [==============================] - 19s 20ms/step - loss: 0.5271 - accuracy: 0.8025 - precision: 0.8524 - ccent: 0.5271 - recall: 0.7489 - val_loss: 0.3692 - val_accuracy: 0.8727 - val_precision: 0.9221 - val_ccent: 0.3692 - val_recall: 0.8153 - lr: 0.0010\n",
      "Epoch 26/40\n",
      "939/939 [==============================] - 19s 20ms/step - loss: 0.5247 - accuracy: 0.8042 - precision: 0.8550 - ccent: 0.5247 - recall: 0.7530 - val_loss: 0.3530 - val_accuracy: 0.8780 - val_precision: 0.9215 - val_ccent: 0.3530 - val_recall: 0.8258 - lr: 0.0010\n",
      "Epoch 27/40\n",
      "939/939 [==============================] - 19s 20ms/step - loss: 0.5166 - accuracy: 0.8055 - precision: 0.8530 - ccent: 0.5166 - recall: 0.7549 - val_loss: 0.3768 - val_accuracy: 0.8581 - val_precision: 0.9122 - val_ccent: 0.3768 - val_recall: 0.8083 - lr: 0.0010\n",
      "Epoch 28/40\n",
      "939/939 [==============================] - 19s 20ms/step - loss: 0.5172 - accuracy: 0.8041 - precision: 0.8505 - ccent: 0.5172 - recall: 0.7548 - val_loss: 0.3590 - val_accuracy: 0.8763 - val_precision: 0.9291 - val_ccent: 0.3590 - val_recall: 0.8252 - lr: 0.0010\n",
      "Epoch 29/40\n",
      "939/939 [==============================] - 19s 20ms/step - loss: 0.5091 - accuracy: 0.8097 - precision: 0.8553 - ccent: 0.5091 - recall: 0.7618 - val_loss: 0.3243 - val_accuracy: 0.8846 - val_precision: 0.9231 - val_ccent: 0.3243 - val_recall: 0.8474 - lr: 0.0010\n",
      "Epoch 30/40\n",
      "939/939 [==============================] - 19s 20ms/step - loss: 0.5029 - accuracy: 0.8125 - precision: 0.8581 - ccent: 0.5029 - recall: 0.7631 - val_loss: 0.3516 - val_accuracy: 0.8835 - val_precision: 0.9297 - val_ccent: 0.3516 - val_recall: 0.8274 - lr: 0.0010\n",
      "Epoch 31/40\n",
      "939/939 [==============================] - 19s 20ms/step - loss: 0.4936 - accuracy: 0.8127 - precision: 0.8588 - ccent: 0.4936 - recall: 0.7672 - val_loss: 0.3567 - val_accuracy: 0.8726 - val_precision: 0.9244 - val_ccent: 0.3567 - val_recall: 0.8224 - lr: 0.0010\n",
      "Epoch 32/40\n",
      "937/939 [============================>.] - ETA: 0s - loss: 0.4899 - accuracy: 0.8165 - precision: 0.8609 - ccent: 0.4899 - recall: 0.7730\n",
      "Epoch 00032: ReduceLROnPlateau reducing learning rate to 0.00010000000474974513.\n",
      "939/939 [==============================] - 19s 20ms/step - loss: 0.4901 - accuracy: 0.8165 - precision: 0.8609 - ccent: 0.4901 - recall: 0.7730 - val_loss: 0.3680 - val_accuracy: 0.8672 - val_precision: 0.9134 - val_ccent: 0.3680 - val_recall: 0.8149 - lr: 0.0010\n",
      "Epoch 33/40\n",
      "939/939 [==============================] - 19s 20ms/step - loss: 0.4132 - accuracy: 0.8434 - precision: 0.8822 - ccent: 0.4132 - recall: 0.8049 - val_loss: 0.2929 - val_accuracy: 0.9013 - val_precision: 0.9374 - val_ccent: 0.2929 - val_recall: 0.8587 - lr: 1.0000e-04\n",
      "Epoch 34/40\n",
      "939/939 [==============================] - 19s 20ms/step - loss: 0.4011 - accuracy: 0.8479 - precision: 0.8846 - ccent: 0.4011 - recall: 0.8122 - val_loss: 0.2855 - val_accuracy: 0.9039 - val_precision: 0.9380 - val_ccent: 0.2855 - val_recall: 0.8658 - lr: 1.0000e-04\n",
      "Epoch 35/40\n",
      "939/939 [==============================] - 19s 20ms/step - loss: 0.3861 - accuracy: 0.8556 - precision: 0.8925 - ccent: 0.3861 - recall: 0.8190 - val_loss: 0.2780 - val_accuracy: 0.9053 - val_precision: 0.9399 - val_ccent: 0.2780 - val_recall: 0.8678 - lr: 1.0000e-04\n",
      "Epoch 36/40\n",
      "939/939 [==============================] - 19s 20ms/step - loss: 0.3854 - accuracy: 0.8537 - precision: 0.8891 - ccent: 0.3854 - recall: 0.8200 - val_loss: 0.2714 - val_accuracy: 0.9087 - val_precision: 0.9401 - val_ccent: 0.2714 - val_recall: 0.8742 - lr: 1.0000e-04\n",
      "Epoch 37/40\n",
      "939/939 [==============================] - 20s 21ms/step - loss: 0.3773 - accuracy: 0.8584 - precision: 0.8915 - ccent: 0.3773 - recall: 0.8255 - val_loss: 0.2698 - val_accuracy: 0.9085 - val_precision: 0.9403 - val_ccent: 0.2698 - val_recall: 0.8727 - lr: 1.0000e-04\n",
      "Epoch 38/40\n",
      "939/939 [==============================] - 19s 21ms/step - loss: 0.3833 - accuracy: 0.8556 - precision: 0.8894 - ccent: 0.3833 - recall: 0.8228 - val_loss: 0.2656 - val_accuracy: 0.9089 - val_precision: 0.9395 - val_ccent: 0.2656 - val_recall: 0.8724 - lr: 1.0000e-04\n",
      "Epoch 39/40\n",
      "939/939 [==============================] - 19s 20ms/step - loss: 0.3793 - accuracy: 0.8568 - precision: 0.8906 - ccent: 0.3793 - recall: 0.8240 - val_loss: 0.2637 - val_accuracy: 0.9079 - val_precision: 0.9407 - val_ccent: 0.2637 - val_recall: 0.8743 - lr: 1.0000e-04\n",
      "Epoch 40/40\n",
      "939/939 [==============================] - 20s 21ms/step - loss: 0.3816 - accuracy: 0.8538 - precision: 0.8868 - ccent: 0.3816 - recall: 0.8199 - val_loss: 0.2647 - val_accuracy: 0.9107 - val_precision: 0.9416 - val_ccent: 0.2647 - val_recall: 0.8754 - lr: 1.0000e-04\n"
     ]
    }
   ],
   "source": [
    "\n",
    "early_stop = EarlyStopping(monitor='val_loss', patience=8, verbose=1,mode='auto')\n",
    "tensorboard=TensorBoard(log_dir='./logs/{}'.format(NAME)) ## logs are under logs folder for tensorboard\n",
    "                            \n",
    "batch_size = 32 \n",
    "epochs = 40\n",
    "\n",
    "learning_rate = ReduceLROnPlateau(monitor='val_loss', factor=0.1, patience=3, verbose=1, mode='auto')\n",
    "\n",
    "history = model.fit(x_train, y_train, validation_split=0.2, batch_size = batch_size, \n",
    "                     epochs = epochs,callbacks = [learning_rate, early_stop, tensorboard])\n",
    "\n",
    "\n",
    "# If you choosed to use class weight:\n",
    "# history = model.fit(x_train, y_train, validation_split=0.2, batch_size = batch_size, class_weight=class_weights,\n",
    "#                      epochs = epochs,callbacks = [learning_rate, early_stop, tensorboard])"
   ]
  },
  {
   "cell_type": "markdown",
   "metadata": {},
   "source": [
    "#### Evaluating Model"
   ]
  },
  {
   "cell_type": "code",
   "execution_count": 18,
   "metadata": {},
   "outputs": [
    {
     "name": "stdout",
     "output_type": "stream",
     "text": [
      "294/294 [==============================] - 3s 11ms/step - loss: 0.2702 - accuracy: 0.9076 - precision: 0.9412 - ccent: 0.2702 - recall: 0.8704\n",
      "Accuracy: 0.9076382517814636\n"
     ]
    },
    {
     "data": {
      "image/png": "[encoded data removed]",
      "text/plain": [
       "<Figure size 432x288 with 1 Axes>"
      ]
     },
     "metadata": {
      "needs_background": "light"
     },
     "output_type": "display_data"
    },
    {
     "data": {
      "image/png": "[encoded data removed]",
      "text/plain": [
       "<Figure size 432x288 with 1 Axes>"
      ]
     },
     "metadata": {
      "needs_background": "light"
     },
     "output_type": "display_data"
    }
   ],
   "source": [
    "score = model.evaluate(x_test, y_test)\n",
    "print('Accuracy:', score[1])\n",
    "\n",
    "\n",
    "#Plot the training and validation accuracy and loss \n",
    "loss = history.history['loss']\n",
    "val_loss = history.history['val_loss']\n",
    "epochs = range(1, len(loss) + 1)\n",
    "plt.plot(epochs, loss, 'y', label='Training loss')\n",
    "plt.plot(epochs, val_loss, 'r', label='Validation loss')\n",
    "plt.title('Training and validation loss')\n",
    "plt.xlabel('Epochs')\n",
    "plt.ylabel('Loss')\n",
    "plt.legend()\n",
    "plt.show()\n",
    "\n",
    "\n",
    "acc = history.history['precision']\n",
    "val_acc = history.history['val_precision']\n",
    "plt.plot(epochs, acc, 'y', label='Training pre')\n",
    "plt.plot(epochs, val_acc, 'r', label='Validation pre')\n",
    "plt.title('Training and validation precision')\n",
    "plt.xlabel('Epochs')\n",
    "plt.ylabel('Precision')\n",
    "plt.legend()\n",
    "plt.show()"
   ]
  },
  {
   "cell_type": "markdown",
   "metadata": {},
   "source": [
    "Calssification report and Confusion matrix"
   ]
  },
  {
   "cell_type": "code",
   "execution_count": 19,
   "metadata": {},
   "outputs": [
    {
     "name": "stdout",
     "output_type": "stream",
     "text": [
      "294/294 [==============================] - 2s 5ms/step\n",
      "[[1287    8    0    0    0    0    0]\n",
      " [   0 1315    3    0    4    1    0]\n",
      " [  30   75 1179    3   41   23    0]\n",
      " [   0    0    0 1392    0    0    0]\n",
      " [  14   15  135    0 1052   94    2]\n",
      " [  19   49  144    6  188  927   13]\n",
      " [   0    0    0    0    0    0 1368]]\n",
      "                                     precision    recall  f1-score   support\n",
      "\n",
      "          Actinic keratoses (akiec)       0.95      0.99      0.97      1295\n",
      "         Basal cell carcinoma (bcc)       0.90      0.99      0.94      1323\n",
      "Benign keratosis-like lesions (bkl)       0.81      0.87      0.84      1351\n",
      "                Dermatofibroma (df)       0.99      1.00      1.00      1392\n",
      "                     Melanoma (mel)       0.82      0.80      0.81      1312\n",
      "              Melanocytic nevi (nv)       0.89      0.69      0.78      1346\n",
      "            Vascular lesions (vasc)       0.99      1.00      0.99      1368\n",
      "\n",
      "                           accuracy                           0.91      9387\n",
      "                          macro avg       0.91      0.91      0.90      9387\n",
      "                       weighted avg       0.91      0.91      0.91      9387\n",
      "\n"
     ]
    },
    {
     "data": {
      "text/plain": [
       "<AxesSubplot:>"
      ]
     },
     "execution_count": 19,
     "metadata": {},
     "output_type": "execute_result"
    },
    {
     "data": {
      "image/png": "[encoded data removed]",
      "text/plain": [
       "<Figure size 720x720 with 2 Axes>"
      ]
     },
     "metadata": {
      "needs_background": "light"
     },
     "output_type": "display_data"
    }
   ],
   "source": [
    "y_pred = model.predict(x_test)\n",
    "y_pred_classes = np.argmax(y_pred, axis = 1) \n",
    "y_true = np.argmax(y_test, axis = 1) \n",
    "\n",
    "\n",
    "#Print confusion matrix\n",
    "cm = confusion_matrix(y_true, y_pred_classes)\n",
    "print(cm)\n",
    "#Print classification_report\n",
    "print(classification_report(y_true, y_pred_classes,target_names=labels.values()))\n",
    "fig, ax = plt.subplots(figsize=(10,10))\n",
    "sns.set(font_scale=1)\n",
    "sns.heatmap(cm, annot=True, linewidths=.5, ax=ax,fmt='g',cmap=\"YlGn\")"
   ]
  },
  {
   "cell_type": "markdown",
   "metadata": {},
   "source": [
    "Incorrect classifications"
   ]
  },
  {
   "cell_type": "code",
   "execution_count": 20,
   "metadata": {},
   "outputs": [
    {
     "data": {
      "text/plain": [
       "Text(0, 0.5, 'Percent of incorrect predictions')"
      ]
     },
     "execution_count": 20,
     "metadata": {},
     "output_type": "execute_result"
    },
    {
     "data": {
      "image/png": "[encoded data removed]",
      "text/plain": [
       "<Figure size 432x288 with 1 Axes>"
      ]
     },
     "metadata": {},
     "output_type": "display_data"
    }
   ],
   "source": [
    "incorr = 1 - np.diag(cm) / np.sum(cm, axis=1)\n",
    "plt.bar(np.arange(7), incorr)\n",
    "plt.xlabel('True')\n",
    "plt.ylabel('Percent of incorrect predictions')"
   ]
  },
  {
   "cell_type": "markdown",
   "metadata": {},
   "source": [
    "### Save the model and weights"
   ]
  },
  {
   "cell_type": "code",
   "execution_count": null,
   "metadata": {},
   "outputs": [],
   "source": [
    "model_json = model.to_json()\n",
    "with open(\"./model/modelmk.json\", \"w\") as json_file:\n",
    "    json_file.write(model_json)\n",
    "model.save_weights(\"./model/modelmk.h5\")"
   ]
  },
  {
   "cell_type": "markdown",
   "metadata": {},
   "source": [
    "----------"
   ]
  }
 ],
 "metadata": {
  "interpreter": {
   "hash": "66a43da4e70cc3f7b73382e30a4177bdcdabfb5ea46b21e7b3ca8c5de37a9ea1"
  },
  "kernelspec": {
   "display_name": "Python 3.10.2 ('moleenv': venv)",
   "language": "python",
   "name": "python3"
  },
  "language_info": {
   "codemirror_mode": {
    "name": "ipython",
    "version": 3
   },
   "file_extension": ".py",
   "mimetype": "text/x-python",
   "name": "python",
   "nbconvert_exporter": "python",
   "pygments_lexer": "ipython3",
   "version": "3.10.2"
  },
  "orig_nbformat": 4
 },
 "nbformat": 4,
 "nbformat_minor": 2
}
