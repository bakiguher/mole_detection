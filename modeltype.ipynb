{
 "cells": [
  {
   "cell_type": "markdown",
   "metadata": {},
   "source": [
    "# MOLE DETECTION  -- Mole Type --"
   ]
  },
  {
   "cell_type": "markdown",
   "metadata": {},
   "source": [
    "#### Import Necessary Libraries"
   ]
  },
  {
   "cell_type": "code",
   "execution_count": 46,
   "metadata": {},
   "outputs": [],
   "source": [
    "import numpy as np\n",
    "import pandas as pd\n",
    "import os\n",
    "from glob import glob\n",
    "import seaborn as sns\n",
    "import matplotlib.pyplot as plt\n",
    "from PIL import Image\n",
    "\n",
    "from sklearn.metrics import confusion_matrix,classification_report\n",
    "from sklearn.model_selection import train_test_split\n",
    "from sklearn.preprocessing import LabelEncoder\n",
    "from sklearn.utils import class_weight\n",
    "\n",
    "\n",
    "import keras\n",
    "from keras.utils.np_utils import to_categorical \n",
    "from keras.models import Sequential\n",
    "from keras.layers import Dense, Dropout, Flatten, Conv2D, MaxPool2D, BatchNormalization\n",
    "from tensorflow.python.keras.callbacks import ReduceLROnPlateau, EarlyStopping\n"
   ]
  },
  {
   "cell_type": "markdown",
   "metadata": {},
   "source": [
    "#### Constants"
   ]
  },
  {
   "cell_type": "code",
   "execution_count": 47,
   "metadata": {},
   "outputs": [],
   "source": [
    "lesion_type_dict = {\n",
    "    'nv': 'Melanocytic nevi (nv)',\n",
    "    'mel': 'Melanoma (mel)',\n",
    "    'bkl': 'Benign keratosis-like lesions (bkl)',\n",
    "    'bcc': 'Basal cell carcinoma (bcc)',\n",
    "    'akiec': 'Actinic keratoses (akiec)',\n",
    "    'vasc': 'Vascular lesions (vasc)',\n",
    "    'df': 'Dermatofibroma (df)'\n",
    "}\n",
    "label_mapping = {\n",
    "    0: 'akiec',\n",
    "    1: 'bcc',\n",
    "    2: 'bkl',\n",
    "    3: 'df',\n",
    "    4: 'mel',\n",
    "    5: 'nv',\n",
    "    6: 'vasc'\n",
    "}\n",
    "labels = {\n",
    "    0: 'Actinic keratoses (akiec)',\n",
    "    1: 'Basal cell carcinoma (bcc)',\n",
    "    2: 'Benign keratosis-like lesions (bkl)',\n",
    "    3: 'Dermatofibroma (df)',\n",
    "    4: 'Melanoma (mel)',\n",
    "    5: 'Melanocytic nevi (nv)',\n",
    "    6: 'Vascular lesions (vasc)',\n",
    "}\n",
    "int_label_mapping = dict((value, key) for key, value in label_mapping.items())\n",
    "\n",
    "SIZE=32  # image size"
   ]
  },
  {
   "cell_type": "markdown",
   "metadata": {},
   "source": [
    "#### Read the data"
   ]
  },
  {
   "cell_type": "code",
   "execution_count": 71,
   "metadata": {},
   "outputs": [
    {
     "name": "stdout",
     "output_type": "stream",
     "text": [
      "['akiec', 'bcc', 'bkl', 'df', 'mel', 'nv', 'vasc']\n"
     ]
    }
   ],
   "source": [
    "\n",
    "data = pd.read_csv('data/HAM10000_metadata.csv')\n",
    "\n",
    "labele = LabelEncoder()\n",
    "labele.fit(data['dx'])\n",
    "data['label'] = labele.transform(data[\"dx\"]) \n",
    "\n",
    "print(list(labele.classes_))\n",
    "\n"
   ]
  },
  {
   "cell_type": "markdown",
   "metadata": {},
   "source": [
    "### Class weights or resampling"
   ]
  },
  {
   "cell_type": "code",
   "execution_count": 72,
   "metadata": {},
   "outputs": [
    {
     "data": {
      "text/plain": [
       "{0: 4.375273044997815,\n",
       " 1: 2.78349082823791,\n",
       " 2: 1.301832835044846,\n",
       " 3: 12.440993788819876,\n",
       " 4: 1.2854575792581184,\n",
       " 5: 0.21338020666879728,\n",
       " 6: 10.075452716297788}"
      ]
     },
     "execution_count": 72,
     "metadata": {},
     "output_type": "execute_result"
    }
   ],
   "source": [
    "#Class Weights\n",
    "y=data['label']\n",
    "class_weights = dict(zip(np.unique(y), class_weight.compute_class_weight(class_weight='balanced',classes=np.unique(y), \n",
    "                y=y))) \n",
    "\n",
    "class_weights\n"
   ]
  },
  {
   "cell_type": "code",
   "execution_count": 73,
   "metadata": {},
   "outputs": [
    {
     "name": "stdout",
     "output_type": "stream",
     "text": [
      "5    6705\n",
      "4    1113\n",
      "2    1099\n",
      "1     514\n",
      "0     327\n",
      "6     142\n",
      "3     115\n",
      "Name: label, dtype: int64\n",
      "0    500\n",
      "1    500\n",
      "2    500\n",
      "3    500\n",
      "4    500\n",
      "5    500\n",
      "6    500\n",
      "Name: label, dtype: int64\n"
     ]
    }
   ],
   "source": [
    "#resampling\n",
    "n_samples=500\n",
    "\n",
    "\n",
    "from sklearn.utils import resample\n",
    "print(data['label'].value_counts())\n",
    "\n",
    "# Balancing the data\n",
    "# tried balancing with class weights and imageprocessing best results came with resampling\n",
    "\n",
    "\n",
    "df_0 = data[data['label'] == 0]\n",
    "df_1 = data[data['label'] == 1]\n",
    "df_2 = data[data['label'] == 2]\n",
    "df_3 = data[data['label'] == 3]\n",
    "df_4 = data[data['label'] == 4]\n",
    "df_5 = data[data['label'] == 5]\n",
    "df_6 = data[data['label'] == 6]\n",
    "\n",
    "\n",
    "df_0_balanced = resample(df_0, replace=True, n_samples=n_samples, random_state=42) \n",
    "df_1_balanced = resample(df_1, replace=True, n_samples=n_samples, random_state=42) \n",
    "df_2_balanced = resample(df_2, replace=True, n_samples=n_samples, random_state=42)\n",
    "df_3_balanced = resample(df_3, replace=True, n_samples=n_samples, random_state=42)\n",
    "df_4_balanced = resample(df_4, replace=True, n_samples=n_samples, random_state=42)\n",
    "df_5_balanced = resample(df_5, replace=True, n_samples=n_samples, random_state=42)\n",
    "df_6_balanced = resample(df_6, replace=True, n_samples=n_samples, random_state=42)\n",
    "\n",
    "#Combined back to a single dataframe\n",
    "data_balanced = pd.concat([df_0_balanced, df_1_balanced, \n",
    "                              df_2_balanced, df_3_balanced, \n",
    "                              df_4_balanced, df_5_balanced, df_6_balanced])\n",
    "\n",
    "print(data_balanced['label'].value_counts())"
   ]
  },
  {
   "cell_type": "code",
   "execution_count": 74,
   "metadata": {},
   "outputs": [],
   "source": [
    "data=data_balanced"
   ]
  },
  {
   "cell_type": "code",
   "execution_count": 75,
   "metadata": {},
   "outputs": [],
   "source": [
    "data['path'] = './data/HAM10000_images/' + data['image_id'] +\".jpg\""
   ]
  },
  {
   "cell_type": "code",
   "execution_count": 76,
   "metadata": {},
   "outputs": [],
   "source": [
    "#Use the path to read images.\n",
    "data['image'] = data['path'].map(lambda x: np.asarray(Image.open(x).resize((SIZE,SIZE))))\n",
    "\n",
    "\n"
   ]
  },
  {
   "cell_type": "markdown",
   "metadata": {},
   "source": [
    "## Create Model "
   ]
  },
  {
   "cell_type": "code",
   "execution_count": 78,
   "metadata": {},
   "outputs": [
    {
     "name": "stdout",
     "output_type": "stream",
     "text": [
      "Model: \"sequential_8\"\n",
      "_________________________________________________________________\n",
      " Layer (type)                Output Shape              Param #   \n",
      "=================================================================\n",
      " conv2d_24 (Conv2D)          (None, 30, 30, 256)       7168      \n",
      "                                                                 \n",
      " max_pooling2d_24 (MaxPoolin  (None, 15, 15, 256)      0         \n",
      " g2D)                                                            \n",
      "                                                                 \n",
      " dropout_24 (Dropout)        (None, 15, 15, 256)       0         \n",
      "                                                                 \n",
      " conv2d_25 (Conv2D)          (None, 13, 13, 128)       295040    \n",
      "                                                                 \n",
      " max_pooling2d_25 (MaxPoolin  (None, 6, 6, 128)        0         \n",
      " g2D)                                                            \n",
      "                                                                 \n",
      " dropout_25 (Dropout)        (None, 6, 6, 128)         0         \n",
      "                                                                 \n",
      " conv2d_26 (Conv2D)          (None, 4, 4, 64)          73792     \n",
      "                                                                 \n",
      " max_pooling2d_26 (MaxPoolin  (None, 2, 2, 64)         0         \n",
      " g2D)                                                            \n",
      "                                                                 \n",
      " dropout_26 (Dropout)        (None, 2, 2, 64)          0         \n",
      "                                                                 \n",
      " flatten_8 (Flatten)         (None, 256)               0         \n",
      "                                                                 \n",
      " dense_17 (Dense)            (None, 32)                8224      \n",
      "                                                                 \n",
      " dense_18 (Dense)            (None, 7)                 231       \n",
      "                                                                 \n",
      "=================================================================\n",
      "Total params: 384,455\n",
      "Trainable params: 384,455\n",
      "Non-trainable params: 0\n",
      "_________________________________________________________________\n"
     ]
    }
   ],
   "source": [
    "#Convert dataframe column of image data to array\n",
    "X = np.asarray(data['image'].tolist())\n",
    "X = X/255. \n",
    "Y=data['label']  #\n",
    "Y_cat = to_categorical(Y, num_classes=7) #Convert to categorical \n",
    "\n",
    "x_train, x_test, y_train, y_test = train_test_split(X, Y_cat, test_size=0.20, random_state=42)\n",
    "\n",
    "#model.\n",
    "\n",
    "#num_classes = 7\n",
    "\n",
    "model = Sequential()\n",
    "model.add(Conv2D(256, (3, 3), activation=\"relu\", input_shape=(SIZE, SIZE, 3)))\n",
    "model.add(MaxPool2D(pool_size=(2, 2)))  \n",
    "model.add(Dropout(0.3))\n",
    "\n",
    "model.add(Conv2D(128, (3, 3),activation='relu'))\n",
    "model.add(MaxPool2D(pool_size=(2, 2)))  \n",
    "model.add(Dropout(0.3))\n",
    "\n",
    "model.add(Conv2D(64, (3, 3),activation='relu'))\n",
    "model.add(MaxPool2D(pool_size=(2, 2)))  \n",
    "model.add(Dropout(0.3))\n",
    "model.add(Flatten())\n",
    "\n",
    "model.add(Dense(32))\n",
    "model.add(Dense(7, activation='softmax'))\n",
    "model.summary()\n",
    "\n",
    "model.compile(loss='categorical_crossentropy', optimizer='Adam', metrics=['acc'])"
   ]
  },
  {
   "cell_type": "markdown",
   "metadata": {},
   "source": [
    "#### Defigning callbacks and fitting the model"
   ]
  },
  {
   "cell_type": "code",
   "execution_count": 80,
   "metadata": {},
   "outputs": [
    {
     "name": "stdout",
     "output_type": "stream",
     "text": [
      "Epoch 1/50\n",
      "140/140 [==============================] - 4s 22ms/step - loss: 1.9384 - acc: 0.1839 - val_loss: 1.8334 - val_acc: 0.2554 - lr: 0.0010\n",
      "Epoch 2/50\n",
      "140/140 [==============================] - 3s 21ms/step - loss: 1.7834 - acc: 0.2545 - val_loss: 1.7461 - val_acc: 0.2839 - lr: 0.0010\n",
      "Epoch 3/50\n",
      "140/140 [==============================] - 3s 21ms/step - loss: 1.7227 - acc: 0.2830 - val_loss: 1.7334 - val_acc: 0.2857 - lr: 0.0010\n",
      "Epoch 4/50\n",
      "140/140 [==============================] - 3s 21ms/step - loss: 1.6018 - acc: 0.3420 - val_loss: 1.5515 - val_acc: 0.3643 - lr: 0.0010\n",
      "Epoch 5/50\n",
      "140/140 [==============================] - 3s 20ms/step - loss: 1.5079 - acc: 0.3732 - val_loss: 1.4546 - val_acc: 0.4393 - lr: 0.0010\n",
      "Epoch 6/50\n",
      "140/140 [==============================] - 3s 20ms/step - loss: 1.4341 - acc: 0.4187 - val_loss: 1.3797 - val_acc: 0.4518 - lr: 0.0010\n",
      "Epoch 7/50\n",
      "140/140 [==============================] - 3s 20ms/step - loss: 1.3861 - acc: 0.4536 - val_loss: 1.5258 - val_acc: 0.3839 - lr: 0.0010\n",
      "Epoch 8/50\n",
      "140/140 [==============================] - 3s 20ms/step - loss: 1.3475 - acc: 0.4647 - val_loss: 1.3234 - val_acc: 0.5125 - lr: 0.0010\n",
      "Epoch 9/50\n",
      "140/140 [==============================] - 3s 20ms/step - loss: 1.3187 - acc: 0.4866 - val_loss: 1.3129 - val_acc: 0.5161 - lr: 0.0010\n",
      "Epoch 10/50\n",
      "140/140 [==============================] - 3s 20ms/step - loss: 1.2690 - acc: 0.4955 - val_loss: 1.4032 - val_acc: 0.4554 - lr: 0.0010\n",
      "Epoch 11/50\n",
      "140/140 [==============================] - 3s 19ms/step - loss: 1.2632 - acc: 0.4920 - val_loss: 1.2358 - val_acc: 0.5536 - lr: 0.0010\n",
      "Epoch 12/50\n",
      "140/140 [==============================] - 3s 20ms/step - loss: 1.2253 - acc: 0.5085 - val_loss: 1.2006 - val_acc: 0.5679 - lr: 0.0010\n",
      "Epoch 13/50\n",
      "140/140 [==============================] - 3s 20ms/step - loss: 1.1981 - acc: 0.5254 - val_loss: 1.1823 - val_acc: 0.5643 - lr: 0.0010\n",
      "Epoch 14/50\n",
      "140/140 [==============================] - 3s 20ms/step - loss: 1.1645 - acc: 0.5357 - val_loss: 1.1774 - val_acc: 0.5768 - lr: 0.0010\n",
      "Epoch 15/50\n",
      "140/140 [==============================] - 3s 19ms/step - loss: 1.1709 - acc: 0.5344 - val_loss: 1.1425 - val_acc: 0.5946 - lr: 0.0010\n",
      "Epoch 16/50\n",
      "140/140 [==============================] - 3s 20ms/step - loss: 1.1710 - acc: 0.5348 - val_loss: 1.2471 - val_acc: 0.5250 - lr: 0.0010\n",
      "Epoch 17/50\n",
      "140/140 [==============================] - 3s 20ms/step - loss: 1.1238 - acc: 0.5469 - val_loss: 1.2137 - val_acc: 0.5643 - lr: 0.0010\n",
      "Epoch 18/50\n",
      "138/140 [============================>.] - ETA: 0s - loss: 1.0902 - acc: 0.5820\n",
      "Epoch 00018: ReduceLROnPlateau reducing learning rate to 0.00010000000474974513.\n",
      "140/140 [==============================] - 3s 21ms/step - loss: 1.0912 - acc: 0.5817 - val_loss: 1.2407 - val_acc: 0.5125 - lr: 0.0010\n",
      "Epoch 19/50\n",
      "140/140 [==============================] - 3s 21ms/step - loss: 1.0344 - acc: 0.5978 - val_loss: 1.0872 - val_acc: 0.6107 - lr: 1.0000e-04\n",
      "Epoch 20/50\n",
      "140/140 [==============================] - 3s 20ms/step - loss: 0.9961 - acc: 0.6138 - val_loss: 1.0694 - val_acc: 0.6089 - lr: 1.0000e-04\n",
      "Epoch 21/50\n",
      "140/140 [==============================] - 3s 21ms/step - loss: 1.0002 - acc: 0.6036 - val_loss: 1.0642 - val_acc: 0.6214 - lr: 1.0000e-04\n",
      "Epoch 22/50\n",
      "140/140 [==============================] - 3s 20ms/step - loss: 0.9939 - acc: 0.6058 - val_loss: 1.0727 - val_acc: 0.6143 - lr: 1.0000e-04\n",
      "Epoch 23/50\n",
      "140/140 [==============================] - 3s 21ms/step - loss: 0.9914 - acc: 0.6112 - val_loss: 1.0661 - val_acc: 0.6143 - lr: 1.0000e-04\n",
      "Epoch 24/50\n",
      "140/140 [==============================] - 3s 20ms/step - loss: 0.9793 - acc: 0.6232 - val_loss: 1.0501 - val_acc: 0.6232 - lr: 1.0000e-04\n",
      "Epoch 25/50\n",
      "140/140 [==============================] - 3s 20ms/step - loss: 0.9688 - acc: 0.6170 - val_loss: 1.0562 - val_acc: 0.6286 - lr: 1.0000e-04\n",
      "Epoch 26/50\n",
      "140/140 [==============================] - 3s 21ms/step - loss: 0.9692 - acc: 0.6187 - val_loss: 1.0500 - val_acc: 0.6161 - lr: 1.0000e-04\n",
      "Epoch 27/50\n",
      "140/140 [==============================] - 3s 20ms/step - loss: 0.9660 - acc: 0.6179 - val_loss: 1.0448 - val_acc: 0.6357 - lr: 1.0000e-04\n",
      "Epoch 28/50\n",
      "140/140 [==============================] - 3s 21ms/step - loss: 0.9676 - acc: 0.6125 - val_loss: 1.0392 - val_acc: 0.6304 - lr: 1.0000e-04\n",
      "Epoch 29/50\n",
      "140/140 [==============================] - 3s 20ms/step - loss: 0.9595 - acc: 0.6237 - val_loss: 1.0369 - val_acc: 0.6429 - lr: 1.0000e-04\n",
      "Epoch 30/50\n",
      "140/140 [==============================] - 3s 21ms/step - loss: 0.9565 - acc: 0.6232 - val_loss: 1.0391 - val_acc: 0.6196 - lr: 1.0000e-04\n",
      "Epoch 31/50\n",
      "140/140 [==============================] - 3s 20ms/step - loss: 0.9402 - acc: 0.6304 - val_loss: 1.0424 - val_acc: 0.6125 - lr: 1.0000e-04\n",
      "Epoch 32/50\n",
      "140/140 [==============================] - 3s 20ms/step - loss: 0.9385 - acc: 0.6353 - val_loss: 1.0281 - val_acc: 0.6179 - lr: 1.0000e-04\n",
      "Epoch 33/50\n",
      "140/140 [==============================] - 3s 20ms/step - loss: 0.9372 - acc: 0.6366 - val_loss: 1.0352 - val_acc: 0.6304 - lr: 1.0000e-04\n",
      "Epoch 34/50\n",
      "140/140 [==============================] - 3s 21ms/step - loss: 0.9490 - acc: 0.6290 - val_loss: 1.0265 - val_acc: 0.6393 - lr: 1.0000e-04\n",
      "Epoch 35/50\n",
      "140/140 [==============================] - 3s 20ms/step - loss: 0.9419 - acc: 0.6295 - val_loss: 1.0212 - val_acc: 0.6393 - lr: 1.0000e-04\n",
      "Epoch 36/50\n",
      "140/140 [==============================] - 3s 20ms/step - loss: 0.9238 - acc: 0.6362 - val_loss: 1.0210 - val_acc: 0.6500 - lr: 1.0000e-04\n",
      "Epoch 37/50\n",
      "140/140 [==============================] - 3s 21ms/step - loss: 0.9222 - acc: 0.6420 - val_loss: 1.0241 - val_acc: 0.6643 - lr: 1.0000e-04\n",
      "Epoch 38/50\n",
      "140/140 [==============================] - 3s 20ms/step - loss: 0.9387 - acc: 0.6308 - val_loss: 1.0196 - val_acc: 0.6482 - lr: 1.0000e-04\n",
      "Epoch 39/50\n",
      "140/140 [==============================] - 3s 21ms/step - loss: 0.9318 - acc: 0.6330 - val_loss: 1.0215 - val_acc: 0.6482 - lr: 1.0000e-04\n",
      "Epoch 40/50\n",
      "140/140 [==============================] - 3s 20ms/step - loss: 0.9148 - acc: 0.6384 - val_loss: 1.0300 - val_acc: 0.6339 - lr: 1.0000e-04\n",
      "Epoch 41/50\n",
      "140/140 [==============================] - 3s 21ms/step - loss: 0.9216 - acc: 0.6393 - val_loss: 1.0159 - val_acc: 0.6339 - lr: 1.0000e-04\n",
      "Epoch 42/50\n",
      "140/140 [==============================] - 3s 20ms/step - loss: 0.9015 - acc: 0.6473 - val_loss: 1.0095 - val_acc: 0.6482 - lr: 1.0000e-04\n",
      "Epoch 43/50\n",
      "140/140 [==============================] - 3s 20ms/step - loss: 0.9062 - acc: 0.6438 - val_loss: 1.0169 - val_acc: 0.6321 - lr: 1.0000e-04\n",
      "Epoch 44/50\n",
      "140/140 [==============================] - 3s 21ms/step - loss: 0.9121 - acc: 0.6464 - val_loss: 1.0130 - val_acc: 0.6571 - lr: 1.0000e-04\n",
      "Epoch 45/50\n",
      "140/140 [==============================] - ETA: 0s - loss: 0.9025 - acc: 0.6478\n",
      "Epoch 00045: ReduceLROnPlateau reducing learning rate to 1.0000000474974514e-05.\n",
      "140/140 [==============================] - 3s 20ms/step - loss: 0.9025 - acc: 0.6478 - val_loss: 1.0153 - val_acc: 0.6429 - lr: 1.0000e-04\n",
      "Epoch 46/50\n",
      "140/140 [==============================] - 3s 21ms/step - loss: 0.8999 - acc: 0.6496 - val_loss: 1.0081 - val_acc: 0.6464 - lr: 1.0000e-05\n",
      "Epoch 47/50\n",
      "140/140 [==============================] - 3s 20ms/step - loss: 0.9051 - acc: 0.6424 - val_loss: 1.0078 - val_acc: 0.6411 - lr: 1.0000e-05\n",
      "Epoch 48/50\n",
      "140/140 [==============================] - 3s 21ms/step - loss: 0.9015 - acc: 0.6580 - val_loss: 1.0056 - val_acc: 0.6500 - lr: 1.0000e-05\n",
      "Epoch 49/50\n",
      "140/140 [==============================] - 3s 21ms/step - loss: 0.9052 - acc: 0.6442 - val_loss: 1.0040 - val_acc: 0.6429 - lr: 1.0000e-05\n",
      "Epoch 50/50\n",
      "140/140 [==============================] - 3s 20ms/step - loss: 0.8960 - acc: 0.6496 - val_loss: 1.0040 - val_acc: 0.6482 - lr: 1.0000e-05\n"
     ]
    }
   ],
   "source": [
    "\n",
    "early_stop = EarlyStopping(monitor='val_loss', patience=8, verbose=1,mode='auto')\n",
    "                            \n",
    "batch_size = 16 \n",
    "epochs = 50\n",
    "\n",
    "learning_rate = ReduceLROnPlateau(monitor='val_loss', factor=0.1, patience=3, verbose=1, mode='auto')\n",
    "\n",
    "history = model.fit(x_train, y_train, validation_split=0.2, batch_size = batch_size,  epochs = epochs,callbacks = [learning_rate, early_stop])\n",
    "#class_weight=class_weights,\n"
   ]
  },
  {
   "cell_type": "markdown",
   "metadata": {},
   "source": [
    "#### Evaluating Model"
   ]
  },
  {
   "cell_type": "code",
   "execution_count": 81,
   "metadata": {},
   "outputs": [
    {
     "name": "stdout",
     "output_type": "stream",
     "text": [
      "22/22 [==============================] - 0s 14ms/step - loss: 1.0046 - acc: 0.6429\n",
      "Accuracy: 0.6428571343421936\n"
     ]
    },
    {
     "data": {
      "image/png": "[encoded data removed]",
      "text/plain": [
       "<Figure size 432x288 with 1 Axes>"
      ]
     },
     "metadata": {},
     "output_type": "display_data"
    },
    {
     "data": {
      "image/png": "[encoded data removed]",
      "text/plain": [
       "<Figure size 432x288 with 1 Axes>"
      ]
     },
     "metadata": {},
     "output_type": "display_data"
    }
   ],
   "source": [
    "score = model.evaluate(x_test, y_test)\n",
    "print('Accuracy:', score[1])\n",
    "\n",
    "\n",
    "#Plot the training and validation accuracy and loss \n",
    "loss = history.history['loss']\n",
    "val_loss = history.history['val_loss']\n",
    "epochs = range(1, len(loss) + 1)\n",
    "plt.plot(epochs, loss, 'y', label='Training loss')\n",
    "plt.plot(epochs, val_loss, 'r', label='Validation loss')\n",
    "plt.title('Training and validation loss')\n",
    "plt.xlabel('Epochs')\n",
    "plt.ylabel('Loss')\n",
    "plt.legend()\n",
    "plt.show()\n",
    "\n",
    "\n",
    "acc = history.history['acc']\n",
    "val_acc = history.history['val_acc']\n",
    "plt.plot(epochs, acc, 'y', label='Training acc')\n",
    "plt.plot(epochs, val_acc, 'r', label='Validation acc')\n",
    "plt.title('Training and validation accuracy')\n",
    "plt.xlabel('Epochs')\n",
    "plt.ylabel('Accuracy')\n",
    "plt.legend()\n",
    "plt.show()"
   ]
  },
  {
   "cell_type": "markdown",
   "metadata": {},
   "source": [
    "#### Calssification report and Confusion matrix"
   ]
  },
  {
   "cell_type": "code",
   "execution_count": 82,
   "metadata": {},
   "outputs": [
    {
     "name": "stdout",
     "output_type": "stream",
     "text": [
      "22/22 [==============================] - 0s 15ms/step\n",
      "[[70 16 15 16  7  1  1]\n",
      " [16 52 17 15  2  0  3]\n",
      " [ 9  5 48  5 24  4  0]\n",
      " [ 9 13  3 73  3  0  0]\n",
      " [ 4  3 14  0 61  5  0]\n",
      " [ 2  4  8  2 18 54  1]\n",
      " [ 0  3  0  1  0  1 92]]\n",
      "                                     precision    recall  f1-score   support\n",
      "\n",
      "          Actinic keratoses (akiec)       0.64      0.56      0.59       126\n",
      "         Basal cell carcinoma (bcc)       0.54      0.50      0.52       105\n",
      "Benign keratosis-like lesions (bkl)       0.46      0.51      0.48        95\n",
      "                Dermatofibroma (df)       0.65      0.72      0.69       101\n",
      "                     Melanoma (mel)       0.53      0.70      0.60        87\n",
      "              Melanocytic nevi (nv)       0.83      0.61      0.70        89\n",
      "            Vascular lesions (vasc)       0.95      0.95      0.95        97\n",
      "\n",
      "                           accuracy                           0.64       700\n",
      "                          macro avg       0.66      0.65      0.65       700\n",
      "                       weighted avg       0.65      0.64      0.64       700\n",
      "\n"
     ]
    },
    {
     "data": {
      "text/plain": [
       "<AxesSubplot:>"
      ]
     },
     "execution_count": 82,
     "metadata": {},
     "output_type": "execute_result"
    },
    {
     "data": {
      "image/png": "[encoded data removed]",
      "text/plain": [
       "<Figure size 720x720 with 2 Axes>"
      ]
     },
     "metadata": {},
     "output_type": "display_data"
    }
   ],
   "source": [
    "y_pred = model.predict(x_test)\n",
    "y_pred_classes = np.argmax(y_pred, axis = 1) \n",
    "y_true = np.argmax(y_test, axis = 1) \n",
    "\n",
    "\n",
    "#Print confusion matrix\n",
    "cm = confusion_matrix(y_true, y_pred_classes)\n",
    "print(cm)\n",
    "#Print classification_report\n",
    "print(classification_report(y_true, y_pred_classes,target_names=labels.values()))\n",
    "fig, ax = plt.subplots(figsize=(10,10))\n",
    "sns.set(font_scale=1)\n",
    "sns.heatmap(cm, annot=True, linewidths=.5, ax=ax)\n",
    "\n"
   ]
  },
  {
   "cell_type": "code",
   "execution_count": 85,
   "metadata": {},
   "outputs": [
    {
     "data": {
      "text/plain": [
       "Text(0, 0.5, 'Percent of incorrect predictions')"
      ]
     },
     "execution_count": 85,
     "metadata": {},
     "output_type": "execute_result"
    },
    {
     "data": {
      "image/png": "[encoded data removed]",
      "text/plain": [
       "<Figure size 432x288 with 1 Axes>"
      ]
     },
     "metadata": {},
     "output_type": "display_data"
    }
   ],
   "source": [
    "#Incorrect classifications\n",
    "incorr = 1 - np.diag(cm) / np.sum(cm, axis=1)\n",
    "plt.bar(np.arange(7), incorr)\n",
    "plt.xlabel('True')\n",
    "plt.ylabel('Percent of incorrect predictions')"
   ]
  },
  {
   "cell_type": "markdown",
   "metadata": {},
   "source": [
    "### Save the model and weights"
   ]
  },
  {
   "cell_type": "code",
   "execution_count": null,
   "metadata": {},
   "outputs": [],
   "source": [
    "model_json = model.to_json()\n",
    "with open(\"modelmk.json\", \"w\") as json_file:\n",
    "    json_file.write(model_json)\n",
    "model.save_weights(\"modelmk.h5\")"
   ]
  },
  {
   "cell_type": "code",
   "execution_count": null,
   "metadata": {},
   "outputs": [],
   "source": []
  },
  {
   "cell_type": "markdown",
   "metadata": {},
   "source": [
    "----------"
   ]
  }
 ],
 "metadata": {
  "interpreter": {
   "hash": "66a43da4e70cc3f7b73382e30a4177bdcdabfb5ea46b21e7b3ca8c5de37a9ea1"
  },
  "kernelspec": {
   "display_name": "Python 3.10.2 ('moleenv': venv)",
   "language": "python",
   "name": "python3"
  },
  "language_info": {
   "codemirror_mode": {
    "name": "ipython",
    "version": 3
   },
   "file_extension": ".py",
   "mimetype": "text/x-python",
   "name": "python",
   "nbconvert_exporter": "python",
   "pygments_lexer": "ipython3",
   "version": "3.10.2"
  },
  "orig_nbformat": 4
 },
 "nbformat": 4,
 "nbformat_minor": 2
}
