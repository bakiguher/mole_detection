{
 "cells": [
  {
   "cell_type": "markdown",
   "metadata": {},
   "source": [
    "# MOLE DETECTION  -- Class --"
   ]
  },
  {
   "cell_type": "markdown",
   "metadata": {},
   "source": [
    "#### Import Necessary Libraries"
   ]
  },
  {
   "cell_type": "code",
   "execution_count": 85,
   "metadata": {},
   "outputs": [],
   "source": [
    "import matplotlib.pyplot as plt\n",
    "import numpy as np\n",
    "import pandas as pd\n",
    "import os\n",
    "from glob import glob\n",
    "import seaborn as sns\n",
    "from PIL import Image\n",
    "\n",
    "np.random.seed(42)\n",
    "from sklearn.metrics import confusion_matrix\n",
    "\n",
    "import keras\n",
    "from keras.utils.np_utils import to_categorical # used for converting labels to one-hot-encoding\n",
    "from keras.models import Sequential\n",
    "from keras.layers import Dense, Dropout, Flatten, Conv2D, MaxPool2D, BatchNormalization\n",
    "from tensorflow.python.keras.callbacks import ReduceLROnPlateau, EarlyStopping\n",
    "from sklearn.model_selection import train_test_split\n",
    "from scipy import stats\n",
    "from sklearn.preprocessing import LabelEncoder\n",
    "from sklearn.utils import class_weight"
   ]
  },
  {
   "cell_type": "code",
   "execution_count": 86,
   "metadata": {},
   "outputs": [],
   "source": [
    "lesion_type_dict = {\n",
    "    'nv': 'Melanocytic nevi (nv)',\n",
    "    'mel': 'Melanoma (mel)',\n",
    "    'bkl': 'Benign keratosis-like lesions (bkl)',\n",
    "    'bcc': 'Basal cell carcinoma (bcc)',\n",
    "    'akiec': 'Actinic keratoses (akiec)',\n",
    "    'vasc': 'Vascular lesions (vasc)',\n",
    "    'df': 'Dermatofibroma (df)'\n",
    "}\n",
    "label_mapping = {\n",
    "    0: 'akiec',\n",
    "    1: 'bcc',\n",
    "    2: 'bkl',\n",
    "    3: 'df',\n",
    "    4: 'mel',\n",
    "    5: 'nv',\n",
    "    6: 'vasc'\n",
    "}\n",
    "labels = {\n",
    "    0: 'Actinic keratoses (akiec)',\n",
    "    1: 'Basal cell carcinoma (bcc)',\n",
    "    2: 'Benign keratosis-like lesions (bkl)',\n",
    "    3: 'Dermatofibroma (df)',\n",
    "    4: 'Melanoma (mel)',\n",
    "    5: 'Melanocytic nevi (nv)',\n",
    "    6: 'Vascular lesions (vasc)',\n",
    "}\n",
    "int_label_mapping = dict((value, key) for key, value in label_mapping.items())"
   ]
  },
  {
   "cell_type": "code",
   "execution_count": 87,
   "metadata": {},
   "outputs": [
    {
     "name": "stdout",
     "output_type": "stream",
     "text": [
      "['akiec', 'bcc', 'bkl', 'df', 'mel', 'nv', 'vasc']\n"
     ]
    }
   ],
   "source": [
    "\n",
    "data = pd.read_csv('data/HAM10000_metadata.csv')\n",
    "\n",
    "SIZE=32\n",
    "\n",
    "labele = LabelEncoder()\n",
    "labele.fit(data['dx'])\n",
    "data['label'] = labele.transform(data[\"dx\"]) \n",
    "\n",
    "print(list(labele.classes_))\n",
    "\n"
   ]
  },
  {
   "cell_type": "code",
   "execution_count": 89,
   "metadata": {},
   "outputs": [
    {
     "data": {
      "text/plain": [
       "{0: 4.375273044997815,\n",
       " 1: 2.78349082823791,\n",
       " 2: 1.301832835044846,\n",
       " 3: 12.440993788819876,\n",
       " 4: 1.2854575792581184,\n",
       " 5: 0.21338020666879728,\n",
       " 6: 10.075452716297788}"
      ]
     },
     "execution_count": 89,
     "metadata": {},
     "output_type": "execute_result"
    }
   ],
   "source": [
    "y=data['label']\n",
    "\n",
    "class_weights = dict(zip(np.unique(y), class_weight.compute_class_weight(class_weight='balanced',classes=np.unique(y), \n",
    "                y=y))) \n",
    "\n",
    "class_weights\n"
   ]
  },
  {
   "cell_type": "code",
   "execution_count": 105,
   "metadata": {},
   "outputs": [
    {
     "name": "stdout",
     "output_type": "stream",
     "text": [
      "5    6705\n",
      "4    1113\n",
      "2    1099\n",
      "1     514\n",
      "0     327\n",
      "6     142\n",
      "3     115\n",
      "Name: label, dtype: int64\n",
      "0    500\n",
      "1    500\n",
      "2    500\n",
      "3    500\n",
      "4    500\n",
      "5    500\n",
      "6    500\n",
      "Name: label, dtype: int64\n"
     ]
    }
   ],
   "source": [
    "#resampling\n",
    "n_samples=500\n",
    "\n",
    "\n",
    "from sklearn.utils import resample\n",
    "print(data['label'].value_counts())\n",
    "\n",
    "#Balancing the data\n",
    "# try this part with image processing\n",
    "\n",
    "\n",
    "\n",
    "df_0 = data[data['label'] == 0]\n",
    "df_1 = data[data['label'] == 1]\n",
    "df_2 = data[data['label'] == 2]\n",
    "df_3 = data[data['label'] == 3]\n",
    "df_4 = data[data['label'] == 4]\n",
    "df_5 = data[data['label'] == 5]\n",
    "df_6 = data[data['label'] == 6]\n",
    "\n",
    "\n",
    "df_0_balanced = resample(df_0, replace=True, n_samples=n_samples, random_state=42) \n",
    "df_1_balanced = resample(df_1, replace=True, n_samples=n_samples, random_state=42) \n",
    "df_2_balanced = resample(df_2, replace=True, n_samples=n_samples, random_state=42)\n",
    "df_3_balanced = resample(df_3, replace=True, n_samples=n_samples, random_state=42)\n",
    "df_4_balanced = resample(df_4, replace=True, n_samples=n_samples, random_state=42)\n",
    "df_5_balanced = resample(df_5, replace=True, n_samples=n_samples, random_state=42)\n",
    "df_6_balanced = resample(df_6, replace=True, n_samples=n_samples, random_state=42)\n",
    "\n",
    "#Combined back to a single dataframe\n",
    "data_balanced = pd.concat([df_0_balanced, df_1_balanced, \n",
    "                              df_2_balanced, df_3_balanced, \n",
    "                              df_4_balanced, df_5_balanced, df_6_balanced])\n",
    "\n",
    "#Check the distribution. All classes should be balanced now.\n",
    "print(data_balanced['label'].value_counts())"
   ]
  },
  {
   "cell_type": "code",
   "execution_count": 106,
   "metadata": {},
   "outputs": [],
   "source": [
    "data=data_balanced"
   ]
  },
  {
   "cell_type": "code",
   "execution_count": 107,
   "metadata": {},
   "outputs": [],
   "source": [
    "data['path'] = './data/HAM10000_images/' + data['image_id'] +\".jpg\""
   ]
  },
  {
   "cell_type": "code",
   "execution_count": 108,
   "metadata": {},
   "outputs": [],
   "source": [
    "#Use the path to read images.\n",
    "data['image'] = data['path'].map(lambda x: np.asarray(Image.open(x).resize((SIZE,SIZE))))\n",
    "\n",
    "\n"
   ]
  },
  {
   "cell_type": "code",
   "execution_count": 109,
   "metadata": {},
   "outputs": [
    {
     "data": {
      "text/plain": [
       "(3500, 10)"
      ]
     },
     "execution_count": 109,
     "metadata": {},
     "output_type": "execute_result"
    }
   ],
   "source": [
    "data.shape"
   ]
  },
  {
   "cell_type": "code",
   "execution_count": 110,
   "metadata": {},
   "outputs": [
    {
     "name": "stdout",
     "output_type": "stream",
     "text": [
      "Model: \"sequential_7\"\n",
      "_________________________________________________________________\n",
      " Layer (type)                Output Shape              Param #   \n",
      "=================================================================\n",
      " conv2d_21 (Conv2D)          (None, 30, 30, 256)       7168      \n",
      "                                                                 \n",
      " max_pooling2d_21 (MaxPoolin  (None, 15, 15, 256)      0         \n",
      " g2D)                                                            \n",
      "                                                                 \n",
      " dropout_21 (Dropout)        (None, 15, 15, 256)       0         \n",
      "                                                                 \n",
      " conv2d_22 (Conv2D)          (None, 13, 13, 128)       295040    \n",
      "                                                                 \n",
      " max_pooling2d_22 (MaxPoolin  (None, 6, 6, 128)        0         \n",
      " g2D)                                                            \n",
      "                                                                 \n",
      " dropout_22 (Dropout)        (None, 6, 6, 128)         0         \n",
      "                                                                 \n",
      " conv2d_23 (Conv2D)          (None, 4, 4, 64)          73792     \n",
      "                                                                 \n",
      " max_pooling2d_23 (MaxPoolin  (None, 2, 2, 64)         0         \n",
      " g2D)                                                            \n",
      "                                                                 \n",
      " dropout_23 (Dropout)        (None, 2, 2, 64)          0         \n",
      "                                                                 \n",
      " flatten_7 (Flatten)         (None, 256)               0         \n",
      "                                                                 \n",
      " dense_14 (Dense)            (None, 32)                8224      \n",
      "                                                                 \n",
      " dense_15 (Dense)            (None, 7)                 231       \n",
      "                                                                 \n",
      "=================================================================\n",
      "Total params: 384,455\n",
      "Trainable params: 384,455\n",
      "Non-trainable params: 0\n",
      "_________________________________________________________________\n"
     ]
    }
   ],
   "source": [
    "#Convert dataframe column of images into numpy array\n",
    "X = np.asarray(data['image'].tolist())\n",
    "X = X/255.  # Scale values to 0-1. \n",
    "Y=data['label']  #\n",
    "Y_cat = to_categorical(Y, num_classes=7) #Convert to categorical \n",
    "\n",
    "\n",
    "x_train, x_test, y_train, y_test = train_test_split(X, Y_cat, test_size=0.20, random_state=42)\n",
    "\n",
    "#model.\n",
    "\n",
    "num_classes = 7\n",
    "\n",
    "model = Sequential()\n",
    "model.add(Conv2D(256, (3, 3), activation=\"relu\", input_shape=(SIZE, SIZE, 3)))\n",
    "#model.add(BatchNormalization())\n",
    "model.add(MaxPool2D(pool_size=(2, 2)))  \n",
    "model.add(Dropout(0.3))\n",
    "\n",
    "model.add(Conv2D(128, (3, 3),activation='relu'))\n",
    "#model.add(BatchNormalization())\n",
    "model.add(MaxPool2D(pool_size=(2, 2)))  \n",
    "model.add(Dropout(0.3))\n",
    "\n",
    "model.add(Conv2D(64, (3, 3),activation='relu'))\n",
    "#model.add(BatchNormalization())\n",
    "model.add(MaxPool2D(pool_size=(2, 2)))  \n",
    "model.add(Dropout(0.3))\n",
    "model.add(Flatten())\n",
    "\n",
    "model.add(Dense(32))\n",
    "model.add(Dense(7, activation='softmax'))\n",
    "model.summary()\n",
    "\n",
    "model.compile(loss='categorical_crossentropy', optimizer='Adam', metrics=['acc'])"
   ]
  },
  {
   "cell_type": "code",
   "execution_count": 112,
   "metadata": {},
   "outputs": [
    {
     "name": "stdout",
     "output_type": "stream",
     "text": [
      "Epoch 1/50\n",
      "140/140 [==============================] - 2s 12ms/step - loss: 0.6785 - acc: 0.7446 - val_loss: 0.8613 - val_acc: 0.7036 - lr: 1.0000e-05\n",
      "Epoch 2/50\n",
      "140/140 [==============================] - 2s 12ms/step - loss: 0.6678 - acc: 0.7451 - val_loss: 0.8604 - val_acc: 0.7000 - lr: 1.0000e-05\n",
      "Epoch 3/50\n",
      "140/140 [==============================] - 2s 11ms/step - loss: 0.6690 - acc: 0.7384 - val_loss: 0.8585 - val_acc: 0.7018 - lr: 1.0000e-05\n",
      "Epoch 4/50\n",
      "140/140 [==============================] - 2s 11ms/step - loss: 0.6706 - acc: 0.7496 - val_loss: 0.8584 - val_acc: 0.7018 - lr: 1.0000e-05\n",
      "Epoch 5/50\n",
      "140/140 [==============================] - 2s 12ms/step - loss: 0.6681 - acc: 0.7509 - val_loss: 0.8556 - val_acc: 0.7000 - lr: 1.0000e-05\n",
      "Epoch 6/50\n",
      "140/140 [==============================] - 2s 11ms/step - loss: 0.6750 - acc: 0.7393 - val_loss: 0.8546 - val_acc: 0.7000 - lr: 1.0000e-05\n",
      "Epoch 7/50\n",
      "140/140 [==============================] - 2s 11ms/step - loss: 0.6638 - acc: 0.7473 - val_loss: 0.8536 - val_acc: 0.7036 - lr: 1.0000e-05\n",
      "Epoch 8/50\n",
      "140/140 [==============================] - 2s 11ms/step - loss: 0.6647 - acc: 0.7478 - val_loss: 0.8563 - val_acc: 0.7000 - lr: 1.0000e-05\n",
      "Epoch 9/50\n",
      "140/140 [==============================] - 2s 11ms/step - loss: 0.6757 - acc: 0.7478 - val_loss: 0.8551 - val_acc: 0.7000 - lr: 1.0000e-05\n",
      "Epoch 10/50\n",
      "138/140 [============================>.] - ETA: 0s - loss: 0.6552 - acc: 0.7486\n",
      "Epoch 00010: ReduceLROnPlateau reducing learning rate to 1.0000000656873453e-06.\n",
      "140/140 [==============================] - 2s 11ms/step - loss: 0.6548 - acc: 0.7491 - val_loss: 0.8554 - val_acc: 0.7018 - lr: 1.0000e-05\n",
      "Epoch 11/50\n",
      "140/140 [==============================] - 2s 11ms/step - loss: 0.6773 - acc: 0.7478 - val_loss: 0.8553 - val_acc: 0.7036 - lr: 1.0000e-06\n",
      "Epoch 12/50\n",
      "140/140 [==============================] - 2s 12ms/step - loss: 0.6654 - acc: 0.7455 - val_loss: 0.8554 - val_acc: 0.7036 - lr: 1.0000e-06\n",
      "Epoch 13/50\n",
      "139/140 [============================>.] - ETA: 0s - loss: 0.6715 - acc: 0.7482\n",
      "Epoch 00013: ReduceLROnPlateau reducing learning rate to 1.0000001111620805e-07.\n",
      "140/140 [==============================] - 2s 11ms/step - loss: 0.6725 - acc: 0.7473 - val_loss: 0.8553 - val_acc: 0.7036 - lr: 1.0000e-06\n",
      "Epoch 14/50\n",
      "140/140 [==============================] - 2s 12ms/step - loss: 0.6777 - acc: 0.7375 - val_loss: 0.8553 - val_acc: 0.7036 - lr: 1.0000e-07\n",
      "Epoch 15/50\n",
      "140/140 [==============================] - 2s 11ms/step - loss: 0.6577 - acc: 0.7473 - val_loss: 0.8553 - val_acc: 0.7036 - lr: 1.0000e-07\n",
      "Epoch 00015: early stopping\n"
     ]
    }
   ],
   "source": [
    "\n",
    "early_stop = EarlyStopping(monitor='val_loss', patience=8, verbose=1,mode='auto')\n",
    "                            \n",
    "batch_size = 16 \n",
    "epochs = 50\n",
    "\n",
    "learning_rate = ReduceLROnPlateau(monitor='val_loss', factor=0.1, patience=3, verbose=1, mode='auto')\n",
    "\n",
    "history = model.fit(x_train, y_train, validation_split=0.2, batch_size = batch_size,  epochs = epochs,callbacks = [learning_rate, early_stop])\n",
    "#class_weight=class_weights,\n"
   ]
  },
  {
   "cell_type": "code",
   "execution_count": 113,
   "metadata": {},
   "outputs": [
    {
     "name": "stdout",
     "output_type": "stream",
     "text": [
      "22/22 [==============================] - 0s 10ms/step - loss: 0.8605 - acc: 0.6957\n",
      "Test accuracy: 0.6957142949104309\n"
     ]
    },
    {
     "data": {
      "image/png": "[encoded data removed]",
      "text/plain": [
       "<Figure size 432x288 with 1 Axes>"
      ]
     },
     "metadata": {},
     "output_type": "display_data"
    },
    {
     "data": {
      "image/png": "[encoded data removed]",
      "text/plain": [
       "<Figure size 432x288 with 1 Axes>"
      ]
     },
     "metadata": {},
     "output_type": "display_data"
    }
   ],
   "source": [
    "score = model.evaluate(x_test, y_test)\n",
    "print('Test accuracy:', score[1])\n",
    "\n",
    "\n",
    "#plot the training and validation accuracy and loss at each epoch\n",
    "loss = history.history['loss']\n",
    "val_loss = history.history['val_loss']\n",
    "epochs = range(1, len(loss) + 1)\n",
    "plt.plot(epochs, loss, 'y', label='Training loss')\n",
    "plt.plot(epochs, val_loss, 'r', label='Validation loss')\n",
    "plt.title('Training and validation loss')\n",
    "plt.xlabel('Epochs')\n",
    "plt.ylabel('Loss')\n",
    "plt.legend()\n",
    "plt.show()\n",
    "\n",
    "\n",
    "acc = history.history['acc']\n",
    "val_acc = history.history['val_acc']\n",
    "plt.plot(epochs, acc, 'y', label='Training acc')\n",
    "plt.plot(epochs, val_acc, 'r', label='Validation acc')\n",
    "plt.title('Training and validation accuracy')\n",
    "plt.xlabel('Epochs')\n",
    "plt.ylabel('Accuracy')\n",
    "plt.legend()\n",
    "plt.show()"
   ]
  },
  {
   "cell_type": "code",
   "execution_count": null,
   "metadata": {},
   "outputs": [],
   "source": []
  },
  {
   "cell_type": "code",
   "execution_count": 114,
   "metadata": {},
   "outputs": [
    {
     "name": "stdout",
     "output_type": "stream",
     "text": [
      "22/22 [==============================] - 0s 5ms/step\n"
     ]
    }
   ],
   "source": [
    "# Prediction on test data\n",
    "y_pred = model.predict(x_test)\n",
    "\n",
    "\n",
    "# Convert predictions classes to one hot vectors \n",
    "y_pred_classes = np.argmax(y_pred, axis = 1) \n",
    "# Convert test data to one hot vectors\n",
    "y_true = np.argmax(y_test, axis = 1) \n",
    "\n",
    "#Print confusion matrix\n",
    "cm = confusion_matrix(y_true, y_pred_classes)\n",
    "\n"
   ]
  },
  {
   "cell_type": "code",
   "execution_count": 115,
   "metadata": {},
   "outputs": [
    {
     "name": "stdout",
     "output_type": "stream",
     "text": [
      "[[76  9 22 12  5  1  1]\n",
      " [11 60 17 10  3  3  1]\n",
      " [10  7 58  1 11  8  0]\n",
      " [ 1  7  1 89  3  0  0]\n",
      " [ 5  1 18  0 53  8  2]\n",
      " [ 5  4  6  2 16 55  1]\n",
      " [ 0  0  0  1  0  0 96]]\n"
     ]
    },
    {
     "data": {
      "text/plain": [
       "<AxesSubplot:>"
      ]
     },
     "execution_count": 115,
     "metadata": {},
     "output_type": "execute_result"
    },
    {
     "data": {
      "image/png": "[encoded data removed]",
      "text/plain": [
       "<Figure size 720x720 with 2 Axes>"
      ]
     },
     "metadata": {},
     "output_type": "display_data"
    }
   ],
   "source": [
    "print(cm)\n",
    "fig, ax = plt.subplots(figsize=(10,10))\n",
    "sns.set(font_scale=1)\n",
    "sns.heatmap(cm, annot=True, linewidths=.5, ax=ax)\n",
    "\n",
    "\n"
   ]
  },
  {
   "cell_type": "code",
   "execution_count": 116,
   "metadata": {},
   "outputs": [
    {
     "data": {
      "text/plain": [
       "Text(0, 0.5, 'Fraction of incorrect predictions')"
      ]
     },
     "execution_count": 116,
     "metadata": {},
     "output_type": "execute_result"
    },
    {
     "data": {
      "image/png": "[encoded data removed]",
      "text/plain": [
       "<Figure size 432x288 with 1 Axes>"
      ]
     },
     "metadata": {},
     "output_type": "display_data"
    }
   ],
   "source": [
    "#PLot fractional incorrect misclassifications\n",
    "incorr_fraction = 1 - np.diag(cm) / np.sum(cm, axis=1)\n",
    "plt.bar(np.arange(7), incorr_fraction)\n",
    "plt.xlabel('True Label')\n",
    "plt.ylabel('Fraction of incorrect predictions')"
   ]
  },
  {
   "cell_type": "code",
   "execution_count": 74,
   "metadata": {},
   "outputs": [],
   "source": [
    "model_json = model.to_json()\n",
    "with open(\"modelmk.json\", \"w\") as json_file:\n",
    "    json_file.write(model_json)\n",
    "model.save_weights(\"modelmk.h5\")"
   ]
  },
  {
   "cell_type": "code",
   "execution_count": null,
   "metadata": {},
   "outputs": [],
   "source": []
  },
  {
   "cell_type": "code",
   "execution_count": null,
   "metadata": {},
   "outputs": [],
   "source": []
  },
  {
   "cell_type": "markdown",
   "metadata": {},
   "source": [
    "----------"
   ]
  },
  {
   "cell_type": "markdown",
   "metadata": {},
   "source": [
    "#### Define default variables"
   ]
  },
  {
   "cell_type": "code",
   "execution_count": null,
   "metadata": {},
   "outputs": [],
   "source": [
    "# import splitfolders\n",
    "# IMAGE_DIR = os.path.join('.', 'data\\\\HAM10000_images\\\\')\n",
    "# splitfolders.ratio(IMAGE_DIR,'IMAGES',seed=42, ratio=(0.7,0.2,0.1))"
   ]
  },
  {
   "cell_type": "markdown",
   "metadata": {},
   "source": [
    "#### Import the data "
   ]
  },
  {
   "cell_type": "code",
   "execution_count": 9,
   "metadata": {},
   "outputs": [
    {
     "name": "stdout",
     "output_type": "stream",
     "text": [
      "Found 7007 files belonging to 7 classes.\n",
      "Found 2000 files belonging to 7 classes.\n",
      "Found 1008 files belonging to 7 classes.\n"
     ]
    }
   ],
   "source": [
    "train_dataset= tf.keras.utils.image_dataset_from_directory(\n",
    "    'IMAGES/train/',\n",
    "    labels=\"inferred\",\n",
    "    label_mode=\"int\",\n",
    "    class_names=None,\n",
    "    color_mode=\"rgb\",\n",
    "    batch_size=32,\n",
    "    image_size=(256, 256),\n",
    "    shuffle=True,\n",
    "    seed=None,\n",
    "    validation_split=None,\n",
    "    subset=None,\n",
    "    interpolation=\"bilinear\",\n",
    "    follow_links=False,\n",
    "    crop_to_aspect_ratio=False,\n",
    "   \n",
    ")\n",
    "\n",
    "\n",
    "val_dataset= keras.utils.image_dataset_from_directory(\n",
    "    'IMAGES/val/',\n",
    "    labels=\"inferred\",\n",
    "    label_mode=\"int\",\n",
    "    class_names=None,\n",
    "    color_mode=\"rgb\",\n",
    "    batch_size=32,\n",
    "    image_size=(256, 256),\n",
    "    shuffle=True,\n",
    "    seed=None,\n",
    "    validation_split=None,\n",
    "    subset=None,\n",
    "    interpolation=\"bilinear\",\n",
    "    follow_links=False,\n",
    "    crop_to_aspect_ratio=False,\n",
    ")\n",
    "test_dataset= keras.utils.image_dataset_from_directory(\n",
    "    'IMAGES/test/',\n",
    "    labels=\"inferred\",\n",
    "    label_mode=\"int\",\n",
    "    class_names=None,\n",
    "    color_mode=\"rgb\",\n",
    "    batch_size=32,\n",
    "    image_size=(256, 256),\n",
    "    shuffle=True,\n",
    "    seed=None,\n",
    "    validation_split=None,\n",
    "    subset=None,\n",
    "    interpolation=\"bilinear\",\n",
    "    follow_links=False,\n",
    "    crop_to_aspect_ratio=False,\n",
    ")"
   ]
  },
  {
   "cell_type": "code",
   "execution_count": 10,
   "metadata": {},
   "outputs": [],
   "source": [
    "from image_dataset_loader import load\n",
    "\n",
    "(x_train, y_train), (x_test, y_test) = load('images', ['train', 'val'])\n",
    "\n",
    "    "
   ]
  },
  {
   "cell_type": "code",
   "execution_count": 14,
   "metadata": {},
   "outputs": [],
   "source": [
    "x_train=x_train/255"
   ]
  },
  {
   "cell_type": "code",
   "execution_count": 12,
   "metadata": {},
   "outputs": [],
   "source": [
    "clf = ak.ImageClassifier(overwrite=True, max_trials=1)"
   ]
  },
  {
   "cell_type": "code",
   "execution_count": 13,
   "metadata": {},
   "outputs": [
    {
     "name": "stdout",
     "output_type": "stream",
     "text": [
      "\n",
      "Search: Running Trial #1\n",
      "\n",
      "Value             |Best Value So Far |Hyperparameter\n",
      "vanilla           |?                 |image_block_1/block_type\n",
      "True              |?                 |image_block_1/normalize\n",
      "False             |?                 |image_block_1/augment\n",
      "3                 |?                 |image_block_1/conv_block_1/kernel_size\n",
      "1                 |?                 |image_block_1/conv_block_1/num_blocks\n",
      "2                 |?                 |image_block_1/conv_block_1/num_layers\n",
      "True              |?                 |image_block_1/conv_block_1/max_pooling\n",
      "False             |?                 |image_block_1/conv_block_1/separable\n",
      "0.25              |?                 |image_block_1/conv_block_1/dropout\n",
      "32                |?                 |image_block_1/conv_block_1/filters_0_0\n",
      "64                |?                 |image_block_1/conv_block_1/filters_0_1\n",
      "flatten           |?                 |classification_head_1/spatial_reduction_1/reduction_type\n",
      "0.5               |?                 |classification_head_1/dropout\n",
      "adam              |?                 |optimizer\n",
      "0.001             |?                 |learning_rate\n",
      "\n",
      "Epoch 1/25\n",
      "Not enough memory, reduce batch size to 16.\n",
      "Epoch 1/25\n",
      "Not enough memory, reduce batch size to 8.\n",
      "Epoch 1/25\n",
      "Not enough memory, reduce batch size to 4.\n",
      "Epoch 1/25\n"
     ]
    },
    {
     "ename": "NotFoundError",
     "evalue": "Graph execution error:\n\nDetected at node 'gradient_tape/model/conv2d_1/Conv2D/Conv2DBackpropInput' defined at (most recent call last):\n    File \"C:\\Python310\\lib\\runpy.py\", line 196, in _run_module_as_main\n      return _run_code(code, main_globals, None,\n    File \"C:\\Python310\\lib\\runpy.py\", line 86, in _run_code\n      exec(code, run_globals)\n    File \"c:\\_projects\\mole_detection\\moleenv\\lib\\site-packages\\ipykernel_launcher.py\", line 17, in <module>\n      app.launch_new_instance()\n    File \"c:\\_projects\\mole_detection\\moleenv\\lib\\site-packages\\traitlets\\config\\application.py\", line 965, in launch_instance\n      app.start()\n    File \"c:\\_projects\\mole_detection\\moleenv\\lib\\site-packages\\ipykernel\\kernelapp.py\", line 712, in start\n      self.io_loop.start()\n    File \"c:\\_projects\\mole_detection\\moleenv\\lib\\site-packages\\tornado\\platform\\asyncio.py\", line 199, in start\n      self.asyncio_loop.run_forever()\n    File \"C:\\Python310\\lib\\asyncio\\base_events.py\", line 595, in run_forever\n      self._run_once()\n    File \"C:\\Python310\\lib\\asyncio\\base_events.py\", line 1881, in _run_once\n      handle._run()\n    File \"C:\\Python310\\lib\\asyncio\\events.py\", line 80, in _run\n      self._context.run(self._callback, *self._args)\n    File \"c:\\_projects\\mole_detection\\moleenv\\lib\\site-packages\\ipykernel\\kernelbase.py\", line 504, in dispatch_queue\n      await self.process_one()\n    File \"c:\\_projects\\mole_detection\\moleenv\\lib\\site-packages\\ipykernel\\kernelbase.py\", line 493, in process_one\n      await dispatch(*args)\n    File \"c:\\_projects\\mole_detection\\moleenv\\lib\\site-packages\\ipykernel\\kernelbase.py\", line 400, in dispatch_shell\n      await result\n    File \"c:\\_projects\\mole_detection\\moleenv\\lib\\site-packages\\ipykernel\\kernelbase.py\", line 724, in execute_request\n      reply_content = await reply_content\n    File \"c:\\_projects\\mole_detection\\moleenv\\lib\\site-packages\\ipykernel\\ipkernel.py\", line 383, in do_execute\n      res = shell.run_cell(\n    File \"c:\\_projects\\mole_detection\\moleenv\\lib\\site-packages\\ipykernel\\zmqshell.py\", line 528, in run_cell\n      return super().run_cell(*args, **kwargs)\n    File \"c:\\_projects\\mole_detection\\moleenv\\lib\\site-packages\\IPython\\core\\interactiveshell.py\", line 2880, in run_cell\n      result = self._run_cell(\n    File \"c:\\_projects\\mole_detection\\moleenv\\lib\\site-packages\\IPython\\core\\interactiveshell.py\", line 2935, in _run_cell\n      return runner(coro)\n    File \"c:\\_projects\\mole_detection\\moleenv\\lib\\site-packages\\IPython\\core\\async_helpers.py\", line 129, in _pseudo_sync_runner\n      coro.send(None)\n    File \"c:\\_projects\\mole_detection\\moleenv\\lib\\site-packages\\IPython\\core\\interactiveshell.py\", line 3134, in run_cell_async\n      has_raised = await self.run_ast_nodes(code_ast.body, cell_name,\n    File \"c:\\_projects\\mole_detection\\moleenv\\lib\\site-packages\\IPython\\core\\interactiveshell.py\", line 3337, in run_ast_nodes\n      if await self.run_code(code, result, async_=asy):\n    File \"c:\\_projects\\mole_detection\\moleenv\\lib\\site-packages\\IPython\\core\\interactiveshell.py\", line 3397, in run_code\n      exec(code_obj, self.user_global_ns, self.user_ns)\n    File \"C:\\Users\\bakig\\AppData\\Local\\Temp\\ipykernel_12544\\3143019097.py\", line 3, in <cell line: 3>\n      clf.fit(x_train, y_train, epochs=25)\n    File \"c:\\_projects\\mole_detection\\moleenv\\lib\\site-packages\\autokeras\\tasks\\image.py\", line 165, in fit\n      history = super().fit(\n    File \"c:\\_projects\\mole_detection\\moleenv\\lib\\site-packages\\autokeras\\auto_model.py\", line 292, in fit\n      history = self.tuner.search(\n    File \"c:\\_projects\\mole_detection\\moleenv\\lib\\site-packages\\autokeras\\engine\\tuner.py\", line 193, in search\n      super().search(\n    File \"c:\\_projects\\mole_detection\\moleenv\\lib\\site-packages\\keras_tuner\\engine\\base_tuner.py\", line 179, in search\n      results = self.run_trial(trial, *fit_args, **fit_kwargs)\n    File \"c:\\_projects\\mole_detection\\moleenv\\lib\\site-packages\\keras_tuner\\engine\\tuner.py\", line 294, in run_trial\n      obj_value = self._build_and_fit_model(trial, *args, **copied_kwargs)\n    File \"c:\\_projects\\mole_detection\\moleenv\\lib\\site-packages\\autokeras\\engine\\tuner.py\", line 101, in _build_and_fit_model\n      _, history = utils.fit_with_adaptive_batch_size(\n    File \"c:\\_projects\\mole_detection\\moleenv\\lib\\site-packages\\autokeras\\utils\\utils.py\", line 88, in fit_with_adaptive_batch_size\n      history = run_with_adaptive_batch_size(\n    File \"c:\\_projects\\mole_detection\\moleenv\\lib\\site-packages\\autokeras\\utils\\utils.py\", line 101, in run_with_adaptive_batch_size\n      history = func(x=x, validation_data=validation_data, **fit_kwargs)\n    File \"c:\\_projects\\mole_detection\\moleenv\\lib\\site-packages\\autokeras\\utils\\utils.py\", line 89, in <lambda>\n      batch_size, lambda **kwargs: model.fit(**kwargs), **fit_kwargs\n    File \"c:\\_projects\\mole_detection\\moleenv\\lib\\site-packages\\keras\\utils\\traceback_utils.py\", line 64, in error_handler\n      return fn(*args, **kwargs)\n    File \"c:\\_projects\\mole_detection\\moleenv\\lib\\site-packages\\keras\\engine\\training.py\", line 1409, in fit\n      tmp_logs = self.train_function(iterator)\n    File \"c:\\_projects\\mole_detection\\moleenv\\lib\\site-packages\\keras\\engine\\training.py\", line 1051, in train_function\n      return step_function(self, iterator)\n    File \"c:\\_projects\\mole_detection\\moleenv\\lib\\site-packages\\keras\\engine\\training.py\", line 1040, in step_function\n      outputs = model.distribute_strategy.run(run_step, args=(data,))\n    File \"c:\\_projects\\mole_detection\\moleenv\\lib\\site-packages\\keras\\engine\\training.py\", line 1030, in run_step\n      outputs = model.train_step(data)\n    File \"c:\\_projects\\mole_detection\\moleenv\\lib\\site-packages\\keras\\engine\\training.py\", line 893, in train_step\n      self.optimizer.minimize(loss, self.trainable_variables, tape=tape)\n    File \"c:\\_projects\\mole_detection\\moleenv\\lib\\site-packages\\keras\\optimizers\\optimizer_v2\\optimizer_v2.py\", line 537, in minimize\n      grads_and_vars = self._compute_gradients(\n    File \"c:\\_projects\\mole_detection\\moleenv\\lib\\site-packages\\keras\\optimizers\\optimizer_v2\\optimizer_v2.py\", line 590, in _compute_gradients\n      grads_and_vars = self._get_gradients(tape, loss, var_list, grad_loss)\n    File \"c:\\_projects\\mole_detection\\moleenv\\lib\\site-packages\\keras\\optimizers\\optimizer_v2\\optimizer_v2.py\", line 471, in _get_gradients\n      grads = tape.gradient(loss, var_list, grad_loss)\nNode: 'gradient_tape/model/conv2d_1/Conv2D/Conv2DBackpropInput'\nNo algorithm worked!  Error messages:\n  Profiling failure on CUDNN engine 1: RESOURCE_EXHAUSTED: Out of memory while trying to allocate 155627536 bytes.\n  Profiling failure on CUDNN engine 3: RESOURCE_EXHAUSTED: Out of memory while trying to allocate 29032448 bytes.\n  Profiling failure on CUDNN engine 4: RESOURCE_EXHAUSTED: Out of memory while trying to allocate 16982144 bytes.\n  Profiling failure on CUDNN engine 5: RESOURCE_EXHAUSTED: Out of memory while trying to allocate 3732963328 bytes.\n  Profiling failure on CUDNN engine 0: RESOURCE_EXHAUSTED: Out of memory while trying to allocate 16777216 bytes.\n\t [[{{node gradient_tape/model/conv2d_1/Conv2D/Conv2DBackpropInput}}]] [Op:__inference_train_function_6982]",
     "output_type": "error",
     "traceback": [
      "\u001b[1;31m---------------------------------------------------------------------------\u001b[0m",
      "\u001b[1;31mNotFoundError\u001b[0m                             Traceback (most recent call last)",
      "\u001b[1;32mc:\\_projects\\mole_detection\\modeltype.ipynb Cell 11'\u001b[0m in \u001b[0;36m<cell line: 3>\u001b[1;34m()\u001b[0m\n\u001b[0;32m      <a href='vscode-notebook-cell:/c%3A/_projects/mole_detection/modeltype.ipynb#ch0000068?line=0'>1</a>\u001b[0m \u001b[39m#clf.fit(train_generator)\u001b[39;00m\n\u001b[1;32m----> <a href='vscode-notebook-cell:/c%3A/_projects/mole_detection/modeltype.ipynb#ch0000068?line=2'>3</a>\u001b[0m clf\u001b[39m.\u001b[39;49mfit(x_train, y_train, epochs\u001b[39m=\u001b[39;49m\u001b[39m25\u001b[39;49m)\n",
      "File \u001b[1;32mc:\\_projects\\mole_detection\\moleenv\\lib\\site-packages\\autokeras\\tasks\\image.py:165\u001b[0m, in \u001b[0;36mImageClassifier.fit\u001b[1;34m(self, x, y, epochs, callbacks, validation_split, validation_data, **kwargs)\u001b[0m\n\u001b[0;32m    <a href='file:///c%3A/_projects/mole_detection/moleenv/lib/site-packages/autokeras/tasks/image.py?line=107'>108</a>\u001b[0m \u001b[39mdef\u001b[39;00m \u001b[39mfit\u001b[39m(\n\u001b[0;32m    <a href='file:///c%3A/_projects/mole_detection/moleenv/lib/site-packages/autokeras/tasks/image.py?line=108'>109</a>\u001b[0m     \u001b[39mself\u001b[39m,\n\u001b[0;32m    <a href='file:///c%3A/_projects/mole_detection/moleenv/lib/site-packages/autokeras/tasks/image.py?line=109'>110</a>\u001b[0m     x: Optional[types\u001b[39m.\u001b[39mDatasetType] \u001b[39m=\u001b[39m \u001b[39mNone\u001b[39;00m,\n\u001b[1;32m   (...)\u001b[0m\n\u001b[0;32m    <a href='file:///c%3A/_projects/mole_detection/moleenv/lib/site-packages/autokeras/tasks/image.py?line=117'>118</a>\u001b[0m     \u001b[39m*\u001b[39m\u001b[39m*\u001b[39mkwargs\n\u001b[0;32m    <a href='file:///c%3A/_projects/mole_detection/moleenv/lib/site-packages/autokeras/tasks/image.py?line=118'>119</a>\u001b[0m ):\n\u001b[0;32m    <a href='file:///c%3A/_projects/mole_detection/moleenv/lib/site-packages/autokeras/tasks/image.py?line=119'>120</a>\u001b[0m     \u001b[39m\"\"\"Search for the best model and hyperparameters for the AutoModel.\u001b[39;00m\n\u001b[0;32m    <a href='file:///c%3A/_projects/mole_detection/moleenv/lib/site-packages/autokeras/tasks/image.py?line=120'>121</a>\u001b[0m \n\u001b[0;32m    <a href='file:///c%3A/_projects/mole_detection/moleenv/lib/site-packages/autokeras/tasks/image.py?line=121'>122</a>\u001b[0m \u001b[39m    It will search for the best model based on the performances on\u001b[39;00m\n\u001b[1;32m   (...)\u001b[0m\n\u001b[0;32m    <a href='file:///c%3A/_projects/mole_detection/moleenv/lib/site-packages/autokeras/tasks/image.py?line=162'>163</a>\u001b[0m \u001b[39m            validation loss values and validation metrics values (if applicable).\u001b[39;00m\n\u001b[0;32m    <a href='file:///c%3A/_projects/mole_detection/moleenv/lib/site-packages/autokeras/tasks/image.py?line=163'>164</a>\u001b[0m \u001b[39m    \"\"\"\u001b[39;00m\n\u001b[1;32m--> <a href='file:///c%3A/_projects/mole_detection/moleenv/lib/site-packages/autokeras/tasks/image.py?line=164'>165</a>\u001b[0m     history \u001b[39m=\u001b[39m \u001b[39msuper\u001b[39m()\u001b[39m.\u001b[39mfit(\n\u001b[0;32m    <a href='file:///c%3A/_projects/mole_detection/moleenv/lib/site-packages/autokeras/tasks/image.py?line=165'>166</a>\u001b[0m         x\u001b[39m=\u001b[39mx,\n\u001b[0;32m    <a href='file:///c%3A/_projects/mole_detection/moleenv/lib/site-packages/autokeras/tasks/image.py?line=166'>167</a>\u001b[0m         y\u001b[39m=\u001b[39my,\n\u001b[0;32m    <a href='file:///c%3A/_projects/mole_detection/moleenv/lib/site-packages/autokeras/tasks/image.py?line=167'>168</a>\u001b[0m         epochs\u001b[39m=\u001b[39mepochs,\n\u001b[0;32m    <a href='file:///c%3A/_projects/mole_detection/moleenv/lib/site-packages/autokeras/tasks/image.py?line=168'>169</a>\u001b[0m         callbacks\u001b[39m=\u001b[39mcallbacks,\n\u001b[0;32m    <a href='file:///c%3A/_projects/mole_detection/moleenv/lib/site-packages/autokeras/tasks/image.py?line=169'>170</a>\u001b[0m         validation_split\u001b[39m=\u001b[39mvalidation_split,\n\u001b[0;32m    <a href='file:///c%3A/_projects/mole_detection/moleenv/lib/site-packages/autokeras/tasks/image.py?line=170'>171</a>\u001b[0m         validation_data\u001b[39m=\u001b[39mvalidation_data,\n\u001b[0;32m    <a href='file:///c%3A/_projects/mole_detection/moleenv/lib/site-packages/autokeras/tasks/image.py?line=171'>172</a>\u001b[0m         \u001b[39m*\u001b[39m\u001b[39m*\u001b[39mkwargs\n\u001b[0;32m    <a href='file:///c%3A/_projects/mole_detection/moleenv/lib/site-packages/autokeras/tasks/image.py?line=172'>173</a>\u001b[0m     )\n\u001b[0;32m    <a href='file:///c%3A/_projects/mole_detection/moleenv/lib/site-packages/autokeras/tasks/image.py?line=173'>174</a>\u001b[0m     \u001b[39mreturn\u001b[39;00m history\n",
      "File \u001b[1;32mc:\\_projects\\mole_detection\\moleenv\\lib\\site-packages\\autokeras\\auto_model.py:292\u001b[0m, in \u001b[0;36mAutoModel.fit\u001b[1;34m(self, x, y, batch_size, epochs, callbacks, validation_split, validation_data, verbose, **kwargs)\u001b[0m\n\u001b[0;32m    <a href='file:///c%3A/_projects/mole_detection/moleenv/lib/site-packages/autokeras/auto_model.py?line=286'>287</a>\u001b[0m \u001b[39mif\u001b[39;00m validation_data \u001b[39mis\u001b[39;00m \u001b[39mNone\u001b[39;00m \u001b[39mand\u001b[39;00m validation_split:\n\u001b[0;32m    <a href='file:///c%3A/_projects/mole_detection/moleenv/lib/site-packages/autokeras/auto_model.py?line=287'>288</a>\u001b[0m     dataset, validation_data \u001b[39m=\u001b[39m data_utils\u001b[39m.\u001b[39msplit_dataset(\n\u001b[0;32m    <a href='file:///c%3A/_projects/mole_detection/moleenv/lib/site-packages/autokeras/auto_model.py?line=288'>289</a>\u001b[0m         dataset, validation_split\n\u001b[0;32m    <a href='file:///c%3A/_projects/mole_detection/moleenv/lib/site-packages/autokeras/auto_model.py?line=289'>290</a>\u001b[0m     )\n\u001b[1;32m--> <a href='file:///c%3A/_projects/mole_detection/moleenv/lib/site-packages/autokeras/auto_model.py?line=291'>292</a>\u001b[0m history \u001b[39m=\u001b[39m \u001b[39mself\u001b[39m\u001b[39m.\u001b[39mtuner\u001b[39m.\u001b[39msearch(\n\u001b[0;32m    <a href='file:///c%3A/_projects/mole_detection/moleenv/lib/site-packages/autokeras/auto_model.py?line=292'>293</a>\u001b[0m     x\u001b[39m=\u001b[39mdataset,\n\u001b[0;32m    <a href='file:///c%3A/_projects/mole_detection/moleenv/lib/site-packages/autokeras/auto_model.py?line=293'>294</a>\u001b[0m     epochs\u001b[39m=\u001b[39mepochs,\n\u001b[0;32m    <a href='file:///c%3A/_projects/mole_detection/moleenv/lib/site-packages/autokeras/auto_model.py?line=294'>295</a>\u001b[0m     callbacks\u001b[39m=\u001b[39mcallbacks,\n\u001b[0;32m    <a href='file:///c%3A/_projects/mole_detection/moleenv/lib/site-packages/autokeras/auto_model.py?line=295'>296</a>\u001b[0m     validation_data\u001b[39m=\u001b[39mvalidation_data,\n\u001b[0;32m    <a href='file:///c%3A/_projects/mole_detection/moleenv/lib/site-packages/autokeras/auto_model.py?line=296'>297</a>\u001b[0m     validation_split\u001b[39m=\u001b[39mvalidation_split,\n\u001b[0;32m    <a href='file:///c%3A/_projects/mole_detection/moleenv/lib/site-packages/autokeras/auto_model.py?line=297'>298</a>\u001b[0m     verbose\u001b[39m=\u001b[39mverbose,\n\u001b[0;32m    <a href='file:///c%3A/_projects/mole_detection/moleenv/lib/site-packages/autokeras/auto_model.py?line=298'>299</a>\u001b[0m     \u001b[39m*\u001b[39m\u001b[39m*\u001b[39mkwargs\n\u001b[0;32m    <a href='file:///c%3A/_projects/mole_detection/moleenv/lib/site-packages/autokeras/auto_model.py?line=299'>300</a>\u001b[0m )\n\u001b[0;32m    <a href='file:///c%3A/_projects/mole_detection/moleenv/lib/site-packages/autokeras/auto_model.py?line=301'>302</a>\u001b[0m \u001b[39mreturn\u001b[39;00m history\n",
      "File \u001b[1;32mc:\\_projects\\mole_detection\\moleenv\\lib\\site-packages\\autokeras\\engine\\tuner.py:193\u001b[0m, in \u001b[0;36mAutoTuner.search\u001b[1;34m(self, epochs, callbacks, validation_split, verbose, **fit_kwargs)\u001b[0m\n\u001b[0;32m    <a href='file:///c%3A/_projects/mole_detection/moleenv/lib/site-packages/autokeras/engine/tuner.py?line=190'>191</a>\u001b[0m \u001b[39mself\u001b[39m\u001b[39m.\u001b[39m_try_build(hp)\n\u001b[0;32m    <a href='file:///c%3A/_projects/mole_detection/moleenv/lib/site-packages/autokeras/engine/tuner.py?line=191'>192</a>\u001b[0m \u001b[39mself\u001b[39m\u001b[39m.\u001b[39moracle\u001b[39m.\u001b[39mupdate_space(hp)\n\u001b[1;32m--> <a href='file:///c%3A/_projects/mole_detection/moleenv/lib/site-packages/autokeras/engine/tuner.py?line=192'>193</a>\u001b[0m \u001b[39msuper\u001b[39m()\u001b[39m.\u001b[39msearch(\n\u001b[0;32m    <a href='file:///c%3A/_projects/mole_detection/moleenv/lib/site-packages/autokeras/engine/tuner.py?line=193'>194</a>\u001b[0m     epochs\u001b[39m=\u001b[39mepochs, callbacks\u001b[39m=\u001b[39mnew_callbacks, verbose\u001b[39m=\u001b[39mverbose, \u001b[39m*\u001b[39m\u001b[39m*\u001b[39mfit_kwargs\n\u001b[0;32m    <a href='file:///c%3A/_projects/mole_detection/moleenv/lib/site-packages/autokeras/engine/tuner.py?line=194'>195</a>\u001b[0m )\n\u001b[0;32m    <a href='file:///c%3A/_projects/mole_detection/moleenv/lib/site-packages/autokeras/engine/tuner.py?line=196'>197</a>\u001b[0m \u001b[39m# Train the best model use validation data.\u001b[39;00m\n\u001b[0;32m    <a href='file:///c%3A/_projects/mole_detection/moleenv/lib/site-packages/autokeras/engine/tuner.py?line=197'>198</a>\u001b[0m \u001b[39m# Train the best model with enough number of epochs.\u001b[39;00m\n\u001b[0;32m    <a href='file:///c%3A/_projects/mole_detection/moleenv/lib/site-packages/autokeras/engine/tuner.py?line=198'>199</a>\u001b[0m \u001b[39mif\u001b[39;00m validation_split \u001b[39m>\u001b[39m \u001b[39m0\u001b[39m \u001b[39mor\u001b[39;00m early_stopping_inserted:\n",
      "File \u001b[1;32mc:\\_projects\\mole_detection\\moleenv\\lib\\site-packages\\keras_tuner\\engine\\base_tuner.py:179\u001b[0m, in \u001b[0;36mBaseTuner.search\u001b[1;34m(self, *fit_args, **fit_kwargs)\u001b[0m\n\u001b[0;32m    <a href='file:///c%3A/_projects/mole_detection/moleenv/lib/site-packages/keras_tuner/engine/base_tuner.py?line=175'>176</a>\u001b[0m     \u001b[39mcontinue\u001b[39;00m\n\u001b[0;32m    <a href='file:///c%3A/_projects/mole_detection/moleenv/lib/site-packages/keras_tuner/engine/base_tuner.py?line=177'>178</a>\u001b[0m \u001b[39mself\u001b[39m\u001b[39m.\u001b[39mon_trial_begin(trial)\n\u001b[1;32m--> <a href='file:///c%3A/_projects/mole_detection/moleenv/lib/site-packages/keras_tuner/engine/base_tuner.py?line=178'>179</a>\u001b[0m results \u001b[39m=\u001b[39m \u001b[39mself\u001b[39m\u001b[39m.\u001b[39mrun_trial(trial, \u001b[39m*\u001b[39mfit_args, \u001b[39m*\u001b[39m\u001b[39m*\u001b[39mfit_kwargs)\n\u001b[0;32m    <a href='file:///c%3A/_projects/mole_detection/moleenv/lib/site-packages/keras_tuner/engine/base_tuner.py?line=179'>180</a>\u001b[0m \u001b[39m# `results` is None indicates user updated oracle in `run_trial()`.\u001b[39;00m\n\u001b[0;32m    <a href='file:///c%3A/_projects/mole_detection/moleenv/lib/site-packages/keras_tuner/engine/base_tuner.py?line=180'>181</a>\u001b[0m \u001b[39mif\u001b[39;00m results \u001b[39mis\u001b[39;00m \u001b[39mNone\u001b[39;00m:\n",
      "File \u001b[1;32mc:\\_projects\\mole_detection\\moleenv\\lib\\site-packages\\keras_tuner\\engine\\tuner.py:294\u001b[0m, in \u001b[0;36mTuner.run_trial\u001b[1;34m(self, trial, *args, **kwargs)\u001b[0m\n\u001b[0;32m    <a href='file:///c%3A/_projects/mole_detection/moleenv/lib/site-packages/keras_tuner/engine/tuner.py?line=291'>292</a>\u001b[0m     callbacks\u001b[39m.\u001b[39mappend(model_checkpoint)\n\u001b[0;32m    <a href='file:///c%3A/_projects/mole_detection/moleenv/lib/site-packages/keras_tuner/engine/tuner.py?line=292'>293</a>\u001b[0m     copied_kwargs[\u001b[39m\"\u001b[39m\u001b[39mcallbacks\u001b[39m\u001b[39m\"\u001b[39m] \u001b[39m=\u001b[39m callbacks\n\u001b[1;32m--> <a href='file:///c%3A/_projects/mole_detection/moleenv/lib/site-packages/keras_tuner/engine/tuner.py?line=293'>294</a>\u001b[0m     obj_value \u001b[39m=\u001b[39m \u001b[39mself\u001b[39m\u001b[39m.\u001b[39m_build_and_fit_model(trial, \u001b[39m*\u001b[39margs, \u001b[39m*\u001b[39m\u001b[39m*\u001b[39mcopied_kwargs)\n\u001b[0;32m    <a href='file:///c%3A/_projects/mole_detection/moleenv/lib/site-packages/keras_tuner/engine/tuner.py?line=295'>296</a>\u001b[0m     histories\u001b[39m.\u001b[39mappend(obj_value)\n\u001b[0;32m    <a href='file:///c%3A/_projects/mole_detection/moleenv/lib/site-packages/keras_tuner/engine/tuner.py?line=296'>297</a>\u001b[0m \u001b[39mreturn\u001b[39;00m histories\n",
      "File \u001b[1;32mc:\\_projects\\mole_detection\\moleenv\\lib\\site-packages\\autokeras\\engine\\tuner.py:101\u001b[0m, in \u001b[0;36mAutoTuner._build_and_fit_model\u001b[1;34m(self, trial, *args, **kwargs)\u001b[0m\n\u001b[0;32m     <a href='file:///c%3A/_projects/mole_detection/moleenv/lib/site-packages/autokeras/engine/tuner.py?line=96'>97</a>\u001b[0m pipeline\u001b[39m.\u001b[39msave(\u001b[39mself\u001b[39m\u001b[39m.\u001b[39m_pipeline_path(trial\u001b[39m.\u001b[39mtrial_id))\n\u001b[0;32m     <a href='file:///c%3A/_projects/mole_detection/moleenv/lib/site-packages/autokeras/engine/tuner.py?line=98'>99</a>\u001b[0m \u001b[39mself\u001b[39m\u001b[39m.\u001b[39madapt(model, kwargs[\u001b[39m\"\u001b[39m\u001b[39mx\u001b[39m\u001b[39m\"\u001b[39m])\n\u001b[1;32m--> <a href='file:///c%3A/_projects/mole_detection/moleenv/lib/site-packages/autokeras/engine/tuner.py?line=100'>101</a>\u001b[0m _, history \u001b[39m=\u001b[39m utils\u001b[39m.\u001b[39mfit_with_adaptive_batch_size(\n\u001b[0;32m    <a href='file:///c%3A/_projects/mole_detection/moleenv/lib/site-packages/autokeras/engine/tuner.py?line=101'>102</a>\u001b[0m     model, \u001b[39mself\u001b[39m\u001b[39m.\u001b[39mhypermodel\u001b[39m.\u001b[39mbatch_size, \u001b[39m*\u001b[39m\u001b[39m*\u001b[39mkwargs\n\u001b[0;32m    <a href='file:///c%3A/_projects/mole_detection/moleenv/lib/site-packages/autokeras/engine/tuner.py?line=102'>103</a>\u001b[0m )\n\u001b[0;32m    <a href='file:///c%3A/_projects/mole_detection/moleenv/lib/site-packages/autokeras/engine/tuner.py?line=103'>104</a>\u001b[0m \u001b[39mreturn\u001b[39;00m history\n",
      "File \u001b[1;32mc:\\_projects\\mole_detection\\moleenv\\lib\\site-packages\\autokeras\\utils\\utils.py:88\u001b[0m, in \u001b[0;36mfit_with_adaptive_batch_size\u001b[1;34m(model, batch_size, **fit_kwargs)\u001b[0m\n\u001b[0;32m     <a href='file:///c%3A/_projects/mole_detection/moleenv/lib/site-packages/autokeras/utils/utils.py?line=86'>87</a>\u001b[0m \u001b[39mdef\u001b[39;00m \u001b[39mfit_with_adaptive_batch_size\u001b[39m(model, batch_size, \u001b[39m*\u001b[39m\u001b[39m*\u001b[39mfit_kwargs):\n\u001b[1;32m---> <a href='file:///c%3A/_projects/mole_detection/moleenv/lib/site-packages/autokeras/utils/utils.py?line=87'>88</a>\u001b[0m     history \u001b[39m=\u001b[39m run_with_adaptive_batch_size(\n\u001b[0;32m     <a href='file:///c%3A/_projects/mole_detection/moleenv/lib/site-packages/autokeras/utils/utils.py?line=88'>89</a>\u001b[0m         batch_size, \u001b[39mlambda\u001b[39;00m \u001b[39m*\u001b[39m\u001b[39m*\u001b[39mkwargs: model\u001b[39m.\u001b[39mfit(\u001b[39m*\u001b[39m\u001b[39m*\u001b[39mkwargs), \u001b[39m*\u001b[39m\u001b[39m*\u001b[39mfit_kwargs\n\u001b[0;32m     <a href='file:///c%3A/_projects/mole_detection/moleenv/lib/site-packages/autokeras/utils/utils.py?line=89'>90</a>\u001b[0m     )\n\u001b[0;32m     <a href='file:///c%3A/_projects/mole_detection/moleenv/lib/site-packages/autokeras/utils/utils.py?line=90'>91</a>\u001b[0m     \u001b[39mreturn\u001b[39;00m model, history\n",
      "File \u001b[1;32mc:\\_projects\\mole_detection\\moleenv\\lib\\site-packages\\autokeras\\utils\\utils.py:101\u001b[0m, in \u001b[0;36mrun_with_adaptive_batch_size\u001b[1;34m(batch_size, func, **fit_kwargs)\u001b[0m\n\u001b[0;32m     <a href='file:///c%3A/_projects/mole_detection/moleenv/lib/site-packages/autokeras/utils/utils.py?line=98'>99</a>\u001b[0m \u001b[39mwhile\u001b[39;00m batch_size \u001b[39m>\u001b[39m \u001b[39m0\u001b[39m:\n\u001b[0;32m    <a href='file:///c%3A/_projects/mole_detection/moleenv/lib/site-packages/autokeras/utils/utils.py?line=99'>100</a>\u001b[0m     \u001b[39mtry\u001b[39;00m:\n\u001b[1;32m--> <a href='file:///c%3A/_projects/mole_detection/moleenv/lib/site-packages/autokeras/utils/utils.py?line=100'>101</a>\u001b[0m         history \u001b[39m=\u001b[39m func(x\u001b[39m=\u001b[39mx, validation_data\u001b[39m=\u001b[39mvalidation_data, \u001b[39m*\u001b[39m\u001b[39m*\u001b[39mfit_kwargs)\n\u001b[0;32m    <a href='file:///c%3A/_projects/mole_detection/moleenv/lib/site-packages/autokeras/utils/utils.py?line=101'>102</a>\u001b[0m         \u001b[39mbreak\u001b[39;00m\n\u001b[0;32m    <a href='file:///c%3A/_projects/mole_detection/moleenv/lib/site-packages/autokeras/utils/utils.py?line=102'>103</a>\u001b[0m     \u001b[39mexcept\u001b[39;00m tf\u001b[39m.\u001b[39merrors\u001b[39m.\u001b[39mResourceExhaustedError \u001b[39mas\u001b[39;00m e:\n",
      "File \u001b[1;32mc:\\_projects\\mole_detection\\moleenv\\lib\\site-packages\\autokeras\\utils\\utils.py:89\u001b[0m, in \u001b[0;36mfit_with_adaptive_batch_size.<locals>.<lambda>\u001b[1;34m(**kwargs)\u001b[0m\n\u001b[0;32m     <a href='file:///c%3A/_projects/mole_detection/moleenv/lib/site-packages/autokeras/utils/utils.py?line=86'>87</a>\u001b[0m \u001b[39mdef\u001b[39;00m \u001b[39mfit_with_adaptive_batch_size\u001b[39m(model, batch_size, \u001b[39m*\u001b[39m\u001b[39m*\u001b[39mfit_kwargs):\n\u001b[0;32m     <a href='file:///c%3A/_projects/mole_detection/moleenv/lib/site-packages/autokeras/utils/utils.py?line=87'>88</a>\u001b[0m     history \u001b[39m=\u001b[39m run_with_adaptive_batch_size(\n\u001b[1;32m---> <a href='file:///c%3A/_projects/mole_detection/moleenv/lib/site-packages/autokeras/utils/utils.py?line=88'>89</a>\u001b[0m         batch_size, \u001b[39mlambda\u001b[39;00m \u001b[39m*\u001b[39m\u001b[39m*\u001b[39mkwargs: model\u001b[39m.\u001b[39mfit(\u001b[39m*\u001b[39m\u001b[39m*\u001b[39mkwargs), \u001b[39m*\u001b[39m\u001b[39m*\u001b[39mfit_kwargs\n\u001b[0;32m     <a href='file:///c%3A/_projects/mole_detection/moleenv/lib/site-packages/autokeras/utils/utils.py?line=89'>90</a>\u001b[0m     )\n\u001b[0;32m     <a href='file:///c%3A/_projects/mole_detection/moleenv/lib/site-packages/autokeras/utils/utils.py?line=90'>91</a>\u001b[0m     \u001b[39mreturn\u001b[39;00m model, history\n",
      "File \u001b[1;32mc:\\_projects\\mole_detection\\moleenv\\lib\\site-packages\\keras\\utils\\traceback_utils.py:67\u001b[0m, in \u001b[0;36mfilter_traceback.<locals>.error_handler\u001b[1;34m(*args, **kwargs)\u001b[0m\n\u001b[0;32m     <a href='file:///c%3A/_projects/mole_detection/moleenv/lib/site-packages/keras/utils/traceback_utils.py?line=64'>65</a>\u001b[0m \u001b[39mexcept\u001b[39;00m \u001b[39mException\u001b[39;00m \u001b[39mas\u001b[39;00m e:  \u001b[39m# pylint: disable=broad-except\u001b[39;00m\n\u001b[0;32m     <a href='file:///c%3A/_projects/mole_detection/moleenv/lib/site-packages/keras/utils/traceback_utils.py?line=65'>66</a>\u001b[0m   filtered_tb \u001b[39m=\u001b[39m _process_traceback_frames(e\u001b[39m.\u001b[39m__traceback__)\n\u001b[1;32m---> <a href='file:///c%3A/_projects/mole_detection/moleenv/lib/site-packages/keras/utils/traceback_utils.py?line=66'>67</a>\u001b[0m   \u001b[39mraise\u001b[39;00m e\u001b[39m.\u001b[39mwith_traceback(filtered_tb) \u001b[39mfrom\u001b[39;00m \u001b[39mNone\u001b[39m\n\u001b[0;32m     <a href='file:///c%3A/_projects/mole_detection/moleenv/lib/site-packages/keras/utils/traceback_utils.py?line=67'>68</a>\u001b[0m \u001b[39mfinally\u001b[39;00m:\n\u001b[0;32m     <a href='file:///c%3A/_projects/mole_detection/moleenv/lib/site-packages/keras/utils/traceback_utils.py?line=68'>69</a>\u001b[0m   \u001b[39mdel\u001b[39;00m filtered_tb\n",
      "File \u001b[1;32mc:\\_projects\\mole_detection\\moleenv\\lib\\site-packages\\tensorflow\\python\\eager\\execute.py:54\u001b[0m, in \u001b[0;36mquick_execute\u001b[1;34m(op_name, num_outputs, inputs, attrs, ctx, name)\u001b[0m\n\u001b[0;32m     <a href='file:///c%3A/_projects/mole_detection/moleenv/lib/site-packages/tensorflow/python/eager/execute.py?line=51'>52</a>\u001b[0m \u001b[39mtry\u001b[39;00m:\n\u001b[0;32m     <a href='file:///c%3A/_projects/mole_detection/moleenv/lib/site-packages/tensorflow/python/eager/execute.py?line=52'>53</a>\u001b[0m   ctx\u001b[39m.\u001b[39mensure_initialized()\n\u001b[1;32m---> <a href='file:///c%3A/_projects/mole_detection/moleenv/lib/site-packages/tensorflow/python/eager/execute.py?line=53'>54</a>\u001b[0m   tensors \u001b[39m=\u001b[39m pywrap_tfe\u001b[39m.\u001b[39mTFE_Py_Execute(ctx\u001b[39m.\u001b[39m_handle, device_name, op_name,\n\u001b[0;32m     <a href='file:///c%3A/_projects/mole_detection/moleenv/lib/site-packages/tensorflow/python/eager/execute.py?line=54'>55</a>\u001b[0m                                       inputs, attrs, num_outputs)\n\u001b[0;32m     <a href='file:///c%3A/_projects/mole_detection/moleenv/lib/site-packages/tensorflow/python/eager/execute.py?line=55'>56</a>\u001b[0m \u001b[39mexcept\u001b[39;00m core\u001b[39m.\u001b[39m_NotOkStatusException \u001b[39mas\u001b[39;00m e:\n\u001b[0;32m     <a href='file:///c%3A/_projects/mole_detection/moleenv/lib/site-packages/tensorflow/python/eager/execute.py?line=56'>57</a>\u001b[0m   \u001b[39mif\u001b[39;00m name \u001b[39mis\u001b[39;00m \u001b[39mnot\u001b[39;00m \u001b[39mNone\u001b[39;00m:\n",
      "\u001b[1;31mNotFoundError\u001b[0m: Graph execution error:\n\nDetected at node 'gradient_tape/model/conv2d_1/Conv2D/Conv2DBackpropInput' defined at (most recent call last):\n    File \"C:\\Python310\\lib\\runpy.py\", line 196, in _run_module_as_main\n      return _run_code(code, main_globals, None,\n    File \"C:\\Python310\\lib\\runpy.py\", line 86, in _run_code\n      exec(code, run_globals)\n    File \"c:\\_projects\\mole_detection\\moleenv\\lib\\site-packages\\ipykernel_launcher.py\", line 17, in <module>\n      app.launch_new_instance()\n    File \"c:\\_projects\\mole_detection\\moleenv\\lib\\site-packages\\traitlets\\config\\application.py\", line 965, in launch_instance\n      app.start()\n    File \"c:\\_projects\\mole_detection\\moleenv\\lib\\site-packages\\ipykernel\\kernelapp.py\", line 712, in start\n      self.io_loop.start()\n    File \"c:\\_projects\\mole_detection\\moleenv\\lib\\site-packages\\tornado\\platform\\asyncio.py\", line 199, in start\n      self.asyncio_loop.run_forever()\n    File \"C:\\Python310\\lib\\asyncio\\base_events.py\", line 595, in run_forever\n      self._run_once()\n    File \"C:\\Python310\\lib\\asyncio\\base_events.py\", line 1881, in _run_once\n      handle._run()\n    File \"C:\\Python310\\lib\\asyncio\\events.py\", line 80, in _run\n      self._context.run(self._callback, *self._args)\n    File \"c:\\_projects\\mole_detection\\moleenv\\lib\\site-packages\\ipykernel\\kernelbase.py\", line 504, in dispatch_queue\n      await self.process_one()\n    File \"c:\\_projects\\mole_detection\\moleenv\\lib\\site-packages\\ipykernel\\kernelbase.py\", line 493, in process_one\n      await dispatch(*args)\n    File \"c:\\_projects\\mole_detection\\moleenv\\lib\\site-packages\\ipykernel\\kernelbase.py\", line 400, in dispatch_shell\n      await result\n    File \"c:\\_projects\\mole_detection\\moleenv\\lib\\site-packages\\ipykernel\\kernelbase.py\", line 724, in execute_request\n      reply_content = await reply_content\n    File \"c:\\_projects\\mole_detection\\moleenv\\lib\\site-packages\\ipykernel\\ipkernel.py\", line 383, in do_execute\n      res = shell.run_cell(\n    File \"c:\\_projects\\mole_detection\\moleenv\\lib\\site-packages\\ipykernel\\zmqshell.py\", line 528, in run_cell\n      return super().run_cell(*args, **kwargs)\n    File \"c:\\_projects\\mole_detection\\moleenv\\lib\\site-packages\\IPython\\core\\interactiveshell.py\", line 2880, in run_cell\n      result = self._run_cell(\n    File \"c:\\_projects\\mole_detection\\moleenv\\lib\\site-packages\\IPython\\core\\interactiveshell.py\", line 2935, in _run_cell\n      return runner(coro)\n    File \"c:\\_projects\\mole_detection\\moleenv\\lib\\site-packages\\IPython\\core\\async_helpers.py\", line 129, in _pseudo_sync_runner\n      coro.send(None)\n    File \"c:\\_projects\\mole_detection\\moleenv\\lib\\site-packages\\IPython\\core\\interactiveshell.py\", line 3134, in run_cell_async\n      has_raised = await self.run_ast_nodes(code_ast.body, cell_name,\n    File \"c:\\_projects\\mole_detection\\moleenv\\lib\\site-packages\\IPython\\core\\interactiveshell.py\", line 3337, in run_ast_nodes\n      if await self.run_code(code, result, async_=asy):\n    File \"c:\\_projects\\mole_detection\\moleenv\\lib\\site-packages\\IPython\\core\\interactiveshell.py\", line 3397, in run_code\n      exec(code_obj, self.user_global_ns, self.user_ns)\n    File \"C:\\Users\\bakig\\AppData\\Local\\Temp\\ipykernel_12544\\3143019097.py\", line 3, in <cell line: 3>\n      clf.fit(x_train, y_train, epochs=25)\n    File \"c:\\_projects\\mole_detection\\moleenv\\lib\\site-packages\\autokeras\\tasks\\image.py\", line 165, in fit\n      history = super().fit(\n    File \"c:\\_projects\\mole_detection\\moleenv\\lib\\site-packages\\autokeras\\auto_model.py\", line 292, in fit\n      history = self.tuner.search(\n    File \"c:\\_projects\\mole_detection\\moleenv\\lib\\site-packages\\autokeras\\engine\\tuner.py\", line 193, in search\n      super().search(\n    File \"c:\\_projects\\mole_detection\\moleenv\\lib\\site-packages\\keras_tuner\\engine\\base_tuner.py\", line 179, in search\n      results = self.run_trial(trial, *fit_args, **fit_kwargs)\n    File \"c:\\_projects\\mole_detection\\moleenv\\lib\\site-packages\\keras_tuner\\engine\\tuner.py\", line 294, in run_trial\n      obj_value = self._build_and_fit_model(trial, *args, **copied_kwargs)\n    File \"c:\\_projects\\mole_detection\\moleenv\\lib\\site-packages\\autokeras\\engine\\tuner.py\", line 101, in _build_and_fit_model\n      _, history = utils.fit_with_adaptive_batch_size(\n    File \"c:\\_projects\\mole_detection\\moleenv\\lib\\site-packages\\autokeras\\utils\\utils.py\", line 88, in fit_with_adaptive_batch_size\n      history = run_with_adaptive_batch_size(\n    File \"c:\\_projects\\mole_detection\\moleenv\\lib\\site-packages\\autokeras\\utils\\utils.py\", line 101, in run_with_adaptive_batch_size\n      history = func(x=x, validation_data=validation_data, **fit_kwargs)\n    File \"c:\\_projects\\mole_detection\\moleenv\\lib\\site-packages\\autokeras\\utils\\utils.py\", line 89, in <lambda>\n      batch_size, lambda **kwargs: model.fit(**kwargs), **fit_kwargs\n    File \"c:\\_projects\\mole_detection\\moleenv\\lib\\site-packages\\keras\\utils\\traceback_utils.py\", line 64, in error_handler\n      return fn(*args, **kwargs)\n    File \"c:\\_projects\\mole_detection\\moleenv\\lib\\site-packages\\keras\\engine\\training.py\", line 1409, in fit\n      tmp_logs = self.train_function(iterator)\n    File \"c:\\_projects\\mole_detection\\moleenv\\lib\\site-packages\\keras\\engine\\training.py\", line 1051, in train_function\n      return step_function(self, iterator)\n    File \"c:\\_projects\\mole_detection\\moleenv\\lib\\site-packages\\keras\\engine\\training.py\", line 1040, in step_function\n      outputs = model.distribute_strategy.run(run_step, args=(data,))\n    File \"c:\\_projects\\mole_detection\\moleenv\\lib\\site-packages\\keras\\engine\\training.py\", line 1030, in run_step\n      outputs = model.train_step(data)\n    File \"c:\\_projects\\mole_detection\\moleenv\\lib\\site-packages\\keras\\engine\\training.py\", line 893, in train_step\n      self.optimizer.minimize(loss, self.trainable_variables, tape=tape)\n    File \"c:\\_projects\\mole_detection\\moleenv\\lib\\site-packages\\keras\\optimizers\\optimizer_v2\\optimizer_v2.py\", line 537, in minimize\n      grads_and_vars = self._compute_gradients(\n    File \"c:\\_projects\\mole_detection\\moleenv\\lib\\site-packages\\keras\\optimizers\\optimizer_v2\\optimizer_v2.py\", line 590, in _compute_gradients\n      grads_and_vars = self._get_gradients(tape, loss, var_list, grad_loss)\n    File \"c:\\_projects\\mole_detection\\moleenv\\lib\\site-packages\\keras\\optimizers\\optimizer_v2\\optimizer_v2.py\", line 471, in _get_gradients\n      grads = tape.gradient(loss, var_list, grad_loss)\nNode: 'gradient_tape/model/conv2d_1/Conv2D/Conv2DBackpropInput'\nNo algorithm worked!  Error messages:\n  Profiling failure on CUDNN engine 1: RESOURCE_EXHAUSTED: Out of memory while trying to allocate 155627536 bytes.\n  Profiling failure on CUDNN engine 3: RESOURCE_EXHAUSTED: Out of memory while trying to allocate 29032448 bytes.\n  Profiling failure on CUDNN engine 4: RESOURCE_EXHAUSTED: Out of memory while trying to allocate 16982144 bytes.\n  Profiling failure on CUDNN engine 5: RESOURCE_EXHAUSTED: Out of memory while trying to allocate 3732963328 bytes.\n  Profiling failure on CUDNN engine 0: RESOURCE_EXHAUSTED: Out of memory while trying to allocate 16777216 bytes.\n\t [[{{node gradient_tape/model/conv2d_1/Conv2D/Conv2DBackpropInput}}]] [Op:__inference_train_function_6982]"
     ]
    }
   ],
   "source": [
    "#clf.fit(train_generator)\n",
    "\n",
    "clf.fit(x_train, y_train, epochs=25)"
   ]
  },
  {
   "cell_type": "code",
   "execution_count": 4,
   "metadata": {},
   "outputs": [
    {
     "name": "stdout",
     "output_type": "stream",
     "text": [
      "Found 7007 images belonging to 7 classes.\n",
      "Found 2000 images belonging to 7 classes.\n",
      "Found 1008 images belonging to 7 classes.\n"
     ]
    }
   ],
   "source": [
    "image_width, image_height = 28,28\n",
    "\n",
    "train_datagen = ImageDataGenerator(\n",
    "      rescale=1./255,\n",
    "      rotation_range=20,\n",
    "      shear_range=0.2,\n",
    "      zoom_range=0.2,\n",
    "      width_shift_range=0.3,\n",
    "      height_shift_range=0.3,\n",
    "      horizontal_flip=True,\n",
    "      fill_mode='nearest')\n",
    "\n",
    "test_datagen = ImageDataGenerator(rescale = 1./255.)\n",
    "\n",
    "train_generator = train_datagen.flow_from_directory(\n",
    "                    'IMAGES/train/',\n",
    "                    batch_size=128,\n",
    "                    class_mode='categorical',\n",
    "                    shuffle=True,\n",
    "                    target_size=(image_width, image_height)\n",
    ")     \n",
    "\n",
    "val_generator = train_datagen.flow_from_directory(\n",
    "                    'IMAGES/val/',\n",
    "                    batch_size=128,\n",
    "                    class_mode='categorical',\n",
    "                    shuffle=True,\n",
    "                    target_size=(image_width, image_height)\n",
    ")\n",
    "\n",
    "\n",
    "test_generator =  test_datagen.flow_from_directory(\n",
    "                    'IMAGES/test/',\n",
    "                    batch_size=128,\n",
    "                    class_mode='categorical',\n",
    "                    shuffle=True,\n",
    "                    target_size=(image_width, image_height)\n",
    ")"
   ]
  },
  {
   "cell_type": "code",
   "execution_count": 5,
   "metadata": {},
   "outputs": [],
   "source": [
    "early_stop = EarlyStopping(monitor='val_loss', patience=5, verbose=1,mode='auto')\n",
    "learning_rate = ReduceLROnPlateau(monitor='val_loss', factor=0.1, patience=3, verbose=1, mode='auto')"
   ]
  },
  {
   "cell_type": "code",
   "execution_count": 6,
   "metadata": {},
   "outputs": [],
   "source": [
    "\n"
   ]
  },
  {
   "cell_type": "code",
   "execution_count": 7,
   "metadata": {},
   "outputs": [
    {
     "ename": "AttributeError",
     "evalue": "'DirectoryIterator' object has no attribute 'shape'",
     "output_type": "error",
     "traceback": [
      "\u001b[1;31m---------------------------------------------------------------------------\u001b[0m",
      "\u001b[1;31mAttributeError\u001b[0m                            Traceback (most recent call last)",
      "\u001b[1;32mc:\\_projects\\mole_detection\\modeltype.ipynb Cell 11'\u001b[0m in \u001b[0;36m<cell line: 1>\u001b[1;34m()\u001b[0m\n\u001b[1;32m----> <a href='vscode-notebook-cell:/c%3A/_projects/mole_detection/modeltype.ipynb#ch0000064?line=0'>1</a>\u001b[0m clf\u001b[39m.\u001b[39;49mfit(train_generator)\n",
      "File \u001b[1;32mc:\\_projects\\mole_detection\\moleenv\\lib\\site-packages\\autokeras\\tasks\\image.py:165\u001b[0m, in \u001b[0;36mImageClassifier.fit\u001b[1;34m(self, x, y, epochs, callbacks, validation_split, validation_data, **kwargs)\u001b[0m\n\u001b[0;32m    <a href='file:///c%3A/_projects/mole_detection/moleenv/lib/site-packages/autokeras/tasks/image.py?line=107'>108</a>\u001b[0m \u001b[39mdef\u001b[39;00m \u001b[39mfit\u001b[39m(\n\u001b[0;32m    <a href='file:///c%3A/_projects/mole_detection/moleenv/lib/site-packages/autokeras/tasks/image.py?line=108'>109</a>\u001b[0m     \u001b[39mself\u001b[39m,\n\u001b[0;32m    <a href='file:///c%3A/_projects/mole_detection/moleenv/lib/site-packages/autokeras/tasks/image.py?line=109'>110</a>\u001b[0m     x: Optional[types\u001b[39m.\u001b[39mDatasetType] \u001b[39m=\u001b[39m \u001b[39mNone\u001b[39;00m,\n\u001b[1;32m   (...)\u001b[0m\n\u001b[0;32m    <a href='file:///c%3A/_projects/mole_detection/moleenv/lib/site-packages/autokeras/tasks/image.py?line=117'>118</a>\u001b[0m     \u001b[39m*\u001b[39m\u001b[39m*\u001b[39mkwargs\n\u001b[0;32m    <a href='file:///c%3A/_projects/mole_detection/moleenv/lib/site-packages/autokeras/tasks/image.py?line=118'>119</a>\u001b[0m ):\n\u001b[0;32m    <a href='file:///c%3A/_projects/mole_detection/moleenv/lib/site-packages/autokeras/tasks/image.py?line=119'>120</a>\u001b[0m     \u001b[39m\"\"\"Search for the best model and hyperparameters for the AutoModel.\u001b[39;00m\n\u001b[0;32m    <a href='file:///c%3A/_projects/mole_detection/moleenv/lib/site-packages/autokeras/tasks/image.py?line=120'>121</a>\u001b[0m \n\u001b[0;32m    <a href='file:///c%3A/_projects/mole_detection/moleenv/lib/site-packages/autokeras/tasks/image.py?line=121'>122</a>\u001b[0m \u001b[39m    It will search for the best model based on the performances on\u001b[39;00m\n\u001b[1;32m   (...)\u001b[0m\n\u001b[0;32m    <a href='file:///c%3A/_projects/mole_detection/moleenv/lib/site-packages/autokeras/tasks/image.py?line=162'>163</a>\u001b[0m \u001b[39m            validation loss values and validation metrics values (if applicable).\u001b[39;00m\n\u001b[0;32m    <a href='file:///c%3A/_projects/mole_detection/moleenv/lib/site-packages/autokeras/tasks/image.py?line=163'>164</a>\u001b[0m \u001b[39m    \"\"\"\u001b[39;00m\n\u001b[1;32m--> <a href='file:///c%3A/_projects/mole_detection/moleenv/lib/site-packages/autokeras/tasks/image.py?line=164'>165</a>\u001b[0m     history \u001b[39m=\u001b[39m \u001b[39msuper\u001b[39m()\u001b[39m.\u001b[39mfit(\n\u001b[0;32m    <a href='file:///c%3A/_projects/mole_detection/moleenv/lib/site-packages/autokeras/tasks/image.py?line=165'>166</a>\u001b[0m         x\u001b[39m=\u001b[39mx,\n\u001b[0;32m    <a href='file:///c%3A/_projects/mole_detection/moleenv/lib/site-packages/autokeras/tasks/image.py?line=166'>167</a>\u001b[0m         y\u001b[39m=\u001b[39my,\n\u001b[0;32m    <a href='file:///c%3A/_projects/mole_detection/moleenv/lib/site-packages/autokeras/tasks/image.py?line=167'>168</a>\u001b[0m         epochs\u001b[39m=\u001b[39mepochs,\n\u001b[0;32m    <a href='file:///c%3A/_projects/mole_detection/moleenv/lib/site-packages/autokeras/tasks/image.py?line=168'>169</a>\u001b[0m         callbacks\u001b[39m=\u001b[39mcallbacks,\n\u001b[0;32m    <a href='file:///c%3A/_projects/mole_detection/moleenv/lib/site-packages/autokeras/tasks/image.py?line=169'>170</a>\u001b[0m         validation_split\u001b[39m=\u001b[39mvalidation_split,\n\u001b[0;32m    <a href='file:///c%3A/_projects/mole_detection/moleenv/lib/site-packages/autokeras/tasks/image.py?line=170'>171</a>\u001b[0m         validation_data\u001b[39m=\u001b[39mvalidation_data,\n\u001b[0;32m    <a href='file:///c%3A/_projects/mole_detection/moleenv/lib/site-packages/autokeras/tasks/image.py?line=171'>172</a>\u001b[0m         \u001b[39m*\u001b[39m\u001b[39m*\u001b[39mkwargs\n\u001b[0;32m    <a href='file:///c%3A/_projects/mole_detection/moleenv/lib/site-packages/autokeras/tasks/image.py?line=172'>173</a>\u001b[0m     )\n\u001b[0;32m    <a href='file:///c%3A/_projects/mole_detection/moleenv/lib/site-packages/autokeras/tasks/image.py?line=173'>174</a>\u001b[0m     \u001b[39mreturn\u001b[39;00m history\n",
      "File \u001b[1;32mc:\\_projects\\mole_detection\\moleenv\\lib\\site-packages\\autokeras\\auto_model.py:280\u001b[0m, in \u001b[0;36mAutoModel.fit\u001b[1;34m(self, x, y, batch_size, epochs, callbacks, validation_split, validation_data, verbose, **kwargs)\u001b[0m\n\u001b[0;32m    <a href='file:///c%3A/_projects/mole_detection/moleenv/lib/site-packages/autokeras/auto_model.py?line=276'>277</a>\u001b[0m \u001b[39mif\u001b[39;00m validation_data:\n\u001b[0;32m    <a href='file:///c%3A/_projects/mole_detection/moleenv/lib/site-packages/autokeras/auto_model.py?line=277'>278</a>\u001b[0m     validation_split \u001b[39m=\u001b[39m \u001b[39m0\u001b[39m\n\u001b[1;32m--> <a href='file:///c%3A/_projects/mole_detection/moleenv/lib/site-packages/autokeras/auto_model.py?line=279'>280</a>\u001b[0m dataset, validation_data \u001b[39m=\u001b[39m \u001b[39mself\u001b[39;49m\u001b[39m.\u001b[39;49m_convert_to_dataset(\n\u001b[0;32m    <a href='file:///c%3A/_projects/mole_detection/moleenv/lib/site-packages/autokeras/auto_model.py?line=280'>281</a>\u001b[0m     x\u001b[39m=\u001b[39;49mx, y\u001b[39m=\u001b[39;49my, validation_data\u001b[39m=\u001b[39;49mvalidation_data, batch_size\u001b[39m=\u001b[39;49mbatch_size\n\u001b[0;32m    <a href='file:///c%3A/_projects/mole_detection/moleenv/lib/site-packages/autokeras/auto_model.py?line=281'>282</a>\u001b[0m )\n\u001b[0;32m    <a href='file:///c%3A/_projects/mole_detection/moleenv/lib/site-packages/autokeras/auto_model.py?line=282'>283</a>\u001b[0m \u001b[39mself\u001b[39m\u001b[39m.\u001b[39m_analyze_data(dataset)\n\u001b[0;32m    <a href='file:///c%3A/_projects/mole_detection/moleenv/lib/site-packages/autokeras/auto_model.py?line=283'>284</a>\u001b[0m \u001b[39mself\u001b[39m\u001b[39m.\u001b[39m_build_hyper_pipeline(dataset)\n",
      "File \u001b[1;32mc:\\_projects\\mole_detection\\moleenv\\lib\\site-packages\\autokeras\\auto_model.py:393\u001b[0m, in \u001b[0;36mAutoModel._convert_to_dataset\u001b[1;34m(self, x, y, validation_data, batch_size)\u001b[0m\n\u001b[0;32m    <a href='file:///c%3A/_projects/mole_detection/moleenv/lib/site-packages/autokeras/auto_model.py?line=388'>389</a>\u001b[0m \u001b[39m\"\"\"Convert the data to tf.data.Dataset.\"\"\"\u001b[39;00m\n\u001b[0;32m    <a href='file:///c%3A/_projects/mole_detection/moleenv/lib/site-packages/autokeras/auto_model.py?line=389'>390</a>\u001b[0m \u001b[39m# TODO: Handle other types of input, zip dataset, tensor, dict.\u001b[39;00m\n\u001b[0;32m    <a href='file:///c%3A/_projects/mole_detection/moleenv/lib/site-packages/autokeras/auto_model.py?line=390'>391</a>\u001b[0m \n\u001b[0;32m    <a href='file:///c%3A/_projects/mole_detection/moleenv/lib/site-packages/autokeras/auto_model.py?line=391'>392</a>\u001b[0m \u001b[39m# Convert training data.\u001b[39;00m\n\u001b[1;32m--> <a href='file:///c%3A/_projects/mole_detection/moleenv/lib/site-packages/autokeras/auto_model.py?line=392'>393</a>\u001b[0m \u001b[39mself\u001b[39;49m\u001b[39m.\u001b[39;49m_check_data_format((x, y))\n\u001b[0;32m    <a href='file:///c%3A/_projects/mole_detection/moleenv/lib/site-packages/autokeras/auto_model.py?line=393'>394</a>\u001b[0m \u001b[39mif\u001b[39;00m \u001b[39misinstance\u001b[39m(x, tf\u001b[39m.\u001b[39mdata\u001b[39m.\u001b[39mDataset):\n\u001b[0;32m    <a href='file:///c%3A/_projects/mole_detection/moleenv/lib/site-packages/autokeras/auto_model.py?line=394'>395</a>\u001b[0m     dataset \u001b[39m=\u001b[39m x\n",
      "File \u001b[1;32mc:\\_projects\\mole_detection\\moleenv\\lib\\site-packages\\autokeras\\auto_model.py:344\u001b[0m, in \u001b[0;36mAutoModel._check_data_format\u001b[1;34m(self, dataset, validation, predict)\u001b[0m\n\u001b[0;32m    <a href='file:///c%3A/_projects/mole_detection/moleenv/lib/site-packages/autokeras/auto_model.py?line=341'>342</a>\u001b[0m         x_shapes \u001b[39m=\u001b[39m nest\u001b[39m.\u001b[39mflatten(data_utils\u001b[39m.\u001b[39mdataset_shape(x))\n\u001b[0;32m    <a href='file:///c%3A/_projects/mole_detection/moleenv/lib/site-packages/autokeras/auto_model.py?line=342'>343</a>\u001b[0m \u001b[39melse\u001b[39;00m:\n\u001b[1;32m--> <a href='file:///c%3A/_projects/mole_detection/moleenv/lib/site-packages/autokeras/auto_model.py?line=343'>344</a>\u001b[0m     x_shapes \u001b[39m=\u001b[39m [a\u001b[39m.\u001b[39mshape \u001b[39mfor\u001b[39;00m a \u001b[39min\u001b[39;00m nest\u001b[39m.\u001b[39mflatten(x)]\n\u001b[0;32m    <a href='file:///c%3A/_projects/mole_detection/moleenv/lib/site-packages/autokeras/auto_model.py?line=344'>345</a>\u001b[0m     \u001b[39mif\u001b[39;00m \u001b[39mnot\u001b[39;00m predict:\n\u001b[0;32m    <a href='file:///c%3A/_projects/mole_detection/moleenv/lib/site-packages/autokeras/auto_model.py?line=345'>346</a>\u001b[0m         y_shapes \u001b[39m=\u001b[39m [a\u001b[39m.\u001b[39mshape \u001b[39mfor\u001b[39;00m a \u001b[39min\u001b[39;00m nest\u001b[39m.\u001b[39mflatten(y)]\n",
      "File \u001b[1;32mc:\\_projects\\mole_detection\\moleenv\\lib\\site-packages\\autokeras\\auto_model.py:344\u001b[0m, in \u001b[0;36m<listcomp>\u001b[1;34m(.0)\u001b[0m\n\u001b[0;32m    <a href='file:///c%3A/_projects/mole_detection/moleenv/lib/site-packages/autokeras/auto_model.py?line=341'>342</a>\u001b[0m         x_shapes \u001b[39m=\u001b[39m nest\u001b[39m.\u001b[39mflatten(data_utils\u001b[39m.\u001b[39mdataset_shape(x))\n\u001b[0;32m    <a href='file:///c%3A/_projects/mole_detection/moleenv/lib/site-packages/autokeras/auto_model.py?line=342'>343</a>\u001b[0m \u001b[39melse\u001b[39;00m:\n\u001b[1;32m--> <a href='file:///c%3A/_projects/mole_detection/moleenv/lib/site-packages/autokeras/auto_model.py?line=343'>344</a>\u001b[0m     x_shapes \u001b[39m=\u001b[39m [a\u001b[39m.\u001b[39;49mshape \u001b[39mfor\u001b[39;00m a \u001b[39min\u001b[39;00m nest\u001b[39m.\u001b[39mflatten(x)]\n\u001b[0;32m    <a href='file:///c%3A/_projects/mole_detection/moleenv/lib/site-packages/autokeras/auto_model.py?line=344'>345</a>\u001b[0m     \u001b[39mif\u001b[39;00m \u001b[39mnot\u001b[39;00m predict:\n\u001b[0;32m    <a href='file:///c%3A/_projects/mole_detection/moleenv/lib/site-packages/autokeras/auto_model.py?line=345'>346</a>\u001b[0m         y_shapes \u001b[39m=\u001b[39m [a\u001b[39m.\u001b[39mshape \u001b[39mfor\u001b[39;00m a \u001b[39min\u001b[39;00m nest\u001b[39m.\u001b[39mflatten(y)]\n",
      "\u001b[1;31mAttributeError\u001b[0m: 'DirectoryIterator' object has no attribute 'shape'"
     ]
    }
   ],
   "source": [
    "clf.fit(train_generator)"
   ]
  },
  {
   "cell_type": "code",
   "execution_count": null,
   "metadata": {},
   "outputs": [],
   "source": [
    "def create_model():\n",
    "    model = Sequential()\n",
    "    \n",
    "    model.add(Conv2D(16, kernel_size = (3,3), input_shape = (YPIXEL, XPIXEL, 3), activation = 'relu', padding = 'same'))\n",
    "    model.add(MaxPool2D(pool_size = (2,2)))\n",
    "\n",
    "    model.add(Conv2D(32, kernel_size = (3,3), activation = 'relu', padding = 'same'))\n",
    "    model.add(MaxPool2D(pool_size = (2,2), padding = 'same'))\n",
    "\n",
    "    model.add(Conv2D(64, kernel_size = (3,3), activation = 'relu', padding = 'same'))\n",
    "    model.add(MaxPool2D(pool_size = (2,2), padding = 'same'))\n",
    "    model.add(Conv2D(128, kernel_size = (3,3), activation = 'relu', padding = 'same'))\n",
    "    model.add(MaxPool2D(pool_size = (2,2), padding = 'same'))\n",
    "\n",
    "    model.add(Flatten())\n",
    "    model.add(Dense(128, activation = 'relu'))\n",
    "    model.add(Dense(64, activation = 'relu'))\n",
    "    model.add(Dense(32, activation='relu'))\n",
    "    model.add(Dense(7, activation='softmax'))\n",
    "\n",
    "    optimizer = tf.keras.optimizers.Adam(learning_rate = 0.001)\n",
    "\n",
    "    model.compile(loss = 'sparse_categorical_crossentropy',\n",
    "                 optimizer = optimizer,\n",
    "                  metrics = ['accuracy'])\n",
    "    print(model.summary())\n",
    "    return model"
   ]
  },
  {
   "cell_type": "code",
   "execution_count": null,
   "metadata": {},
   "outputs": [],
   "source": [
    "base_model = tf.keras.applications.Xception(\n",
    "    weights='imagenet',  # \n",
    "    input_shape=(299, 299, 3),\n",
    "    include_top=False)  # \n",
    "base_model.trainable = False\n",
    "\n",
    "\n",
    "# inputs = tf.keras.Input(shape=(299, 299, 3))\n",
    "\n",
    "# x = base_model(inputs, training=True)\n",
    "\n",
    "# x = tf.keras.layers.GlobalAveragePooling2D()(x)\n",
    "\n",
    "# outputs = tf.keras.layers.Dense(7,activation='softmax')(x)\n",
    "# model = tf.keras.Model(inputs, outputs)\n"
   ]
  },
  {
   "cell_type": "code",
   "execution_count": null,
   "metadata": {},
   "outputs": [],
   "source": [
    "model=create_model()"
   ]
  },
  {
   "cell_type": "code",
   "execution_count": null,
   "metadata": {},
   "outputs": [],
   "source": [
    "#model = tf.keras.applications.Xception(weights=None, input_shape=(120, 90, 3), classes=7)\n",
    "model.compile(optimizer='adam', loss='categorical_crossentropy',metrics = ['accuracy'])\n",
    "history2 = model.fit(train_generator,validation_data=val_generator, batch_size = 48, epochs = 50,callbacks = [learning_rate, early_stop])"
   ]
  },
  {
   "cell_type": "code",
   "execution_count": null,
   "metadata": {},
   "outputs": [],
   "source": [
    "history2.model.evaluate(test_generator)\n"
   ]
  },
  {
   "cell_type": "code",
   "execution_count": null,
   "metadata": {},
   "outputs": [],
   "source": [
    "# load and iterate training dataset\n",
    "train_it = tf.keras.utils.image_dataset_from_directory('images/train/', batch_size=64,image_size=(XPIXEL,YPIXEL))\n",
    "train_it = train_it.map(process)\n",
    "\n",
    "\n",
    "# load and iterate validation dataset\n",
    "val_it = tf.keras.utils.image_dataset_from_directory('images/val/',  batch_size=64,image_size=(XPIXEL,YPIXEL))\n",
    "val_it = val_it.map(process)\n",
    "# load and iterate test dataset\n",
    "test_it = tf.keras.utils.image_dataset_from_directory('images/test/',batch_size=64,image_size=(XPIXEL,YPIXEL))\n",
    "test_it = test_it.map(process)"
   ]
  },
  {
   "cell_type": "code",
   "execution_count": null,
   "metadata": {},
   "outputs": [],
   "source": []
  },
  {
   "cell_type": "code",
   "execution_count": null,
   "metadata": {},
   "outputs": [],
   "source": [
    "base_model = tf.keras.applications.Xception(\n",
    "    weights='imagenet',  # Load weights pre-trained on ImageNet.\n",
    "    input_shape=(299, 299, 3),\n",
    "    include_top=False)  # Do not include the ImageNet classifier at the top.\n",
    "base_model.trainable = False\n",
    "\n",
    "\n",
    "\n",
    "inputs = tf.keras.Input(shape=(299, 299, 3))\n",
    "# We make sure that the base_model is running in inference mode here,\n",
    "# by passing `training=False`. This is important for fine-tuning, as you will\n",
    "# learn in a few paragraphs.\n",
    "x = base_model(inputs, training=True)\n",
    "# Convert features of shape `base_model.output_shape[1:]` to vectors\n",
    "x = tf.keras.layers.GlobalAveragePooling2D()(x)\n",
    "# A Dense classifier with a single unit (binary classification)\n",
    "outputs = tf.keras.layers.Dense(7,activation='softmax')(x)\n",
    "model = tf.keras.Model(inputs, outputs)\n",
    "\n"
   ]
  },
  {
   "cell_type": "code",
   "execution_count": null,
   "metadata": {},
   "outputs": [],
   "source": [
    "def create_model():\n",
    "    model = Sequential()\n",
    "    \n",
    "    model.add(Conv2D(16, kernel_size = (3,3), input_shape = (YPIXEL, XPIXEL, 3), activation = 'relu', padding = 'same'))\n",
    "    model.add(MaxPool2D(pool_size = (2,2)))\n",
    "\n",
    "    model.add(Conv2D(32, kernel_size = (3,3), activation = 'relu', padding = 'same'))\n",
    "    model.add(MaxPool2D(pool_size = (2,2), padding = 'same'))\n",
    "\n",
    "    model.add(Conv2D(64, kernel_size = (3,3), activation = 'relu', padding = 'same'))\n",
    "    model.add(MaxPool2D(pool_size = (2,2), padding = 'same'))\n",
    "    model.add(Conv2D(128, kernel_size = (3,3), activation = 'relu', padding = 'same'))\n",
    "    model.add(MaxPool2D(pool_size = (2,2), padding = 'same'))\n",
    "\n",
    "    model.add(Flatten())\n",
    "    model.add(Dense(128, activation = 'relu'))\n",
    "    model.add(Dense(64, activation = 'relu'))\n",
    "    model.add(Dense(32, activation='relu'))\n",
    "    model.add(Dense(7, activation='softmax'))\n",
    "\n",
    "    optimizer = tf.keras.optimizers.Adam(learning_rate = 0.001)\n",
    "\n",
    "    model.compile(loss = 'sparse_categorical_crossentropy',\n",
    "                 optimizer = optimizer,\n",
    "                  metrics = ['accuracy'])\n",
    "    print(model.summary())\n",
    "    return model"
   ]
  },
  {
   "cell_type": "code",
   "execution_count": null,
   "metadata": {},
   "outputs": [],
   "source": [
    "#model = tf.keras.applications.Xception(weights=None, input_shape=(120, 90, 3), classes=7)\n",
    "model.compile(optimizer='adam', loss='sparse_categorical_crossentropy',metrics = ['accuracy'])\n",
    "\n",
    "\n",
    "\n",
    "history2 = model.fit(train_it,validation_data=val_it, batch_size = 48, epochs = 50,callbacks = [learning_rate, early_stop])\n",
    "\n",
    "\n",
    "\n"
   ]
  },
  {
   "cell_type": "code",
   "execution_count": null,
   "metadata": {},
   "outputs": [],
   "source": [
    "history2.model.evaluate(test_it)\n"
   ]
  },
  {
   "cell_type": "markdown",
   "metadata": {},
   "source": [
    "### Load data with datagen  - no need for now "
   ]
  },
  {
   "cell_type": "markdown",
   "metadata": {},
   "source": [
    "###  optional test later directly put images to datasets"
   ]
  },
  {
   "cell_type": "code",
   "execution_count": null,
   "metadata": {},
   "outputs": [],
   "source": [
    "train_ds = tf.keras.utils.image_dataset_from_directory(\n",
    "  'images/train',\n",
    "  \n",
    "  seed=123,\n",
    "  image_size=(YPIXEL,XPIXEL),\n",
    "  batch_size=64)\n",
    "\n",
    "val_ds = tf.keras.utils.image_dataset_from_directory(\n",
    "  'images/val',\n",
    "  \n",
    "  seed=123,\n",
    "  image_size=(YPIXEL,XPIXEL),\n",
    "  batch_size=64)\n",
    "\n",
    "test_ds = tf.keras.utils.image_dataset_from_directory(\n",
    "  'images/test',\n",
    "  \n",
    "  seed=123,\n",
    "  image_size=(YPIXEL,XPIXEL),\n",
    "  batch_size=64)\n"
   ]
  },
  {
   "cell_type": "code",
   "execution_count": null,
   "metadata": {},
   "outputs": [],
   "source": [
    "model=create_model()"
   ]
  },
  {
   "cell_type": "code",
   "execution_count": null,
   "metadata": {},
   "outputs": [],
   "source": [
    "early_stop = EarlyStopping(monitor='val_loss', patience=8, verbose=1,mode='auto')\n",
    "                            \n",
    "\n",
    "learning_rate = ReduceLROnPlateau(monitor='val_loss', factor=0.1, patience=3, verbose=1, mode='auto')\n",
    "\n",
    "history2 = model.fit(train_it,validation_data=val_it, batch_size = 24, epochs = 50,callbacks = [learning_rate, early_stop])\n",
    "\n",
    "\n",
    "#"
   ]
  },
  {
   "cell_type": "code",
   "execution_count": null,
   "metadata": {},
   "outputs": [],
   "source": [
    "history2.model.evaluate(test_it)"
   ]
  },
  {
   "cell_type": "code",
   "execution_count": null,
   "metadata": {},
   "outputs": [],
   "source": [
    "test_it. donttestit fuck_it"
   ]
  },
  {
   "cell_type": "code",
   "execution_count": null,
   "metadata": {},
   "outputs": [],
   "source": [
    "y = np.concatenate([y for x, y in test_it], axis=0)\n"
   ]
  },
  {
   "cell_type": "code",
   "execution_count": null,
   "metadata": {},
   "outputs": [],
   "source": [
    "y_pred = model.predict(test_it)"
   ]
  },
  {
   "cell_type": "code",
   "execution_count": null,
   "metadata": {},
   "outputs": [],
   "source": [
    "y_pred[0]"
   ]
  },
  {
   "cell_type": "code",
   "execution_count": null,
   "metadata": {},
   "outputs": [],
   "source": [
    "for element in test_it.as_numpy_iterator(): \n",
    "  print(element) \n"
   ]
  },
  {
   "cell_type": "code",
   "execution_count": null,
   "metadata": {},
   "outputs": [],
   "source": [
    "\n",
    "predicted_categories = tf.argmax(y_pred, axis=1)\n",
    "#true_categories = tf.concat([y for x, y in test_it], axis=0)\n",
    "# confusion_matrix(predicted_categories, true_categories)\n",
    "\n",
    "\n",
    "matrix = confusion_matrix(y, y_pred.argmax(axis=1))\n",
    "matrix\n"
   ]
  },
  {
   "cell_type": "code",
   "execution_count": null,
   "metadata": {},
   "outputs": [],
   "source": [
    "true_categories"
   ]
  },
  {
   "cell_type": "code",
   "execution_count": null,
   "metadata": {},
   "outputs": [],
   "source": [
    "y_pred[20]"
   ]
  },
  {
   "cell_type": "code",
   "execution_count": null,
   "metadata": {},
   "outputs": [],
   "source": [
    "true_categories[20]"
   ]
  },
  {
   "cell_type": "code",
   "execution_count": null,
   "metadata": {},
   "outputs": [],
   "source": [
    "q=y_pred[0]"
   ]
  },
  {
   "cell_type": "code",
   "execution_count": null,
   "metadata": {},
   "outputs": [],
   "source": [
    "q=q*100\n",
    "q"
   ]
  },
  {
   "cell_type": "code",
   "execution_count": null,
   "metadata": {},
   "outputs": [],
   "source": [
    "predicted_categories \n",
    "true_categories"
   ]
  },
  {
   "cell_type": "code",
   "execution_count": null,
   "metadata": {},
   "outputs": [],
   "source": [
    "\n",
    "model.evaluate(test_ds)"
   ]
  },
  {
   "cell_type": "code",
   "execution_count": null,
   "metadata": {},
   "outputs": [],
   "source": [
    "\n"
   ]
  },
  {
   "cell_type": "code",
   "execution_count": null,
   "metadata": {},
   "outputs": [],
   "source": [
    "\n",
    "predictions = model.predict(test_ds)\n",
    "labels = test_ds\n",
    " \n",
    "# Printing the input tensor\n",
    "print('labels: ',labels)\n",
    "print('Predictions: ',predictions)\n",
    " \n",
    "# Evaluating confusion matrix\n",
    "res = tf.math.confusion_matrix(labels,predictions)\n",
    " \n",
    "# Printing the result\n",
    "print('Confusion_matrix: ',res)"
   ]
  },
  {
   "cell_type": "code",
   "execution_count": null,
   "metadata": {},
   "outputs": [],
   "source": [
    "early_stop = EarlyStopping(monitor='val_loss', patience=8, verbose=1,mode='auto')\n",
    "                            \n",
    "\n",
    "learning_rate = ReduceLROnPlateau(monitor='val_loss', factor=0.1, patience=3, verbose=1, mode='auto')\n",
    "\n",
    "history = model.fit(train_it,validation_data=val_it, batch_size = 24, epochs = 50,callbacks = [learning_rate, early_stop])\n",
    "\n",
    "\n",
    "#"
   ]
  },
  {
   "cell_type": "markdown",
   "metadata": {},
   "source": [
    "#### Loss and accuracy curves for training and val sets"
   ]
  },
  {
   "cell_type": "code",
   "execution_count": null,
   "metadata": {},
   "outputs": [],
   "source": [
    "g, ax = plt.subplots(2,1)\n",
    "ax[0].plot(history2.history['loss'], color='g', label=\"Training loss\")\n",
    "ax[0].plot(history2.history['val_loss'], color='r', label=\"Validation loss\",axes =ax[0])\n",
    "legend = ax[0].legend(loc='best', shadow=True)\n",
    "\n",
    "ax[1].plot(history2.history['accuracy'], color='g', label=\"Training accuracy\")\n",
    "ax[1].plot(history2.history['val_accuracy'], color='r',label=\"Validation accuracy\")\n",
    "legend = ax[1].legend(loc='best', shadow=True)"
   ]
  },
  {
   "cell_type": "code",
   "execution_count": null,
   "metadata": {},
   "outputs": [],
   "source": [
    "loss = model.evaluate(test_it)"
   ]
  },
  {
   "cell_type": "code",
   "execution_count": null,
   "metadata": {},
   "outputs": [],
   "source": [
    "def test_model(model:Sequential, X_test, Y_test):\n",
    "    model_acc = model.evaluate(X_test, Y_test, verbose=0)[1]\n",
    "    print(\"Test Accuracy: {:.3f}%\".format(model_acc * 100))\n",
    "    y_true = np.array(Y_test)\n",
    "    y_pred = model.predict(X_test)\n",
    "    y_pred=np.round(y_pred,0)\n",
    "    #y_pred = np.array(list(map(lambda x: np.argmax(x), y_pred)))\n",
    "    clr = classification_report(y_true, y_pred, target_names=label_mapping.values())\n",
    "    print(clr)\n",
    "    cm=confusion_matrix(y_true, y_pred)\n",
    "    plot_confusion_matrix(cm,label_mapping,\"44\")\n",
    "    print(cm)\n",
    "\n",
    "    plt.show() "
   ]
  },
  {
   "cell_type": "code",
   "execution_count": null,
   "metadata": {},
   "outputs": [],
   "source": [
    "y_true = test_it.classes\n",
    "\n",
    "y_pred = model.predict(test_it)\n",
    "\n",
    "y_pred = np.array(list(map(lambda x: np.argmax(x), y_pred)))\n",
    "clr = classification_report(y_true, y_pred, target_names=label_mapping.values())\n",
    "print(clr)\n",
    "cm=confusion_matrix(y_true, y_pred)\n",
    "#plot_confusion_matrix(cm,label_mapping,\"44\")\n",
    "print(cm)\n",
    "\n",
    "plt.show() \n",
    "\n",
    "\n",
    "\n",
    "\n",
    "\n"
   ]
  },
  {
   "cell_type": "code",
   "execution_count": null,
   "metadata": {},
   "outputs": [],
   "source": [
    "\n",
    "test_it.classes"
   ]
  },
  {
   "cell_type": "code",
   "execution_count": null,
   "metadata": {},
   "outputs": [],
   "source": []
  },
  {
   "cell_type": "code",
   "execution_count": null,
   "metadata": {},
   "outputs": [],
   "source": [
    "def plot_confusion_matrix(cm, classes, name,\n",
    "                          normalize=False,\n",
    "                          title='Confusion matrix',\n",
    "                          cmap=plt.cm.Greens):\n",
    "    \n",
    "    plt.figure(figsize=(8,6))\n",
    "    plt.imshow(cm, interpolation='nearest', cmap=cmap)\n",
    "    plt.title(name)\n",
    "    plt.colorbar()\n",
    "    tick_marks = np.arange(len(classes))\n",
    "    plt.xticks(tick_marks, classes, rotation=45)\n",
    "    plt.yticks(tick_marks, classes)\n",
    "\n",
    "    if normalize:\n",
    "        cm = cm.astype('float') / cm.sum(axis=1)[:, np.newaxis]\n",
    "\n",
    "    thresh = cm.max() / 2.\n",
    "    for i, j in itertools.product(range(cm.shape[0]), range(cm.shape[1])):\n",
    "        plt.text(j, i, cm[i, j],\n",
    "                 horizontalalignment=\"center\",\n",
    "                 color=\"white\" if cm[i, j] > thresh else \"black\")\n",
    "\n",
    "   \n",
    "    plt.tight_layout()\n",
    "    plt.ylabel('True Labels')\n",
    "    plt.xlabel('Predicted Labels')\n",
    "    fig = plt\n",
    "    fig.savefig('_confusion_matrix.png', dpi=300)"
   ]
  },
  {
   "cell_type": "markdown",
   "metadata": {},
   "source": [
    "### Create train and test datas for original and augumented datasets"
   ]
  },
  {
   "cell_type": "code",
   "execution_count": null,
   "metadata": {},
   "outputs": [],
   "source": [
    "# For Original Dataset\n",
    "X_train, X_test, Y_train, Y_test = train_test(X, Y)\n",
    "#Augemented dataset\n",
    "#X_train_aug, X_test_aug, Y_train_aug, Y_test_aug = train_test(X_aug, Y_aug)\n",
    "print(X_train.shape)\n",
    "#print(X_train_aug.shape)\n",
    "\n"
   ]
  },
  {
   "cell_type": "markdown",
   "metadata": {},
   "source": [
    "### Create the Model"
   ]
  },
  {
   "cell_type": "code",
   "execution_count": null,
   "metadata": {},
   "outputs": [],
   "source": [
    "model = create_model()"
   ]
  },
  {
   "cell_type": "code",
   "execution_count": null,
   "metadata": {},
   "outputs": [],
   "source": [
    "model_history = train_model(model, X_train, Y_train, 50)"
   ]
  },
  {
   "cell_type": "code",
   "execution_count": null,
   "metadata": {},
   "outputs": [],
   "source": []
  },
  {
   "cell_type": "markdown",
   "metadata": {},
   "source": [
    "### Saving the model for deployment "
   ]
  },
  {
   "cell_type": "code",
   "execution_count": null,
   "metadata": {},
   "outputs": [],
   "source": [
    "model_json = model.to_json()\n",
    "with open(\"modelbm.json\", \"w\") as json_file:\n",
    "    json_file.write(model_json)\n",
    "model.save_weights(\"modelbm.h5\")"
   ]
  },
  {
   "cell_type": "markdown",
   "metadata": {},
   "source": [
    "### Test Model"
   ]
  },
  {
   "cell_type": "code",
   "execution_count": null,
   "metadata": {},
   "outputs": [],
   "source": [
    "test_model(model, X_test, Y_test)"
   ]
  },
  {
   "cell_type": "markdown",
   "metadata": {},
   "source": [
    "### Prediction for only one image"
   ]
  },
  {
   "cell_type": "code",
   "execution_count": null,
   "metadata": {},
   "outputs": [],
   "source": [
    "def predict_one_image(image_nr):\n",
    "\n",
    "    predict_only_one = data.iloc[image_nr]\n",
    "    print(\"Imid :\" ,predict_only_one.image_id)\n",
    "    print(\"Real :\" ,predict_only_one.bm)\n",
    "    \n",
    "    new_one = predict_only_one.image_pixel.reshape((1,90,120,3))\n",
    "    preds=model.predict(new_one)[0][0]\n",
    "    \n",
    "    max_index_col = np.round(preds,0)\n",
    "\n",
    "    if preds<0.5:\n",
    "        preds=1-preds\n",
    "        \n",
    "\n",
    "    pred_probabilty = \" % {:.2f}\".format(preds*100)\n",
    "    preds=np.round(preds,0)\n",
    "       \n",
    "    result=label_mapping.get(max_index_col) + pred_probabilty\n",
    "    print(\"Pred :\", result)\n",
    "\n",
    "    sample_data = predict_only_one['image_pixel']\n",
    "    plt.figure(figsize=(10, 10))\n",
    "    plt.imshow(sample_data)\n",
    "    plt.axis(\"off\")\n",
    "    plt.show() \n"
   ]
  },
  {
   "cell_type": "code",
   "execution_count": null,
   "metadata": {},
   "outputs": [],
   "source": [
    "predict_one_image(18)"
   ]
  }
 ],
 "metadata": {
  "interpreter": {
   "hash": "66a43da4e70cc3f7b73382e30a4177bdcdabfb5ea46b21e7b3ca8c5de37a9ea1"
  },
  "kernelspec": {
   "display_name": "Python 3.10.2 ('moleenv': venv)",
   "language": "python",
   "name": "python3"
  },
  "language_info": {
   "codemirror_mode": {
    "name": "ipython",
    "version": 3
   },
   "file_extension": ".py",
   "mimetype": "text/x-python",
   "name": "python",
   "nbconvert_exporter": "python",
   "pygments_lexer": "ipython3",
   "version": "3.10.2"
  },
  "orig_nbformat": 4
 },
 "nbformat": 4,
 "nbformat_minor": 2
}
