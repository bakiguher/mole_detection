{
 "cells": [
  {
   "cell_type": "markdown",
   "metadata": {},
   "source": [
    "# MOLE DETECTION  -- Mole Type --"
   ]
  },
  {
   "cell_type": "markdown",
   "metadata": {},
   "source": [
    "#### Import Necessary Libraries"
   ]
  },
  {
   "cell_type": "code",
   "execution_count": 86,
   "metadata": {},
   "outputs": [],
   "source": [
    "import numpy as np\n",
    "import pandas as pd\n",
    "import os\n",
    "from glob import glob\n",
    "import seaborn as sns\n",
    "import matplotlib.pyplot as plt\n",
    "from PIL import Image\n",
    "\n",
    "from sklearn.metrics import confusion_matrix,classification_report\n",
    "from sklearn.model_selection import train_test_split\n",
    "from sklearn.preprocessing import LabelEncoder\n",
    "from sklearn.utils import class_weight\n",
    "\n",
    "\n",
    "import keras\n",
    "from keras.utils.np_utils import to_categorical \n",
    "from keras.models import Sequential\n",
    "from keras.layers import Dense, Dropout, Flatten, Conv2D, MaxPool2D, BatchNormalization\n",
    "from tensorflow.python.keras.callbacks import ReduceLROnPlateau, EarlyStopping\n",
    "\n",
    "from imblearn.under_sampling import RandomUnderSampler\n",
    "from imblearn.over_sampling import RandomOverSampler\n",
    "from imblearn.over_sampling import SMOTE\n",
    "\n"
   ]
  },
  {
   "cell_type": "markdown",
   "metadata": {},
   "source": [
    "#### Constants"
   ]
  },
  {
   "cell_type": "code",
   "execution_count": 87,
   "metadata": {},
   "outputs": [],
   "source": [
    "lesion_type_dict = {\n",
    "    'nv': 'Melanocytic nevi (nv)',\n",
    "    'mel': 'Melanoma (mel)',\n",
    "    'bkl': 'Benign keratosis-like lesions (bkl)',\n",
    "    'bcc': 'Basal cell carcinoma (bcc)',\n",
    "    'akiec': 'Actinic keratoses (akiec)',\n",
    "    'vasc': 'Vascular lesions (vasc)',\n",
    "    'df': 'Dermatofibroma (df)'\n",
    "}\n",
    "label_mapping = {\n",
    "    0: 'akiec',\n",
    "    1: 'bcc',\n",
    "    2: 'bkl',\n",
    "    3: 'df',\n",
    "    4: 'mel',\n",
    "    5: 'nv',\n",
    "    6: 'vasc'\n",
    "}\n",
    "labels = {\n",
    "    0: 'Actinic keratoses (akiec)',\n",
    "    1: 'Basal cell carcinoma (bcc)',\n",
    "    2: 'Benign keratosis-like lesions (bkl)',\n",
    "    3: 'Dermatofibroma (df)',\n",
    "    4: 'Melanoma (mel)',\n",
    "    5: 'Melanocytic nevi (nv)',\n",
    "    6: 'Vascular lesions (vasc)',\n",
    "}\n",
    "int_label_mapping = dict((value, key) for key, value in label_mapping.items())\n",
    "\n",
    "SIZE=32  # image size"
   ]
  },
  {
   "cell_type": "markdown",
   "metadata": {},
   "source": [
    "#### Read the data"
   ]
  },
  {
   "cell_type": "code",
   "execution_count": 88,
   "metadata": {},
   "outputs": [
    {
     "name": "stdout",
     "output_type": "stream",
     "text": [
      "['akiec', 'bcc', 'bkl', 'df', 'mel', 'nv', 'vasc']\n"
     ]
    }
   ],
   "source": [
    "\n",
    "data = pd.read_csv('data/HAM10000_metadata.csv')\n",
    "\n",
    "labele = LabelEncoder()\n",
    "labele.fit(data['dx'])\n",
    "data['label'] = labele.transform(data[\"dx\"]) \n",
    "\n",
    "print(list(labele.classes_))\n",
    "\n"
   ]
  },
  {
   "cell_type": "markdown",
   "metadata": {},
   "source": [
    "### Class weights or resampling"
   ]
  },
  {
   "cell_type": "code",
   "execution_count": 72,
   "metadata": {},
   "outputs": [
    {
     "data": {
      "text/plain": [
       "{0: 4.375273044997815,\n",
       " 1: 2.78349082823791,\n",
       " 2: 1.301832835044846,\n",
       " 3: 12.440993788819876,\n",
       " 4: 1.2854575792581184,\n",
       " 5: 0.21338020666879728,\n",
       " 6: 10.075452716297788}"
      ]
     },
     "execution_count": 72,
     "metadata": {},
     "output_type": "execute_result"
    }
   ],
   "source": [
    "#Class Weights\n",
    "y=data['label']\n",
    "class_weights = dict(zip(np.unique(y), class_weight.compute_class_weight(class_weight='balanced',classes=np.unique(y), \n",
    "                y=y))) \n",
    "\n",
    "class_weights\n"
   ]
  },
  {
   "cell_type": "code",
   "execution_count": 90,
   "metadata": {},
   "outputs": [],
   "source": [
    "ros = RandomOverSampler()\n"
   ]
  },
  {
   "cell_type": "code",
   "execution_count": 91,
   "metadata": {},
   "outputs": [],
   "source": [
    "x=data\n",
    "y=data['label']\n",
    "data,y=ros.fit_resample(x, y)\n"
   ]
  },
  {
   "cell_type": "code",
   "execution_count": 93,
   "metadata": {},
   "outputs": [
    {
     "data": {
      "text/plain": [
       "2    6705\n",
       "5    6705\n",
       "3    6705\n",
       "4    6705\n",
       "6    6705\n",
       "1    6705\n",
       "0    6705\n",
       "Name: label, dtype: int64"
      ]
     },
     "execution_count": 93,
     "metadata": {},
     "output_type": "execute_result"
    }
   ],
   "source": [
    "data['label'].value_counts()"
   ]
  },
  {
   "cell_type": "code",
   "execution_count": null,
   "metadata": {},
   "outputs": [],
   "source": []
  },
  {
   "cell_type": "code",
   "execution_count": 73,
   "metadata": {},
   "outputs": [
    {
     "name": "stdout",
     "output_type": "stream",
     "text": [
      "5    6705\n",
      "4    1113\n",
      "2    1099\n",
      "1     514\n",
      "0     327\n",
      "6     142\n",
      "3     115\n",
      "Name: label, dtype: int64\n",
      "0    500\n",
      "1    500\n",
      "2    500\n",
      "3    500\n",
      "4    500\n",
      "5    500\n",
      "6    500\n",
      "Name: label, dtype: int64\n"
     ]
    }
   ],
   "source": [
    "#resampling\n",
    "n_samples=500\n",
    "\n",
    "\n",
    "from sklearn.utils import resample\n",
    "print(data['label'].value_counts())\n",
    "\n",
    "# Balancing the data\n",
    "# tried balancing with class weights and imageprocessing best results came with resampling\n",
    "\n",
    "\n",
    "df_0 = data[data['label'] == 0]\n",
    "df_1 = data[data['label'] == 1]\n",
    "df_2 = data[data['label'] == 2]\n",
    "df_3 = data[data['label'] == 3]\n",
    "df_4 = data[data['label'] == 4]\n",
    "df_5 = data[data['label'] == 5]\n",
    "df_6 = data[data['label'] == 6]\n",
    "\n",
    "\n",
    "df_0_balanced = resample(df_0, replace=True, n_samples=n_samples, random_state=42) \n",
    "df_1_balanced = resample(df_1, replace=True, n_samples=n_samples, random_state=42) \n",
    "df_2_balanced = resample(df_2, replace=True, n_samples=n_samples, random_state=42)\n",
    "df_3_balanced = resample(df_3, replace=True, n_samples=n_samples, random_state=42)\n",
    "df_4_balanced = resample(df_4, replace=True, n_samples=n_samples, random_state=42)\n",
    "df_5_balanced = resample(df_5, replace=True, n_samples=n_samples, random_state=42)\n",
    "df_6_balanced = resample(df_6, replace=True, n_samples=n_samples, random_state=42)\n",
    "\n",
    "#Combined back to a single dataframe\n",
    "data_balanced = pd.concat([df_0_balanced, df_1_balanced, \n",
    "                              df_2_balanced, df_3_balanced, \n",
    "                              df_4_balanced, df_5_balanced, df_6_balanced])\n",
    "\n",
    "print(data_balanced['label'].value_counts())"
   ]
  },
  {
   "cell_type": "code",
   "execution_count": 74,
   "metadata": {},
   "outputs": [],
   "source": [
    "data=data_balanced"
   ]
  },
  {
   "cell_type": "code",
   "execution_count": 94,
   "metadata": {},
   "outputs": [],
   "source": [
    "data['path'] = './data/HAM10000_images/' + data['image_id'] +\".jpg\""
   ]
  },
  {
   "cell_type": "code",
   "execution_count": 95,
   "metadata": {},
   "outputs": [
    {
     "data": {
      "text/html": [
       "<div>\n",
       "<style scoped>\n",
       "    .dataframe tbody tr th:only-of-type {\n",
       "        vertical-align: middle;\n",
       "    }\n",
       "\n",
       "    .dataframe tbody tr th {\n",
       "        vertical-align: top;\n",
       "    }\n",
       "\n",
       "    .dataframe thead th {\n",
       "        text-align: right;\n",
       "    }\n",
       "</style>\n",
       "<table border=\"1\" class=\"dataframe\">\n",
       "  <thead>\n",
       "    <tr style=\"text-align: right;\">\n",
       "      <th></th>\n",
       "      <th>lesion_id</th>\n",
       "      <th>image_id</th>\n",
       "      <th>dx</th>\n",
       "      <th>dx_type</th>\n",
       "      <th>age</th>\n",
       "      <th>sex</th>\n",
       "      <th>localization</th>\n",
       "      <th>label</th>\n",
       "      <th>path</th>\n",
       "    </tr>\n",
       "  </thead>\n",
       "  <tbody>\n",
       "    <tr>\n",
       "      <th>0</th>\n",
       "      <td>HAM_0000118</td>\n",
       "      <td>ISIC_0027419</td>\n",
       "      <td>bkl</td>\n",
       "      <td>histo</td>\n",
       "      <td>80.0</td>\n",
       "      <td>male</td>\n",
       "      <td>scalp</td>\n",
       "      <td>2</td>\n",
       "      <td>./data/HAM10000_images/ISIC_0027419.jpg</td>\n",
       "    </tr>\n",
       "    <tr>\n",
       "      <th>1</th>\n",
       "      <td>HAM_0000118</td>\n",
       "      <td>ISIC_0025030</td>\n",
       "      <td>bkl</td>\n",
       "      <td>histo</td>\n",
       "      <td>80.0</td>\n",
       "      <td>male</td>\n",
       "      <td>scalp</td>\n",
       "      <td>2</td>\n",
       "      <td>./data/HAM10000_images/ISIC_0025030.jpg</td>\n",
       "    </tr>\n",
       "    <tr>\n",
       "      <th>2</th>\n",
       "      <td>HAM_0002730</td>\n",
       "      <td>ISIC_0026769</td>\n",
       "      <td>bkl</td>\n",
       "      <td>histo</td>\n",
       "      <td>80.0</td>\n",
       "      <td>male</td>\n",
       "      <td>scalp</td>\n",
       "      <td>2</td>\n",
       "      <td>./data/HAM10000_images/ISIC_0026769.jpg</td>\n",
       "    </tr>\n",
       "    <tr>\n",
       "      <th>3</th>\n",
       "      <td>HAM_0002730</td>\n",
       "      <td>ISIC_0025661</td>\n",
       "      <td>bkl</td>\n",
       "      <td>histo</td>\n",
       "      <td>80.0</td>\n",
       "      <td>male</td>\n",
       "      <td>scalp</td>\n",
       "      <td>2</td>\n",
       "      <td>./data/HAM10000_images/ISIC_0025661.jpg</td>\n",
       "    </tr>\n",
       "    <tr>\n",
       "      <th>4</th>\n",
       "      <td>HAM_0001466</td>\n",
       "      <td>ISIC_0031633</td>\n",
       "      <td>bkl</td>\n",
       "      <td>histo</td>\n",
       "      <td>75.0</td>\n",
       "      <td>male</td>\n",
       "      <td>ear</td>\n",
       "      <td>2</td>\n",
       "      <td>./data/HAM10000_images/ISIC_0031633.jpg</td>\n",
       "    </tr>\n",
       "    <tr>\n",
       "      <th>...</th>\n",
       "      <td>...</td>\n",
       "      <td>...</td>\n",
       "      <td>...</td>\n",
       "      <td>...</td>\n",
       "      <td>...</td>\n",
       "      <td>...</td>\n",
       "      <td>...</td>\n",
       "      <td>...</td>\n",
       "      <td>...</td>\n",
       "    </tr>\n",
       "    <tr>\n",
       "      <th>46930</th>\n",
       "      <td>HAM_0000502</td>\n",
       "      <td>ISIC_0031093</td>\n",
       "      <td>vasc</td>\n",
       "      <td>consensus</td>\n",
       "      <td>70.0</td>\n",
       "      <td>male</td>\n",
       "      <td>back</td>\n",
       "      <td>6</td>\n",
       "      <td>./data/HAM10000_images/ISIC_0031093.jpg</td>\n",
       "    </tr>\n",
       "    <tr>\n",
       "      <th>46931</th>\n",
       "      <td>HAM_0005560</td>\n",
       "      <td>ISIC_0027269</td>\n",
       "      <td>vasc</td>\n",
       "      <td>consensus</td>\n",
       "      <td>60.0</td>\n",
       "      <td>female</td>\n",
       "      <td>trunk</td>\n",
       "      <td>6</td>\n",
       "      <td>./data/HAM10000_images/ISIC_0027269.jpg</td>\n",
       "    </tr>\n",
       "    <tr>\n",
       "      <th>46932</th>\n",
       "      <td>HAM_0006889</td>\n",
       "      <td>ISIC_0031270</td>\n",
       "      <td>vasc</td>\n",
       "      <td>histo</td>\n",
       "      <td>20.0</td>\n",
       "      <td>male</td>\n",
       "      <td>upper extremity</td>\n",
       "      <td>6</td>\n",
       "      <td>./data/HAM10000_images/ISIC_0031270.jpg</td>\n",
       "    </tr>\n",
       "    <tr>\n",
       "      <th>46933</th>\n",
       "      <td>HAM_0004257</td>\n",
       "      <td>ISIC_0025452</td>\n",
       "      <td>vasc</td>\n",
       "      <td>consensus</td>\n",
       "      <td>55.0</td>\n",
       "      <td>female</td>\n",
       "      <td>abdomen</td>\n",
       "      <td>6</td>\n",
       "      <td>./data/HAM10000_images/ISIC_0025452.jpg</td>\n",
       "    </tr>\n",
       "    <tr>\n",
       "      <th>46934</th>\n",
       "      <td>HAM_0006138</td>\n",
       "      <td>ISIC_0026713</td>\n",
       "      <td>vasc</td>\n",
       "      <td>consensus</td>\n",
       "      <td>35.0</td>\n",
       "      <td>female</td>\n",
       "      <td>hand</td>\n",
       "      <td>6</td>\n",
       "      <td>./data/HAM10000_images/ISIC_0026713.jpg</td>\n",
       "    </tr>\n",
       "  </tbody>\n",
       "</table>\n",
       "<p>46935 rows × 9 columns</p>\n",
       "</div>"
      ],
      "text/plain": [
       "         lesion_id      image_id    dx    dx_type   age     sex  \\\n",
       "0      HAM_0000118  ISIC_0027419   bkl      histo  80.0    male   \n",
       "1      HAM_0000118  ISIC_0025030   bkl      histo  80.0    male   \n",
       "2      HAM_0002730  ISIC_0026769   bkl      histo  80.0    male   \n",
       "3      HAM_0002730  ISIC_0025661   bkl      histo  80.0    male   \n",
       "4      HAM_0001466  ISIC_0031633   bkl      histo  75.0    male   \n",
       "...            ...           ...   ...        ...   ...     ...   \n",
       "46930  HAM_0000502  ISIC_0031093  vasc  consensus  70.0    male   \n",
       "46931  HAM_0005560  ISIC_0027269  vasc  consensus  60.0  female   \n",
       "46932  HAM_0006889  ISIC_0031270  vasc      histo  20.0    male   \n",
       "46933  HAM_0004257  ISIC_0025452  vasc  consensus  55.0  female   \n",
       "46934  HAM_0006138  ISIC_0026713  vasc  consensus  35.0  female   \n",
       "\n",
       "          localization  label                                     path  \n",
       "0                scalp      2  ./data/HAM10000_images/ISIC_0027419.jpg  \n",
       "1                scalp      2  ./data/HAM10000_images/ISIC_0025030.jpg  \n",
       "2                scalp      2  ./data/HAM10000_images/ISIC_0026769.jpg  \n",
       "3                scalp      2  ./data/HAM10000_images/ISIC_0025661.jpg  \n",
       "4                  ear      2  ./data/HAM10000_images/ISIC_0031633.jpg  \n",
       "...                ...    ...                                      ...  \n",
       "46930             back      6  ./data/HAM10000_images/ISIC_0031093.jpg  \n",
       "46931            trunk      6  ./data/HAM10000_images/ISIC_0027269.jpg  \n",
       "46932  upper extremity      6  ./data/HAM10000_images/ISIC_0031270.jpg  \n",
       "46933          abdomen      6  ./data/HAM10000_images/ISIC_0025452.jpg  \n",
       "46934             hand      6  ./data/HAM10000_images/ISIC_0026713.jpg  \n",
       "\n",
       "[46935 rows x 9 columns]"
      ]
     },
     "execution_count": 95,
     "metadata": {},
     "output_type": "execute_result"
    }
   ],
   "source": [
    "data"
   ]
  },
  {
   "cell_type": "code",
   "execution_count": 96,
   "metadata": {},
   "outputs": [],
   "source": [
    "#Use the path to read images.\n",
    "data['image'] = data['path'].map(lambda x: np.asarray(Image.open(x).resize((SIZE,SIZE))))\n",
    "\n",
    "\n"
   ]
  },
  {
   "cell_type": "markdown",
   "metadata": {},
   "source": [
    "## Create Model "
   ]
  },
  {
   "cell_type": "code",
   "execution_count": 97,
   "metadata": {},
   "outputs": [
    {
     "name": "stdout",
     "output_type": "stream",
     "text": [
      "Model: \"sequential_9\"\n",
      "_________________________________________________________________\n",
      " Layer (type)                Output Shape              Param #   \n",
      "=================================================================\n",
      " conv2d_27 (Conv2D)          (None, 30, 30, 256)       7168      \n",
      "                                                                 \n",
      " max_pooling2d_27 (MaxPoolin  (None, 15, 15, 256)      0         \n",
      " g2D)                                                            \n",
      "                                                                 \n",
      " dropout_27 (Dropout)        (None, 15, 15, 256)       0         \n",
      "                                                                 \n",
      " conv2d_28 (Conv2D)          (None, 13, 13, 128)       295040    \n",
      "                                                                 \n",
      " max_pooling2d_28 (MaxPoolin  (None, 6, 6, 128)        0         \n",
      " g2D)                                                            \n",
      "                                                                 \n",
      " dropout_28 (Dropout)        (None, 6, 6, 128)         0         \n",
      "                                                                 \n",
      " conv2d_29 (Conv2D)          (None, 4, 4, 64)          73792     \n",
      "                                                                 \n",
      " max_pooling2d_29 (MaxPoolin  (None, 2, 2, 64)         0         \n",
      " g2D)                                                            \n",
      "                                                                 \n",
      " dropout_29 (Dropout)        (None, 2, 2, 64)          0         \n",
      "                                                                 \n",
      " flatten_9 (Flatten)         (None, 256)               0         \n",
      "                                                                 \n",
      " dense_19 (Dense)            (None, 32)                8224      \n",
      "                                                                 \n",
      " dense_20 (Dense)            (None, 7)                 231       \n",
      "                                                                 \n",
      "=================================================================\n",
      "Total params: 384,455\n",
      "Trainable params: 384,455\n",
      "Non-trainable params: 0\n",
      "_________________________________________________________________\n"
     ]
    }
   ],
   "source": [
    "#Convert dataframe column of image data to array\n",
    "X = np.asarray(data['image'].tolist())\n",
    "X = X/255. \n",
    "Y=data['label']  #\n",
    "Y_cat = to_categorical(Y, num_classes=7) #Convert to categorical \n",
    "\n",
    "x_train, x_test, y_train, y_test = train_test_split(X, Y_cat, test_size=0.20, random_state=42)\n",
    "\n",
    "#model.\n",
    "\n",
    "#num_classes = 7\n",
    "\n",
    "model = Sequential()\n",
    "model.add(Conv2D(256, (3, 3), activation=\"relu\", input_shape=(SIZE, SIZE, 3)))\n",
    "model.add(MaxPool2D(pool_size=(2, 2)))  \n",
    "model.add(Dropout(0.3))\n",
    "\n",
    "model.add(Conv2D(128, (3, 3),activation='relu'))\n",
    "model.add(MaxPool2D(pool_size=(2, 2)))  \n",
    "model.add(Dropout(0.3))\n",
    "\n",
    "model.add(Conv2D(64, (3, 3),activation='relu'))\n",
    "model.add(MaxPool2D(pool_size=(2, 2)))  \n",
    "model.add(Dropout(0.3))\n",
    "model.add(Flatten())\n",
    "\n",
    "model.add(Dense(32))\n",
    "model.add(Dense(7, activation='softmax'))\n",
    "model.summary()\n",
    "\n",
    "model.compile(loss='categorical_crossentropy', optimizer='Adam', metrics=['acc'])"
   ]
  },
  {
   "cell_type": "markdown",
   "metadata": {},
   "source": [
    "#### Defigning callbacks and fitting the model"
   ]
  },
  {
   "cell_type": "code",
   "execution_count": 98,
   "metadata": {},
   "outputs": [
    {
     "name": "stdout",
     "output_type": "stream",
     "text": [
      "Epoch 1/50\n",
      "1878/1878 [==============================] - 41s 22ms/step - loss: 1.4343 - acc: 0.4169 - val_loss: 1.1602 - val_acc: 0.5352 - lr: 0.0010\n",
      "Epoch 2/50\n",
      "1878/1878 [==============================] - 39s 21ms/step - loss: 1.1368 - acc: 0.5600 - val_loss: 0.9618 - val_acc: 0.6117 - lr: 0.0010\n",
      "Epoch 3/50\n",
      "1878/1878 [==============================] - 39s 21ms/step - loss: 0.9959 - acc: 0.6176 - val_loss: 0.8229 - val_acc: 0.7057 - lr: 0.0010\n",
      "Epoch 4/50\n",
      "1878/1878 [==============================] - 39s 21ms/step - loss: 0.8964 - acc: 0.6581 - val_loss: 0.7111 - val_acc: 0.7502 - lr: 0.0010\n",
      "Epoch 5/50\n",
      "1878/1878 [==============================] - 39s 21ms/step - loss: 0.8277 - acc: 0.6857 - val_loss: 0.6845 - val_acc: 0.7361 - lr: 0.0010\n",
      "Epoch 6/50\n",
      "1878/1878 [==============================] - 39s 21ms/step - loss: 0.7939 - acc: 0.6973 - val_loss: 0.5991 - val_acc: 0.7874 - lr: 0.0010\n",
      "Epoch 7/50\n",
      "1878/1878 [==============================] - 39s 21ms/step - loss: 0.7551 - acc: 0.7137 - val_loss: 0.5640 - val_acc: 0.8076 - lr: 0.0010\n",
      "Epoch 8/50\n",
      "1878/1878 [==============================] - 39s 21ms/step - loss: 0.7172 - acc: 0.7247 - val_loss: 0.5645 - val_acc: 0.7953 - lr: 0.0010\n",
      "Epoch 9/50\n",
      "1878/1878 [==============================] - 39s 21ms/step - loss: 0.7055 - acc: 0.7315 - val_loss: 0.5376 - val_acc: 0.8107 - lr: 0.0010\n",
      "Epoch 10/50\n",
      "1878/1878 [==============================] - 39s 21ms/step - loss: 0.6816 - acc: 0.7415 - val_loss: 0.4989 - val_acc: 0.8252 - lr: 0.0010\n",
      "Epoch 11/50\n",
      "1878/1878 [==============================] - 37s 20ms/step - loss: 0.6613 - acc: 0.7471 - val_loss: 0.5252 - val_acc: 0.8115 - lr: 0.0010\n",
      "Epoch 12/50\n",
      "1878/1878 [==============================] - 37s 19ms/step - loss: 0.6513 - acc: 0.7527 - val_loss: 0.4894 - val_acc: 0.8277 - lr: 0.0010\n",
      "Epoch 13/50\n",
      "1878/1878 [==============================] - 29s 16ms/step - loss: 0.6334 - acc: 0.7582 - val_loss: 0.4680 - val_acc: 0.8317 - lr: 0.0010\n",
      "Epoch 14/50\n",
      "1878/1878 [==============================] - 38s 20ms/step - loss: 0.6196 - acc: 0.7654 - val_loss: 0.4182 - val_acc: 0.8515 - lr: 0.0010\n",
      "Epoch 15/50\n",
      "1878/1878 [==============================] - 39s 21ms/step - loss: 0.6084 - acc: 0.7685 - val_loss: 0.4304 - val_acc: 0.8543 - lr: 0.0010\n",
      "Epoch 16/50\n",
      "1878/1878 [==============================] - 39s 21ms/step - loss: 0.5962 - acc: 0.7743 - val_loss: 0.4272 - val_acc: 0.8557 - lr: 0.0010\n",
      "Epoch 17/50\n",
      "1877/1878 [============================>.] - ETA: 0s - loss: 0.5855 - acc: 0.7793\n",
      "Epoch 00017: ReduceLROnPlateau reducing learning rate to 0.00010000000474974513.\n",
      "1878/1878 [==============================] - 39s 21ms/step - loss: 0.5854 - acc: 0.7793 - val_loss: 0.4202 - val_acc: 0.8475 - lr: 0.0010\n",
      "Epoch 18/50\n",
      "1878/1878 [==============================] - 39s 21ms/step - loss: 0.4966 - acc: 0.8116 - val_loss: 0.3537 - val_acc: 0.8739 - lr: 1.0000e-04\n",
      "Epoch 19/50\n",
      "1878/1878 [==============================] - 39s 21ms/step - loss: 0.4720 - acc: 0.8226 - val_loss: 0.3386 - val_acc: 0.8860 - lr: 1.0000e-04\n",
      "Epoch 20/50\n",
      "1878/1878 [==============================] - 40s 21ms/step - loss: 0.4632 - acc: 0.8245 - val_loss: 0.3361 - val_acc: 0.8870 - lr: 1.0000e-04\n",
      "Epoch 21/50\n",
      "1878/1878 [==============================] - 39s 21ms/step - loss: 0.4618 - acc: 0.8264 - val_loss: 0.3322 - val_acc: 0.8848 - lr: 1.0000e-04\n",
      "Epoch 22/50\n",
      "1878/1878 [==============================] - 39s 21ms/step - loss: 0.4515 - acc: 0.8288 - val_loss: 0.3311 - val_acc: 0.8831 - lr: 1.0000e-04\n",
      "Epoch 23/50\n",
      "1878/1878 [==============================] - 39s 21ms/step - loss: 0.4497 - acc: 0.8296 - val_loss: 0.3156 - val_acc: 0.8919 - lr: 1.0000e-04\n",
      "Epoch 24/50\n",
      "1878/1878 [==============================] - 39s 21ms/step - loss: 0.4444 - acc: 0.8318 - val_loss: 0.3159 - val_acc: 0.8889 - lr: 1.0000e-04\n",
      "Epoch 25/50\n",
      "1878/1878 [==============================] - 40s 21ms/step - loss: 0.4394 - acc: 0.8342 - val_loss: 0.3118 - val_acc: 0.8947 - lr: 1.0000e-04\n",
      "Epoch 26/50\n",
      "1878/1878 [==============================] - 39s 21ms/step - loss: 0.4402 - acc: 0.8337 - val_loss: 0.3087 - val_acc: 0.8949 - lr: 1.0000e-04\n",
      "Epoch 27/50\n",
      "1878/1878 [==============================] - 39s 21ms/step - loss: 0.4343 - acc: 0.8359 - val_loss: 0.3109 - val_acc: 0.8957 - lr: 1.0000e-04\n",
      "Epoch 28/50\n",
      "1878/1878 [==============================] - 25s 13ms/step - loss: 0.4346 - acc: 0.8354 - val_loss: 0.3013 - val_acc: 0.8961 - lr: 1.0000e-04\n",
      "Epoch 29/50\n",
      "1878/1878 [==============================] - 27s 15ms/step - loss: 0.4302 - acc: 0.8369 - val_loss: 0.2991 - val_acc: 0.8980 - lr: 1.0000e-04\n",
      "Epoch 30/50\n",
      "1878/1878 [==============================] - 38s 20ms/step - loss: 0.4268 - acc: 0.8403 - val_loss: 0.2981 - val_acc: 0.8993 - lr: 1.0000e-04\n",
      "Epoch 31/50\n",
      "1878/1878 [==============================] - 39s 21ms/step - loss: 0.4295 - acc: 0.8394 - val_loss: 0.2972 - val_acc: 0.8991 - lr: 1.0000e-04\n",
      "Epoch 32/50\n",
      "1878/1878 [==============================] - 39s 21ms/step - loss: 0.4208 - acc: 0.8398 - val_loss: 0.2960 - val_acc: 0.8983 - lr: 1.0000e-04\n",
      "Epoch 33/50\n",
      "1878/1878 [==============================] - 39s 21ms/step - loss: 0.4235 - acc: 0.8393 - val_loss: 0.2919 - val_acc: 0.9023 - lr: 1.0000e-04\n",
      "Epoch 34/50\n",
      "1878/1878 [==============================] - 40s 21ms/step - loss: 0.4184 - acc: 0.8405 - val_loss: 0.2861 - val_acc: 0.9017 - lr: 1.0000e-04\n",
      "Epoch 35/50\n",
      "1878/1878 [==============================] - 39s 21ms/step - loss: 0.4116 - acc: 0.8443 - val_loss: 0.2874 - val_acc: 0.9051 - lr: 1.0000e-04\n",
      "Epoch 36/50\n",
      "1878/1878 [==============================] - 39s 21ms/step - loss: 0.4129 - acc: 0.8431 - val_loss: 0.2923 - val_acc: 0.8991 - lr: 1.0000e-04\n",
      "Epoch 37/50\n",
      "1878/1878 [==============================] - 38s 20ms/step - loss: 0.4140 - acc: 0.8453 - val_loss: 0.2851 - val_acc: 0.9068 - lr: 1.0000e-04\n",
      "Epoch 38/50\n",
      "1878/1878 [==============================] - 38s 20ms/step - loss: 0.4137 - acc: 0.8420 - val_loss: 0.2797 - val_acc: 0.9052 - lr: 1.0000e-04\n",
      "Epoch 39/50\n",
      "1878/1878 [==============================] - 39s 21ms/step - loss: 0.4075 - acc: 0.8457 - val_loss: 0.2774 - val_acc: 0.9073 - lr: 1.0000e-04\n",
      "Epoch 40/50\n",
      "1878/1878 [==============================] - 39s 21ms/step - loss: 0.4014 - acc: 0.8479 - val_loss: 0.2782 - val_acc: 0.9068 - lr: 1.0000e-04\n",
      "Epoch 41/50\n",
      "1878/1878 [==============================] - 39s 21ms/step - loss: 0.3985 - acc: 0.8509 - val_loss: 0.2748 - val_acc: 0.9077 - lr: 1.0000e-04\n",
      "Epoch 42/50\n",
      "1878/1878 [==============================] - 39s 21ms/step - loss: 0.4046 - acc: 0.8469 - val_loss: 0.2761 - val_acc: 0.9072 - lr: 1.0000e-04\n",
      "Epoch 43/50\n",
      "1878/1878 [==============================] - 40s 21ms/step - loss: 0.3984 - acc: 0.8475 - val_loss: 0.2746 - val_acc: 0.9043 - lr: 1.0000e-04\n",
      "Epoch 44/50\n",
      "1878/1878 [==============================] - 34s 18ms/step - loss: 0.4004 - acc: 0.8483 - val_loss: 0.2729 - val_acc: 0.9097 - lr: 1.0000e-04\n",
      "Epoch 45/50\n",
      "1878/1878 [==============================] - 31s 16ms/step - loss: 0.3975 - acc: 0.8518 - val_loss: 0.2651 - val_acc: 0.9096 - lr: 1.0000e-04\n",
      "Epoch 46/50\n",
      "1878/1878 [==============================] - 39s 21ms/step - loss: 0.4019 - acc: 0.8471 - val_loss: 0.2664 - val_acc: 0.9141 - lr: 1.0000e-04\n",
      "Epoch 47/50\n",
      "1878/1878 [==============================] - 37s 20ms/step - loss: 0.3890 - acc: 0.8511 - val_loss: 0.2618 - val_acc: 0.9124 - lr: 1.0000e-04\n",
      "Epoch 48/50\n",
      "1878/1878 [==============================] - 30s 16ms/step - loss: 0.3878 - acc: 0.8537 - val_loss: 0.2600 - val_acc: 0.9134 - lr: 1.0000e-04\n",
      "Epoch 49/50\n",
      "1878/1878 [==============================] - 26s 14ms/step - loss: 0.3935 - acc: 0.8511 - val_loss: 0.2563 - val_acc: 0.9158 - lr: 1.0000e-04\n",
      "Epoch 50/50\n",
      "1878/1878 [==============================] - 30s 16ms/step - loss: 0.3907 - acc: 0.8510 - val_loss: 0.2607 - val_acc: 0.9093 - lr: 1.0000e-04\n"
     ]
    }
   ],
   "source": [
    "\n",
    "early_stop = EarlyStopping(monitor='val_loss', patience=8, verbose=1,mode='auto')\n",
    "                            \n",
    "batch_size = 16 \n",
    "epochs = 50\n",
    "\n",
    "learning_rate = ReduceLROnPlateau(monitor='val_loss', factor=0.1, patience=3, verbose=1, mode='auto')\n",
    "\n",
    "history = model.fit(x_train, y_train, validation_split=0.2, batch_size = batch_size,  epochs = epochs,callbacks = [learning_rate, early_stop])\n",
    "#class_weight=class_weights,\n"
   ]
  },
  {
   "cell_type": "markdown",
   "metadata": {},
   "source": [
    "#### Evaluating Model"
   ]
  },
  {
   "cell_type": "code",
   "execution_count": 99,
   "metadata": {},
   "outputs": [
    {
     "name": "stdout",
     "output_type": "stream",
     "text": [
      "294/294 [==============================] - 4s 12ms/step - loss: 0.2663 - acc: 0.9070\n",
      "Accuracy: 0.9069990515708923\n"
     ]
    },
    {
     "data": {
      "image/png": "[encoded data removed]",
      "text/plain": [
       "<Figure size 432x288 with 1 Axes>"
      ]
     },
     "metadata": {},
     "output_type": "display_data"
    },
    {
     "data": {
      "image/png": "[encoded data removed]",
      "text/plain": [
       "<Figure size 432x288 with 1 Axes>"
      ]
     },
     "metadata": {},
     "output_type": "display_data"
    }
   ],
   "source": [
    "score = model.evaluate(x_test, y_test)\n",
    "print('Accuracy:', score[1])\n",
    "\n",
    "\n",
    "#Plot the training and validation accuracy and loss \n",
    "loss = history.history['loss']\n",
    "val_loss = history.history['val_loss']\n",
    "epochs = range(1, len(loss) + 1)\n",
    "plt.plot(epochs, loss, 'y', label='Training loss')\n",
    "plt.plot(epochs, val_loss, 'r', label='Validation loss')\n",
    "plt.title('Training and validation loss')\n",
    "plt.xlabel('Epochs')\n",
    "plt.ylabel('Loss')\n",
    "plt.legend()\n",
    "plt.show()\n",
    "\n",
    "\n",
    "acc = history.history['acc']\n",
    "val_acc = history.history['val_acc']\n",
    "plt.plot(epochs, acc, 'y', label='Training acc')\n",
    "plt.plot(epochs, val_acc, 'r', label='Validation acc')\n",
    "plt.title('Training and validation accuracy')\n",
    "plt.xlabel('Epochs')\n",
    "plt.ylabel('Accuracy')\n",
    "plt.legend()\n",
    "plt.show()"
   ]
  },
  {
   "cell_type": "markdown",
   "metadata": {},
   "source": [
    "#### Calssification report and Confusion matrix"
   ]
  },
  {
   "cell_type": "code",
   "execution_count": 100,
   "metadata": {},
   "outputs": [
    {
     "name": "stdout",
     "output_type": "stream",
     "text": [
      "294/294 [==============================] - 3s 10ms/step\n",
      "[[1295    0    0    0    0    0    0]\n",
      " [   8 1293   19    0    0    0    3]\n",
      " [  44   42 1139    4   73   47    2]\n",
      " [   0    0    0 1392    0    0    0]\n",
      " [  13    9  120    0 1127   42    1]\n",
      " [  13   42  164    8  206  900   13]\n",
      " [   0    0    0    0    0    0 1368]]\n",
      "                                     precision    recall  f1-score   support\n",
      "\n",
      "          Actinic keratoses (akiec)       0.94      1.00      0.97      1295\n",
      "         Basal cell carcinoma (bcc)       0.93      0.98      0.95      1323\n",
      "Benign keratosis-like lesions (bkl)       0.79      0.84      0.82      1351\n",
      "                Dermatofibroma (df)       0.99      1.00      1.00      1392\n",
      "                     Melanoma (mel)       0.80      0.86      0.83      1312\n",
      "              Melanocytic nevi (nv)       0.91      0.67      0.77      1346\n",
      "            Vascular lesions (vasc)       0.99      1.00      0.99      1368\n",
      "\n",
      "                           accuracy                           0.91      9387\n",
      "                          macro avg       0.91      0.91      0.90      9387\n",
      "                       weighted avg       0.91      0.91      0.90      9387\n",
      "\n"
     ]
    },
    {
     "data": {
      "text/plain": [
       "<AxesSubplot:>"
      ]
     },
     "execution_count": 100,
     "metadata": {},
     "output_type": "execute_result"
    },
    {
     "data": {
      "image/png": "[encoded data removed]",
      "text/plain": [
       "<Figure size 720x720 with 2 Axes>"
      ]
     },
     "metadata": {},
     "output_type": "display_data"
    }
   ],
   "source": [
    "y_pred = model.predict(x_test)\n",
    "y_pred_classes = np.argmax(y_pred, axis = 1) \n",
    "y_true = np.argmax(y_test, axis = 1) \n",
    "\n",
    "\n",
    "#Print confusion matrix\n",
    "cm = confusion_matrix(y_true, y_pred_classes)\n",
    "print(cm)\n",
    "#Print classification_report\n",
    "print(classification_report(y_true, y_pred_classes,target_names=labels.values()))\n",
    "fig, ax = plt.subplots(figsize=(10,10))\n",
    "sns.set(font_scale=1)\n",
    "sns.heatmap(cm, annot=True, linewidths=.5, ax=ax)\n",
    "\n"
   ]
  },
  {
   "cell_type": "code",
   "execution_count": 111,
   "metadata": {},
   "outputs": [
    {
     "data": {
      "text/plain": [
       "(9387, 32, 32, 3)"
      ]
     },
     "execution_count": 111,
     "metadata": {},
     "output_type": "execute_result"
    }
   ],
   "source": [
    "x_test.shape"
   ]
  },
  {
   "cell_type": "code",
   "execution_count": 121,
   "metadata": {},
   "outputs": [],
   "source": [
    "a=x_test[0]\n"
   ]
  },
  {
   "cell_type": "code",
   "execution_count": 122,
   "metadata": {},
   "outputs": [
    {
     "data": {
      "text/plain": [
       "(32, 32, 3)"
      ]
     },
     "execution_count": 122,
     "metadata": {},
     "output_type": "execute_result"
    }
   ],
   "source": [
    "a.shape"
   ]
  },
  {
   "cell_type": "code",
   "execution_count": 124,
   "metadata": {},
   "outputs": [
    {
     "data": {
      "text/plain": [
       "(1, 32, 32, 3)"
      ]
     },
     "execution_count": 124,
     "metadata": {},
     "output_type": "execute_result"
    }
   ],
   "source": [
    "a=a.reshape(1,32,32,3)\n",
    "a.shape"
   ]
  },
  {
   "cell_type": "code",
   "execution_count": 125,
   "metadata": {},
   "outputs": [
    {
     "name": "stdout",
     "output_type": "stream",
     "text": [
      "1/1 [==============================] - 0s 313ms/step\n"
     ]
    }
   ],
   "source": [
    "y_pred = model.predict(a)"
   ]
  },
  {
   "cell_type": "code",
   "execution_count": 126,
   "metadata": {},
   "outputs": [
    {
     "data": {
      "text/plain": [
       "array([[1.22257648e-02, 3.19363736e-02, 7.62774706e-01, 3.98989543e-02,\n",
       "        4.25089933e-02, 1.10572934e-01, 8.22606016e-05]], dtype=float32)"
      ]
     },
     "execution_count": 126,
     "metadata": {},
     "output_type": "execute_result"
    }
   ],
   "source": [
    "y_pred"
   ]
  },
  {
   "cell_type": "code",
   "execution_count": 101,
   "metadata": {},
   "outputs": [
    {
     "data": {
      "text/plain": [
       "Text(0, 0.5, 'Percent of incorrect predictions')"
      ]
     },
     "execution_count": 101,
     "metadata": {},
     "output_type": "execute_result"
    },
    {
     "data": {
      "image/png": "[encoded data removed]",
      "text/plain": [
       "<Figure size 432x288 with 1 Axes>"
      ]
     },
     "metadata": {},
     "output_type": "display_data"
    }
   ],
   "source": [
    "#Incorrect classifications\n",
    "incorr = 1 - np.diag(cm) / np.sum(cm, axis=1)\n",
    "plt.bar(np.arange(7), incorr)\n",
    "plt.xlabel('True')\n",
    "plt.ylabel('Percent of incorrect predictions')"
   ]
  },
  {
   "cell_type": "markdown",
   "metadata": {},
   "source": [
    "### Save the model and weights"
   ]
  },
  {
   "cell_type": "code",
   "execution_count": 102,
   "metadata": {},
   "outputs": [],
   "source": [
    "model_json = model.to_json()\n",
    "with open(\"modelmk.json\", \"w\") as json_file:\n",
    "    json_file.write(model_json)\n",
    "model.save_weights(\"modelmk.h5\")"
   ]
  },
  {
   "cell_type": "code",
   "execution_count": null,
   "metadata": {},
   "outputs": [],
   "source": []
  },
  {
   "cell_type": "markdown",
   "metadata": {},
   "source": [
    "----------"
   ]
  },
  {
   "cell_type": "code",
   "execution_count": 133,
   "metadata": {},
   "outputs": [],
   "source": []
  },
  {
   "cell_type": "code",
   "execution_count": 134,
   "metadata": {},
   "outputs": [
    {
     "data": {
      "text/plain": [
       "array([[1.22257648e-02, 3.19363736e-02, 7.62774706e-01, 3.98989543e-02,\n",
       "        4.25089933e-02, 1.10572934e-01, 8.22606016e-05]], dtype=float32)"
      ]
     },
     "execution_count": 134,
     "metadata": {},
     "output_type": "execute_result"
    }
   ],
   "source": []
  }
 ],
 "metadata": {
  "interpreter": {
   "hash": "66a43da4e70cc3f7b73382e30a4177bdcdabfb5ea46b21e7b3ca8c5de37a9ea1"
  },
  "kernelspec": {
   "display_name": "Python 3.10.2 ('moleenv': venv)",
   "language": "python",
   "name": "python3"
  },
  "language_info": {
   "codemirror_mode": {
    "name": "ipython",
    "version": 3
   },
   "file_extension": ".py",
   "mimetype": "text/x-python",
   "name": "python",
   "nbconvert_exporter": "python",
   "pygments_lexer": "ipython3",
   "version": "3.10.2"
  },
  "orig_nbformat": 4
 },
 "nbformat": 4,
 "nbformat_minor": 2
}
