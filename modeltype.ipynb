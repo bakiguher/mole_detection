{
 "cells": [
  {
   "cell_type": "markdown",
   "metadata": {},
   "source": [
    "# MOLE DETECTION  -- Mole Type 7 Classes --"
   ]
  },
  {
   "cell_type": "markdown",
   "metadata": {},
   "source": [
    "#### Import Necessary Libraries"
   ]
  },
  {
   "cell_type": "code",
   "execution_count": 20,
   "metadata": {},
   "outputs": [],
   "source": [
    "import numpy as np\n",
    "import pandas as pd\n",
    "import os\n",
    "from glob import glob\n",
    "import seaborn as sns\n",
    "import matplotlib.pyplot as plt\n",
    "from PIL import Image\n",
    "import time\n",
    "\n",
    "from sklearn.metrics import confusion_matrix,classification_report\n",
    "from sklearn.model_selection import train_test_split\n",
    "from sklearn.preprocessing import LabelEncoder\n",
    "from sklearn.utils import class_weight\n",
    "\n",
    "\n",
    "import keras\n",
    "from keras.utils.np_utils import to_categorical \n",
    "from keras.models import Sequential\n",
    "from keras.layers import Dense, Dropout, Flatten, Conv2D, MaxPool2D, BatchNormalization\n",
    "from tensorflow.python.keras.callbacks import ReduceLROnPlateau, EarlyStopping\n",
    "from keras.callbacks import TensorBoard\n",
    "\n",
    "from imblearn.under_sampling import RandomUnderSampler\n",
    "from imblearn.over_sampling import RandomOverSampler\n",
    "from imblearn.over_sampling import SMOTE\n",
    "import cv2\n",
    "\n",
    "NAME=\"molemulticlass-{}\".format(int(time.time())) # log file name for tensorboard"
   ]
  },
  {
   "cell_type": "markdown",
   "metadata": {},
   "source": [
    "#### Constants"
   ]
  },
  {
   "cell_type": "code",
   "execution_count": 2,
   "metadata": {},
   "outputs": [],
   "source": [
    "lesion_type_dict = {\n",
    "    'nv': 'Melanocytic nevi (nv)',\n",
    "    'mel': 'Melanoma (mel)',\n",
    "    'bkl': 'Benign keratosis-like lesions (bkl)',\n",
    "    'bcc': 'Basal cell carcinoma (bcc)',\n",
    "    'akiec': 'Actinic keratoses (akiec)',\n",
    "    'vasc': 'Vascular lesions (vasc)',\n",
    "    'df': 'Dermatofibroma (df)'\n",
    "}\n",
    "label_mapping = {\n",
    "    0: 'akiec',\n",
    "    1: 'bcc',\n",
    "    2: 'bkl',\n",
    "    3: 'df',\n",
    "    4: 'mel',\n",
    "    5: 'nv',\n",
    "    6: 'vasc'\n",
    "}\n",
    "labels = {\n",
    "    0: 'Actinic keratoses (akiec)',\n",
    "    1: 'Basal cell carcinoma (bcc)',\n",
    "    2: 'Benign keratosis-like lesions (bkl)',\n",
    "    3: 'Dermatofibroma (df)',\n",
    "    4: 'Melanoma (mel)',\n",
    "    5: 'Melanocytic nevi (nv)',\n",
    "    6: 'Vascular lesions (vasc)',\n",
    "}\n",
    "int_label_mapping = dict((value, key) for key, value in label_mapping.items())\n",
    "\n",
    "SIZE=32  # image size"
   ]
  },
  {
   "cell_type": "markdown",
   "metadata": {},
   "source": [
    "#### Read the data"
   ]
  },
  {
   "cell_type": "code",
   "execution_count": 3,
   "metadata": {},
   "outputs": [
    {
     "name": "stdout",
     "output_type": "stream",
     "text": [
      "['akiec', 'bcc', 'bkl', 'df', 'mel', 'nv', 'vasc']\n"
     ]
    }
   ],
   "source": [
    "\n",
    "data = pd.read_csv('data/HAM10000_metadata.csv')\n",
    "\n",
    "labele = LabelEncoder()\n",
    "labele.fit(data['dx'])\n",
    "data['label'] = labele.transform(data[\"dx\"]) \n",
    "\n",
    "print(list(labele.classes_))\n",
    "\n"
   ]
  },
  {
   "cell_type": "markdown",
   "metadata": {},
   "source": [
    "### Class weights or resampling"
   ]
  },
  {
   "cell_type": "code",
   "execution_count": 72,
   "metadata": {},
   "outputs": [
    {
     "data": {
      "text/plain": [
       "{0: 4.375273044997815,\n",
       " 1: 2.78349082823791,\n",
       " 2: 1.301832835044846,\n",
       " 3: 12.440993788819876,\n",
       " 4: 1.2854575792581184,\n",
       " 5: 0.21338020666879728,\n",
       " 6: 10.075452716297788}"
      ]
     },
     "execution_count": 72,
     "metadata": {},
     "output_type": "execute_result"
    }
   ],
   "source": [
    "#Class Weights- this is first option for unbalanced data- did not use it\n",
    "y=data['label']\n",
    "class_weights = dict(zip(np.unique(y), class_weight.compute_class_weight(class_weight='balanced',classes=np.unique(y), \n",
    "                y=y))) \n",
    "\n",
    "class_weights\n"
   ]
  },
  {
   "cell_type": "code",
   "execution_count": 73,
   "metadata": {},
   "outputs": [
    {
     "name": "stdout",
     "output_type": "stream",
     "text": [
      "5    6705\n",
      "4    1113\n",
      "2    1099\n",
      "1     514\n",
      "0     327\n",
      "6     142\n",
      "3     115\n",
      "Name: label, dtype: int64\n",
      "0    500\n",
      "1    500\n",
      "2    500\n",
      "3    500\n",
      "4    500\n",
      "5    500\n",
      "6    500\n",
      "Name: label, dtype: int64\n"
     ]
    }
   ],
   "source": [
    "#resampling- second option for unbalanced data- did not use it\n",
    "n_samples=500\n",
    "\n",
    "\n",
    "from sklearn.utils import resample\n",
    "print(data['label'].value_counts())\n",
    "\n",
    "# Balancing the data\n",
    "# tried balancing with class weights and imageprocessing best results came with randomoversampling\n",
    "\n",
    "\n",
    "df_0 = data[data['label'] == 0]\n",
    "df_1 = data[data['label'] == 1]\n",
    "df_2 = data[data['label'] == 2]\n",
    "df_3 = data[data['label'] == 3]\n",
    "df_4 = data[data['label'] == 4]\n",
    "df_5 = data[data['label'] == 5]\n",
    "df_6 = data[data['label'] == 6]\n",
    "\n",
    "\n",
    "df_0_balanced = resample(df_0, replace=True, n_samples=n_samples, random_state=42) \n",
    "df_1_balanced = resample(df_1, replace=True, n_samples=n_samples, random_state=42) \n",
    "df_2_balanced = resample(df_2, replace=True, n_samples=n_samples, random_state=42)\n",
    "df_3_balanced = resample(df_3, replace=True, n_samples=n_samples, random_state=42)\n",
    "df_4_balanced = resample(df_4, replace=True, n_samples=n_samples, random_state=42)\n",
    "df_5_balanced = resample(df_5, replace=True, n_samples=n_samples, random_state=42)\n",
    "df_6_balanced = resample(df_6, replace=True, n_samples=n_samples, random_state=42)\n",
    "\n",
    "#Combined back to a single dataframe\n",
    "data_balanced = pd.concat([df_0_balanced, df_1_balanced, \n",
    "                              df_2_balanced, df_3_balanced, \n",
    "                              df_4_balanced, df_5_balanced, df_6_balanced])\n",
    "\n",
    "print(data_balanced['label'].value_counts())"
   ]
  },
  {
   "cell_type": "markdown",
   "metadata": {},
   "source": [
    "### Removing hair from mole images"
   ]
  },
  {
   "cell_type": "code",
   "execution_count": 4,
   "metadata": {},
   "outputs": [],
   "source": [
    "data['path'] = './data/HAM10000_images/' + data['image_id'] +\".jpg\""
   ]
  },
  {
   "cell_type": "code",
   "execution_count": 6,
   "metadata": {},
   "outputs": [],
   "source": [
    "hair_images=data['path']"
   ]
  },
  {
   "cell_type": "code",
   "execution_count": 5,
   "metadata": {},
   "outputs": [],
   "source": [
    "def shave_the_mole(image):\n",
    "    grayscale = cv2.cvtColor(image, cv2.COLOR_RGB2GRAY)\n",
    "    kernel = cv2.getStructuringElement(1,(3,3))\n",
    "    blackhat = cv2.morphologyEx(grayscale, cv2.MORPH_BLACKHAT, kernel)\n",
    "    _,threshold = cv2.threshold(blackhat,10,255,cv2.THRESH_BINARY)\n",
    "    shaved_mole = cv2.inpaint(image,threshold,5,cv2.INPAINT_TELEA)\n",
    "    return shaved_mole"
   ]
  },
  {
   "cell_type": "code",
   "execution_count": 7,
   "metadata": {},
   "outputs": [],
   "source": [
    "\n",
    "features_list=[]\n",
    "for i,image_name in enumerate(hair_images[0:10015]):\n",
    "    image = cv2.imread(hair_images[i])\n",
    "    image_resize = cv2.resize(image,(SIZE,SIZE))\n",
    "    final_image = shave_the_mole(image_resize)\n",
    "    final_image=cv2.cvtColor(final_image, cv2.COLOR_BGR2RGB)\n",
    "    features_list.append(final_image)\n",
    "    \n",
    "data['image']=features_list  "
   ]
  },
  {
   "cell_type": "markdown",
   "metadata": {},
   "source": [
    "### Random over Sampling"
   ]
  },
  {
   "cell_type": "code",
   "execution_count": 9,
   "metadata": {},
   "outputs": [],
   "source": [
    "ros = RandomOverSampler()\n",
    "x=data\n",
    "y=data['label']\n",
    "data,y=ros.fit_resample(x, y)"
   ]
  },
  {
   "cell_type": "code",
   "execution_count": 10,
   "metadata": {},
   "outputs": [
    {
     "data": {
      "text/plain": [
       "2    6705\n",
       "5    6705\n",
       "3    6705\n",
       "4    6705\n",
       "6    6705\n",
       "1    6705\n",
       "0    6705\n",
       "Name: label, dtype: int64"
      ]
     },
     "execution_count": 10,
     "metadata": {},
     "output_type": "execute_result"
    }
   ],
   "source": [
    "data['label'].value_counts()"
   ]
  },
  {
   "cell_type": "code",
   "execution_count": 96,
   "metadata": {},
   "outputs": [],
   "source": [
    "#Use the path to read images. No need moles are shaved- use it if you dont shave the moles\n",
    "#data['image'] = data['path'].map(lambda x: np.asarray(Image.open(x).resize((SIZE,SIZE))))\n",
    "\n"
   ]
  },
  {
   "cell_type": "markdown",
   "metadata": {},
   "source": [
    "## Create Model "
   ]
  },
  {
   "cell_type": "code",
   "execution_count": 11,
   "metadata": {},
   "outputs": [],
   "source": [
    "#Convert dataframe column of image data to array\n",
    "\n",
    "X = np.asarray(data['image'].tolist())\n",
    "X = X/255. \n",
    "Y=data['label']  #\n",
    "Y_cat = to_categorical(Y, num_classes=7) #Convert to categorical \n",
    "\n"
   ]
  },
  {
   "cell_type": "code",
   "execution_count": 12,
   "metadata": {},
   "outputs": [],
   "source": [
    "x_train, x_test, y_train, y_test = train_test_split(X, Y_cat, test_size=0.20, random_state=42)"
   ]
  },
  {
   "cell_type": "markdown",
   "metadata": {},
   "source": [
    "### Clean the memory"
   ]
  },
  {
   "cell_type": "code",
   "execution_count": 16,
   "metadata": {},
   "outputs": [],
   "source": [
    "import gc\n",
    "import pandas as pd\n",
    "\n",
    "del [[data,features_list,hair_images]]\n",
    "gc.collect()\n",
    "data=pd.DataFrame()\n",
    "#df_2=pd.DataFrame()\n"
   ]
  },
  {
   "cell_type": "markdown",
   "metadata": {},
   "source": [
    "### Create Model"
   ]
  },
  {
   "cell_type": "code",
   "execution_count": 13,
   "metadata": {},
   "outputs": [
    {
     "name": "stdout",
     "output_type": "stream",
     "text": [
      "Model: \"sequential\"\n",
      "_________________________________________________________________\n",
      " Layer (type)                Output Shape              Param #   \n",
      "=================================================================\n",
      " conv2d (Conv2D)             (None, 30, 30, 256)       7168      \n",
      "                                                                 \n",
      " max_pooling2d (MaxPooling2D  (None, 15, 15, 256)      0         \n",
      " )                                                               \n",
      "                                                                 \n",
      " dropout (Dropout)           (None, 15, 15, 256)       0         \n",
      "                                                                 \n",
      " conv2d_1 (Conv2D)           (None, 13, 13, 128)       295040    \n",
      "                                                                 \n",
      " max_pooling2d_1 (MaxPooling  (None, 6, 6, 128)        0         \n",
      " 2D)                                                             \n",
      "                                                                 \n",
      " dropout_1 (Dropout)         (None, 6, 6, 128)         0         \n",
      "                                                                 \n",
      " conv2d_2 (Conv2D)           (None, 4, 4, 64)          73792     \n",
      "                                                                 \n",
      " max_pooling2d_2 (MaxPooling  (None, 2, 2, 64)         0         \n",
      " 2D)                                                             \n",
      "                                                                 \n",
      " dropout_2 (Dropout)         (None, 2, 2, 64)          0         \n",
      "                                                                 \n",
      " flatten (Flatten)           (None, 256)               0         \n",
      "                                                                 \n",
      " dense (Dense)               (None, 32)                8224      \n",
      "                                                                 \n",
      " dense_1 (Dense)             (None, 7)                 231       \n",
      "                                                                 \n",
      "=================================================================\n",
      "Total params: 384,455\n",
      "Trainable params: 384,455\n",
      "Non-trainable params: 0\n",
      "_________________________________________________________________\n"
     ]
    }
   ],
   "source": [
    "\n",
    "model = Sequential()\n",
    "model.add(Conv2D(256, (3, 3), activation=\"relu\", input_shape=(SIZE, SIZE, 3)))\n",
    "model.add(MaxPool2D(pool_size=(2, 2)))  \n",
    "model.add(Dropout(0.3))\n",
    "\n",
    "model.add(Conv2D(128, (3, 3),activation='relu'))\n",
    "model.add(MaxPool2D(pool_size=(2, 2)))  \n",
    "model.add(Dropout(0.3))\n",
    "\n",
    "model.add(Conv2D(64, (3, 3),activation='relu'))\n",
    "model.add(MaxPool2D(pool_size=(2, 2)))  \n",
    "model.add(Dropout(0.3))\n",
    "model.add(Flatten())\n",
    "\n",
    "model.add(Dense(32))\n",
    "model.add(Dense(7, activation='softmax'))\n",
    "model.summary()\n",
    "\n",
    "model.compile(loss='categorical_crossentropy', optimizer='Adam', metrics=['acc'])"
   ]
  },
  {
   "cell_type": "markdown",
   "metadata": {},
   "source": [
    "#### Defigning callbacks and fitting the model"
   ]
  },
  {
   "cell_type": "code",
   "execution_count": 27,
   "metadata": {},
   "outputs": [
    {
     "name": "stdout",
     "output_type": "stream",
     "text": [
      "Epoch 1/50\n",
      "1878/1878 [==============================] - 40s 21ms/step - loss: 0.3094 - acc: 0.8853 - val_loss: 0.1956 - val_acc: 0.9369 - lr: 1.0000e-05\n",
      "Epoch 2/50\n",
      "1878/1878 [==============================] - 39s 21ms/step - loss: 0.3049 - acc: 0.8882 - val_loss: 0.1952 - val_acc: 0.9375 - lr: 1.0000e-05\n",
      "Epoch 3/50\n",
      "1878/1878 [==============================] - 38s 20ms/step - loss: 0.3063 - acc: 0.8858 - val_loss: 0.1952 - val_acc: 0.9372 - lr: 1.0000e-05\n",
      "Epoch 4/50\n",
      "1878/1878 [==============================] - 38s 20ms/step - loss: 0.3018 - acc: 0.8886 - val_loss: 0.1937 - val_acc: 0.9368 - lr: 1.0000e-05\n",
      "Epoch 5/50\n",
      "1878/1878 [==============================] - 39s 21ms/step - loss: 0.3068 - acc: 0.8860 - val_loss: 0.1937 - val_acc: 0.9377 - lr: 1.0000e-05\n",
      "Epoch 6/50\n",
      "1878/1878 [==============================] - 40s 21ms/step - loss: 0.3086 - acc: 0.8847 - val_loss: 0.1939 - val_acc: 0.9364 - lr: 1.0000e-05\n",
      "Epoch 7/50\n",
      "1875/1878 [============================>.] - ETA: 0s - loss: 0.3111 - acc: 0.8839\n",
      "Epoch 00007: ReduceLROnPlateau reducing learning rate to 1.0000000656873453e-06.\n",
      "1878/1878 [==============================] - 39s 21ms/step - loss: 0.3113 - acc: 0.8838 - val_loss: 0.1946 - val_acc: 0.9372 - lr: 1.0000e-05\n",
      "Epoch 8/50\n",
      "1878/1878 [==============================] - 39s 21ms/step - loss: 0.3076 - acc: 0.8853 - val_loss: 0.1946 - val_acc: 0.9370 - lr: 1.0000e-06\n",
      "Epoch 9/50\n",
      "1878/1878 [==============================] - 29s 16ms/step - loss: 0.3047 - acc: 0.8861 - val_loss: 0.1946 - val_acc: 0.9370 - lr: 1.0000e-06\n",
      "Epoch 10/50\n",
      "1874/1878 [============================>.] - ETA: 0s - loss: 0.3039 - acc: 0.8848\n",
      "Epoch 00010: ReduceLROnPlateau reducing learning rate to 1.0000001111620805e-07.\n",
      "1878/1878 [==============================] - 25s 13ms/step - loss: 0.3038 - acc: 0.8848 - val_loss: 0.1944 - val_acc: 0.9369 - lr: 1.0000e-06\n",
      "Epoch 11/50\n",
      "1878/1878 [==============================] - 25s 13ms/step - loss: 0.3047 - acc: 0.8866 - val_loss: 0.1945 - val_acc: 0.9369 - lr: 1.0000e-07\n",
      "Epoch 12/50\n",
      "1878/1878 [==============================] - 25s 13ms/step - loss: 0.3009 - acc: 0.8882 - val_loss: 0.1944 - val_acc: 0.9369 - lr: 1.0000e-07\n",
      "Epoch 00012: early stopping\n"
     ]
    }
   ],
   "source": [
    "\n",
    "early_stop = EarlyStopping(monitor='val_loss', patience=8, verbose=1,mode='auto')\n",
    "tensorboard=TensorBoard(log_dir='./logs/{}'.format(NAME)) ## logs are under logs folder for tensorboard\n",
    "                            \n",
    "batch_size = 16 \n",
    "epochs = 50\n",
    "\n",
    "learning_rate = ReduceLROnPlateau(monitor='val_loss', factor=0.1, patience=3, verbose=1, mode='auto')\n",
    "\n",
    "history = model.fit(x_train, y_train, validation_split=0.2, batch_size = batch_size,  epochs = epochs,callbacks = [learning_rate, early_stop, tensorboard])\n",
    "\n"
   ]
  },
  {
   "cell_type": "markdown",
   "metadata": {},
   "source": [
    "up is from the third fitting"
   ]
  },
  {
   "cell_type": "markdown",
   "metadata": {},
   "source": [
    "#### Evaluating Model"
   ]
  },
  {
   "cell_type": "code",
   "execution_count": 30,
   "metadata": {},
   "outputs": [
    {
     "name": "stdout",
     "output_type": "stream",
     "text": [
      "294/294 [==============================] - 3s 9ms/step - loss: 0.2033 - acc: 0.9320\n",
      "Accuracy: 0.9320336580276489\n"
     ]
    },
    {
     "data": {
      "image/png": "[encoded data removed]",
      "text/plain": [
       "<Figure size 432x288 with 1 Axes>"
      ]
     },
     "metadata": {},
     "output_type": "display_data"
    },
    {
     "data": {
      "image/png": "[encoded data removed]",
      "text/plain": [
       "<Figure size 432x288 with 1 Axes>"
      ]
     },
     "metadata": {},
     "output_type": "display_data"
    }
   ],
   "source": [
    "score = model.evaluate(x_test, y_test)\n",
    "print('Accuracy:', score[1])\n",
    "\n",
    "\n",
    "#Plot the training and validation accuracy and loss \n",
    "loss = history.history['loss']\n",
    "val_loss = history.history['val_loss']\n",
    "epochs = range(1, len(loss) + 1)\n",
    "plt.plot(epochs, loss, 'y', label='Training loss')\n",
    "plt.plot(epochs, val_loss, 'r', label='Validation loss')\n",
    "plt.title('Training and validation loss')\n",
    "plt.xlabel('Epochs')\n",
    "plt.ylabel('Loss')\n",
    "plt.legend()\n",
    "plt.show()\n",
    "\n",
    "\n",
    "acc = history.history['acc']\n",
    "val_acc = history.history['val_acc']\n",
    "plt.plot(epochs, acc, 'y', label='Training acc')\n",
    "plt.plot(epochs, val_acc, 'r', label='Validation acc')\n",
    "plt.title('Training and validation accuracy')\n",
    "plt.xlabel('Epochs')\n",
    "plt.ylabel('Accuracy')\n",
    "plt.legend()\n",
    "plt.show()"
   ]
  },
  {
   "cell_type": "markdown",
   "metadata": {},
   "source": [
    "#### Calssification report and Confusion matrix"
   ]
  },
  {
   "cell_type": "code",
   "execution_count": 37,
   "metadata": {},
   "outputs": [
    {
     "name": "stdout",
     "output_type": "stream",
     "text": [
      "294/294 [==============================] - 2s 5ms/step\n",
      "[[1295    0    0    0    0    0    0]\n",
      " [   1 1318    4    0    0    0    0]\n",
      " [   9   25 1268    2   22   25    0]\n",
      " [   0    0    0 1392    0    0    0]\n",
      " [  10    5   77    0 1168   52    0]\n",
      " [  12   48  144   11  183  940    8]\n",
      " [   0    0    0    0    0    0 1368]]\n",
      "                                     precision    recall  f1-score   support\n",
      "\n",
      "          Actinic keratoses (akiec)       0.98      1.00      0.99      1295\n",
      "         Basal cell carcinoma (bcc)       0.94      1.00      0.97      1323\n",
      "Benign keratosis-like lesions (bkl)       0.85      0.94      0.89      1351\n",
      "                Dermatofibroma (df)       0.99      1.00      1.00      1392\n",
      "                     Melanoma (mel)       0.85      0.89      0.87      1312\n",
      "              Melanocytic nevi (nv)       0.92      0.70      0.80      1346\n",
      "            Vascular lesions (vasc)       0.99      1.00      1.00      1368\n",
      "\n",
      "                           accuracy                           0.93      9387\n",
      "                          macro avg       0.93      0.93      0.93      9387\n",
      "                       weighted avg       0.93      0.93      0.93      9387\n",
      "\n"
     ]
    },
    {
     "data": {
      "text/plain": [
       "<AxesSubplot:>"
      ]
     },
     "execution_count": 37,
     "metadata": {},
     "output_type": "execute_result"
    },
    {
     "data": {
      "image/png": "[encoded data removed]",
      "text/plain": [
       "<Figure size 720x720 with 2 Axes>"
      ]
     },
     "metadata": {},
     "output_type": "display_data"
    }
   ],
   "source": [
    "y_pred = model.predict(x_test)\n",
    "y_pred_classes = np.argmax(y_pred, axis = 1) \n",
    "y_true = np.argmax(y_test, axis = 1) \n",
    "\n",
    "\n",
    "#Print confusion matrix\n",
    "cm = confusion_matrix(y_true, y_pred_classes)\n",
    "print(cm)\n",
    "#Print classification_report\n",
    "print(classification_report(y_true, y_pred_classes,target_names=labels.values()))\n",
    "fig, ax = plt.subplots(figsize=(10,10))\n",
    "sns.set(font_scale=1)\n",
    "sns.heatmap(cm, annot=True, linewidths=.5, ax=ax,fmt='g',cmap=\"YlGn\")\n",
    "\n"
   ]
  },
  {
   "cell_type": "code",
   "execution_count": 39,
   "metadata": {},
   "outputs": [
    {
     "data": {
      "text/plain": [
       "Text(0, 0.5, 'Percent of incorrect predictions')"
      ]
     },
     "execution_count": 39,
     "metadata": {},
     "output_type": "execute_result"
    },
    {
     "data": {
      "image/png": "[encoded data removed]",
      "text/plain": [
       "<Figure size 432x288 with 1 Axes>"
      ]
     },
     "metadata": {},
     "output_type": "display_data"
    }
   ],
   "source": [
    "#Incorrect classifications\n",
    "incorr = 1 - np.diag(cm) / np.sum(cm, axis=1)\n",
    "plt.bar(np.arange(7), incorr)\n",
    "plt.xlabel('True')\n",
    "plt.ylabel('Percent of incorrect predictions')"
   ]
  },
  {
   "cell_type": "markdown",
   "metadata": {},
   "source": [
    "### Save the model and weights"
   ]
  },
  {
   "cell_type": "code",
   "execution_count": 26,
   "metadata": {},
   "outputs": [],
   "source": [
    "model_json = model.to_json()\n",
    "with open(\"modelmk.json\", \"w\") as json_file:\n",
    "    json_file.write(model_json)\n",
    "model.save_weights(\"modelmk.h5\")"
   ]
  },
  {
   "cell_type": "code",
   "execution_count": null,
   "metadata": {},
   "outputs": [],
   "source": []
  },
  {
   "cell_type": "markdown",
   "metadata": {},
   "source": [
    "----------"
   ]
  }
 ],
 "metadata": {
  "interpreter": {
   "hash": "66a43da4e70cc3f7b73382e30a4177bdcdabfb5ea46b21e7b3ca8c5de37a9ea1"
  },
  "kernelspec": {
   "display_name": "Python 3.10.2 ('moleenv': venv)",
   "language": "python",
   "name": "python3"
  },
  "language_info": {
   "codemirror_mode": {
    "name": "ipython",
    "version": 3
   },
   "file_extension": ".py",
   "mimetype": "text/x-python",
   "name": "python",
   "nbconvert_exporter": "python",
   "pygments_lexer": "ipython3",
   "version": "3.10.2"
  },
  "orig_nbformat": 4
 },
 "nbformat": 4,
 "nbformat_minor": 2
}
