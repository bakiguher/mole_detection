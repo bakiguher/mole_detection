{
 "cells": [
  {
   "cell_type": "markdown",
   "metadata": {},
   "source": [
    "# MOLE DETECTION"
   ]
  },
  {
   "cell_type": "markdown",
   "metadata": {},
   "source": [
    "Import Necessary Libraries"
   ]
  },
  {
   "cell_type": "code",
   "execution_count": 91,
   "metadata": {},
   "outputs": [],
   "source": [
    "import numpy as np\n",
    "import pandas as pd\n",
    "import os\n",
    "from glob import glob\n",
    "import seaborn as sns\n",
    "import matplotlib.pyplot as plt\n",
    "from PIL import Image\n",
    "import time\n",
    "\n",
    "from sklearn.metrics import confusion_matrix,classification_report\n",
    "from sklearn.model_selection import train_test_split\n",
    "from sklearn.preprocessing import LabelEncoder\n",
    "from sklearn.utils import class_weight\n",
    "\n",
    "\n",
    "import keras\n",
    "from keras.utils.np_utils import to_categorical \n",
    "from keras.preprocessing.image import ImageDataGenerator\n",
    "from keras.models import Sequential\n",
    "from keras.layers import Dense, Dropout, Flatten, Conv2D, MaxPool2D, BatchNormalization\n",
    "from tensorflow.python.keras.callbacks import ReduceLROnPlateau, EarlyStopping\n",
    "from keras.callbacks import TensorBoard\n",
    "\n",
    "from imblearn.under_sampling import RandomUnderSampler\n",
    "from imblearn.over_sampling import RandomOverSampler\n",
    "\n",
    "import cv2\n",
    "\n",
    "NAME=\"mole_multiclass-{}\".format(int(time.time())) # log file name for tensorboard"
   ]
  },
  {
   "cell_type": "markdown",
   "metadata": {},
   "source": [
    "Constants"
   ]
  },
  {
   "cell_type": "code",
   "execution_count": 92,
   "metadata": {},
   "outputs": [],
   "source": [
    "lesion_type_dict = {\n",
    "    'nv': 'Melanocytic nevi (nv)',\n",
    "    'mel': 'Melanoma (mel)',\n",
    "    'bkl': 'Benign keratosis-like lesions (bkl)',\n",
    "    'bcc': 'Basal cell carcinoma (bcc)',\n",
    "    'akiec': 'Actinic keratoses (akiec)',\n",
    "    'vasc': 'Vascular lesions (vasc)',\n",
    "    'df': 'Dermatofibroma (df)'\n",
    "}\n",
    "label_mapping = {\n",
    "    0: 'akiec',\n",
    "    1: 'bcc',\n",
    "    2: 'bkl',\n",
    "    3: 'df',\n",
    "    4: 'mel',\n",
    "    5: 'nv',\n",
    "    6: 'vasc'\n",
    "}\n",
    "labels = {\n",
    "    0: 'Actinic keratoses (akiec)',\n",
    "    1: 'Basal cell carcinoma (bcc)',\n",
    "    2: 'Benign keratosis-like lesions (bkl)',\n",
    "    3: 'Dermatofibroma (df)',\n",
    "    4: 'Melanoma (mel)',\n",
    "    5: 'Melanocytic nevi (nv)',\n",
    "    6: 'Vascular lesions (vasc)',\n",
    "}\n",
    "int_label_mapping = dict((value, key) for key, value in label_mapping.items())\n",
    "\n",
    "SIZE=32  # image size"
   ]
  },
  {
   "cell_type": "markdown",
   "metadata": {},
   "source": [
    "Read the data and convert labels to integer"
   ]
  },
  {
   "cell_type": "code",
   "execution_count": 93,
   "metadata": {},
   "outputs": [
    {
     "name": "stdout",
     "output_type": "stream",
     "text": [
      "['akiec', 'bcc', 'bkl', 'df', 'mel', 'nv', 'vasc']\n"
     ]
    }
   ],
   "source": [
    "\n",
    "data = pd.read_csv('data/HAM10000_metadata.csv')\n",
    "\n",
    "labele = LabelEncoder()\n",
    "labele.fit(data['dx'])\n",
    "data['label'] = labele.transform(data[\"dx\"]) \n",
    "\n",
    "print(list(labele.classes_))\n",
    "\n"
   ]
  },
  {
   "cell_type": "code",
   "execution_count": null,
   "metadata": {},
   "outputs": [],
   "source": [
    "data.dx.value_counts()"
   ]
  },
  {
   "cell_type": "markdown",
   "metadata": {},
   "source": [
    "## Processing the data\n",
    "3 different aproaches used\n",
    " - 1 class_weights\n",
    " - 2 resampling\n",
    " - 3 randomoversampling\n",
    "    "
   ]
  },
  {
   "cell_type": "markdown",
   "metadata": {},
   "source": [
    "### 1 Class weights"
   ]
  },
  {
   "cell_type": "code",
   "execution_count": null,
   "metadata": {},
   "outputs": [],
   "source": [
    "#Class Weights- this is first option for unbalanced data- did not use it\n",
    "from sklearn.utils import class_weight\n",
    "y=data['label'] # you can convert this to integer values \n",
    "class_weights = dict(zip(np.unique(y), class_weight.compute_class_weight(class_weight='balanced',classes=np.unique(y), \n",
    "                y=y))) \n",
    "class_weights"
   ]
  },
  {
   "cell_type": "markdown",
   "metadata": {},
   "source": [
    "### 2 -Resampling with sklearn "
   ]
  },
  {
   "cell_type": "code",
   "execution_count": 83,
   "metadata": {},
   "outputs": [
    {
     "name": "stdout",
     "output_type": "stream",
     "text": [
      "5    6705\n",
      "4    1113\n",
      "2    1099\n",
      "1     514\n",
      "0     327\n",
      "6     142\n",
      "3     115\n",
      "Name: label, dtype: int64\n",
      "0    500\n",
      "1    500\n",
      "2    500\n",
      "3    500\n",
      "4    500\n",
      "5    500\n",
      "6    500\n",
      "Name: label, dtype: int64\n"
     ]
    }
   ],
   "source": [
    "#resampling- second option for unbalanced data- \n",
    "n_samples=500\n",
    "\n",
    "from sklearn.utils import resample\n",
    "print(data['label'].value_counts())\n",
    "\n",
    "# Balancing the data\n",
    "# tried balancing with class weights and imageprocessing best results came with randomoversampling\n",
    "\n",
    "df_0 = data[data['label'] == 0]\n",
    "df_1 = data[data['label'] == 1]\n",
    "df_2 = data[data['label'] == 2]\n",
    "df_3 = data[data['label'] == 3]\n",
    "df_4 = data[data['label'] == 4]\n",
    "df_5 = data[data['label'] == 5]\n",
    "df_6 = data[data['label'] == 6]\n",
    "\n",
    "\n",
    "df_0_balanced = resample(df_0, replace=True, n_samples=n_samples, random_state=42) \n",
    "df_1_balanced = resample(df_1, replace=True, n_samples=n_samples, random_state=42) \n",
    "df_2_balanced = resample(df_2, replace=True, n_samples=n_samples, random_state=42)\n",
    "df_3_balanced = resample(df_3, replace=True, n_samples=n_samples, random_state=42)\n",
    "df_4_balanced = resample(df_4, replace=True, n_samples=n_samples, random_state=42)\n",
    "df_5_balanced = resample(df_5, replace=True, n_samples=n_samples, random_state=42)\n",
    "df_6_balanced = resample(df_6, replace=True, n_samples=n_samples, random_state=42)\n",
    "\n",
    "#Combined back to a single dataframe\n",
    "data_balanced = pd.concat([df_0_balanced, df_1_balanced, \n",
    "                              df_2_balanced, df_3_balanced, \n",
    "                              df_4_balanced, df_5_balanced, df_6_balanced])\n",
    "\n",
    "print(data_balanced['label'].value_counts())\n",
    "data=data_balanced.copy(deep=True)\n",
    "data['path'] = './data/HAM10000_images/' + data['image_id'] +\".jpg\"\n",
    "data['image'] = data['path'].map(lambda x: np.asarray(Image.open(x).resize((SIZE,SIZE))))"
   ]
  },
  {
   "cell_type": "markdown",
   "metadata": {},
   "source": [
    "### 3 -Random Over Sampling "
   ]
  },
  {
   "cell_type": "code",
   "execution_count": 103,
   "metadata": {},
   "outputs": [
    {
     "data": {
      "text/plain": [
       "2    6705\n",
       "5    6705\n",
       "3    6705\n",
       "4    6705\n",
       "6    6705\n",
       "1    6705\n",
       "0    6705\n",
       "Name: label, dtype: int64"
      ]
     },
     "execution_count": 103,
     "metadata": {},
     "output_type": "execute_result"
    }
   ],
   "source": [
    "# Before using this part it is better to run Removing hair from mole images functions Because of oversampling it can take double the amount of time\n",
    "ros = RandomOverSampler()\n",
    "x=data\n",
    "y=data['label']\n",
    "data,y=ros.fit_resample(x, y)\n",
    "data['label'].value_counts()"
   ]
  },
  {
   "cell_type": "markdown",
   "metadata": {},
   "source": [
    "## Removing hair from mole images"
   ]
  },
  {
   "cell_type": "code",
   "execution_count": 94,
   "metadata": {},
   "outputs": [],
   "source": [
    "data['path'] = './data/HAM10000_images/' + data['image_id'] +\".jpg\"\n",
    "hair_images=data['path']"
   ]
  },
  {
   "cell_type": "code",
   "execution_count": 95,
   "metadata": {},
   "outputs": [],
   "source": [
    "def shave_the_mole(image):\n",
    "    grayscale = cv2.cvtColor(image, cv2.COLOR_RGB2GRAY)\n",
    "    kernel = cv2.getStructuringElement(1,(3,3))\n",
    "    blackhat = cv2.morphologyEx(grayscale, cv2.MORPH_BLACKHAT, kernel)\n",
    "    _,threshold = cv2.threshold(blackhat,10,255,cv2.THRESH_BINARY)\n",
    "    shaved_mole = cv2.inpaint(image,threshold,5,cv2.INPAINT_TELEA)\n",
    "    return shaved_mole"
   ]
  },
  {
   "cell_type": "code",
   "execution_count": 98,
   "metadata": {},
   "outputs": [],
   "source": [
    "\n",
    "features_list=[]\n",
    "for i,image_name in enumerate(hair_images[0:hair_images.size]):\n",
    "    image = cv2.imread(hair_images[i])\n",
    "    image_resize = cv2.resize(image,(SIZE,SIZE))\n",
    "    shaved_image = shave_the_mole(image_resize)\n",
    "    \n",
    "    final_image=cv2.cvtColor(shaved_image, cv2.COLOR_BGR2RGB)\n",
    "    features_list.append(final_image)\n",
    "    \n",
    "data['image']=features_list  "
   ]
  },
  {
   "cell_type": "markdown",
   "metadata": {},
   "source": [
    "#### Show cleaned images"
   ]
  },
  {
   "cell_type": "code",
   "execution_count": null,
   "metadata": {},
   "outputs": [],
   "source": [
    "n_samples = 5\n",
    "fig, m_axs = plt.subplots(7, n_samples, figsize = (4*n_samples, 3*7))\n",
    "for n_axs, (type_name, type_rows) in zip(m_axs, \n",
    "                                         data.sort_values(['dx']).groupby('dx')):\n",
    "    n_axs[0].set_title(type_name)\n",
    "    for c_ax, (_, c_row) in zip(n_axs, type_rows.sample(n_samples, random_state=20).iterrows()):\n",
    "        c_ax.imshow(c_row['image'])\n",
    "        c_ax.axis('off')\n",
    "#fig.savefig('category_samples.png', dpi=300)\n"
   ]
  },
  {
   "cell_type": "code",
   "execution_count": 99,
   "metadata": {},
   "outputs": [],
   "source": [
    "# take a copy to check other things\n",
    "data1=data.copy(deep=True)\n"
   ]
  },
  {
   "cell_type": "code",
   "execution_count": 85,
   "metadata": {},
   "outputs": [],
   "source": [
    "data=data1"
   ]
  },
  {
   "cell_type": "markdown",
   "metadata": {},
   "source": [
    "## Create Model "
   ]
  },
  {
   "cell_type": "code",
   "execution_count": 104,
   "metadata": {},
   "outputs": [],
   "source": [
    "#Convert dataframe column of image data to array\n",
    "\n",
    "X = np.asarray(data['image'].tolist())\n",
    "X = X/255. \n",
    "Y=data['label']  #\n",
    "Y_cat = to_categorical(Y, num_classes=7) #Convert to categorical \n",
    "x_train, x_test, y_train, y_test = train_test_split(X, Y_cat, test_size=0.20, random_state=42,shuffle=True)\n"
   ]
  },
  {
   "cell_type": "markdown",
   "metadata": {},
   "source": [
    "Clean the memory"
   ]
  },
  {
   "cell_type": "code",
   "execution_count": null,
   "metadata": {},
   "outputs": [],
   "source": [
    "import gc\n",
    "import pandas as pd\n",
    "\n",
    "del [[data,features_list,hair_images]]\n",
    "gc.collect()\n",
    "data=pd.DataFrame()\n",
    "\n"
   ]
  },
  {
   "cell_type": "markdown",
   "metadata": {},
   "source": [
    "### Model"
   ]
  },
  {
   "cell_type": "code",
   "execution_count": 105,
   "metadata": {},
   "outputs": [
    {
     "name": "stdout",
     "output_type": "stream",
     "text": [
      "Model: \"sequential_4\"\n",
      "_________________________________________________________________\n",
      " Layer (type)                Output Shape              Param #   \n",
      "=================================================================\n",
      " conv2d_12 (Conv2D)          (None, 30, 30, 256)       7168      \n",
      "                                                                 \n",
      " max_pooling2d_12 (MaxPoolin  (None, 15, 15, 256)      0         \n",
      " g2D)                                                            \n",
      "                                                                 \n",
      " dropout_12 (Dropout)        (None, 15, 15, 256)       0         \n",
      "                                                                 \n",
      " conv2d_13 (Conv2D)          (None, 13, 13, 128)       295040    \n",
      "                                                                 \n",
      " max_pooling2d_13 (MaxPoolin  (None, 6, 6, 128)        0         \n",
      " g2D)                                                            \n",
      "                                                                 \n",
      " dropout_13 (Dropout)        (None, 6, 6, 128)         0         \n",
      "                                                                 \n",
      " conv2d_14 (Conv2D)          (None, 4, 4, 64)          73792     \n",
      "                                                                 \n",
      " max_pooling2d_14 (MaxPoolin  (None, 2, 2, 64)         0         \n",
      " g2D)                                                            \n",
      "                                                                 \n",
      " dropout_14 (Dropout)        (None, 2, 2, 64)          0         \n",
      "                                                                 \n",
      " flatten_4 (Flatten)         (None, 256)               0         \n",
      "                                                                 \n",
      " dense_8 (Dense)             (None, 32)                8224      \n",
      "                                                                 \n",
      " dense_9 (Dense)             (None, 7)                 231       \n",
      "                                                                 \n",
      "=================================================================\n",
      "Total params: 384,455\n",
      "Trainable params: 384,455\n",
      "Non-trainable params: 0\n",
      "_________________________________________________________________\n"
     ]
    }
   ],
   "source": [
    "METRICS = [\n",
    "      keras.metrics.BinaryAccuracy(name='accuracy'),\n",
    "      keras.metrics.Precision(name='precision'),\n",
    "      keras.metrics.TruePositives(name='tp'),\n",
    "      keras.metrics.FalsePositives(name='fp'),\n",
    "      keras.metrics.TrueNegatives(name='tn'),\n",
    "      keras.metrics.FalseNegatives(name='fn'), \n",
    "   \n",
    "      keras.metrics.Recall(name='recall'),\n",
    "      keras.metrics.AUC(name='auc'),\n",
    "      keras.metrics.AUC(name='prc', curve='PR'), # precision-recall curve\n",
    "]\n",
    "\n",
    "model = Sequential()\n",
    "model.add(Conv2D(256, (3, 3), activation=\"relu\", input_shape=(SIZE, SIZE, 3)))\n",
    "model.add(MaxPool2D(pool_size=(2, 2)))  \n",
    "model.add(Dropout(0.3))\n",
    "\n",
    "model.add(Conv2D(128, (3, 3),activation='relu'))\n",
    "model.add(MaxPool2D(pool_size=(2, 2)))  \n",
    "model.add(Dropout(0.3))\n",
    "\n",
    "model.add(Conv2D(64, (3, 3),activation='relu'))\n",
    "model.add(MaxPool2D(pool_size=(2, 2)))  \n",
    "model.add(Dropout(0.3))\n",
    "model.add(Flatten())\n",
    "\n",
    "model.add(Dense(32))\n",
    "#model.add(Dense(len(train_generator.classes), activation='softmax'))\n",
    "\n",
    "model.add(Dense(7, activation='softmax'))\n",
    "model.summary()\n",
    "\n",
    "model.compile(loss='categorical_crossentropy', optimizer='Adam', metrics=[METRICS])"
   ]
  },
  {
   "cell_type": "markdown",
   "metadata": {},
   "source": [
    "#### Defining callbacks and fitting the model"
   ]
  },
  {
   "cell_type": "code",
   "execution_count": 106,
   "metadata": {},
   "outputs": [
    {
     "name": "stdout",
     "output_type": "stream",
     "text": [
      "Epoch 1/40\n",
      "939/939 [==============================] - 30s 30ms/step - loss: 1.4945 - accuracy: 0.8722 - precision: 0.7490 - tp: 4750.0000 - fp: 1592.0000 - tn: 178636.0000 - fn: 25288.0000 - recall: 0.1581 - auc: 0.7955 - prc: 0.4533 - val_loss: 1.2440 - val_accuracy: 0.8839 - val_precision: 0.7997 - val_tp: 1873.0000 - val_fp: 469.0000 - val_tn: 44591.0000 - val_fn: 5637.0000 - val_recall: 0.2494 - val_auc: 0.8668 - val_prc: 0.5821 - lr: 0.0010\n",
      "Epoch 2/40\n",
      "939/939 [==============================] - 26s 27ms/step - loss: 1.2364 - accuracy: 0.8830 - precision: 0.7452 - tp: 8276.0000 - fp: 2830.0000 - tn: 177398.0000 - fn: 21762.0000 - recall: 0.2755 - auc: 0.8689 - prc: 0.5859 - val_loss: 1.0783 - val_accuracy: 0.8918 - val_precision: 0.8333 - val_tp: 2275.0000 - val_fp: 455.0000 - val_tn: 44605.0000 - val_fn: 5235.0000 - val_recall: 0.3029 - val_auc: 0.9067 - val_prc: 0.6715 - lr: 0.0010\n",
      "Epoch 3/40\n",
      "939/939 [==============================] - 26s 28ms/step - loss: 1.1291 - accuracy: 0.8908 - precision: 0.7450 - tp: 10761.0000 - fp: 3683.0000 - tn: 176545.0000 - fn: 19277.0000 - recall: 0.3582 - auc: 0.8918 - prc: 0.6403 - val_loss: 0.9662 - val_accuracy: 0.9043 - val_precision: 0.8191 - val_tp: 3179.0000 - val_fp: 702.0000 - val_tn: 44358.0000 - val_fn: 4331.0000 - val_recall: 0.4233 - val_auc: 0.9241 - val_prc: 0.7251 - lr: 0.0010\n",
      "Epoch 4/40\n",
      "939/939 [==============================] - 26s 27ms/step - loss: 1.0323 - accuracy: 0.8982 - precision: 0.7528 - tp: 12859.0000 - fp: 4222.0000 - tn: 176006.0000 - fn: 17179.0000 - recall: 0.4281 - auc: 0.9101 - prc: 0.6864 - val_loss: 0.8904 - val_accuracy: 0.9099 - val_precision: 0.8215 - val_tp: 3543.0000 - val_fp: 770.0000 - val_tn: 44290.0000 - val_fn: 3967.0000 - val_recall: 0.4718 - val_auc: 0.9369 - val_prc: 0.7616 - lr: 0.0010\n",
      "Epoch 5/40\n",
      "939/939 [==============================] - 26s 27ms/step - loss: 0.9544 - accuracy: 0.9054 - precision: 0.7658 - tp: 14606.0000 - fp: 4467.0000 - tn: 175761.0000 - fn: 15432.0000 - recall: 0.4863 - auc: 0.9235 - prc: 0.7246 - val_loss: 0.7876 - val_accuracy: 0.9214 - val_precision: 0.8714 - val_tp: 3963.0000 - val_fp: 585.0000 - val_tn: 44475.0000 - val_fn: 3547.0000 - val_recall: 0.5277 - val_auc: 0.9534 - val_prc: 0.8162 - lr: 0.0010\n",
      "Epoch 6/40\n",
      "939/939 [==============================] - 26s 27ms/step - loss: 0.8925 - accuracy: 0.9110 - precision: 0.7767 - tp: 15880.0000 - fp: 4565.0000 - tn: 175663.0000 - fn: 14158.0000 - recall: 0.5287 - auc: 0.9331 - prc: 0.7530 - val_loss: 0.7482 - val_accuracy: 0.9253 - val_precision: 0.8867 - val_tp: 4110.0000 - val_fp: 525.0000 - val_tn: 44535.0000 - val_fn: 3400.0000 - val_recall: 0.5473 - val_auc: 0.9597 - val_prc: 0.8386 - lr: 0.0010\n",
      "Epoch 7/40\n",
      "939/939 [==============================] - 26s 27ms/step - loss: 0.8395 - accuracy: 0.9153 - precision: 0.7843 - tp: 16881.0000 - fp: 4643.0000 - tn: 175585.0000 - fn: 13157.0000 - recall: 0.5620 - auc: 0.9407 - prc: 0.7750 - val_loss: 0.6688 - val_accuracy: 0.9341 - val_precision: 0.8895 - val_tp: 4619.0000 - val_fp: 574.0000 - val_tn: 44486.0000 - val_fn: 2891.0000 - val_recall: 0.6150 - val_auc: 0.9676 - val_prc: 0.8662 - lr: 0.0010\n",
      "Epoch 8/40\n",
      "939/939 [==============================] - 26s 28ms/step - loss: 0.8014 - accuracy: 0.9190 - precision: 0.7935 - tp: 17594.0000 - fp: 4578.0000 - tn: 175650.0000 - fn: 12444.0000 - recall: 0.5857 - auc: 0.9460 - prc: 0.7916 - val_loss: 0.6241 - val_accuracy: 0.9388 - val_precision: 0.8823 - val_tp: 4953.0000 - val_fp: 661.0000 - val_tn: 44399.0000 - val_fn: 2557.0000 - val_recall: 0.6595 - val_auc: 0.9711 - val_prc: 0.8779 - lr: 0.0010\n",
      "Epoch 9/40\n",
      "939/939 [==============================] - 26s 27ms/step - loss: 0.7775 - accuracy: 0.9214 - precision: 0.7970 - tp: 18119.0000 - fp: 4614.0000 - tn: 175614.0000 - fn: 11919.0000 - recall: 0.6032 - auc: 0.9490 - prc: 0.8022 - val_loss: 0.5991 - val_accuracy: 0.9395 - val_precision: 0.8714 - val_tp: 5080.0000 - val_fp: 750.0000 - val_tn: 44310.0000 - val_fn: 2430.0000 - val_recall: 0.6764 - val_auc: 0.9718 - val_prc: 0.8796 - lr: 0.0010\n",
      "Epoch 10/40\n",
      "939/939 [==============================] - 26s 27ms/step - loss: 0.7491 - accuracy: 0.9235 - precision: 0.7993 - tp: 18633.0000 - fp: 4680.0000 - tn: 175548.0000 - fn: 11405.0000 - recall: 0.6203 - auc: 0.9526 - prc: 0.8138 - val_loss: 0.5869 - val_accuracy: 0.9431 - val_precision: 0.9045 - val_tp: 5051.0000 - val_fp: 533.0000 - val_tn: 44527.0000 - val_fn: 2459.0000 - val_recall: 0.6726 - val_auc: 0.9758 - val_prc: 0.8950 - lr: 0.0010\n",
      "Epoch 11/40\n",
      "939/939 [==============================] - 26s 28ms/step - loss: 0.7237 - accuracy: 0.9257 - precision: 0.8040 - tp: 19070.0000 - fp: 4649.0000 - tn: 175579.0000 - fn: 10968.0000 - recall: 0.6349 - auc: 0.9558 - prc: 0.8229 - val_loss: 0.5544 - val_accuracy: 0.9439 - val_precision: 0.8982 - val_tp: 5145.0000 - val_fp: 583.0000 - val_tn: 44477.0000 - val_fn: 2365.0000 - val_recall: 0.6851 - val_auc: 0.9777 - val_prc: 0.9010 - lr: 0.0010\n",
      "Epoch 12/40\n",
      "939/939 [==============================] - 26s 27ms/step - loss: 0.7101 - accuracy: 0.9271 - precision: 0.8083 - tp: 19272.0000 - fp: 4572.0000 - tn: 175656.0000 - fn: 10766.0000 - recall: 0.6416 - auc: 0.9572 - prc: 0.8278 - val_loss: 0.5360 - val_accuracy: 0.9465 - val_precision: 0.9003 - val_tp: 5282.0000 - val_fp: 585.0000 - val_tn: 44475.0000 - val_fn: 2228.0000 - val_recall: 0.7033 - val_auc: 0.9785 - val_prc: 0.9060 - lr: 0.0010\n",
      "Epoch 13/40\n",
      "939/939 [==============================] - 26s 28ms/step - loss: 0.6832 - accuracy: 0.9301 - precision: 0.8179 - tp: 19735.0000 - fp: 4395.0000 - tn: 175833.0000 - fn: 10303.0000 - recall: 0.6570 - auc: 0.9604 - prc: 0.8395 - val_loss: 0.5343 - val_accuracy: 0.9444 - val_precision: 0.8935 - val_tp: 5210.0000 - val_fp: 621.0000 - val_tn: 44439.0000 - val_fn: 2300.0000 - val_recall: 0.6937 - val_auc: 0.9789 - val_prc: 0.9059 - lr: 0.0010\n",
      "Epoch 14/40\n",
      "939/939 [==============================] - 26s 27ms/step - loss: 0.6724 - accuracy: 0.9315 - precision: 0.8201 - tp: 20037.0000 - fp: 4396.0000 - tn: 175832.0000 - fn: 10001.0000 - recall: 0.6671 - auc: 0.9615 - prc: 0.8446 - val_loss: 0.4972 - val_accuracy: 0.9506 - val_precision: 0.9023 - val_tp: 5507.0000 - val_fp: 596.0000 - val_tn: 44464.0000 - val_fn: 2003.0000 - val_recall: 0.7333 - val_auc: 0.9809 - val_prc: 0.9168 - lr: 0.0010\n",
      "Epoch 15/40\n",
      "939/939 [==============================] - 26s 28ms/step - loss: 0.6559 - accuracy: 0.9328 - precision: 0.8215 - tp: 20329.0000 - fp: 4416.0000 - tn: 175812.0000 - fn: 9709.0000 - recall: 0.6768 - auc: 0.9632 - prc: 0.8511 - val_loss: 0.5507 - val_accuracy: 0.9444 - val_precision: 0.8966 - val_tp: 5185.0000 - val_fp: 598.0000 - val_tn: 44462.0000 - val_fn: 2325.0000 - val_recall: 0.6904 - val_auc: 0.9778 - val_prc: 0.9029 - lr: 0.0010\n",
      "Epoch 16/40\n",
      "939/939 [==============================] - 27s 28ms/step - loss: 0.6495 - accuracy: 0.9337 - precision: 0.8252 - tp: 20410.0000 - fp: 4322.0000 - tn: 175906.0000 - fn: 9628.0000 - recall: 0.6795 - auc: 0.9639 - prc: 0.8536 - val_loss: 0.5082 - val_accuracy: 0.9484 - val_precision: 0.8931 - val_tp: 5449.0000 - val_fp: 652.0000 - val_tn: 44408.0000 - val_fn: 2061.0000 - val_recall: 0.7256 - val_auc: 0.9802 - val_prc: 0.9107 - lr: 0.0010\n",
      "Epoch 17/40\n",
      "939/939 [==============================] - 26s 27ms/step - loss: 0.6370 - accuracy: 0.9350 - precision: 0.8274 - tp: 20688.0000 - fp: 4315.0000 - tn: 175913.0000 - fn: 9350.0000 - recall: 0.6887 - auc: 0.9654 - prc: 0.8585 - val_loss: 0.4812 - val_accuracy: 0.9549 - val_precision: 0.9153 - val_tp: 5661.0000 - val_fp: 524.0000 - val_tn: 44536.0000 - val_fn: 1849.0000 - val_recall: 0.7538 - val_auc: 0.9826 - val_prc: 0.9233 - lr: 0.0010\n",
      "Epoch 18/40\n",
      "939/939 [==============================] - 26s 27ms/step - loss: 0.6191 - accuracy: 0.9357 - precision: 0.8272 - tp: 20870.0000 - fp: 4360.0000 - tn: 175868.0000 - fn: 9168.0000 - recall: 0.6948 - auc: 0.9672 - prc: 0.8641 - val_loss: 0.5095 - val_accuracy: 0.9487 - val_precision: 0.8926 - val_tp: 5469.0000 - val_fp: 658.0000 - val_tn: 44402.0000 - val_fn: 2041.0000 - val_recall: 0.7282 - val_auc: 0.9798 - val_prc: 0.9123 - lr: 0.0010\n",
      "Epoch 19/40\n",
      "939/939 [==============================] - 26s 27ms/step - loss: 0.6095 - accuracy: 0.9374 - precision: 0.8313 - tp: 21184.0000 - fp: 4299.0000 - tn: 175929.0000 - fn: 8854.0000 - recall: 0.7052 - auc: 0.9681 - prc: 0.8682 - val_loss: 0.4678 - val_accuracy: 0.9538 - val_precision: 0.9142 - val_tp: 5607.0000 - val_fp: 526.0000 - val_tn: 44534.0000 - val_fn: 1903.0000 - val_recall: 0.7466 - val_auc: 0.9840 - val_prc: 0.9274 - lr: 0.0010\n",
      "Epoch 20/40\n",
      "939/939 [==============================] - 26s 27ms/step - loss: 0.5918 - accuracy: 0.9388 - precision: 0.8350 - tp: 21404.0000 - fp: 4229.0000 - tn: 175999.0000 - fn: 8634.0000 - recall: 0.7126 - auc: 0.9700 - prc: 0.8741 - val_loss: 0.4236 - val_accuracy: 0.9581 - val_precision: 0.9143 - val_tp: 5855.0000 - val_fp: 549.0000 - val_tn: 44511.0000 - val_fn: 1655.0000 - val_recall: 0.7796 - val_auc: 0.9858 - val_prc: 0.9367 - lr: 0.0010\n",
      "Epoch 21/40\n",
      "939/939 [==============================] - 26s 28ms/step - loss: 0.5949 - accuracy: 0.9395 - precision: 0.8389 - tp: 21440.0000 - fp: 4118.0000 - tn: 176110.0000 - fn: 8598.0000 - recall: 0.7138 - auc: 0.9696 - prc: 0.8738 - val_loss: 0.4229 - val_accuracy: 0.9585 - val_precision: 0.9196 - val_tp: 5841.0000 - val_fp: 511.0000 - val_tn: 44549.0000 - val_fn: 1669.0000 - val_recall: 0.7778 - val_auc: 0.9870 - val_prc: 0.9401 - lr: 0.0010\n",
      "Epoch 22/40\n",
      "939/939 [==============================] - 26s 27ms/step - loss: 0.5751 - accuracy: 0.9399 - precision: 0.8374 - tp: 21597.0000 - fp: 4193.0000 - tn: 176035.0000 - fn: 8441.0000 - recall: 0.7190 - auc: 0.9714 - prc: 0.8793 - val_loss: 0.4221 - val_accuracy: 0.9579 - val_precision: 0.9146 - val_tp: 5845.0000 - val_fp: 546.0000 - val_tn: 44514.0000 - val_fn: 1665.0000 - val_recall: 0.7783 - val_auc: 0.9866 - val_prc: 0.9391 - lr: 0.0010\n",
      "Epoch 23/40\n",
      "939/939 [==============================] - 26s 28ms/step - loss: 0.5785 - accuracy: 0.9404 - precision: 0.8384 - tp: 21675.0000 - fp: 4178.0000 - tn: 176050.0000 - fn: 8363.0000 - recall: 0.7216 - auc: 0.9711 - prc: 0.8783 - val_loss: 0.4164 - val_accuracy: 0.9585 - val_precision: 0.9112 - val_tp: 5901.0000 - val_fp: 575.0000 - val_tn: 44485.0000 - val_fn: 1609.0000 - val_recall: 0.7858 - val_auc: 0.9871 - val_prc: 0.9394 - lr: 0.0010\n",
      "Epoch 24/40\n",
      "939/939 [==============================] - 26s 27ms/step - loss: 0.5640 - accuracy: 0.9423 - precision: 0.8456 - tp: 21893.0000 - fp: 3997.0000 - tn: 176231.0000 - fn: 8145.0000 - recall: 0.7288 - auc: 0.9725 - prc: 0.8846 - val_loss: 0.3938 - val_accuracy: 0.9616 - val_precision: 0.9204 - val_tp: 6011.0000 - val_fp: 520.0000 - val_tn: 44540.0000 - val_fn: 1499.0000 - val_recall: 0.8004 - val_auc: 0.9884 - val_prc: 0.9477 - lr: 0.0010\n",
      "Epoch 25/40\n",
      "939/939 [==============================] - 26s 27ms/step - loss: 0.5684 - accuracy: 0.9418 - precision: 0.8430 - tp: 21880.0000 - fp: 4075.0000 - tn: 176153.0000 - fn: 8158.0000 - recall: 0.7284 - auc: 0.9719 - prc: 0.8834 - val_loss: 0.4151 - val_accuracy: 0.9590 - val_precision: 0.9193 - val_tp: 5870.0000 - val_fp: 515.0000 - val_tn: 44545.0000 - val_fn: 1640.0000 - val_recall: 0.7816 - val_auc: 0.9871 - val_prc: 0.9419 - lr: 0.0010\n",
      "Epoch 26/40\n",
      "939/939 [==============================] - 26s 28ms/step - loss: 0.5582 - accuracy: 0.9431 - precision: 0.8473 - tp: 22037.0000 - fp: 3973.0000 - tn: 176255.0000 - fn: 8001.0000 - recall: 0.7336 - auc: 0.9731 - prc: 0.8866 - val_loss: 0.4056 - val_accuracy: 0.9612 - val_precision: 0.9234 - val_tp: 5963.0000 - val_fp: 495.0000 - val_tn: 44565.0000 - val_fn: 1547.0000 - val_recall: 0.7940 - val_auc: 0.9877 - val_prc: 0.9444 - lr: 0.0010\n",
      "Epoch 27/40\n",
      "939/939 [==============================] - 26s 28ms/step - loss: 0.5496 - accuracy: 0.9431 - precision: 0.8448 - tp: 22150.0000 - fp: 4069.0000 - tn: 176159.0000 - fn: 7888.0000 - recall: 0.7374 - auc: 0.9739 - prc: 0.8888 - val_loss: 0.3745 - val_accuracy: 0.9646 - val_precision: 0.9322 - val_tp: 6091.0000 - val_fp: 443.0000 - val_tn: 44617.0000 - val_fn: 1419.0000 - val_recall: 0.8111 - val_auc: 0.9901 - val_prc: 0.9539 - lr: 0.0010\n",
      "Epoch 28/40\n",
      "939/939 [==============================] - 26s 27ms/step - loss: 0.5373 - accuracy: 0.9451 - precision: 0.8519 - tp: 22380.0000 - fp: 3890.0000 - tn: 176338.0000 - fn: 7658.0000 - recall: 0.7451 - auc: 0.9749 - prc: 0.8943 - val_loss: 0.3764 - val_accuracy: 0.9619 - val_precision: 0.9130 - val_tp: 6088.0000 - val_fp: 580.0000 - val_tn: 44480.0000 - val_fn: 1422.0000 - val_recall: 0.8107 - val_auc: 0.9887 - val_prc: 0.9473 - lr: 0.0010\n",
      "Epoch 29/40\n",
      "939/939 [==============================] - 26s 27ms/step - loss: 0.5336 - accuracy: 0.9455 - precision: 0.8524 - tp: 22466.0000 - fp: 3889.0000 - tn: 176339.0000 - fn: 7572.0000 - recall: 0.7479 - auc: 0.9752 - prc: 0.8949 - val_loss: 0.3934 - val_accuracy: 0.9622 - val_precision: 0.9246 - val_tp: 6011.0000 - val_fp: 490.0000 - val_tn: 44570.0000 - val_fn: 1499.0000 - val_recall: 0.8004 - val_auc: 0.9885 - val_prc: 0.9481 - lr: 0.0010\n",
      "Epoch 30/40\n",
      "938/939 [============================>.] - ETA: 0s - loss: 0.5257 - accuracy: 0.9459 - precision: 0.8525 - tp: 22549.0000 - fp: 3901.0000 - tn: 176195.0000 - fn: 7467.0000 - recall: 0.7512 - auc: 0.9759 - prc: 0.8978\n",
      "Epoch 00030: ReduceLROnPlateau reducing learning rate to 0.00010000000474974513.\n",
      "939/939 [==============================] - 26s 27ms/step - loss: 0.5256 - accuracy: 0.9459 - precision: 0.8526 - tp: 22567.0000 - fp: 3902.0000 - tn: 176326.0000 - fn: 7471.0000 - recall: 0.7513 - auc: 0.9759 - prc: 0.8978 - val_loss: 0.3835 - val_accuracy: 0.9642 - val_precision: 0.9285 - val_tp: 6099.0000 - val_fp: 470.0000 - val_tn: 44590.0000 - val_fn: 1411.0000 - val_recall: 0.8121 - val_auc: 0.9883 - val_prc: 0.9494 - lr: 0.0010\n",
      "Epoch 31/40\n",
      "939/939 [==============================] - 26s 27ms/step - loss: 0.4531 - accuracy: 0.9534 - precision: 0.8738 - tp: 23658.0000 - fp: 3416.0000 - tn: 176812.0000 - fn: 6380.0000 - recall: 0.7876 - auc: 0.9819 - prc: 0.9201 - val_loss: 0.3225 - val_accuracy: 0.9701 - val_precision: 0.9400 - val_tp: 6344.0000 - val_fp: 405.0000 - val_tn: 44655.0000 - val_fn: 1166.0000 - val_recall: 0.8447 - val_auc: 0.9921 - val_prc: 0.9638 - lr: 1.0000e-04\n",
      "Epoch 32/40\n",
      "939/939 [==============================] - 26s 27ms/step - loss: 0.4296 - accuracy: 0.9552 - precision: 0.8798 - tp: 23880.0000 - fp: 3261.0000 - tn: 176967.0000 - fn: 6158.0000 - recall: 0.7950 - auc: 0.9837 - prc: 0.9273 - val_loss: 0.3109 - val_accuracy: 0.9701 - val_precision: 0.9364 - val_tp: 6372.0000 - val_fp: 433.0000 - val_tn: 44627.0000 - val_fn: 1138.0000 - val_recall: 0.8485 - val_auc: 0.9926 - val_prc: 0.9659 - lr: 1.0000e-04\n",
      "Epoch 33/40\n",
      "939/939 [==============================] - 26s 27ms/step - loss: 0.4277 - accuracy: 0.9553 - precision: 0.8784 - tp: 23944.0000 - fp: 3314.0000 - tn: 176914.0000 - fn: 6094.0000 - recall: 0.7971 - auc: 0.9839 - prc: 0.9284 - val_loss: 0.3079 - val_accuracy: 0.9709 - val_precision: 0.9391 - val_tp: 6396.0000 - val_fp: 415.0000 - val_tn: 44645.0000 - val_fn: 1114.0000 - val_recall: 0.8517 - val_auc: 0.9929 - val_prc: 0.9668 - lr: 1.0000e-04\n",
      "Epoch 34/40\n",
      "939/939 [==============================] - 26s 28ms/step - loss: 0.4317 - accuracy: 0.9556 - precision: 0.8800 - tp: 23975.0000 - fp: 3268.0000 - tn: 176960.0000 - fn: 6063.0000 - recall: 0.7982 - auc: 0.9833 - prc: 0.9269 - val_loss: 0.3039 - val_accuracy: 0.9710 - val_precision: 0.9382 - val_tp: 6408.0000 - val_fp: 422.0000 - val_tn: 44638.0000 - val_fn: 1102.0000 - val_recall: 0.8533 - val_auc: 0.9930 - val_prc: 0.9673 - lr: 1.0000e-04\n",
      "Epoch 35/40\n",
      "939/939 [==============================] - 26s 28ms/step - loss: 0.4234 - accuracy: 0.9559 - precision: 0.8798 - tp: 24045.0000 - fp: 3284.0000 - tn: 176944.0000 - fn: 5993.0000 - recall: 0.8005 - auc: 0.9841 - prc: 0.9292 - val_loss: 0.3040 - val_accuracy: 0.9715 - val_precision: 0.9374 - val_tp: 6441.0000 - val_fp: 430.0000 - val_tn: 44630.0000 - val_fn: 1069.0000 - val_recall: 0.8577 - val_auc: 0.9931 - val_prc: 0.9673 - lr: 1.0000e-04\n",
      "Epoch 36/40\n",
      "939/939 [==============================] - 25s 27ms/step - loss: 0.4186 - accuracy: 0.9568 - precision: 0.8828 - tp: 24154.0000 - fp: 3208.0000 - tn: 177020.0000 - fn: 5884.0000 - recall: 0.8041 - auc: 0.9845 - prc: 0.9311 - val_loss: 0.3024 - val_accuracy: 0.9711 - val_precision: 0.9398 - val_tp: 6401.0000 - val_fp: 410.0000 - val_tn: 44650.0000 - val_fn: 1109.0000 - val_recall: 0.8523 - val_auc: 0.9931 - val_prc: 0.9676 - lr: 1.0000e-04\n",
      "Epoch 37/40\n",
      "939/939 [==============================] - 25s 26ms/step - loss: 0.4136 - accuracy: 0.9566 - precision: 0.8827 - tp: 24120.0000 - fp: 3204.0000 - tn: 177024.0000 - fn: 5918.0000 - recall: 0.8030 - auc: 0.9849 - prc: 0.9321 - val_loss: 0.2939 - val_accuracy: 0.9722 - val_precision: 0.9400 - val_tp: 6459.0000 - val_fp: 412.0000 - val_tn: 44648.0000 - val_fn: 1051.0000 - val_recall: 0.8601 - val_auc: 0.9934 - val_prc: 0.9692 - lr: 1.0000e-04\n",
      "Epoch 38/40\n",
      "939/939 [==============================] - 25s 26ms/step - loss: 0.4180 - accuracy: 0.9566 - precision: 0.8817 - tp: 24150.0000 - fp: 3240.0000 - tn: 176988.0000 - fn: 5888.0000 - recall: 0.8040 - auc: 0.9845 - prc: 0.9307 - val_loss: 0.2983 - val_accuracy: 0.9722 - val_precision: 0.9438 - val_tp: 6434.0000 - val_fp: 383.0000 - val_tn: 44677.0000 - val_fn: 1076.0000 - val_recall: 0.8567 - val_auc: 0.9933 - val_prc: 0.9687 - lr: 1.0000e-04\n",
      "Epoch 39/40\n",
      "939/939 [==============================] - 25s 26ms/step - loss: 0.4148 - accuracy: 0.9572 - precision: 0.8848 - tp: 24200.0000 - fp: 3151.0000 - tn: 177077.0000 - fn: 5838.0000 - recall: 0.8056 - auc: 0.9848 - prc: 0.9321 - val_loss: 0.2930 - val_accuracy: 0.9723 - val_precision: 0.9427 - val_tp: 6444.0000 - val_fp: 392.0000 - val_tn: 44668.0000 - val_fn: 1066.0000 - val_recall: 0.8581 - val_auc: 0.9935 - val_prc: 0.9694 - lr: 1.0000e-04\n",
      "Epoch 40/40\n",
      "939/939 [==============================] - 25s 26ms/step - loss: 0.4120 - accuracy: 0.9575 - precision: 0.8845 - tp: 24277.0000 - fp: 3170.0000 - tn: 177058.0000 - fn: 5761.0000 - recall: 0.8082 - auc: 0.9847 - prc: 0.9326 - val_loss: 0.2909 - val_accuracy: 0.9729 - val_precision: 0.9433 - val_tp: 6474.0000 - val_fp: 389.0000 - val_tn: 44671.0000 - val_fn: 1036.0000 - val_recall: 0.8621 - val_auc: 0.9936 - val_prc: 0.9698 - lr: 1.0000e-04\n"
     ]
    }
   ],
   "source": [
    "\n",
    "early_stop = EarlyStopping(monitor='val_loss', patience=8, verbose=1,mode='auto')\n",
    "tensorboard=TensorBoard(log_dir='./logs/{}'.format(NAME)) ## logs are under logs folder for tensorboard\n",
    "                            \n",
    "batch_size = 32 \n",
    "epochs = 40\n",
    "\n",
    "learning_rate = ReduceLROnPlateau(monitor='val_loss', factor=0.1, patience=3, verbose=1, mode='auto')\n",
    "\n",
    "history = model.fit(x_train, y_train, validation_split=0.2, batch_size = batch_size, \n",
    "                     epochs = epochs,callbacks = [learning_rate, early_stop, tensorboard])\n",
    "\n",
    "\n",
    "# If you choosed to use class weight:\n",
    "# history = model.fit(x_train, y_train, validation_split=0.2, batch_size = batch_size, class_weight=class_weights,\n",
    "#                      epochs = epochs,callbacks = [learning_rate, early_stop, tensorboard])"
   ]
  },
  {
   "cell_type": "markdown",
   "metadata": {},
   "source": [
    "#### Evaluating Model"
   ]
  },
  {
   "cell_type": "code",
   "execution_count": 107,
   "metadata": {},
   "outputs": [
    {
     "name": "stdout",
     "output_type": "stream",
     "text": [
      "294/294 [==============================] - 5s 18ms/step - loss: 0.2902 - accuracy: 0.9731 - precision: 0.9440 - tp: 8097.0000 - fp: 480.0000 - tn: 55842.0000 - fn: 1290.0000 - recall: 0.8626 - auc: 0.9934 - prc: 0.9694\n",
      "Accuracy: 0.973063051700592\n"
     ]
    },
    {
     "data": {
      "image/png": "[encoded data removed]",
      "text/plain": [
       "<Figure size 432x288 with 1 Axes>"
      ]
     },
     "metadata": {},
     "output_type": "display_data"
    },
    {
     "data": {
      "image/png": "[encoded data removed]",
      "text/plain": [
       "<Figure size 432x288 with 1 Axes>"
      ]
     },
     "metadata": {},
     "output_type": "display_data"
    }
   ],
   "source": [
    "score = model.evaluate(x_test, y_test)\n",
    "print('Accuracy:', score[1])\n",
    "\n",
    "\n",
    "#Plot the training and validation accuracy and loss \n",
    "loss = history.history['loss']\n",
    "val_loss = history.history['val_loss']\n",
    "epochs = range(1, len(loss) + 1)\n",
    "plt.plot(epochs, loss, 'y', label='Training loss')\n",
    "plt.plot(epochs, val_loss, 'r', label='Validation loss')\n",
    "plt.title('Training and validation loss')\n",
    "plt.xlabel('Epochs')\n",
    "plt.ylabel('Loss')\n",
    "plt.legend()\n",
    "plt.show()\n",
    "\n",
    "\n",
    "acc = history.history['precision']\n",
    "val_acc = history.history['val_precision']\n",
    "plt.plot(epochs, acc, 'y', label='Training pre')\n",
    "plt.plot(epochs, val_acc, 'r', label='Validation pre')\n",
    "plt.title('Training and validation precision')\n",
    "plt.xlabel('Epochs')\n",
    "plt.ylabel('Precision')\n",
    "plt.legend()\n",
    "plt.show()"
   ]
  },
  {
   "cell_type": "markdown",
   "metadata": {},
   "source": [
    "Calssification report and Confusion matrix"
   ]
  },
  {
   "cell_type": "code",
   "execution_count": 108,
   "metadata": {},
   "outputs": [
    {
     "name": "stdout",
     "output_type": "stream",
     "text": [
      "294/294 [==============================] - 2s 6ms/step\n",
      "[[1286    4    3    2    0    0    0]\n",
      " [   4 1312    2    3    0    2    0]\n",
      " [  29   55 1177    8   45   36    1]\n",
      " [   0    0    0 1392    0    0    0]\n",
      " [  17   19  175    1 1038   62    0]\n",
      " [  14   67  154    8  196  900    7]\n",
      " [   0    0    0    0    0    0 1368]]\n",
      "                                     precision    recall  f1-score   support\n",
      "\n",
      "          Actinic keratoses (akiec)       0.95      0.99      0.97      1295\n",
      "         Basal cell carcinoma (bcc)       0.90      0.99      0.94      1323\n",
      "Benign keratosis-like lesions (bkl)       0.78      0.87      0.82      1351\n",
      "                Dermatofibroma (df)       0.98      1.00      0.99      1392\n",
      "                     Melanoma (mel)       0.81      0.79      0.80      1312\n",
      "              Melanocytic nevi (nv)       0.90      0.67      0.77      1346\n",
      "            Vascular lesions (vasc)       0.99      1.00      1.00      1368\n",
      "\n",
      "                           accuracy                           0.90      9387\n",
      "                          macro avg       0.90      0.90      0.90      9387\n",
      "                       weighted avg       0.90      0.90      0.90      9387\n",
      "\n"
     ]
    },
    {
     "data": {
      "text/plain": [
       "<AxesSubplot:>"
      ]
     },
     "execution_count": 108,
     "metadata": {},
     "output_type": "execute_result"
    },
    {
     "data": {
      "image/png": "[encoded data removed]",
      "text/plain": [
       "<Figure size 720x720 with 2 Axes>"
      ]
     },
     "metadata": {},
     "output_type": "display_data"
    }
   ],
   "source": [
    "y_pred = model.predict(x_test)\n",
    "y_pred_classes = np.argmax(y_pred, axis = 1) \n",
    "y_true = np.argmax(y_test, axis = 1) \n",
    "\n",
    "\n",
    "#Print confusion matrix\n",
    "cm = confusion_matrix(y_true, y_pred_classes)\n",
    "print(cm)\n",
    "#Print classification_report\n",
    "print(classification_report(y_true, y_pred_classes,target_names=labels.values()))\n",
    "fig, ax = plt.subplots(figsize=(10,10))\n",
    "sns.set(font_scale=1)\n",
    "sns.heatmap(cm, annot=True, linewidths=.5, ax=ax,fmt='g',cmap=\"YlGn\")"
   ]
  },
  {
   "cell_type": "markdown",
   "metadata": {},
   "source": [
    "Incorrect classifications"
   ]
  },
  {
   "cell_type": "code",
   "execution_count": 109,
   "metadata": {},
   "outputs": [
    {
     "data": {
      "text/plain": [
       "Text(0, 0.5, 'Percent of incorrect predictions')"
      ]
     },
     "execution_count": 109,
     "metadata": {},
     "output_type": "execute_result"
    },
    {
     "data": {
      "image/png": "[encoded data removed]",
      "text/plain": [
       "<Figure size 432x288 with 1 Axes>"
      ]
     },
     "metadata": {},
     "output_type": "display_data"
    }
   ],
   "source": [
    "incorr = 1 - np.diag(cm) / np.sum(cm, axis=1)\n",
    "plt.bar(np.arange(7), incorr)\n",
    "plt.xlabel('True')\n",
    "plt.ylabel('Percent of incorrect predictions')"
   ]
  },
  {
   "cell_type": "markdown",
   "metadata": {},
   "source": [
    "### Save the model and weights"
   ]
  },
  {
   "cell_type": "code",
   "execution_count": null,
   "metadata": {},
   "outputs": [],
   "source": [
    "model_json = model.to_json()\n",
    "with open(\"./model/modelmk.json\", \"w\") as json_file:\n",
    "    json_file.write(model_json)\n",
    "model.save_weights(\"./model/modelmk.h5\")"
   ]
  },
  {
   "cell_type": "markdown",
   "metadata": {},
   "source": [
    "----------"
   ]
  }
 ],
 "metadata": {
  "interpreter": {
   "hash": "66a43da4e70cc3f7b73382e30a4177bdcdabfb5ea46b21e7b3ca8c5de37a9ea1"
  },
  "kernelspec": {
   "display_name": "Python 3.10.2 ('moleenv': venv)",
   "language": "python",
   "name": "python3"
  },
  "language_info": {
   "codemirror_mode": {
    "name": "ipython",
    "version": 3
   },
   "file_extension": ".py",
   "mimetype": "text/x-python",
   "name": "python",
   "nbconvert_exporter": "python",
   "pygments_lexer": "ipython3",
   "version": "3.10.2"
  },
  "orig_nbformat": 4
 },
 "nbformat": 4,
 "nbformat_minor": 2
}
