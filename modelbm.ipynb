{
 "cells": [
  {
   "cell_type": "markdown",
   "metadata": {},
   "source": [
    "# MOLE DETECTION  -- Binary --"
   ]
  },
  {
   "cell_type": "markdown",
   "metadata": {},
   "source": [
    "#### Import Necessary Libraries"
   ]
  },
  {
   "cell_type": "code",
   "execution_count": null,
   "metadata": {},
   "outputs": [],
   "source": [
    "import os\n",
    "import numpy as np\n",
    "import pandas as pd\n",
    "\n",
    "from PIL import Image\n",
    "from glob import glob\n",
    "import itertools\n",
    "import matplotlib.pyplot as plt\n",
    "\n",
    "import tensorflow as tf\n",
    "from tensorflow.keras.preprocessing.image import ImageDataGenerator\n",
    "from tensorflow.keras.models import Sequential\n",
    "from tensorflow.keras.layers import Conv2D, Flatten, BatchNormalization, Dropout, Dense, MaxPool2D\n",
    "from tensorflow.keras.callbacks import ReduceLROnPlateau, EarlyStopping\n",
    "\n",
    "from sklearn.model_selection import train_test_split\n",
    "from sklearn.metrics import classification_report, confusion_matrix"
   ]
  },
  {
   "cell_type": "markdown",
   "metadata": {},
   "source": [
    "#### Define default variables"
   ]
  },
  {
   "cell_type": "code",
   "execution_count": 29,
   "metadata": {},
   "outputs": [],
   "source": [
    "# DATA_DIR = os.path.join('.', 'data')\n",
    "# IMAGE_DIR = os.path.join('.', 'data\\\\images\\\\')\n",
    "# PATHS ARE ALREADY IN CSV\n",
    "#All images are 640 x 480  \n",
    "# 2\t    3\t    4\t5\n",
    "# 300\t200\t150\t    120\n",
    "# 225\t150\t112.5\t90\n",
    "\n",
    "XPIXEL=120\n",
    "YPIXEL=90\n",
    "\n",
    "\n",
    "label_mapping = {\n",
    "    0: 'benign',\n",
    "    1: 'malignant'\n",
    "}\n",
    "\n",
    "\n",
    "label_bm = {\n",
    "     'akiec':'benign',\n",
    "     'bcc':'malignant',\n",
    "     'bkl':'benign',\n",
    "     'df':'benign',\n",
    "     'mel':'malignant',\n",
    "     'nv':'benign',\n",
    "     'vasc':'benign'\n",
    "}\n",
    "\n",
    "int_label_mapping = dict((value, key) for key, value in label_mapping.items())\n",
    "type_label_mapping = dict((value, key) for value, key in label_bm.items())"
   ]
  },
  {
   "cell_type": "markdown",
   "metadata": {},
   "source": [
    "#### Import the data "
   ]
  },
  {
   "cell_type": "code",
   "execution_count": 24,
   "metadata": {},
   "outputs": [
    {
     "data": {
      "text/html": [
       "<div>\n",
       "<style scoped>\n",
       "    .dataframe tbody tr th:only-of-type {\n",
       "        vertical-align: middle;\n",
       "    }\n",
       "\n",
       "    .dataframe tbody tr th {\n",
       "        vertical-align: top;\n",
       "    }\n",
       "\n",
       "    .dataframe thead th {\n",
       "        text-align: right;\n",
       "    }\n",
       "</style>\n",
       "<table border=\"1\" class=\"dataframe\">\n",
       "  <thead>\n",
       "    <tr style=\"text-align: right;\">\n",
       "      <th></th>\n",
       "      <th>lesion_id</th>\n",
       "      <th>image_id</th>\n",
       "      <th>dx</th>\n",
       "      <th>dx_type</th>\n",
       "      <th>age</th>\n",
       "      <th>sex</th>\n",
       "      <th>localization</th>\n",
       "    </tr>\n",
       "  </thead>\n",
       "  <tbody>\n",
       "    <tr>\n",
       "      <th>0</th>\n",
       "      <td>HAM_0000118</td>\n",
       "      <td>ISIC_0027419</td>\n",
       "      <td>bkl</td>\n",
       "      <td>histo</td>\n",
       "      <td>80.0</td>\n",
       "      <td>male</td>\n",
       "      <td>scalp</td>\n",
       "    </tr>\n",
       "    <tr>\n",
       "      <th>1</th>\n",
       "      <td>HAM_0000118</td>\n",
       "      <td>ISIC_0025030</td>\n",
       "      <td>bkl</td>\n",
       "      <td>histo</td>\n",
       "      <td>80.0</td>\n",
       "      <td>male</td>\n",
       "      <td>scalp</td>\n",
       "    </tr>\n",
       "    <tr>\n",
       "      <th>2</th>\n",
       "      <td>HAM_0002730</td>\n",
       "      <td>ISIC_0026769</td>\n",
       "      <td>bkl</td>\n",
       "      <td>histo</td>\n",
       "      <td>80.0</td>\n",
       "      <td>male</td>\n",
       "      <td>scalp</td>\n",
       "    </tr>\n",
       "    <tr>\n",
       "      <th>3</th>\n",
       "      <td>HAM_0002730</td>\n",
       "      <td>ISIC_0025661</td>\n",
       "      <td>bkl</td>\n",
       "      <td>histo</td>\n",
       "      <td>80.0</td>\n",
       "      <td>male</td>\n",
       "      <td>scalp</td>\n",
       "    </tr>\n",
       "    <tr>\n",
       "      <th>4</th>\n",
       "      <td>HAM_0001466</td>\n",
       "      <td>ISIC_0031633</td>\n",
       "      <td>bkl</td>\n",
       "      <td>histo</td>\n",
       "      <td>75.0</td>\n",
       "      <td>male</td>\n",
       "      <td>ear</td>\n",
       "    </tr>\n",
       "  </tbody>\n",
       "</table>\n",
       "</div>"
      ],
      "text/plain": [
       "     lesion_id      image_id   dx dx_type   age   sex localization\n",
       "0  HAM_0000118  ISIC_0027419  bkl   histo  80.0  male        scalp\n",
       "1  HAM_0000118  ISIC_0025030  bkl   histo  80.0  male        scalp\n",
       "2  HAM_0002730  ISIC_0026769  bkl   histo  80.0  male        scalp\n",
       "3  HAM_0002730  ISIC_0025661  bkl   histo  80.0  male        scalp\n",
       "4  HAM_0001466  ISIC_0031633  bkl   histo  75.0  male          ear"
      ]
     },
     "execution_count": 24,
     "metadata": {},
     "output_type": "execute_result"
    }
   ],
   "source": [
    "data = pd.read_csv('data/HAM10000_metadata.csv')\n",
    "data.head(5)\n"
   ]
  },
  {
   "cell_type": "code",
   "execution_count": 25,
   "metadata": {},
   "outputs": [
    {
     "data": {
      "text/plain": [
       "nv       6705\n",
       "mel      1113\n",
       "bkl      1099\n",
       "bcc       514\n",
       "akiec     327\n",
       "vasc      142\n",
       "df        115\n",
       "Name: dx, dtype: int64"
      ]
     },
     "execution_count": 25,
     "metadata": {},
     "output_type": "execute_result"
    }
   ],
   "source": [
    "\n",
    "data['dx'].value_counts()"
   ]
  },
  {
   "cell_type": "code",
   "execution_count": 33,
   "metadata": {},
   "outputs": [],
   "source": [
    "#Convert type to benign or malignant according to type label\n",
    "data['bm'] = data['dx'].map(type_label_mapping.get)\n",
    "data['path'] = './data/HAM10000_images/' + data['image_id'] +\".jpg\""
   ]
  },
  {
   "cell_type": "code",
   "execution_count": 38,
   "metadata": {},
   "outputs": [],
   "source": [
    "# Read image pixel data \n",
    "data['image_pixel'] = data['path'].map(lambda x: np.asarray(Image.open(x).resize((XPIXEL,YPIXEL))))"
   ]
  },
  {
   "cell_type": "code",
   "execution_count": 34,
   "metadata": {},
   "outputs": [],
   "source": [
    "# Converting labels to 0 and 1\n",
    "data['label'] = data['bm'].map(int_label_mapping.get)\n"
   ]
  },
  {
   "cell_type": "code",
   "execution_count": 53,
   "metadata": {},
   "outputs": [
    {
     "data": {
      "text/plain": [
       "0    8388\n",
       "1    1627\n",
       "Name: label, dtype: int64"
      ]
     },
     "execution_count": 53,
     "metadata": {},
     "output_type": "execute_result"
    }
   ],
   "source": [
    "data['label'].value_counts()"
   ]
  },
  {
   "cell_type": "code",
   "execution_count": 55,
   "metadata": {},
   "outputs": [
    {
     "name": "stdout",
     "output_type": "stream",
     "text": [
      "0    8388\n",
      "1    1627\n",
      "Name: label, dtype: int64\n",
      "0    4500\n",
      "1    4500\n",
      "Name: label, dtype: int64\n"
     ]
    }
   ],
   "source": [
    "#resampling\n",
    "n_samples=4500\n",
    "\n",
    "\n",
    "from sklearn.utils import resample\n",
    "print(data['label'].value_counts())\n",
    "\n",
    "# Balancing the data\n",
    "# tried balancing with class weights and imageprocessing best results came with resampling\n",
    "\n",
    "\n",
    "df_0 = data[data['label'] == 0]\n",
    "df_1 = data[data['label'] == 1]\n",
    "\n",
    "\n",
    "\n",
    "df_0_balanced = resample(df_0, replace=True, n_samples=n_samples, random_state=42) \n",
    "df_1_balanced = resample(df_1, replace=True, n_samples=n_samples, random_state=42) \n",
    "\n",
    "\n",
    "#Combined back to a single dataframe\n",
    "data_balanced = pd.concat([df_0_balanced, df_1_balanced, \n",
    "                             ])\n",
    "\n",
    "print(data_balanced['label'].value_counts())"
   ]
  },
  {
   "cell_type": "code",
   "execution_count": 56,
   "metadata": {},
   "outputs": [],
   "source": [
    "data=data_balanced"
   ]
  },
  {
   "cell_type": "markdown",
   "metadata": {},
   "source": [
    "### Create X , Y"
   ]
  },
  {
   "cell_type": "code",
   "execution_count": 57,
   "metadata": {},
   "outputs": [
    {
     "name": "stdout",
     "output_type": "stream",
     "text": [
      "(9000, 90, 120, 3)\n",
      "(9000,)\n"
     ]
    }
   ],
   "source": [
    "#data = data.sample(frac = 1)\n",
    "# ORIGINAL\n",
    "# Convert image pixel columnm into numpy array\n",
    "X = data['image_pixel'].to_numpy()\n",
    "X = np.stack(X, axis=0)\n",
    "Y = np.array(data['label'])\n",
    "Y = np.stack(Y,axis=0)   # no need\n",
    "print(X.shape)\n",
    "print(Y.shape)"
   ]
  },
  {
   "cell_type": "code",
   "execution_count": 58,
   "metadata": {},
   "outputs": [],
   "source": [
    "def train_test(X, Y):\n",
    "    # train test split\n",
    "    X_train, X_test, Y_train, Y_test = train_test_split(X, Y, test_size=0.2, random_state=42,shuffle=True)\n",
    "    \n",
    "    return X_train, X_test, Y_train, Y_test"
   ]
  },
  {
   "cell_type": "code",
   "execution_count": 59,
   "metadata": {},
   "outputs": [],
   "source": [
    "def create_model():\n",
    "    model = Sequential()\n",
    "    \n",
    "    model.add(Conv2D(16, kernel_size = (3,3), input_shape = (YPIXEL, XPIXEL, 3), activation = 'relu', padding = 'same'))\n",
    "    model.add(MaxPool2D(pool_size = (2,2)))\n",
    "\n",
    "    model.add(Conv2D(32, kernel_size = (3,3), activation = 'relu', padding = 'same'))\n",
    "    model.add(MaxPool2D(pool_size = (2,2), padding = 'same'))\n",
    "\n",
    "    model.add(Conv2D(64, kernel_size = (3,3), activation = 'relu', padding = 'same'))\n",
    "    model.add(MaxPool2D(pool_size = (2,2), padding = 'same'))\n",
    "    model.add(Conv2D(128, kernel_size = (3,3), activation = 'relu', padding = 'same'))\n",
    "    model.add(MaxPool2D(pool_size = (2,2), padding = 'same'))\n",
    "\n",
    "    model.add(Flatten())\n",
    "    model.add(Dense(128, activation = 'relu'))\n",
    "    model.add(Dense(64, activation = 'relu'))\n",
    "    model.add(Dense(32, activation='relu'))\n",
    "    #model.add(Dense(8, activation='relu'))\n",
    "    \n",
    "\n",
    "    model.add(Dense(1, activation='sigmoid'))\n",
    "\n",
    "    optimizer = tf.keras.optimizers.Adam(learning_rate = 0.001)  #### learnign rate???? \n",
    "\n",
    "    model.compile(loss = 'binary_crossentropy',\n",
    "                 optimizer = \"adam\",\n",
    "                  metrics = ['accuracy'])\n",
    "    print(model.summary())\n",
    "    return model"
   ]
  },
  {
   "cell_type": "code",
   "execution_count": 42,
   "metadata": {},
   "outputs": [],
   "source": [
    "def train_model(model:Sequential, X_tr, Y_tr, EPOCHS=25):\n",
    "    early_stop = EarlyStopping(monitor='val_loss', patience=8, verbose=1,mode='auto')\n",
    "                               \n",
    "    \n",
    "    learning_rate = ReduceLROnPlateau(monitor='val_loss', factor=0.1, patience=3, verbose=1, mode='auto')\n",
    "    \n",
    "    history = model.fit(X_tr, Y_tr, validation_split=0.2, batch_size = 24, epochs = EPOCHS,callbacks = [learning_rate, early_stop])\n",
    "    return history"
   ]
  },
  {
   "cell_type": "code",
   "execution_count": 43,
   "metadata": {},
   "outputs": [],
   "source": [
    "def test_model(model:Sequential, X_test, Y_test):\n",
    "    model_acc = model.evaluate(X_test, Y_test, verbose=0)[1]\n",
    "    print(\"Test Accuracy: {:.3f}%\".format(model_acc * 100))\n",
    "    y_true = np.array(Y_test)\n",
    "    y_pred = model.predict(X_test)\n",
    "    y_pred=np.round(y_pred,0)\n",
    "    #y_pred = np.array(list(map(lambda x: np.argmax(x), y_pred)))\n",
    "    clr = classification_report(y_true, y_pred, target_names=label_mapping.values())\n",
    "    print(clr)\n",
    "    cm=confusion_matrix(y_true, y_pred)\n",
    "    plot_confusion_matrix(cm,label_mapping,\"44\")\n",
    "    print(cm)\n",
    "\n",
    "    plt.show() "
   ]
  },
  {
   "cell_type": "code",
   "execution_count": 44,
   "metadata": {},
   "outputs": [],
   "source": [
    "def plot_confusion_matrix(cm, classes, name,\n",
    "                          normalize=False,\n",
    "                          title='Confusion matrix',\n",
    "                          cmap=plt.cm.Greens):\n",
    "    \n",
    "    plt.figure(figsize=(8,6))\n",
    "    plt.imshow(cm, interpolation='nearest', cmap=cmap)\n",
    "    plt.title(name)\n",
    "    plt.colorbar()\n",
    "    tick_marks = np.arange(len(classes))\n",
    "    plt.xticks(tick_marks, classes, rotation=45)\n",
    "    plt.yticks(tick_marks, classes)\n",
    "\n",
    "    if normalize:\n",
    "        cm = cm.astype('float') / cm.sum(axis=1)[:, np.newaxis]\n",
    "\n",
    "    thresh = cm.max() / 2.\n",
    "    for i, j in itertools.product(range(cm.shape[0]), range(cm.shape[1])):\n",
    "        plt.text(j, i, cm[i, j],\n",
    "                 horizontalalignment=\"center\",\n",
    "                 color=\"white\" if cm[i, j] > thresh else \"black\")\n",
    "\n",
    "   \n",
    "    plt.tight_layout()\n",
    "    plt.ylabel('True Labels')\n",
    "    plt.xlabel('Predicted Labels')\n",
    "    fig = plt\n",
    "    fig.savefig('_confusion_matrix.png', dpi=300)"
   ]
  },
  {
   "cell_type": "markdown",
   "metadata": {},
   "source": [
    "### Create train and test datas for original and augumented datasets"
   ]
  },
  {
   "cell_type": "code",
   "execution_count": 60,
   "metadata": {},
   "outputs": [
    {
     "name": "stdout",
     "output_type": "stream",
     "text": [
      "(7200, 90, 120, 3)\n"
     ]
    }
   ],
   "source": [
    "# For Original Dataset\n",
    "X_train, X_test, Y_train, Y_test = train_test(X, Y)\n",
    "#Augemented dataset\n",
    "#X_train_aug, X_test_aug, Y_train_aug, Y_test_aug = train_test(X_aug, Y_aug)\n",
    "print(X_train.shape)\n",
    "#print(X_train_aug.shape)\n",
    "\n"
   ]
  },
  {
   "cell_type": "markdown",
   "metadata": {},
   "source": [
    "### Create the Model"
   ]
  },
  {
   "cell_type": "code",
   "execution_count": 61,
   "metadata": {},
   "outputs": [
    {
     "name": "stdout",
     "output_type": "stream",
     "text": [
      "Model: \"sequential_1\"\n",
      "_________________________________________________________________\n",
      " Layer (type)                Output Shape              Param #   \n",
      "=================================================================\n",
      " conv2d_4 (Conv2D)           (None, 90, 120, 16)       448       \n",
      "                                                                 \n",
      " max_pooling2d_4 (MaxPooling  (None, 45, 60, 16)       0         \n",
      " 2D)                                                             \n",
      "                                                                 \n",
      " conv2d_5 (Conv2D)           (None, 45, 60, 32)        4640      \n",
      "                                                                 \n",
      " max_pooling2d_5 (MaxPooling  (None, 23, 30, 32)       0         \n",
      " 2D)                                                             \n",
      "                                                                 \n",
      " conv2d_6 (Conv2D)           (None, 23, 30, 64)        18496     \n",
      "                                                                 \n",
      " max_pooling2d_6 (MaxPooling  (None, 12, 15, 64)       0         \n",
      " 2D)                                                             \n",
      "                                                                 \n",
      " conv2d_7 (Conv2D)           (None, 12, 15, 128)       73856     \n",
      "                                                                 \n",
      " max_pooling2d_7 (MaxPooling  (None, 6, 8, 128)        0         \n",
      " 2D)                                                             \n",
      "                                                                 \n",
      " flatten_1 (Flatten)         (None, 6144)              0         \n",
      "                                                                 \n",
      " dense_4 (Dense)             (None, 128)               786560    \n",
      "                                                                 \n",
      " dense_5 (Dense)             (None, 64)                8256      \n",
      "                                                                 \n",
      " dense_6 (Dense)             (None, 32)                2080      \n",
      "                                                                 \n",
      " dense_7 (Dense)             (None, 1)                 33        \n",
      "                                                                 \n",
      "=================================================================\n",
      "Total params: 894,369\n",
      "Trainable params: 894,369\n",
      "Non-trainable params: 0\n",
      "_________________________________________________________________\n",
      "None\n"
     ]
    }
   ],
   "source": [
    "model = create_model()"
   ]
  },
  {
   "cell_type": "code",
   "execution_count": 62,
   "metadata": {},
   "outputs": [
    {
     "name": "stdout",
     "output_type": "stream",
     "text": [
      "Epoch 1/50\n",
      "240/240 [==============================] - 8s 31ms/step - loss: 0.9784 - accuracy: 0.6672 - val_loss: 0.5369 - val_accuracy: 0.7028 - lr: 0.0010\n",
      "Epoch 2/50\n",
      "240/240 [==============================] - 7s 31ms/step - loss: 0.5221 - accuracy: 0.7203 - val_loss: 0.5380 - val_accuracy: 0.7167 - lr: 0.0010\n",
      "Epoch 3/50\n",
      "240/240 [==============================] - 8s 31ms/step - loss: 0.4998 - accuracy: 0.7316 - val_loss: 0.5036 - val_accuracy: 0.7319 - lr: 0.0010\n",
      "Epoch 4/50\n",
      "240/240 [==============================] - 7s 31ms/step - loss: 0.4926 - accuracy: 0.7444 - val_loss: 0.5037 - val_accuracy: 0.7618 - lr: 0.0010\n",
      "Epoch 5/50\n",
      "240/240 [==============================] - 8s 32ms/step - loss: 0.4607 - accuracy: 0.7675 - val_loss: 0.4357 - val_accuracy: 0.7646 - lr: 0.0010\n",
      "Epoch 6/50\n",
      "240/240 [==============================] - 7s 31ms/step - loss: 0.4395 - accuracy: 0.7741 - val_loss: 0.4334 - val_accuracy: 0.7785 - lr: 0.0010\n",
      "Epoch 7/50\n",
      "240/240 [==============================] - 7s 30ms/step - loss: 0.4194 - accuracy: 0.7958 - val_loss: 0.4503 - val_accuracy: 0.7743 - lr: 0.0010\n",
      "Epoch 8/50\n",
      "240/240 [==============================] - 7s 31ms/step - loss: 0.3697 - accuracy: 0.8224 - val_loss: 0.3944 - val_accuracy: 0.8215 - lr: 0.0010\n",
      "Epoch 9/50\n",
      "240/240 [==============================] - 7s 31ms/step - loss: 0.3586 - accuracy: 0.8295 - val_loss: 0.5232 - val_accuracy: 0.7229 - lr: 0.0010\n",
      "Epoch 10/50\n",
      "240/240 [==============================] - 7s 31ms/step - loss: 0.3296 - accuracy: 0.8547 - val_loss: 0.4000 - val_accuracy: 0.8167 - lr: 0.0010\n",
      "Epoch 11/50\n",
      "239/240 [============================>.] - ETA: 0s - loss: 0.3142 - accuracy: 0.8563\n",
      "Epoch 11: ReduceLROnPlateau reducing learning rate to 0.00010000000474974513.\n",
      "240/240 [==============================] - 7s 31ms/step - loss: 0.3141 - accuracy: 0.8564 - val_loss: 0.4335 - val_accuracy: 0.8021 - lr: 0.0010\n",
      "Epoch 12/50\n",
      "240/240 [==============================] - 7s 31ms/step - loss: 0.1905 - accuracy: 0.9274 - val_loss: 0.3729 - val_accuracy: 0.8639 - lr: 1.0000e-04\n",
      "Epoch 13/50\n",
      "240/240 [==============================] - 8s 31ms/step - loss: 0.1466 - accuracy: 0.9453 - val_loss: 0.3703 - val_accuracy: 0.8646 - lr: 1.0000e-04\n",
      "Epoch 14/50\n",
      "240/240 [==============================] - 8s 31ms/step - loss: 0.1229 - accuracy: 0.9552 - val_loss: 0.3693 - val_accuracy: 0.8764 - lr: 1.0000e-04\n",
      "Epoch 15/50\n",
      "240/240 [==============================] - 7s 31ms/step - loss: 0.1059 - accuracy: 0.9622 - val_loss: 0.3925 - val_accuracy: 0.8840 - lr: 1.0000e-04\n",
      "Epoch 16/50\n",
      "240/240 [==============================] - 8s 32ms/step - loss: 0.0880 - accuracy: 0.9698 - val_loss: 0.4122 - val_accuracy: 0.8896 - lr: 1.0000e-04\n",
      "Epoch 17/50\n",
      "239/240 [============================>.] - ETA: 0s - loss: 0.0722 - accuracy: 0.9754\n",
      "Epoch 17: ReduceLROnPlateau reducing learning rate to 1.0000000474974514e-05.\n",
      "240/240 [==============================] - 8s 32ms/step - loss: 0.0726 - accuracy: 0.9750 - val_loss: 0.4113 - val_accuracy: 0.8965 - lr: 1.0000e-04\n",
      "Epoch 18/50\n",
      "240/240 [==============================] - 7s 30ms/step - loss: 0.0554 - accuracy: 0.9837 - val_loss: 0.4180 - val_accuracy: 0.8979 - lr: 1.0000e-05\n",
      "Epoch 19/50\n",
      "240/240 [==============================] - 7s 31ms/step - loss: 0.0528 - accuracy: 0.9847 - val_loss: 0.4214 - val_accuracy: 0.8931 - lr: 1.0000e-05\n",
      "Epoch 20/50\n",
      "239/240 [============================>.] - ETA: 0s - loss: 0.0515 - accuracy: 0.9843\n",
      "Epoch 20: ReduceLROnPlateau reducing learning rate to 1.0000000656873453e-06.\n",
      "240/240 [==============================] - 7s 31ms/step - loss: 0.0514 - accuracy: 0.9844 - val_loss: 0.4249 - val_accuracy: 0.8986 - lr: 1.0000e-05\n",
      "Epoch 21/50\n",
      "240/240 [==============================] - 8s 32ms/step - loss: 0.0492 - accuracy: 0.9859 - val_loss: 0.4249 - val_accuracy: 0.8986 - lr: 1.0000e-06\n",
      "Epoch 22/50\n",
      "240/240 [==============================] - 8s 32ms/step - loss: 0.0489 - accuracy: 0.9859 - val_loss: 0.4251 - val_accuracy: 0.8986 - lr: 1.0000e-06\n",
      "Epoch 22: early stopping\n"
     ]
    }
   ],
   "source": [
    "model_history = train_model(model, X_train, Y_train, 50)"
   ]
  },
  {
   "cell_type": "markdown",
   "metadata": {},
   "source": [
    "#### Loss and accuracy curves for training and test sets."
   ]
  },
  {
   "cell_type": "code",
   "execution_count": 63,
   "metadata": {},
   "outputs": [
    {
     "data": {
      "image/png": "[encoded data removed]",
      "text/plain": [
       "<Figure size 432x288 with 2 Axes>"
      ]
     },
     "metadata": {
      "needs_background": "light"
     },
     "output_type": "display_data"
    }
   ],
   "source": [
    "g, ax = plt.subplots(2,1)\n",
    "ax[0].plot(model_history.history['loss'], color='g', label=\"Training loss\")\n",
    "ax[0].plot(model_history.history['val_loss'], color='r', label=\"Validation loss\",axes =ax[0])\n",
    "legend = ax[0].legend(loc='best', shadow=True)\n",
    "\n",
    "ax[1].plot(model_history.history['accuracy'], color='g', label=\"Training accuracy\")\n",
    "ax[1].plot(model_history.history['val_accuracy'], color='r',label=\"Validation accuracy\")\n",
    "legend = ax[1].legend(loc='best', shadow=True)"
   ]
  },
  {
   "cell_type": "markdown",
   "metadata": {},
   "source": [
    "### Saving the model for deployment "
   ]
  },
  {
   "cell_type": "code",
   "execution_count": null,
   "metadata": {},
   "outputs": [],
   "source": [
    "model_json = model.to_json()\n",
    "with open(\"modelbm.json\", \"w\") as json_file:\n",
    "    json_file.write(model_json)\n",
    "model.save_weights(\"modelbm.h5\")"
   ]
  },
  {
   "cell_type": "markdown",
   "metadata": {},
   "source": [
    "### Test Model"
   ]
  },
  {
   "cell_type": "code",
   "execution_count": 64,
   "metadata": {},
   "outputs": [
    {
     "name": "stdout",
     "output_type": "stream",
     "text": [
      "Test Accuracy: 88.167%\n",
      "57/57 [==============================] - 1s 12ms/step\n",
      "              precision    recall  f1-score   support\n",
      "\n",
      "      benign       0.92      0.83      0.87       884\n",
      "   malignant       0.85      0.93      0.89       916\n",
      "\n",
      "    accuracy                           0.88      1800\n",
      "   macro avg       0.89      0.88      0.88      1800\n",
      "weighted avg       0.89      0.88      0.88      1800\n",
      "\n",
      "[[731 153]\n",
      " [ 60 856]]\n"
     ]
    },
    {
     "data": {
      "image/png": "[encoded data removed]",
      "text/plain": [
       "<Figure size 576x432 with 2 Axes>"
      ]
     },
     "metadata": {
      "needs_background": "light"
     },
     "output_type": "display_data"
    }
   ],
   "source": [
    "test_model(model, X_test, Y_test)"
   ]
  },
  {
   "cell_type": "markdown",
   "metadata": {},
   "source": [
    "### Prediction for only one image"
   ]
  },
  {
   "cell_type": "code",
   "execution_count": 65,
   "metadata": {},
   "outputs": [],
   "source": [
    "def predict_one_image(image_nr):\n",
    "\n",
    "    predict_only_one = data.iloc[image_nr]\n",
    "    print(\"Imid :\" ,predict_only_one.image_id)\n",
    "    print(\"Real :\" ,predict_only_one.bm)\n",
    "    \n",
    "    new_one = predict_only_one.image_pixel.reshape((1,90,120,3))\n",
    "    preds=model.predict(new_one)[0][0]\n",
    "    \n",
    "    max_index_col = np.round(preds,0)\n",
    "\n",
    "    if preds<0.5:\n",
    "        preds=1-preds\n",
    "        \n",
    "\n",
    "    pred_probabilty = \" % {:.2f}\".format(preds*100)\n",
    "    preds=np.round(preds,0)\n",
    "       \n",
    "    result=label_mapping.get(max_index_col) + pred_probabilty\n",
    "    print(\"Pred :\", result)\n",
    "\n",
    "    sample_data = predict_only_one['image_pixel']\n",
    "    plt.figure(figsize=(10, 10))\n",
    "    plt.imshow(sample_data)\n",
    "    plt.axis(\"off\")\n",
    "    plt.show() \n"
   ]
  },
  {
   "cell_type": "code",
   "execution_count": 106,
   "metadata": {},
   "outputs": [
    {
     "name": "stdout",
     "output_type": "stream",
     "text": [
      "Imid : ISIC_0034230\n",
      "Real : benign\n",
      "1/1 [==============================] - 0s 20ms/step\n",
      "Pred : malignant % 83.93\n"
     ]
    },
    {
     "data": {
      "image/png": "[encoded data removed]",
      "text/plain": [
       "<Figure size 720x720 with 1 Axes>"
      ]
     },
     "metadata": {
      "needs_background": "light"
     },
     "output_type": "display_data"
    }
   ],
   "source": [
    "predict_one_image(81)"
   ]
  }
 ],
 "metadata": {
  "interpreter": {
   "hash": "66a43da4e70cc3f7b73382e30a4177bdcdabfb5ea46b21e7b3ca8c5de37a9ea1"
  },
  "kernelspec": {
   "display_name": "Python 3.10.2 ('moleenv': venv)",
   "language": "python",
   "name": "python3"
  },
  "language_info": {
   "codemirror_mode": {
    "name": "ipython",
    "version": 3
   },
   "file_extension": ".py",
   "mimetype": "text/x-python",
   "name": "python",
   "nbconvert_exporter": "python",
   "pygments_lexer": "ipython3",
   "version": "3.10.2"
  },
  "orig_nbformat": 4
 },
 "nbformat": 4,
 "nbformat_minor": 2
}
