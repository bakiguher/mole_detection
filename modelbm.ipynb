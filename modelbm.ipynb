{
 "cells": [
  {
   "cell_type": "markdown",
   "metadata": {},
   "source": [
    "# MOLE DETECTION  -- Binary --"
   ]
  },
  {
   "cell_type": "markdown",
   "metadata": {},
   "source": [
    "#### Import Necessary Libraries"
   ]
  },
  {
   "cell_type": "code",
   "execution_count": 6,
   "metadata": {},
   "outputs": [],
   "source": [
    "import os\n",
    "import numpy as np\n",
    "import pandas as pd\n",
    "\n",
    "from PIL import Image\n",
    "from glob import glob\n",
    "import itertools\n",
    "import matplotlib.pyplot as plt\n",
    "\n",
    "import tensorflow as tf\n",
    "from tensorflow.keras.preprocessing.image import ImageDataGenerator\n",
    "from tensorflow.keras.models import Sequential\n",
    "from tensorflow.keras.layers import Conv2D, Flatten, BatchNormalization, Dropout, Dense, MaxPool2D\n",
    "from tensorflow.keras.callbacks import ReduceLROnPlateau, EarlyStopping\n",
    "\n",
    "from sklearn.model_selection import train_test_split\n",
    "from sklearn.metrics import classification_report, confusion_matrix"
   ]
  },
  {
   "cell_type": "markdown",
   "metadata": {},
   "source": [
    "#### Define default variables"
   ]
  },
  {
   "cell_type": "code",
   "execution_count": 7,
   "metadata": {},
   "outputs": [],
   "source": [
    "# DATA_DIR = os.path.join('.', 'data')\n",
    "# IMAGE_DIR = os.path.join('.', 'data\\\\images\\\\')\n",
    "# PATHS ARE ALREADY IN CSV\n",
    "#All images are 640 x 480  \n",
    "# 2\t    3\t    4\t5\n",
    "# 300\t200\t150\t    120\n",
    "# 225\t150\t112.5\t90\n",
    "\n",
    "XPIXEL=120\n",
    "YPIXEL=90\n",
    "\n",
    "\n",
    "label_mapping = {\n",
    "    0: 'benign',\n",
    "    1: 'malignant'\n",
    "}\n",
    "\n",
    "\n",
    "int_label_mapping = dict((value, key) for key, value in label_mapping.items())"
   ]
  },
  {
   "cell_type": "markdown",
   "metadata": {},
   "source": [
    "#### Import the data "
   ]
  },
  {
   "cell_type": "code",
   "execution_count": 8,
   "metadata": {},
   "outputs": [
    {
     "data": {
      "text/html": [
       "<div>\n",
       "<style scoped>\n",
       "    .dataframe tbody tr th:only-of-type {\n",
       "        vertical-align: middle;\n",
       "    }\n",
       "\n",
       "    .dataframe tbody tr th {\n",
       "        vertical-align: top;\n",
       "    }\n",
       "\n",
       "    .dataframe thead th {\n",
       "        text-align: right;\n",
       "    }\n",
       "</style>\n",
       "<table border=\"1\" class=\"dataframe\">\n",
       "  <thead>\n",
       "    <tr style=\"text-align: right;\">\n",
       "      <th></th>\n",
       "      <th>image_id</th>\n",
       "      <th>bm</th>\n",
       "      <th>dx</th>\n",
       "      <th>path</th>\n",
       "      <th>del</th>\n",
       "    </tr>\n",
       "  </thead>\n",
       "  <tbody>\n",
       "    <tr>\n",
       "      <th>0</th>\n",
       "      <td>ISIC_0013758</td>\n",
       "      <td>benign</td>\n",
       "      <td>nevus</td>\n",
       "      <td>.\\data\\images\\ISIC_0013758.JPG</td>\n",
       "      <td>NaN</td>\n",
       "    </tr>\n",
       "    <tr>\n",
       "      <th>1</th>\n",
       "      <td>ISIC_0031501</td>\n",
       "      <td>benign</td>\n",
       "      <td>nevus</td>\n",
       "      <td>.\\data\\images\\ISIC_0031501.JPG</td>\n",
       "      <td>NaN</td>\n",
       "    </tr>\n",
       "    <tr>\n",
       "      <th>2</th>\n",
       "      <td>ISIC_0026882</td>\n",
       "      <td>benign</td>\n",
       "      <td>nevus</td>\n",
       "      <td>.\\data\\images\\ISIC_0026882.JPG</td>\n",
       "      <td>NaN</td>\n",
       "    </tr>\n",
       "    <tr>\n",
       "      <th>3</th>\n",
       "      <td>ISIC_0026897</td>\n",
       "      <td>malignant</td>\n",
       "      <td>melanoma</td>\n",
       "      <td>.\\data\\images\\ISIC_0026897.JPG</td>\n",
       "      <td>NaN</td>\n",
       "    </tr>\n",
       "    <tr>\n",
       "      <th>4</th>\n",
       "      <td>ISIC_0072431</td>\n",
       "      <td>malignant</td>\n",
       "      <td>basal cell carcinoma</td>\n",
       "      <td>.\\data\\images\\ISIC_0072431.JPG</td>\n",
       "      <td>NaN</td>\n",
       "    </tr>\n",
       "  </tbody>\n",
       "</table>\n",
       "</div>"
      ],
      "text/plain": [
       "       image_id         bm                    dx  \\\n",
       "0  ISIC_0013758     benign                 nevus   \n",
       "1  ISIC_0031501     benign                 nevus   \n",
       "2  ISIC_0026882     benign                 nevus   \n",
       "3  ISIC_0026897  malignant              melanoma   \n",
       "4  ISIC_0072431  malignant  basal cell carcinoma   \n",
       "\n",
       "                             path  del  \n",
       "0  .\\data\\images\\ISIC_0013758.JPG  NaN  \n",
       "1  .\\data\\images\\ISIC_0031501.JPG  NaN  \n",
       "2  .\\data\\images\\ISIC_0026882.JPG  NaN  \n",
       "3  .\\data\\images\\ISIC_0026897.JPG  NaN  \n",
       "4  .\\data\\images\\ISIC_0072431.JPG  NaN  "
      ]
     },
     "execution_count": 8,
     "metadata": {},
     "output_type": "execute_result"
    }
   ],
   "source": [
    "data = pd.read_csv('_prop.csv')\n",
    "data.head(5)\n"
   ]
  },
  {
   "cell_type": "code",
   "execution_count": 9,
   "metadata": {},
   "outputs": [],
   "source": [
    "data = data[data['dx'].notna()]\n"
   ]
  },
  {
   "cell_type": "code",
   "execution_count": 29,
   "metadata": {},
   "outputs": [
    {
     "data": {
      "text/plain": [
       "nevus                      12143\n",
       "melanoma                    5475\n",
       "basal cell carcinoma        3392\n",
       "squamous cell carcinoma      656\n",
       "Name: dx, dtype: int64"
      ]
     },
     "execution_count": 29,
     "metadata": {},
     "output_type": "execute_result"
    }
   ],
   "source": [
    "data['bm'].value_counts()\n",
    "data['dx'].value_counts()"
   ]
  },
  {
   "cell_type": "code",
   "execution_count": 11,
   "metadata": {},
   "outputs": [],
   "source": [
    "# read pixel data to dataframe\n",
    "data['image_pixel'] = data['path'].map(lambda x: np.asarray(Image.open(x).resize((XPIXEL,YPIXEL))))"
   ]
  },
  {
   "cell_type": "code",
   "execution_count": 12,
   "metadata": {},
   "outputs": [],
   "source": [
    "# Converting labels to 0 and 1\n",
    "data['label'] = data['bm'].map(int_label_mapping.get)\n"
   ]
  },
  {
   "cell_type": "code",
   "execution_count": 13,
   "metadata": {},
   "outputs": [
    {
     "data": {
      "text/html": [
       "<div>\n",
       "<style scoped>\n",
       "    .dataframe tbody tr th:only-of-type {\n",
       "        vertical-align: middle;\n",
       "    }\n",
       "\n",
       "    .dataframe tbody tr th {\n",
       "        vertical-align: top;\n",
       "    }\n",
       "\n",
       "    .dataframe thead th {\n",
       "        text-align: right;\n",
       "    }\n",
       "</style>\n",
       "<table border=\"1\" class=\"dataframe\">\n",
       "  <thead>\n",
       "    <tr style=\"text-align: right;\">\n",
       "      <th></th>\n",
       "      <th>image_id</th>\n",
       "      <th>bm</th>\n",
       "      <th>dx</th>\n",
       "      <th>path</th>\n",
       "      <th>del</th>\n",
       "      <th>image_pixel</th>\n",
       "      <th>label</th>\n",
       "    </tr>\n",
       "  </thead>\n",
       "  <tbody>\n",
       "    <tr>\n",
       "      <th>0</th>\n",
       "      <td>ISIC_0013758</td>\n",
       "      <td>benign</td>\n",
       "      <td>nevus</td>\n",
       "      <td>.\\data\\images\\ISIC_0013758.JPG</td>\n",
       "      <td>NaN</td>\n",
       "      <td>[[[40, 39, 44], [39, 38, 44], [40, 39, 46], [3...</td>\n",
       "      <td>0</td>\n",
       "    </tr>\n",
       "    <tr>\n",
       "      <th>1</th>\n",
       "      <td>ISIC_0031501</td>\n",
       "      <td>benign</td>\n",
       "      <td>nevus</td>\n",
       "      <td>.\\data\\images\\ISIC_0031501.JPG</td>\n",
       "      <td>NaN</td>\n",
       "      <td>[[[161, 136, 144], [163, 138, 152], [162, 139,...</td>\n",
       "      <td>0</td>\n",
       "    </tr>\n",
       "    <tr>\n",
       "      <th>2</th>\n",
       "      <td>ISIC_0026882</td>\n",
       "      <td>benign</td>\n",
       "      <td>nevus</td>\n",
       "      <td>.\\data\\images\\ISIC_0026882.JPG</td>\n",
       "      <td>NaN</td>\n",
       "      <td>[[[215, 133, 147], [216, 133, 148], [216, 134,...</td>\n",
       "      <td>0</td>\n",
       "    </tr>\n",
       "    <tr>\n",
       "      <th>3</th>\n",
       "      <td>ISIC_0026897</td>\n",
       "      <td>malignant</td>\n",
       "      <td>melanoma</td>\n",
       "      <td>.\\data\\images\\ISIC_0026897.JPG</td>\n",
       "      <td>NaN</td>\n",
       "      <td>[[[188, 153, 151], [194, 158, 156], [195, 165,...</td>\n",
       "      <td>1</td>\n",
       "    </tr>\n",
       "    <tr>\n",
       "      <th>4</th>\n",
       "      <td>ISIC_0072431</td>\n",
       "      <td>malignant</td>\n",
       "      <td>basal cell carcinoma</td>\n",
       "      <td>.\\data\\images\\ISIC_0072431.JPG</td>\n",
       "      <td>NaN</td>\n",
       "      <td>[[[138, 85, 75], [142, 94, 82], [147, 103, 89]...</td>\n",
       "      <td>1</td>\n",
       "    </tr>\n",
       "  </tbody>\n",
       "</table>\n",
       "</div>"
      ],
      "text/plain": [
       "       image_id         bm                    dx  \\\n",
       "0  ISIC_0013758     benign                 nevus   \n",
       "1  ISIC_0031501     benign                 nevus   \n",
       "2  ISIC_0026882     benign                 nevus   \n",
       "3  ISIC_0026897  malignant              melanoma   \n",
       "4  ISIC_0072431  malignant  basal cell carcinoma   \n",
       "\n",
       "                             path  del  \\\n",
       "0  .\\data\\images\\ISIC_0013758.JPG  NaN   \n",
       "1  .\\data\\images\\ISIC_0031501.JPG  NaN   \n",
       "2  .\\data\\images\\ISIC_0026882.JPG  NaN   \n",
       "3  .\\data\\images\\ISIC_0026897.JPG  NaN   \n",
       "4  .\\data\\images\\ISIC_0072431.JPG  NaN   \n",
       "\n",
       "                                         image_pixel  label  \n",
       "0  [[[40, 39, 44], [39, 38, 44], [40, 39, 46], [3...      0  \n",
       "1  [[[161, 136, 144], [163, 138, 152], [162, 139,...      0  \n",
       "2  [[[215, 133, 147], [216, 133, 148], [216, 134,...      0  \n",
       "3  [[[188, 153, 151], [194, 158, 156], [195, 165,...      1  \n",
       "4  [[[138, 85, 75], [142, 94, 82], [147, 103, 89]...      1  "
      ]
     },
     "execution_count": 13,
     "metadata": {},
     "output_type": "execute_result"
    }
   ],
   "source": [
    "data.head(5)"
   ]
  },
  {
   "cell_type": "markdown",
   "metadata": {},
   "source": [
    "### Create X , Y"
   ]
  },
  {
   "cell_type": "code",
   "execution_count": 14,
   "metadata": {},
   "outputs": [
    {
     "name": "stdout",
     "output_type": "stream",
     "text": [
      "(21666, 90, 120, 3)\n",
      "(21666,)\n"
     ]
    }
   ],
   "source": [
    "#data = data.sample(frac = 1)\n",
    "# ORIGINAL\n",
    "# Convert image pixel columnm into numpy array\n",
    "X = data['image_pixel'].to_numpy()\n",
    "X = np.stack(X, axis=0)\n",
    "Y = np.array(data['label'])\n",
    "Y = np.stack(Y,axis=0)   # no need\n",
    "print(X.shape)\n",
    "print(Y.shape)"
   ]
  },
  {
   "cell_type": "code",
   "execution_count": 15,
   "metadata": {},
   "outputs": [],
   "source": [
    "def train_test(X, Y):\n",
    "    # train test split\n",
    "    X_train, X_test, Y_train, Y_test = train_test_split(X, Y, test_size=0.2, random_state=42,shuffle=True)\n",
    "    \n",
    "    return X_train, X_test, Y_train, Y_test"
   ]
  },
  {
   "cell_type": "code",
   "execution_count": 16,
   "metadata": {},
   "outputs": [],
   "source": [
    "def create_model():\n",
    "    model = Sequential()\n",
    "    \n",
    "    model.add(Conv2D(16, kernel_size = (3,3), input_shape = (YPIXEL, XPIXEL, 3), activation = 'relu', padding = 'same'))\n",
    "    model.add(MaxPool2D(pool_size = (2,2)))\n",
    "\n",
    "    model.add(Conv2D(32, kernel_size = (3,3), activation = 'relu', padding = 'same'))\n",
    "    model.add(MaxPool2D(pool_size = (2,2), padding = 'same'))\n",
    "\n",
    "    model.add(Conv2D(64, kernel_size = (3,3), activation = 'relu', padding = 'same'))\n",
    "    model.add(MaxPool2D(pool_size = (2,2), padding = 'same'))\n",
    "    model.add(Conv2D(128, kernel_size = (3,3), activation = 'relu', padding = 'same'))\n",
    "    model.add(MaxPool2D(pool_size = (2,2), padding = 'same'))\n",
    "\n",
    "    model.add(Flatten())\n",
    "    model.add(Dense(128, activation = 'relu'))\n",
    "    model.add(Dense(64, activation = 'relu'))\n",
    "    model.add(Dense(32, activation='relu'))\n",
    "    #model.add(Dense(8, activation='relu'))\n",
    "    \n",
    "\n",
    "    model.add(Dense(1, activation='sigmoid'))\n",
    "\n",
    "    optimizer = tf.keras.optimizers.Adam(learning_rate = 0.001)  #### learnign rate???? \n",
    "\n",
    "    model.compile(loss = 'binary_crossentropy',\n",
    "                 optimizer = \"adam\",\n",
    "                  metrics = ['accuracy'])\n",
    "    print(model.summary())\n",
    "    return model"
   ]
  },
  {
   "cell_type": "code",
   "execution_count": 17,
   "metadata": {},
   "outputs": [],
   "source": [
    "def train_model(model:Sequential, X_tr, Y_tr, EPOCHS=25):\n",
    "    early_stop = EarlyStopping(monitor='val_loss', patience=8, verbose=1,mode='auto')\n",
    "                               \n",
    "    \n",
    "    learning_rate = ReduceLROnPlateau(monitor='val_loss', factor=0.1, patience=3, verbose=1, mode='auto')\n",
    "    \n",
    "    history = model.fit(X_tr, Y_tr, validation_split=0.2, batch_size = 24, epochs = EPOCHS,callbacks = [learning_rate, early_stop])\n",
    "    return history"
   ]
  },
  {
   "cell_type": "code",
   "execution_count": 18,
   "metadata": {},
   "outputs": [],
   "source": [
    "def test_model(model:Sequential, X_test, Y_test):\n",
    "    model_acc = model.evaluate(X_test, Y_test, verbose=0)[1]\n",
    "    print(\"Test Accuracy: {:.3f}%\".format(model_acc * 100))\n",
    "    y_true = np.array(Y_test)\n",
    "    y_pred = model.predict(X_test)\n",
    "    y_pred=np.round(y_pred,0)\n",
    "    #y_pred = np.array(list(map(lambda x: np.argmax(x), y_pred)))\n",
    "    clr = classification_report(y_true, y_pred, target_names=label_mapping.values())\n",
    "    print(clr)\n",
    "    cm=confusion_matrix(y_true, y_pred)\n",
    "    plot_confusion_matrix(cm,label_mapping,\"44\")\n",
    "    print(cm)\n",
    "\n",
    "    plt.show() "
   ]
  },
  {
   "cell_type": "code",
   "execution_count": 19,
   "metadata": {},
   "outputs": [],
   "source": [
    "def plot_confusion_matrix(cm, classes, name,\n",
    "                          normalize=False,\n",
    "                          title='Confusion matrix',\n",
    "                          cmap=plt.cm.Greens):\n",
    "    \n",
    "    plt.figure(figsize=(8,6))\n",
    "    plt.imshow(cm, interpolation='nearest', cmap=cmap)\n",
    "    plt.title(name)\n",
    "    plt.colorbar()\n",
    "    tick_marks = np.arange(len(classes))\n",
    "    plt.xticks(tick_marks, classes, rotation=45)\n",
    "    plt.yticks(tick_marks, classes)\n",
    "\n",
    "    if normalize:\n",
    "        cm = cm.astype('float') / cm.sum(axis=1)[:, np.newaxis]\n",
    "\n",
    "    thresh = cm.max() / 2.\n",
    "    for i, j in itertools.product(range(cm.shape[0]), range(cm.shape[1])):\n",
    "        plt.text(j, i, cm[i, j],\n",
    "                 horizontalalignment=\"center\",\n",
    "                 color=\"white\" if cm[i, j] > thresh else \"black\")\n",
    "\n",
    "   \n",
    "    plt.tight_layout()\n",
    "    plt.ylabel('True Labels')\n",
    "    plt.xlabel('Predicted Labels')\n",
    "    fig = plt\n",
    "    fig.savefig('_confusion_matrix.png', dpi=300)"
   ]
  },
  {
   "cell_type": "markdown",
   "metadata": {},
   "source": [
    "### Create train and test datas for original and augumented datasets"
   ]
  },
  {
   "cell_type": "code",
   "execution_count": 20,
   "metadata": {},
   "outputs": [
    {
     "name": "stdout",
     "output_type": "stream",
     "text": [
      "(17332, 90, 120, 3)\n"
     ]
    }
   ],
   "source": [
    "# For Original Dataset\n",
    "X_train, X_test, Y_train, Y_test = train_test(X, Y)\n",
    "#Augemented dataset\n",
    "#X_train_aug, X_test_aug, Y_train_aug, Y_test_aug = train_test(X_aug, Y_aug)\n",
    "print(X_train.shape)\n",
    "#print(X_train_aug.shape)\n",
    "\n"
   ]
  },
  {
   "cell_type": "markdown",
   "metadata": {},
   "source": [
    "### Create the Model"
   ]
  },
  {
   "cell_type": "code",
   "execution_count": 21,
   "metadata": {},
   "outputs": [
    {
     "name": "stdout",
     "output_type": "stream",
     "text": [
      "Model: \"sequential\"\n",
      "_________________________________________________________________\n",
      " Layer (type)                Output Shape              Param #   \n",
      "=================================================================\n",
      " conv2d (Conv2D)             (None, 90, 120, 16)       448       \n",
      "                                                                 \n",
      " max_pooling2d (MaxPooling2D  (None, 45, 60, 16)       0         \n",
      " )                                                               \n",
      "                                                                 \n",
      " conv2d_1 (Conv2D)           (None, 45, 60, 32)        4640      \n",
      "                                                                 \n",
      " max_pooling2d_1 (MaxPooling  (None, 23, 30, 32)       0         \n",
      " 2D)                                                             \n",
      "                                                                 \n",
      " conv2d_2 (Conv2D)           (None, 23, 30, 64)        18496     \n",
      "                                                                 \n",
      " max_pooling2d_2 (MaxPooling  (None, 12, 15, 64)       0         \n",
      " 2D)                                                             \n",
      "                                                                 \n",
      " conv2d_3 (Conv2D)           (None, 12, 15, 128)       73856     \n",
      "                                                                 \n",
      " max_pooling2d_3 (MaxPooling  (None, 6, 8, 128)        0         \n",
      " 2D)                                                             \n",
      "                                                                 \n",
      " flatten (Flatten)           (None, 6144)              0         \n",
      "                                                                 \n",
      " dense (Dense)               (None, 128)               786560    \n",
      "                                                                 \n",
      " dense_1 (Dense)             (None, 64)                8256      \n",
      "                                                                 \n",
      " dense_2 (Dense)             (None, 32)                2080      \n",
      "                                                                 \n",
      " dense_3 (Dense)             (None, 1)                 33        \n",
      "                                                                 \n",
      "=================================================================\n",
      "Total params: 894,369\n",
      "Trainable params: 894,369\n",
      "Non-trainable params: 0\n",
      "_________________________________________________________________\n",
      "None\n"
     ]
    }
   ],
   "source": [
    "model = create_model()"
   ]
  },
  {
   "cell_type": "code",
   "execution_count": 22,
   "metadata": {},
   "outputs": [
    {
     "name": "stdout",
     "output_type": "stream",
     "text": [
      "Epoch 1/50\n",
      "578/578 [==============================] - 22s 32ms/step - loss: 0.5761 - accuracy: 0.7292 - val_loss: 0.4712 - val_accuracy: 0.7747 - lr: 0.0010\n",
      "Epoch 2/50\n",
      "578/578 [==============================] - 17s 30ms/step - loss: 0.4508 - accuracy: 0.7817 - val_loss: 0.3767 - val_accuracy: 0.8125 - lr: 0.0010\n",
      "Epoch 3/50\n",
      "578/578 [==============================] - 18s 31ms/step - loss: 0.3941 - accuracy: 0.8066 - val_loss: 0.3690 - val_accuracy: 0.8177 - lr: 0.0010\n",
      "Epoch 4/50\n",
      "578/578 [==============================] - 18s 30ms/step - loss: 0.3763 - accuracy: 0.8191 - val_loss: 0.3842 - val_accuracy: 0.8050 - lr: 0.0010\n",
      "Epoch 5/50\n",
      "578/578 [==============================] - 18s 30ms/step - loss: 0.3569 - accuracy: 0.8324 - val_loss: 0.3595 - val_accuracy: 0.8336 - lr: 0.0010\n",
      "Epoch 6/50\n",
      "578/578 [==============================] - 16s 27ms/step - loss: 0.3445 - accuracy: 0.8379 - val_loss: 0.3722 - val_accuracy: 0.8238 - lr: 0.0010\n",
      "Epoch 7/50\n",
      "578/578 [==============================] - 18s 31ms/step - loss: 0.3404 - accuracy: 0.8432 - val_loss: 0.3487 - val_accuracy: 0.8362 - lr: 0.0010\n",
      "Epoch 8/50\n",
      "578/578 [==============================] - 18s 31ms/step - loss: 0.3292 - accuracy: 0.8474 - val_loss: 0.3391 - val_accuracy: 0.8408 - lr: 0.0010\n",
      "Epoch 9/50\n",
      "578/578 [==============================] - 18s 31ms/step - loss: 0.3526 - accuracy: 0.8358 - val_loss: 0.3637 - val_accuracy: 0.8275 - lr: 0.0010\n",
      "Epoch 10/50\n",
      "578/578 [==============================] - 15s 26ms/step - loss: 0.3203 - accuracy: 0.8550 - val_loss: 0.3357 - val_accuracy: 0.8408 - lr: 0.0010\n",
      "Epoch 11/50\n",
      "578/578 [==============================] - 18s 30ms/step - loss: 0.3113 - accuracy: 0.8570 - val_loss: 0.3309 - val_accuracy: 0.8460 - lr: 0.0010\n",
      "Epoch 12/50\n",
      "578/578 [==============================] - 18s 31ms/step - loss: 0.2965 - accuracy: 0.8674 - val_loss: 0.3532 - val_accuracy: 0.8336 - lr: 0.0010\n",
      "Epoch 13/50\n",
      "578/578 [==============================] - 18s 31ms/step - loss: 0.2908 - accuracy: 0.8679 - val_loss: 0.3393 - val_accuracy: 0.8520 - lr: 0.0010\n",
      "Epoch 14/50\n",
      "577/578 [============================>.] - ETA: 0s - loss: 0.2729 - accuracy: 0.8766\n",
      "Epoch 14: ReduceLROnPlateau reducing learning rate to 0.00010000000474974513.\n",
      "578/578 [==============================] - 18s 30ms/step - loss: 0.2728 - accuracy: 0.8766 - val_loss: 0.3526 - val_accuracy: 0.8379 - lr: 0.0010\n",
      "Epoch 15/50\n",
      "578/578 [==============================] - 18s 31ms/step - loss: 0.2186 - accuracy: 0.9060 - val_loss: 0.3589 - val_accuracy: 0.8509 - lr: 1.0000e-04\n",
      "Epoch 16/50\n",
      "578/578 [==============================] - 18s 31ms/step - loss: 0.1971 - accuracy: 0.9155 - val_loss: 0.3685 - val_accuracy: 0.8538 - lr: 1.0000e-04\n",
      "Epoch 17/50\n",
      "577/578 [============================>.] - ETA: 0s - loss: 0.1821 - accuracy: 0.9240\n",
      "Epoch 17: ReduceLROnPlateau reducing learning rate to 1.0000000474974514e-05.\n",
      "578/578 [==============================] - 18s 30ms/step - loss: 0.1822 - accuracy: 0.9240 - val_loss: 0.3896 - val_accuracy: 0.8541 - lr: 1.0000e-04\n",
      "Epoch 18/50\n",
      "578/578 [==============================] - 18s 31ms/step - loss: 0.1642 - accuracy: 0.9325 - val_loss: 0.3944 - val_accuracy: 0.8529 - lr: 1.0000e-05\n",
      "Epoch 19/50\n",
      "578/578 [==============================] - 18s 31ms/step - loss: 0.1609 - accuracy: 0.9341 - val_loss: 0.3978 - val_accuracy: 0.8497 - lr: 1.0000e-05\n",
      "Epoch 19: early stopping\n"
     ]
    }
   ],
   "source": [
    "model_history = train_model(model, X_train, Y_train, 50)"
   ]
  },
  {
   "cell_type": "markdown",
   "metadata": {},
   "source": [
    "#### Loss and accuracy curves for training and test sets. copied from stackoverflow"
   ]
  },
  {
   "cell_type": "code",
   "execution_count": 23,
   "metadata": {},
   "outputs": [
    {
     "data": {
      "image/png": "[encoded data removed]",
      "text/plain": [
       "<Figure size 432x288 with 2 Axes>"
      ]
     },
     "metadata": {
      "needs_background": "light"
     },
     "output_type": "display_data"
    }
   ],
   "source": [
    "g, ax = plt.subplots(2,1)\n",
    "ax[0].plot(model_history.history['loss'], color='g', label=\"Training loss\")\n",
    "ax[0].plot(model_history.history['val_loss'], color='r', label=\"Validation loss\",axes =ax[0])\n",
    "legend = ax[0].legend(loc='best', shadow=True)\n",
    "\n",
    "ax[1].plot(model_history.history['accuracy'], color='g', label=\"Training accuracy\")\n",
    "ax[1].plot(model_history.history['val_accuracy'], color='r',label=\"Validation accuracy\")\n",
    "legend = ax[1].legend(loc='best', shadow=True)"
   ]
  },
  {
   "cell_type": "markdown",
   "metadata": {},
   "source": [
    "### Saving the model for deployment "
   ]
  },
  {
   "cell_type": "code",
   "execution_count": 256,
   "metadata": {},
   "outputs": [],
   "source": [
    "model_json = model.to_json()\n",
    "with open(\"modelbm.json\", \"w\") as json_file:\n",
    "    json_file.write(model_json)\n",
    "model.save_weights(\"modelbm.h5\")"
   ]
  },
  {
   "cell_type": "markdown",
   "metadata": {},
   "source": [
    "### Test Model"
   ]
  },
  {
   "cell_type": "code",
   "execution_count": 25,
   "metadata": {},
   "outputs": [
    {
     "name": "stdout",
     "output_type": "stream",
     "text": [
      "Test Accuracy: 84.772%\n",
      "              precision    recall  f1-score   support\n",
      "\n",
      "      benign       0.87      0.86      0.87      2466\n",
      "   malignant       0.82      0.83      0.83      1868\n",
      "\n",
      "    accuracy                           0.85      4334\n",
      "   macro avg       0.84      0.85      0.85      4334\n",
      "weighted avg       0.85      0.85      0.85      4334\n",
      "\n",
      "[[2116  350]\n",
      " [ 310 1558]]\n"
     ]
    },
    {
     "data": {
      "image/png": "[encoded data removed]",
      "text/plain": [
       "<Figure size 576x432 with 2 Axes>"
      ]
     },
     "metadata": {
      "needs_background": "light"
     },
     "output_type": "display_data"
    }
   ],
   "source": [
    "test_model(model, X_test, Y_test)"
   ]
  },
  {
   "cell_type": "markdown",
   "metadata": {},
   "source": [
    "### Prediction for only one image"
   ]
  },
  {
   "cell_type": "code",
   "execution_count": 26,
   "metadata": {},
   "outputs": [],
   "source": [
    "def predict_one_image(image_nr):\n",
    "\n",
    "    predict_only_one = data.iloc[image_nr]\n",
    "    print(\"Imid :\" ,predict_only_one.image_id)\n",
    "    print(\"Real :\" ,predict_only_one.bm)\n",
    "    \n",
    "    new_one = predict_only_one.image_pixel.reshape((1,90,120,3))\n",
    "    preds=model.predict(new_one)[0][0]\n",
    "    \n",
    "    max_index_col = np.round(preds,0)\n",
    "\n",
    "    if preds<0.5:\n",
    "        preds=1-preds\n",
    "        \n",
    "\n",
    "    pred_probabilty = \" % {:.2f}\".format(preds*100)\n",
    "    preds=np.round(preds,0)\n",
    "       \n",
    "    result=label_mapping.get(max_index_col) + pred_probabilty\n",
    "    print(\"Pred :\", result)\n",
    "\n",
    "    sample_data = predict_only_one['image_pixel']\n",
    "    plt.figure(figsize=(10, 10))\n",
    "    plt.imshow(sample_data)\n",
    "    plt.axis(\"off\")\n",
    "    plt.show() \n"
   ]
  },
  {
   "cell_type": "code",
   "execution_count": 27,
   "metadata": {},
   "outputs": [
    {
     "name": "stdout",
     "output_type": "stream",
     "text": [
      "Imid : ISIC_0030225\n",
      "Real : benign\n",
      "Pred : benign % 95.33\n"
     ]
    },
    {
     "data": {
      "image/png": "[encoded data removed]",
      "text/plain": [
       "<Figure size 720x720 with 1 Axes>"
      ]
     },
     "metadata": {
      "needs_background": "light"
     },
     "output_type": "display_data"
    }
   ],
   "source": [
    "predict_one_image(18)"
   ]
  }
 ],
 "metadata": {
  "interpreter": {
   "hash": "66a43da4e70cc3f7b73382e30a4177bdcdabfb5ea46b21e7b3ca8c5de37a9ea1"
  },
  "kernelspec": {
   "display_name": "Python 3.10.2 ('moleenv': venv)",
   "language": "python",
   "name": "python3"
  },
  "language_info": {
   "codemirror_mode": {
    "name": "ipython",
    "version": 3
   },
   "file_extension": ".py",
   "mimetype": "text/x-python",
   "name": "python",
   "nbconvert_exporter": "python",
   "pygments_lexer": "ipython3",
   "version": "3.10.2"
  },
  "orig_nbformat": 4
 },
 "nbformat": 4,
 "nbformat_minor": 2
}
