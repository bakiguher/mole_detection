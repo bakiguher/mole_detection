{
 "cells": [
  {
   "cell_type": "markdown",
   "metadata": {},
   "source": [
    "# MOLE DETECTION  -- Binary --"
   ]
  },
  {
   "cell_type": "markdown",
   "metadata": {},
   "source": [
    "#### Import Necessary Libraries"
   ]
  },
  {
   "cell_type": "code",
   "execution_count": 1,
   "metadata": {},
   "outputs": [],
   "source": [
    "import os\n",
    "import numpy as np\n",
    "import pandas as pd\n",
    "\n",
    "from PIL import Image\n",
    "from glob import glob\n",
    "import itertools\n",
    "import matplotlib.pyplot as plt\n",
    "\n",
    "import tensorflow as tf\n",
    "from tensorflow.keras.preprocessing.image import ImageDataGenerator\n",
    "from tensorflow.keras.models import Sequential\n",
    "from tensorflow.keras.layers import Conv2D, Flatten, BatchNormalization, Dropout, Dense, MaxPool2D\n",
    "from tensorflow.keras.callbacks import ReduceLROnPlateau, EarlyStopping\n",
    "\n",
    "from sklearn.model_selection import train_test_split\n",
    "from sklearn.metrics import classification_report, confusion_matrix"
   ]
  },
  {
   "cell_type": "markdown",
   "metadata": {},
   "source": [
    "#### Define default variables"
   ]
  },
  {
   "cell_type": "code",
   "execution_count": 2,
   "metadata": {},
   "outputs": [],
   "source": [
    "# DATA_DIR = os.path.join('.', 'data')\n",
    "# IMAGE_DIR = os.path.join('.', 'data\\\\images\\\\')\n",
    "# PATHS ARE ALREADY IN CSV\n",
    "#All images are 640 x 480  \n",
    "# 2\t    3\t    4\t5\n",
    "# 300\t200\t150\t    120\n",
    "# 225\t150\t112.5\t90\n",
    "\n",
    "XPIXEL=120\n",
    "YPIXEL=90\n",
    "\n",
    "\n",
    "label_mapping = {\n",
    "    0: 'benign',\n",
    "    1: 'malignant'\n",
    "}\n",
    "\n",
    "\n",
    "label_bm = {\n",
    "     'akiec':'benign',\n",
    "     'bcc':'malignant',\n",
    "     'bkl':'benign',\n",
    "     'df':'benign',\n",
    "     'mel':'malignant',\n",
    "     'nv':'benign',\n",
    "     'vasc':'benign'\n",
    "}\n",
    "\n",
    "int_label_mapping = dict((value, key) for key, value in label_mapping.items())\n",
    "type_label_mapping = dict((value, key) for value, key in label_bm.items())"
   ]
  },
  {
   "cell_type": "markdown",
   "metadata": {},
   "source": [
    "#### Import the data "
   ]
  },
  {
   "cell_type": "code",
   "execution_count": 3,
   "metadata": {},
   "outputs": [
    {
     "data": {
      "text/html": [
       "<div>\n",
       "<style scoped>\n",
       "    .dataframe tbody tr th:only-of-type {\n",
       "        vertical-align: middle;\n",
       "    }\n",
       "\n",
       "    .dataframe tbody tr th {\n",
       "        vertical-align: top;\n",
       "    }\n",
       "\n",
       "    .dataframe thead th {\n",
       "        text-align: right;\n",
       "    }\n",
       "</style>\n",
       "<table border=\"1\" class=\"dataframe\">\n",
       "  <thead>\n",
       "    <tr style=\"text-align: right;\">\n",
       "      <th></th>\n",
       "      <th>lesion_id</th>\n",
       "      <th>image_id</th>\n",
       "      <th>dx</th>\n",
       "      <th>dx_type</th>\n",
       "      <th>age</th>\n",
       "      <th>sex</th>\n",
       "      <th>localization</th>\n",
       "    </tr>\n",
       "  </thead>\n",
       "  <tbody>\n",
       "    <tr>\n",
       "      <th>0</th>\n",
       "      <td>HAM_0000118</td>\n",
       "      <td>ISIC_0027419</td>\n",
       "      <td>bkl</td>\n",
       "      <td>histo</td>\n",
       "      <td>80.0</td>\n",
       "      <td>male</td>\n",
       "      <td>scalp</td>\n",
       "    </tr>\n",
       "    <tr>\n",
       "      <th>1</th>\n",
       "      <td>HAM_0000118</td>\n",
       "      <td>ISIC_0025030</td>\n",
       "      <td>bkl</td>\n",
       "      <td>histo</td>\n",
       "      <td>80.0</td>\n",
       "      <td>male</td>\n",
       "      <td>scalp</td>\n",
       "    </tr>\n",
       "    <tr>\n",
       "      <th>2</th>\n",
       "      <td>HAM_0002730</td>\n",
       "      <td>ISIC_0026769</td>\n",
       "      <td>bkl</td>\n",
       "      <td>histo</td>\n",
       "      <td>80.0</td>\n",
       "      <td>male</td>\n",
       "      <td>scalp</td>\n",
       "    </tr>\n",
       "    <tr>\n",
       "      <th>3</th>\n",
       "      <td>HAM_0002730</td>\n",
       "      <td>ISIC_0025661</td>\n",
       "      <td>bkl</td>\n",
       "      <td>histo</td>\n",
       "      <td>80.0</td>\n",
       "      <td>male</td>\n",
       "      <td>scalp</td>\n",
       "    </tr>\n",
       "    <tr>\n",
       "      <th>4</th>\n",
       "      <td>HAM_0001466</td>\n",
       "      <td>ISIC_0031633</td>\n",
       "      <td>bkl</td>\n",
       "      <td>histo</td>\n",
       "      <td>75.0</td>\n",
       "      <td>male</td>\n",
       "      <td>ear</td>\n",
       "    </tr>\n",
       "  </tbody>\n",
       "</table>\n",
       "</div>"
      ],
      "text/plain": [
       "     lesion_id      image_id   dx dx_type   age   sex localization\n",
       "0  HAM_0000118  ISIC_0027419  bkl   histo  80.0  male        scalp\n",
       "1  HAM_0000118  ISIC_0025030  bkl   histo  80.0  male        scalp\n",
       "2  HAM_0002730  ISIC_0026769  bkl   histo  80.0  male        scalp\n",
       "3  HAM_0002730  ISIC_0025661  bkl   histo  80.0  male        scalp\n",
       "4  HAM_0001466  ISIC_0031633  bkl   histo  75.0  male          ear"
      ]
     },
     "execution_count": 3,
     "metadata": {},
     "output_type": "execute_result"
    }
   ],
   "source": [
    "data = pd.read_csv('data/HAM10000_metadata.csv')\n",
    "data.head(5)\n"
   ]
  },
  {
   "cell_type": "code",
   "execution_count": 4,
   "metadata": {},
   "outputs": [
    {
     "data": {
      "text/plain": [
       "nv       6705\n",
       "mel      1113\n",
       "bkl      1099\n",
       "bcc       514\n",
       "akiec     327\n",
       "vasc      142\n",
       "df        115\n",
       "Name: dx, dtype: int64"
      ]
     },
     "execution_count": 4,
     "metadata": {},
     "output_type": "execute_result"
    }
   ],
   "source": [
    "\n",
    "data['dx'].value_counts()"
   ]
  },
  {
   "cell_type": "code",
   "execution_count": 5,
   "metadata": {},
   "outputs": [],
   "source": [
    "#Convert type to benign or malignant according to type label\n",
    "data['bm'] = data['dx'].map(type_label_mapping.get)\n",
    "data['path'] = './data/HAM10000_images/' + data['image_id'] +\".jpg\""
   ]
  },
  {
   "cell_type": "code",
   "execution_count": 6,
   "metadata": {},
   "outputs": [],
   "source": [
    "# Read image pixel data \n",
    "data['image_pixel'] = data['path'].map(lambda x: np.asarray(Image.open(x).resize((XPIXEL,YPIXEL))))"
   ]
  },
  {
   "cell_type": "code",
   "execution_count": 7,
   "metadata": {},
   "outputs": [],
   "source": [
    "# Converting labels to 0 and 1\n",
    "data['label'] = data['bm'].map(int_label_mapping.get)\n"
   ]
  },
  {
   "cell_type": "code",
   "execution_count": 8,
   "metadata": {},
   "outputs": [
    {
     "data": {
      "text/plain": [
       "0    8388\n",
       "1    1627\n",
       "Name: label, dtype: int64"
      ]
     },
     "execution_count": 8,
     "metadata": {},
     "output_type": "execute_result"
    }
   ],
   "source": [
    "data['label'].value_counts()"
   ]
  },
  {
   "cell_type": "code",
   "execution_count": 21,
   "metadata": {},
   "outputs": [
    {
     "data": {
      "text/plain": [
       "{0: 0.5969837863614688, 1: 3.0777504609711124}"
      ]
     },
     "execution_count": 21,
     "metadata": {},
     "output_type": "execute_result"
    }
   ],
   "source": [
    "from sklearn.utils import class_weight\n",
    "y=data['label'] # you can convert this to integer values \n",
    "class_weights = dict(zip(np.unique(y), class_weight.compute_class_weight(class_weight='balanced',classes=np.unique(y), \n",
    "                y=y))) \n",
    "class_weights"
   ]
  },
  {
   "cell_type": "code",
   "execution_count": 55,
   "metadata": {},
   "outputs": [
    {
     "name": "stdout",
     "output_type": "stream",
     "text": [
      "0    8388\n",
      "1    1627\n",
      "Name: label, dtype: int64\n",
      "0    4500\n",
      "1    4500\n",
      "Name: label, dtype: int64\n"
     ]
    }
   ],
   "source": [
    "#resampling\n",
    "n_samples=4500\n",
    "\n",
    "\n",
    "from sklearn.utils import resample\n",
    "print(data['label'].value_counts())\n",
    "\n",
    "# Balancing the data\n",
    "# tried balancing with class weights and imageprocessing best results came with resampling\n",
    "\n",
    "\n",
    "df_0 = data[data['label'] == 0]\n",
    "df_1 = data[data['label'] == 1]\n",
    "\n",
    "\n",
    "\n",
    "df_0_balanced = resample(df_0, replace=True, n_samples=n_samples, random_state=42) \n",
    "df_1_balanced = resample(df_1, replace=True, n_samples=n_samples, random_state=42) \n",
    "\n",
    "\n",
    "#Combined back to a single dataframe\n",
    "data_balanced = pd.concat([df_0_balanced, df_1_balanced, \n",
    "                             ])\n",
    "\n",
    "print(data_balanced['label'].value_counts())"
   ]
  },
  {
   "cell_type": "code",
   "execution_count": 56,
   "metadata": {},
   "outputs": [],
   "source": [
    "data=data_balanced"
   ]
  },
  {
   "cell_type": "markdown",
   "metadata": {},
   "source": [
    "### Create X , Y"
   ]
  },
  {
   "cell_type": "code",
   "execution_count": 9,
   "metadata": {},
   "outputs": [
    {
     "name": "stdout",
     "output_type": "stream",
     "text": [
      "(10015, 90, 120, 3)\n",
      "(10015,)\n"
     ]
    }
   ],
   "source": [
    "#data = data.sample(frac = 1)\n",
    "# ORIGINAL\n",
    "# Convert image pixel columnm into numpy array\n",
    "X = data['image_pixel'].to_numpy()\n",
    "X = np.stack(X, axis=0)\n",
    "Y = np.array(data['label'])\n",
    "Y = np.stack(Y,axis=0)   # no need\n",
    "print(X.shape)\n",
    "print(Y.shape)"
   ]
  },
  {
   "cell_type": "code",
   "execution_count": 10,
   "metadata": {},
   "outputs": [],
   "source": [
    "def train_test(X, Y):\n",
    "    # train test split\n",
    "    X_train, X_test, Y_train, Y_test = train_test_split(X, Y, test_size=0.2, random_state=42,shuffle=True)\n",
    "    \n",
    "    return X_train, X_test, Y_train, Y_test"
   ]
  },
  {
   "cell_type": "code",
   "execution_count": 11,
   "metadata": {},
   "outputs": [],
   "source": [
    "def create_model():\n",
    "    model = Sequential()\n",
    "    \n",
    "    model.add(Conv2D(16, kernel_size = (3,3), input_shape = (YPIXEL, XPIXEL, 3), activation = 'relu', padding = 'same'))\n",
    "    model.add(MaxPool2D(pool_size = (2,2)))\n",
    "\n",
    "    model.add(Conv2D(32, kernel_size = (3,3), activation = 'relu', padding = 'same'))\n",
    "    model.add(MaxPool2D(pool_size = (2,2), padding = 'same'))\n",
    "\n",
    "    model.add(Conv2D(64, kernel_size = (3,3), activation = 'relu', padding = 'same'))\n",
    "    model.add(MaxPool2D(pool_size = (2,2), padding = 'same'))\n",
    "    model.add(Conv2D(128, kernel_size = (3,3), activation = 'relu', padding = 'same'))\n",
    "    model.add(MaxPool2D(pool_size = (2,2), padding = 'same'))\n",
    "\n",
    "    model.add(Flatten())\n",
    "    model.add(Dense(128, activation = 'relu'))\n",
    "    model.add(Dense(64, activation = 'relu'))\n",
    "    model.add(Dense(32, activation='relu'))\n",
    "    #model.add(Dense(8, activation='relu'))\n",
    "    \n",
    "\n",
    "    model.add(Dense(1, activation='sigmoid'))\n",
    "\n",
    "    optimizer = tf.keras.optimizers.Adam(learning_rate = 0.001)  #### learnign rate???? \n",
    "\n",
    "    model.compile(loss = 'binary_crossentropy',\n",
    "                 optimizer = \"adam\",\n",
    "                  metrics = ['accuracy'])\n",
    "    print(model.summary())\n",
    "    return model"
   ]
  },
  {
   "cell_type": "code",
   "execution_count": 34,
   "metadata": {},
   "outputs": [],
   "source": [
    "def train_model(model:Sequential, X_tr, Y_tr, EPOCHS=25):\n",
    "    early_stop = EarlyStopping(monitor='val_loss', patience=40, verbose=1,mode='auto')\n",
    "                               \n",
    "    \n",
    "    learning_rate = ReduceLROnPlateau(monitor='val_loss', factor=0.1, patience=5, verbose=1, mode='auto')\n",
    "    \n",
    "    history = model.fit(X_tr, Y_tr, validation_split=0.2, batch_size = 24, epochs = EPOCHS,class_weight=class_weights, callbacks = [learning_rate, early_stop])\n",
    "    return history"
   ]
  },
  {
   "cell_type": "code",
   "execution_count": 13,
   "metadata": {},
   "outputs": [],
   "source": [
    "def test_model(model:Sequential, X_test, Y_test):\n",
    "    model_acc = model.evaluate(X_test, Y_test, verbose=0)[1]\n",
    "    print(\"Test Accuracy: {:.3f}%\".format(model_acc * 100))\n",
    "    y_true = np.array(Y_test)\n",
    "    y_pred = model.predict(X_test)\n",
    "    y_pred=np.round(y_pred,0)\n",
    "    #y_pred = np.array(list(map(lambda x: np.argmax(x), y_pred)))\n",
    "    clr = classification_report(y_true, y_pred, target_names=label_mapping.values())\n",
    "    print(clr)\n",
    "    cm=confusion_matrix(y_true, y_pred)\n",
    "    plot_confusion_matrix(cm,label_mapping,\"44\")\n",
    "    print(cm)\n",
    "\n",
    "    plt.show() "
   ]
  },
  {
   "cell_type": "code",
   "execution_count": 45,
   "metadata": {},
   "outputs": [],
   "source": [
    "def plot_confusion_matrix(cm, classes, name,\n",
    "                          normalize=False,\n",
    "                          title='Confusion matrix',\n",
    "                          cmap=plt.cm.Greens):\n",
    "    \n",
    "    plt.figure(figsize=(8,6))\n",
    "    plt.imshow(cm, interpolation='nearest', cmap=cmap)\n",
    "    plt.title(name)\n",
    "    plt.colorbar()\n",
    "    tick_marks = np.arange(len(classes))\n",
    "    plt.xticks(tick_marks, classes, rotation=45)\n",
    "    plt.yticks(tick_marks, classes)\n",
    "\n",
    "    if normalize:\n",
    "        cm = cm.astype('float') / cm.sum(axis=1)[:, np.newaxis]\n",
    "\n",
    "    thresh = cm.max() / 2.\n",
    "    for i, j in itertools.product(range(cm.shape[0]), range(cm.shape[1])):\n",
    "        plt.text(j, i, cm[i, j],\n",
    "                 horizontalalignment=\"center\",\n",
    "                 color=\"white\" if cm[i, j] > thresh else \"black\")\n",
    "\n",
    "   \n",
    "    plt.tight_layout()\n",
    "    plt.ylabel('True Labels')\n",
    "    plt.xlabel('Predicted Labels')\n",
    "    fig = plt\n",
    "    "
   ]
  },
  {
   "cell_type": "markdown",
   "metadata": {},
   "source": [
    "### Create train and test datas for original and augumented datasets"
   ]
  },
  {
   "cell_type": "code",
   "execution_count": 35,
   "metadata": {},
   "outputs": [
    {
     "name": "stdout",
     "output_type": "stream",
     "text": [
      "(8012, 90, 120, 3)\n"
     ]
    }
   ],
   "source": [
    "# For Original Dataset\n",
    "X_train, X_test, Y_train, Y_test = train_test(X, Y)\n",
    "#Augemented dataset\n",
    "#X_train_aug, X_test_aug, Y_train_aug, Y_test_aug = train_test(X_aug, Y_aug)\n",
    "print(X_train.shape)\n",
    "#print(X_train_aug.shape)\n",
    "\n"
   ]
  },
  {
   "cell_type": "markdown",
   "metadata": {},
   "source": [
    "### Create the Model"
   ]
  },
  {
   "cell_type": "code",
   "execution_count": 36,
   "metadata": {},
   "outputs": [
    {
     "name": "stdout",
     "output_type": "stream",
     "text": [
      "Model: \"sequential_4\"\n",
      "_________________________________________________________________\n",
      " Layer (type)                Output Shape              Param #   \n",
      "=================================================================\n",
      " conv2d_16 (Conv2D)          (None, 90, 120, 16)       448       \n",
      "                                                                 \n",
      " max_pooling2d_16 (MaxPoolin  (None, 45, 60, 16)       0         \n",
      " g2D)                                                            \n",
      "                                                                 \n",
      " conv2d_17 (Conv2D)          (None, 45, 60, 32)        4640      \n",
      "                                                                 \n",
      " max_pooling2d_17 (MaxPoolin  (None, 23, 30, 32)       0         \n",
      " g2D)                                                            \n",
      "                                                                 \n",
      " conv2d_18 (Conv2D)          (None, 23, 30, 64)        18496     \n",
      "                                                                 \n",
      " max_pooling2d_18 (MaxPoolin  (None, 12, 15, 64)       0         \n",
      " g2D)                                                            \n",
      "                                                                 \n",
      " conv2d_19 (Conv2D)          (None, 12, 15, 128)       73856     \n",
      "                                                                 \n",
      " max_pooling2d_19 (MaxPoolin  (None, 6, 8, 128)        0         \n",
      " g2D)                                                            \n",
      "                                                                 \n",
      " flatten_4 (Flatten)         (None, 6144)              0         \n",
      "                                                                 \n",
      " dense_16 (Dense)            (None, 128)               786560    \n",
      "                                                                 \n",
      " dense_17 (Dense)            (None, 64)                8256      \n",
      "                                                                 \n",
      " dense_18 (Dense)            (None, 32)                2080      \n",
      "                                                                 \n",
      " dense_19 (Dense)            (None, 1)                 33        \n",
      "                                                                 \n",
      "=================================================================\n",
      "Total params: 894,369\n",
      "Trainable params: 894,369\n",
      "Non-trainable params: 0\n",
      "_________________________________________________________________\n",
      "None\n"
     ]
    }
   ],
   "source": [
    "model = create_model()"
   ]
  },
  {
   "cell_type": "code",
   "execution_count": 37,
   "metadata": {},
   "outputs": [
    {
     "name": "stdout",
     "output_type": "stream",
     "text": [
      "Epoch 1/50\n",
      "268/268 [==============================] - 5s 17ms/step - loss: 0.7117 - accuracy: 0.5335 - val_loss: 0.6489 - val_accuracy: 0.3918 - lr: 0.0010\n",
      "Epoch 2/50\n",
      "268/268 [==============================] - 4s 16ms/step - loss: 0.6300 - accuracy: 0.5046 - val_loss: 0.5132 - val_accuracy: 0.6369 - lr: 0.0010\n",
      "Epoch 3/50\n",
      "268/268 [==============================] - 4s 16ms/step - loss: 0.6181 - accuracy: 0.5463 - val_loss: 0.7545 - val_accuracy: 0.1803 - lr: 0.0010\n",
      "Epoch 4/50\n",
      "268/268 [==============================] - 4s 16ms/step - loss: 0.6177 - accuracy: 0.5341 - val_loss: 0.8849 - val_accuracy: 0.2427 - lr: 0.0010\n",
      "Epoch 5/50\n",
      "268/268 [==============================] - 4s 17ms/step - loss: 0.5961 - accuracy: 0.5630 - val_loss: 0.6436 - val_accuracy: 0.5427 - lr: 0.0010\n",
      "Epoch 6/50\n",
      "268/268 [==============================] - 4s 16ms/step - loss: 0.5372 - accuracy: 0.5846 - val_loss: 0.5319 - val_accuracy: 0.5876 - lr: 0.0010\n",
      "Epoch 7/50\n",
      "268/268 [==============================] - 4s 17ms/step - loss: 0.5404 - accuracy: 0.5906 - val_loss: 0.4886 - val_accuracy: 0.6488 - lr: 0.0010\n",
      "Epoch 8/50\n",
      "268/268 [==============================] - 4s 16ms/step - loss: 0.5411 - accuracy: 0.5926 - val_loss: 0.4813 - val_accuracy: 0.6157 - lr: 0.0010\n",
      "Epoch 9/50\n",
      "268/268 [==============================] - 4s 16ms/step - loss: 0.5325 - accuracy: 0.6001 - val_loss: 0.5991 - val_accuracy: 0.5596 - lr: 0.0010\n",
      "Epoch 10/50\n",
      "268/268 [==============================] - 4s 16ms/step - loss: 0.5123 - accuracy: 0.6066 - val_loss: 0.7946 - val_accuracy: 0.5240 - lr: 0.0010\n",
      "Epoch 11/50\n",
      "268/268 [==============================] - 4s 16ms/step - loss: 0.5148 - accuracy: 0.6341 - val_loss: 0.6823 - val_accuracy: 0.5895 - lr: 0.0010\n",
      "Epoch 12/50\n",
      "268/268 [==============================] - 4s 16ms/step - loss: 0.4931 - accuracy: 0.6566 - val_loss: 0.6048 - val_accuracy: 0.5621 - lr: 0.0010\n",
      "Epoch 13/50\n",
      "267/268 [============================>.] - ETA: 0s - loss: 0.5111 - accuracy: 0.6548\n",
      "Epoch 13: ReduceLROnPlateau reducing learning rate to 0.00010000000474974513.\n",
      "268/268 [==============================] - 4s 16ms/step - loss: 0.5110 - accuracy: 0.6549 - val_loss: 0.5012 - val_accuracy: 0.7193 - lr: 0.0010\n",
      "Epoch 14/50\n",
      "268/268 [==============================] - 4s 16ms/step - loss: 0.4699 - accuracy: 0.6636 - val_loss: 0.5354 - val_accuracy: 0.6525 - lr: 1.0000e-04\n",
      "Epoch 15/50\n",
      "268/268 [==============================] - 4s 16ms/step - loss: 0.4484 - accuracy: 0.6847 - val_loss: 0.5065 - val_accuracy: 0.6762 - lr: 1.0000e-04\n",
      "Epoch 16/50\n",
      "268/268 [==============================] - 4s 16ms/step - loss: 0.4428 - accuracy: 0.6971 - val_loss: 0.5202 - val_accuracy: 0.6781 - lr: 1.0000e-04\n",
      "Epoch 17/50\n",
      "268/268 [==============================] - 4s 16ms/step - loss: 0.4354 - accuracy: 0.7067 - val_loss: 0.5020 - val_accuracy: 0.6937 - lr: 1.0000e-04\n",
      "Epoch 18/50\n",
      "265/268 [============================>.] - ETA: 0s - loss: 0.4315 - accuracy: 0.7145\n",
      "Epoch 18: ReduceLROnPlateau reducing learning rate to 1.0000000474974514e-05.\n",
      "268/268 [==============================] - 4s 16ms/step - loss: 0.4310 - accuracy: 0.7140 - val_loss: 0.5071 - val_accuracy: 0.6825 - lr: 1.0000e-04\n",
      "Epoch 19/50\n",
      "268/268 [==============================] - 4s 16ms/step - loss: 0.4205 - accuracy: 0.7205 - val_loss: 0.5055 - val_accuracy: 0.6906 - lr: 1.0000e-05\n",
      "Epoch 20/50\n",
      "268/268 [==============================] - 4s 17ms/step - loss: 0.4183 - accuracy: 0.7224 - val_loss: 0.5141 - val_accuracy: 0.6887 - lr: 1.0000e-05\n",
      "Epoch 21/50\n",
      "268/268 [==============================] - 4s 16ms/step - loss: 0.4173 - accuracy: 0.7213 - val_loss: 0.5079 - val_accuracy: 0.6937 - lr: 1.0000e-05\n",
      "Epoch 22/50\n",
      "268/268 [==============================] - 4s 16ms/step - loss: 0.4162 - accuracy: 0.7287 - val_loss: 0.5180 - val_accuracy: 0.6906 - lr: 1.0000e-05\n",
      "Epoch 23/50\n",
      "268/268 [==============================] - ETA: 0s - loss: 0.4154 - accuracy: 0.7255\n",
      "Epoch 23: ReduceLROnPlateau reducing learning rate to 1.0000000656873453e-06.\n",
      "268/268 [==============================] - 4s 16ms/step - loss: 0.4154 - accuracy: 0.7255 - val_loss: 0.5098 - val_accuracy: 0.6949 - lr: 1.0000e-05\n",
      "Epoch 24/50\n",
      "268/268 [==============================] - 4s 16ms/step - loss: 0.4140 - accuracy: 0.7302 - val_loss: 0.5105 - val_accuracy: 0.6931 - lr: 1.0000e-06\n",
      "Epoch 25/50\n",
      "268/268 [==============================] - 4s 16ms/step - loss: 0.4139 - accuracy: 0.7296 - val_loss: 0.5110 - val_accuracy: 0.6937 - lr: 1.0000e-06\n",
      "Epoch 26/50\n",
      "268/268 [==============================] - 4s 16ms/step - loss: 0.4138 - accuracy: 0.7290 - val_loss: 0.5111 - val_accuracy: 0.6937 - lr: 1.0000e-06\n",
      "Epoch 27/50\n",
      "268/268 [==============================] - 4s 16ms/step - loss: 0.4137 - accuracy: 0.7293 - val_loss: 0.5114 - val_accuracy: 0.6931 - lr: 1.0000e-06\n",
      "Epoch 28/50\n",
      "268/268 [==============================] - ETA: 0s - loss: 0.4136 - accuracy: 0.7287\n",
      "Epoch 28: ReduceLROnPlateau reducing learning rate to 1.0000001111620805e-07.\n",
      "268/268 [==============================] - 4s 16ms/step - loss: 0.4136 - accuracy: 0.7287 - val_loss: 0.5118 - val_accuracy: 0.6937 - lr: 1.0000e-06\n",
      "Epoch 29/50\n",
      "268/268 [==============================] - 4s 16ms/step - loss: 0.4135 - accuracy: 0.7288 - val_loss: 0.5117 - val_accuracy: 0.6937 - lr: 1.0000e-07\n",
      "Epoch 30/50\n",
      "268/268 [==============================] - 4s 16ms/step - loss: 0.4135 - accuracy: 0.7287 - val_loss: 0.5117 - val_accuracy: 0.6937 - lr: 1.0000e-07\n",
      "Epoch 31/50\n",
      "268/268 [==============================] - 4s 16ms/step - loss: 0.4134 - accuracy: 0.7288 - val_loss: 0.5117 - val_accuracy: 0.6937 - lr: 1.0000e-07\n",
      "Epoch 32/50\n",
      "268/268 [==============================] - 4s 16ms/step - loss: 0.4134 - accuracy: 0.7285 - val_loss: 0.5117 - val_accuracy: 0.6937 - lr: 1.0000e-07\n",
      "Epoch 33/50\n",
      "267/268 [============================>.] - ETA: 0s - loss: 0.4135 - accuracy: 0.7286\n",
      "Epoch 33: ReduceLROnPlateau reducing learning rate to 1.000000082740371e-08.\n",
      "268/268 [==============================] - 4s 16ms/step - loss: 0.4134 - accuracy: 0.7287 - val_loss: 0.5118 - val_accuracy: 0.6937 - lr: 1.0000e-07\n",
      "Epoch 34/50\n",
      "268/268 [==============================] - 4s 16ms/step - loss: 0.4134 - accuracy: 0.7285 - val_loss: 0.5118 - val_accuracy: 0.6937 - lr: 1.0000e-08\n",
      "Epoch 35/50\n",
      "268/268 [==============================] - 4s 16ms/step - loss: 0.4134 - accuracy: 0.7287 - val_loss: 0.5118 - val_accuracy: 0.6937 - lr: 1.0000e-08\n",
      "Epoch 36/50\n",
      "268/268 [==============================] - 4s 16ms/step - loss: 0.4134 - accuracy: 0.7287 - val_loss: 0.5118 - val_accuracy: 0.6937 - lr: 1.0000e-08\n",
      "Epoch 37/50\n",
      "268/268 [==============================] - 4s 16ms/step - loss: 0.4134 - accuracy: 0.7287 - val_loss: 0.5118 - val_accuracy: 0.6937 - lr: 1.0000e-08\n",
      "Epoch 38/50\n",
      "265/268 [============================>.] - ETA: 0s - loss: 0.4127 - accuracy: 0.7297\n",
      "Epoch 38: ReduceLROnPlateau reducing learning rate to 1.000000082740371e-09.\n",
      "268/268 [==============================] - 4s 16ms/step - loss: 0.4134 - accuracy: 0.7287 - val_loss: 0.5118 - val_accuracy: 0.6937 - lr: 1.0000e-08\n",
      "Epoch 39/50\n",
      "268/268 [==============================] - 4s 16ms/step - loss: 0.4134 - accuracy: 0.7285 - val_loss: 0.5118 - val_accuracy: 0.6937 - lr: 1.0000e-09\n",
      "Epoch 40/50\n",
      "268/268 [==============================] - 4s 16ms/step - loss: 0.4134 - accuracy: 0.7285 - val_loss: 0.5118 - val_accuracy: 0.6937 - lr: 1.0000e-09\n",
      "Epoch 41/50\n",
      "268/268 [==============================] - 4s 16ms/step - loss: 0.4134 - accuracy: 0.7285 - val_loss: 0.5118 - val_accuracy: 0.6937 - lr: 1.0000e-09\n",
      "Epoch 42/50\n",
      "268/268 [==============================] - 4s 16ms/step - loss: 0.4134 - accuracy: 0.7285 - val_loss: 0.5118 - val_accuracy: 0.6937 - lr: 1.0000e-09\n",
      "Epoch 43/50\n",
      "267/268 [============================>.] - ETA: 0s - loss: 0.4135 - accuracy: 0.7285\n",
      "Epoch 43: ReduceLROnPlateau reducing learning rate to 1.000000082740371e-10.\n",
      "268/268 [==============================] - 4s 16ms/step - loss: 0.4134 - accuracy: 0.7285 - val_loss: 0.5118 - val_accuracy: 0.6937 - lr: 1.0000e-09\n",
      "Epoch 44/50\n",
      "268/268 [==============================] - 4s 16ms/step - loss: 0.4134 - accuracy: 0.7285 - val_loss: 0.5118 - val_accuracy: 0.6937 - lr: 1.0000e-10\n",
      "Epoch 45/50\n",
      "268/268 [==============================] - 4s 16ms/step - loss: 0.4134 - accuracy: 0.7285 - val_loss: 0.5118 - val_accuracy: 0.6937 - lr: 1.0000e-10\n",
      "Epoch 46/50\n",
      "268/268 [==============================] - 4s 16ms/step - loss: 0.4134 - accuracy: 0.7285 - val_loss: 0.5118 - val_accuracy: 0.6937 - lr: 1.0000e-10\n",
      "Epoch 47/50\n",
      "268/268 [==============================] - 4s 16ms/step - loss: 0.4134 - accuracy: 0.7285 - val_loss: 0.5118 - val_accuracy: 0.6937 - lr: 1.0000e-10\n",
      "Epoch 48/50\n",
      "267/268 [============================>.] - ETA: 0s - loss: 0.4134 - accuracy: 0.7285\n",
      "Epoch 48: ReduceLROnPlateau reducing learning rate to 1.000000082740371e-11.\n",
      "268/268 [==============================] - 4s 16ms/step - loss: 0.4134 - accuracy: 0.7285 - val_loss: 0.5118 - val_accuracy: 0.6937 - lr: 1.0000e-10\n",
      "Epoch 48: early stopping\n"
     ]
    }
   ],
   "source": [
    "model_history = train_model(model, X_train, Y_train, 50)"
   ]
  },
  {
   "cell_type": "markdown",
   "metadata": {},
   "source": [
    "#### Loss and accuracy curves for training and test sets."
   ]
  },
  {
   "cell_type": "code",
   "execution_count": 32,
   "metadata": {},
   "outputs": [
    {
     "data": {
      "image/png": "[encoded data removed]",
      "text/plain": [
       "<Figure size 432x288 with 2 Axes>"
      ]
     },
     "metadata": {
      "needs_background": "light"
     },
     "output_type": "display_data"
    }
   ],
   "source": [
    "g, ax = plt.subplots(2,1)\n",
    "ax[0].plot(model_history.history['loss'], color='g', label=\"Training loss\")\n",
    "ax[0].plot(model_history.history['val_loss'], color='r', label=\"Validation loss\",axes =ax[0])\n",
    "legend = ax[0].legend(loc='best', shadow=True)\n",
    "\n",
    "ax[1].plot(model_history.history['accuracy'], color='g', label=\"Training accuracy\")\n",
    "ax[1].plot(model_history.history['val_accuracy'], color='r',label=\"Validation accuracy\")\n",
    "legend = ax[1].legend(loc='best', shadow=True)"
   ]
  },
  {
   "cell_type": "markdown",
   "metadata": {},
   "source": [
    "### Saving the model for deployment "
   ]
  },
  {
   "cell_type": "code",
   "execution_count": null,
   "metadata": {},
   "outputs": [],
   "source": [
    "model_json = model.to_json()\n",
    "with open(\"modelbm.json\", \"w\") as json_file:\n",
    "    json_file.write(model_json)\n",
    "model.save_weights(\"modelbm.h5\")"
   ]
  },
  {
   "cell_type": "markdown",
   "metadata": {},
   "source": [
    "### Test Model"
   ]
  },
  {
   "cell_type": "code",
   "execution_count": 46,
   "metadata": {},
   "outputs": [
    {
     "name": "stdout",
     "output_type": "stream",
     "text": [
      "Test Accuracy: 69.546%\n",
      "63/63 [==============================] - 0s 7ms/step\n",
      "              precision    recall  f1-score   support\n",
      "\n",
      "      benign       0.94      0.68      0.79      1684\n",
      "   malignant       0.32      0.79      0.45       319\n",
      "\n",
      "    accuracy                           0.70      2003\n",
      "   macro avg       0.63      0.73      0.62      2003\n",
      "weighted avg       0.84      0.70      0.74      2003\n",
      "\n",
      "[[1141  543]\n",
      " [  67  252]]\n"
     ]
    },
    {
     "data": {
      "image/png": "[encoded data removed]",
      "text/plain": [
       "<Figure size 576x432 with 2 Axes>"
      ]
     },
     "metadata": {
      "needs_background": "light"
     },
     "output_type": "display_data"
    }
   ],
   "source": [
    "test_model(model, X_test, Y_test)"
   ]
  },
  {
   "cell_type": "markdown",
   "metadata": {},
   "source": [
    "### Prediction for only one image"
   ]
  },
  {
   "cell_type": "code",
   "execution_count": 39,
   "metadata": {},
   "outputs": [],
   "source": [
    "def predict_one_image(image_nr):\n",
    "\n",
    "    predict_only_one = data.iloc[image_nr]\n",
    "    print(\"Imid :\" ,predict_only_one.image_id)\n",
    "    print(\"Real :\" ,predict_only_one.bm)\n",
    "    \n",
    "    new_one = predict_only_one.image_pixel.reshape((1,90,120,3))\n",
    "    preds=model.predict(new_one)[0][0]\n",
    "    \n",
    "    max_index_col = np.round(preds,0)\n",
    "\n",
    "    if preds<0.5:\n",
    "        preds=1-preds\n",
    "        \n",
    "\n",
    "    pred_probabilty = \" % {:.2f}\".format(preds*100)\n",
    "    preds=np.round(preds,0)\n",
    "       \n",
    "    result=label_mapping.get(max_index_col) + pred_probabilty\n",
    "    print(\"Pred :\", result)\n",
    "\n",
    "    sample_data = predict_only_one['image_pixel']\n",
    "    plt.figure(figsize=(10, 10))\n",
    "    plt.imshow(sample_data)\n",
    "    plt.axis(\"off\")\n",
    "    plt.show() \n"
   ]
  },
  {
   "cell_type": "code",
   "execution_count": 44,
   "metadata": {},
   "outputs": [
    {
     "name": "stdout",
     "output_type": "stream",
     "text": [
      "Imid : ISIC_0026153\n",
      "Real : benign\n",
      "1/1 [==============================] - 0s 19ms/step\n",
      "Pred : benign % 51.04\n"
     ]
    },
    {
     "data": {
      "image/png": "[encoded data removed]",
      "text/plain": [
       "<Figure size 720x720 with 1 Axes>"
      ]
     },
     "metadata": {
      "needs_background": "light"
     },
     "output_type": "display_data"
    }
   ],
   "source": [
    "predict_one_image(99)"
   ]
  }
 ],
 "metadata": {
  "interpreter": {
   "hash": "66a43da4e70cc3f7b73382e30a4177bdcdabfb5ea46b21e7b3ca8c5de37a9ea1"
  },
  "kernelspec": {
   "display_name": "Python 3.10.2 ('moleenv': venv)",
   "language": "python",
   "name": "python3"
  },
  "language_info": {
   "codemirror_mode": {
    "name": "ipython",
    "version": 3
   },
   "file_extension": ".py",
   "mimetype": "text/x-python",
   "name": "python",
   "nbconvert_exporter": "python",
   "pygments_lexer": "ipython3",
   "version": "3.10.2"
  },
  "orig_nbformat": 4
 },
 "nbformat": 4,
 "nbformat_minor": 2
}
